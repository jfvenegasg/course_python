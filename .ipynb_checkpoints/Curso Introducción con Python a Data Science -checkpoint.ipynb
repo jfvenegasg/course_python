{
 "cells": [
  {
   "cell_type": "markdown",
   "metadata": {
    "slideshow": {
     "slide_type": "slide"
    },
    "tags": []
   },
   "source": [
    "# Bienvenido al curso **Introducción con Python a Data Science**"
   ]
  },
  {
   "cell_type": "markdown",
   "metadata": {},
   "source": [
    "<center>\n",
    "<img src=https://media.geeksforgeeks.org/wp-content/uploads/20230222183754/Data-Science-Fir-beginner.png>"
   ]
  },
  {
   "cell_type": "markdown",
   "metadata": {},
   "source": [
    "## Objetivos"
   ]
  },
  {
   "cell_type": "markdown",
   "metadata": {},
   "source": [
    "* Reconocer los usos del lenguaje python.\n",
    "* Comprender los conceptos y funcionalidades básicas de Python\n",
    "* Desarrollo de código para el diseño de soluciones.\n"
   ]
  },
  {
   "cell_type": "markdown",
   "metadata": {
    "tags": []
   },
   "source": [
    "<a id='Indice'></a>\n",
    "## Indice\n",
    "[Inicio ▲](#Indice)\n",
    "\n",
    "1. [Hola Python](#Hola-Python)\n",
    "1. [Funciones](#Funciones)\n",
    "1. [Booleanos y condicionales](#Booleanos-y-condicionales)\n",
    "1. [Listas](#Listas)\n",
    "1. [Ciclos](#Ciclos)\n",
    "1. [Diccionarios](#Diccionarios)\n",
    "1. [Trabajando con librerias](#Trabajando-con-librerias)\n",
    "2. [Libreria Numpy](#Librería-Numpy)\n",
    "2. [Libreria Plotly](#Librería-Plotly)\n",
    "1. [Scikit-Learn](#Scikit-Learn)\n"
   ]
  },
  {
   "cell_type": "markdown",
   "metadata": {},
   "source": [
    "<a id='Hola-Python'></a>\n",
    "### Hola Python 🚀\n",
    "\n",
    "[Inicio ▲](#Indice)\n",
    "\n",
    "Este curso introductorio cubre los aspectos básicos del lenguaje Python, que necesitaras para iniciar en el área de Data Science.Este curso esta dedicado principalmente para aquellos que ya tienen experiencia con código o incluso otro lenguaje como R,Julia,Matlab,entre otros.\n",
    "\n",
    "Primero comenzaremos con la sintáxis de Python,asi como la asignación de variables y operaciones aritméticas.\n",
    "\n",
    "Generalmente en un proyecto de data science,necesitamos exponer resultados de modelos,gráficos y/o análisis.De esta forma un primer mensaje que podriamos desarrollar,seria que nuestro proyecto fue exitoso,para esto debemos definir la variable en donde guardaremos el mensaje \"El proyecto fue exitoso\"."
   ]
  },
  {
   "cell_type": "code",
   "execution_count": 51,
   "metadata": {},
   "outputs": [
    {
     "name": "stdout",
     "output_type": "stream",
     "text": [
      "El proyecto fue exitoso\n"
     ]
    }
   ],
   "source": [
    "mensaje=\"El proyecto fue exitoso\"\n",
    "print(mensaje)"
   ]
  },
  {
   "cell_type": "markdown",
   "metadata": {},
   "source": [
    "Como pueden ver exponer resultados en python,no es tan difícil como podriamos pensar.\n",
    "\n",
    "Asi como en el bloque de código anterior,en Python se puede trabajar con distintos tipos de variables: Númericas,String,entre otros subtipos.Pero cabe destacar que cuando hablamos de variables numéricas,con ellas podemos realizar todo tipo de operaciones aritméticas y con las variables de tipo String podemos generar textos que muestren la salida de un proceso exitoso o incluso generar documentación.\n",
    "\n",
    "A continuación podemos ver un ejemplo de una variable numérica que almacena el valor 33 y un variable de tipo string que guarda el texto \"Esta es mi edad\""
   ]
  },
  {
   "cell_type": "code",
   "execution_count": 52,
   "metadata": {},
   "outputs": [],
   "source": [
    "numero=33\n",
    "frase=\"Esta es mi edad\""
   ]
  },
  {
   "cell_type": "markdown",
   "metadata": {},
   "source": [
    "Sin embargo podriamos trabajar con ambas variables en conjunto y mostrarlo como una salida,como se muestra continuación con la variable **print()**"
   ]
  },
  {
   "cell_type": "code",
   "execution_count": 53,
   "metadata": {},
   "outputs": [
    {
     "name": "stdout",
     "output_type": "stream",
     "text": [
      "Esta es mi edad 33\n"
     ]
    }
   ],
   "source": [
    "print(frase,numero)"
   ]
  },
  {
   "cell_type": "markdown",
   "metadata": {},
   "source": [
    "Ya hemos visto dos tipos de variables,sin embargo si tenemos dudas acerca de la definción podemos verificar el tipo de variable con que estamos trabajando."
   ]
  },
  {
   "cell_type": "code",
   "execution_count": 54,
   "metadata": {},
   "outputs": [
    {
     "data": {
      "text/plain": [
       "int"
      ]
     },
     "execution_count": 54,
     "metadata": {},
     "output_type": "execute_result"
    }
   ],
   "source": [
    "type(numero)"
   ]
  },
  {
   "cell_type": "code",
   "execution_count": 55,
   "metadata": {},
   "outputs": [
    {
     "data": {
      "text/plain": [
       "str"
      ]
     },
     "execution_count": 55,
     "metadata": {},
     "output_type": "execute_result"
    }
   ],
   "source": [
    "type(frase)"
   ]
  },
  {
   "cell_type": "markdown",
   "metadata": {},
   "source": [
    "Como podemos ver en la salida del bloque,la variable que almacena el valor número es de tipo **\"int\"**,esto es una abreviación para **\"integer\"** o **\"entero\"**,en cambio para la variable frase el tipo es **\"str\"** haciendo referencia a **\"string\"** o cadena de texto. Sin embargo,tambien podriamos definir una variable que almacene un valor numérico como texto,en este caso no podriamos realizar operaciones aritmeticas con el"
   ]
  },
  {
   "cell_type": "code",
   "execution_count": 56,
   "metadata": {},
   "outputs": [
    {
     "name": "stdout",
     "output_type": "stream",
     "text": [
      "La variable otro_numero,almacena el valor 28.2\n"
     ]
    }
   ],
   "source": [
    "otro_numero=\"28.2\"\n",
    "type(otro_numero)\n",
    "\n",
    "print(\"La variable otro_numero,almacena el valor\",otro_numero)"
   ]
  },
  {
   "cell_type": "markdown",
   "metadata": {},
   "source": [
    "Sin embargo si quisieramos trabajar con variables numéricas con valores decimales como **\"30.2\"** **\"23.4\"** u otros podemos definir variable de tipo **float**. "
   ]
  },
  {
   "cell_type": "code",
   "execution_count": 57,
   "metadata": {},
   "outputs": [
    {
     "name": "stdout",
     "output_type": "stream",
     "text": [
      "La variable numero_decimal,tiene el valor  30.2 y es de tipo <class 'float'>\n"
     ]
    }
   ],
   "source": [
    "numero_decimal=30.2\n",
    "\n",
    "print(\"La variable numero_decimal,tiene el valor \",numero_decimal,\n",
    "      \"y es de tipo\",type(numero_decimal))"
   ]
  },
  {
   "cell_type": "markdown",
   "metadata": {},
   "source": [
    "De esta forma si quisieramos realizar operaciones aritmeticas con variables de tipo entero o float,podemos realizar las operaciones listadas en la siguiente tabla.\n",
    "\n",
    "<table ><tr><th> Sintaxis <th><th> Operación <th><th> Descripción <tr><tr>\n",
    "<tr><td> x + y  <td><td> Adición     <td><td> La suma de x e y <td><tr>\n",
    "<tr><td> x - y  <td><td> Sustracción <td><td> La diferencia entre x e y <td><tr>\n",
    "<tr><td> x * y  <td><td> Multiplicación <td><td> El producto entre x e y <td><tr>\n",
    "<tr><td> x / y  <td><td> División       <td><td> El cuociente entre x e y. <td><tr>\n",
    "<tr><td> x %  y <td><td> Modulo  <td><td> El valor entero restante,luego de dividir x entre y. <td><tr>\n",
    "<tr><td> x ** y <td><td> Potenciación <td><td> El resultado de elevar x a y. <td><tr>\n",
    "<tr><td> -x     <td><td> Negación <td><td> El valor negativo de x. <td><tr><table>"
   ]
  },
  {
   "cell_type": "markdown",
   "metadata": {},
   "source": [
    "De acuerdo a lo anterior,podriamos realizar algunas operaciones básicas como suma,resta,división y multiplicación... definiendo previamente las variables x e y."
   ]
  },
  {
   "cell_type": "code",
   "execution_count": 58,
   "metadata": {},
   "outputs": [],
   "source": [
    "x=10\n",
    "y=2"
   ]
  },
  {
   "cell_type": "code",
   "execution_count": 59,
   "metadata": {},
   "outputs": [
    {
     "name": "stdout",
     "output_type": "stream",
     "text": [
      "12\n"
     ]
    }
   ],
   "source": [
    "print(x+2)"
   ]
  },
  {
   "cell_type": "code",
   "execution_count": 60,
   "metadata": {},
   "outputs": [
    {
     "name": "stdout",
     "output_type": "stream",
     "text": [
      "8\n"
     ]
    }
   ],
   "source": [
    "print(x-2)"
   ]
  },
  {
   "cell_type": "code",
   "execution_count": 61,
   "metadata": {},
   "outputs": [
    {
     "name": "stdout",
     "output_type": "stream",
     "text": [
      "La división de x entre y es: 5.0\n"
     ]
    }
   ],
   "source": [
    "print(\"La división de x entre y es:\",x/y)"
   ]
  },
  {
   "cell_type": "code",
   "execution_count": 62,
   "metadata": {},
   "outputs": [
    {
     "name": "stdout",
     "output_type": "stream",
     "text": [
      "La multiplicacion entre las variables x e y es: 20\n"
     ]
    }
   ],
   "source": [
    "print(\"La multiplicacion entre las variables x e y es:\",x*y)"
   ]
  },
  {
   "cell_type": "markdown",
   "metadata": {},
   "source": [
    "Pero tambien podriamos realizar algunos cálculos un poco mas complejos,como determinar volúmenes de cubo,conos,u otras figuras.\n"
   ]
  },
  {
   "cell_type": "code",
   "execution_count": 63,
   "metadata": {},
   "outputs": [
    {
     "name": "stdout",
     "output_type": "stream",
     "text": [
      "Un cubo de lado 5 tiene un volumen de: 125 cm^3\n"
     ]
    }
   ],
   "source": [
    "lado=5\n",
    "print(\"Un cubo de lado\",lado,\"tiene un volumen de:\",lado**3,\"cm^3\")"
   ]
  },
  {
   "cell_type": "code",
   "execution_count": 64,
   "metadata": {},
   "outputs": [
    {
     "name": "stdout",
     "output_type": "stream",
     "text": [
      "El volumen de un paralelepipedo que tiene alto 2 ancho 4 y largo 7 es de:  56 cm^3\n"
     ]
    }
   ],
   "source": [
    "alto=2\n",
    "ancho=4\n",
    "largo=7\n",
    "\n",
    "print(\"El volumen de un paralelepipedo que tiene alto\",alto,\"ancho\",ancho,\"y largo\",largo,\"es de: \",alto*ancho*largo,\"cm^3\")"
   ]
  },
  {
   "cell_type": "markdown",
   "metadata": {},
   "source": [
    "<a id='Funciones'></a>\n",
    "### Funciones 🎸\n",
    "\n",
    "[Inicio ▲](#Indice)\n",
    "\n",
    "Asi como en la sección anterior vimos como definir,manipular algunos tipos de variables e incluso definir algunas fórmulas,en otros casos necesitaremos definir procedimientos más complejos y/o que requieren de varios pasos para su ejecución y para esto utilizaremos  funciones,las cuales las podemos utilizar cada ves que deseemos.\n",
    "\n",
    "Como una primera función podríamos definir una función simple que imprima por pantalla algunos valores\n"
   ]
  },
  {
   "cell_type": "code",
   "execution_count": 65,
   "metadata": {},
   "outputs": [
    {
     "name": "stdout",
     "output_type": "stream",
     "text": [
      "Buen dia:  juan su saldo en cuenta es de: 100\n"
     ]
    }
   ],
   "source": [
    "def funcion_saldo(nombre):\n",
    "    \"Esta es la ayuda de la funcion\"\n",
    "    \n",
    "    saldo=100\n",
    "    return print(\"Buen dia: \",nombre,\"su saldo en cuenta es de:\",saldo)\n",
    "\n",
    "funcion_saldo(nombre=\"juan\")"
   ]
  },
  {
   "cell_type": "markdown",
   "metadata": {},
   "source": [
    "Toda funcion en Python,parte con la palabra reservada **def**,luego el nombre que en este caso es **funcion_saldo** y dentro de paréntesis las variables que acepta la función.Una vez que la variable acepta la variable nombre,se genera un saldo de 100 y se guarda en la variable saldo,finalmente la funcion retorna un mensaje para el usuario.\n",
    "\n",
    "Sin embargo, si queremos saber un poco mas acerca de la función podemos llamar a la ayuda de esta con la funcion **help()**"
   ]
  },
  {
   "cell_type": "code",
   "execution_count": 66,
   "metadata": {},
   "outputs": [
    {
     "name": "stdout",
     "output_type": "stream",
     "text": [
      "Help on function funcion_saldo in module __main__:\n",
      "\n",
      "funcion_saldo(nombre)\n",
      "    Esta es la ayuda de la funcion\n",
      "\n"
     ]
    }
   ],
   "source": [
    "help(funcion_saldo)"
   ]
  },
  {
   "cell_type": "markdown",
   "metadata": {},
   "source": [
    "En este caso se entrega la información de ayuda de la función.Sin embargo,podemos agregar una información mas detallada para la descripción de la función utilizando dentro de ella la triple comillas **\"\"\"**"
   ]
  },
  {
   "cell_type": "code",
   "execution_count": 67,
   "metadata": {},
   "outputs": [
    {
     "name": "stdout",
     "output_type": "stream",
     "text": [
      "Help on function funcion_saldo in module __main__:\n",
      "\n",
      "funcion_saldo(nombre)\n",
      "    Esta es la ayuda de la funcion.Esta función genera un \n",
      "    mensaje de salida con el nombre que se le entrega y el saldo que \n",
      "    por defecto se encuentra en 100\n",
      "\n"
     ]
    }
   ],
   "source": [
    "def funcion_saldo(nombre):\n",
    "    \"\"\"Esta es la ayuda de la funcion.Esta función genera un \n",
    "    mensaje de salida con el nombre que se le entrega y el saldo que \n",
    "    por defecto se encuentra en 100\"\"\"\n",
    "    \n",
    "    saldo=100\n",
    "    return print(\"Buen dia: \",nombre,\"su saldo en cuenta es de:\",saldo)\n",
    "\n",
    "help(funcion_saldo)"
   ]
  },
  {
   "cell_type": "markdown",
   "metadata": {},
   "source": [
    "A diferencia del código anterior, ahora si se muestra de forma explícita que es lo que hace la función, lo cual se agrego en la nueva definición de la función **\"funcion_saldo\"**.\n",
    "\n",
    "Pero también podemos definir funciones que realicen algunas operaciones mas extensas,asi como operaciones matemáticas que tomen distintos valores segun las variables que se le definan a la función.\n",
    "\n",
    "En este caso la funcion **diferencia**,determina las diferencias absolutas que existen entre 3 variables **a**,**b** y **c**.Asi, las diferencias se determinan al interior de la función y luego se retornan junto al texto que muestra entre que pares de variables se determinan las diferencias,cabe destacar que para esta función tambien se escribio la ayuda."
   ]
  },
  {
   "cell_type": "code",
   "execution_count": 68,
   "metadata": {},
   "outputs": [
    {
     "name": "stdout",
     "output_type": "stream",
     "text": [
      "Help on function diferencia in module __main__:\n",
      "\n",
      "diferencia(a, b, c)\n",
      "    Esta funcion retorna la diferencia entre 3 valores que se le entregan\n",
      "\n",
      "La diferencia entre a y b es 10 La diferencia entre a y c es 20 y la diferencia entre b y c es 10\n"
     ]
    }
   ],
   "source": [
    "def diferencia(a,b,c):\n",
    "    \"\"\" Esta funcion retorna la diferencia entre 3 valores que se le entregan\"\"\"\n",
    "    dif1=abs(a-b)\n",
    "    dif2=abs(a-c)\n",
    "    dif3=abs(b-c)\n",
    "    return print(\"La diferencia entre a y b es\",dif1,\"La diferencia entre a y c es\",dif2,\"y la diferencia entre b y c es\",dif3)\n",
    "\n",
    "help(diferencia)\n",
    "\n",
    "diferencia(10,20,30)"
   ]
  },
  {
   "cell_type": "markdown",
   "metadata": {},
   "source": [
    "Pero aún se pueden complicar las cosas un poco mas...👀 En muchos casos utilizaremos funciones para tareas específicas,pero en otros podríamos necesitar aplicar a una función otra función de forma inmediata,de esa forma a la salida de la primera se le aplicara una nueva función.Si creamos una primera función multi_1(x), la que multiplica por 2 el valor de entrada podríamos modificar la salida con una nueva función multi_2(fn)"
   ]
  },
  {
   "cell_type": "code",
   "execution_count": 69,
   "metadata": {},
   "outputs": [
    {
     "data": {
      "text/plain": [
       "60"
      ]
     },
     "execution_count": 69,
     "metadata": {},
     "output_type": "execute_result"
    }
   ],
   "source": [
    "def multi_1(x=2):\n",
    "    \"\"\"Esta primera función solo multiplica por 2 la variable de entrada,por defecto el valor de entrada esta fijado en 2\"\"\"\n",
    "    y=x*2\n",
    "    return y\n",
    "\n",
    "def multi_2(fn):\n",
    "    \"\"\" Esta funcion toma la salida de otra funcion y la multiplica por 2\"\"\"\n",
    "    z=fn*3\n",
    "    return z\n",
    "\n",
    "\n",
    "multi_2(multi_1(10))\n"
   ]
  },
  {
   "cell_type": "markdown",
   "metadata": {},
   "source": [
    "Asi podemos llamar a una función dentro de otra,en este caso al dar el valor de entrada como 10 a la función **multi_1()**,esta lo multiplica por 10 y devuelve un 20.Asi luego este valor 20 lo toma la función **multi_2()** y lo multiplica por **3**,obteniendo asi el valor **60** que se muestra por pantalla."
   ]
  },
  {
   "cell_type": "markdown",
   "metadata": {},
   "source": [
    "<a id='Booleanos-y-condicionales'></a>\n",
    "### Booleanos y condicionales 🕹\n",
    "\n",
    "[Inicio ▲](#Indice)\n",
    "\n",
    "Ya vimos que en python existen distintos tipos de variables como \"integer\" y \"string\",pero no siempre trabajaremos con números o texto.Podemos utilizar las variables **\"bool\"**,las cuales tienen 2 posibles valores **\"True\"** o **\"False\"**.\n",
    "\n",
    "Estas variables las podemos obtener como salida de otras funciones,pero tambien podemos definir y validar este tipo de variable cada vez que sea necesario."
   ]
  },
  {
   "cell_type": "code",
   "execution_count": 70,
   "metadata": {},
   "outputs": [
    {
     "name": "stdout",
     "output_type": "stream",
     "text": [
      "True\n",
      "<class 'bool'>\n"
     ]
    }
   ],
   "source": [
    "x=True\n",
    "print(x)\n",
    "print(type(x))\n"
   ]
  },
  {
   "cell_type": "markdown",
   "metadata": {},
   "source": [
    "En este caso podemos ver que el valor de x,es **\"Verdadero\"** y al validar el tipo de variables que es x,nos devuelve por pantalla que es **\"bool\"** o **\"booleano\"**.\n",
    "\n",
    "También podemos definir otras variables y verificar si sus valores son iguales o distintos."
   ]
  },
  {
   "cell_type": "code",
   "execution_count": 71,
   "metadata": {},
   "outputs": [
    {
     "data": {
      "text/plain": [
       "False"
      ]
     },
     "execution_count": 71,
     "metadata": {},
     "output_type": "execute_result"
    }
   ],
   "source": [
    "y=False\n",
    "\n",
    "x==y"
   ]
  },
  {
   "cell_type": "markdown",
   "metadata": {},
   "source": [
    "En este caso al definir una nueva variable *y* como **\"False\"**,podemos observar que al verificar con el signo **\"==\"** si son iguales,se nos devuelve el valor \"False\",debido a que x tiene asignado el valor **Verdadero** en cambio y tiene asignado el valor **Falso**.\n",
    "\n",
    "Sin embargo podemos utilizar varios operadores entre variables booleanas según corresponda.\n",
    "\n",
    "<table ><tr><th> Operación <th><th> Descripción <tr><tr>\n",
    "<tr><td> x == y<td><td>x es igual y<td><tr>\n",
    "<tr><td> x < y<td><td>x es menor y<td><tr>\n",
    "<tr><td> x <= y<td><td>x es menor o igual que y<td><tr>\n",
    "<tr><td> x != y<td><td>x no es igual a y<td><tr>\n",
    "<tr><td> x > y<td><td>x es mayor que y<td><tr>\n",
    "<tr><td> x >= y<td><td>x es mayor o igual que y<td><tr><table>\n",
    "\n",
    "Asi podemos integrar este tipo de variables y las operaciones ya definidas en alguna función que realice algun otro procedimiento mas extenso.\n"
   ]
  },
  {
   "cell_type": "code",
   "execution_count": 72,
   "metadata": {},
   "outputs": [
    {
     "name": "stdout",
     "output_type": "stream",
     "text": [
      "Su saldo es de 100\n"
     ]
    }
   ],
   "source": [
    "def cajero(tarjeta):\n",
    "    \"\"\" La función permite validar si el tarjeta tiene saldo o no \"\"\"\n",
    "    \n",
    "    saldo=100\n",
    "    if tarjeta==True:\n",
    "        return print(\"Su saldo es de\",saldo)\n",
    "    else: \n",
    "        return print(\"No se puede verificar su saldo en este momento\")\n",
    "              \n",
    "\n",
    "cajero(tarjeta=True)\n",
    "\n"
   ]
  },
  {
   "cell_type": "markdown",
   "metadata": {},
   "source": [
    "Asi se puede verificar que si la variable **tarjeta** tiene el valor **verdadero** en el cajero,la función cajero devuelve el mensaje **\"Su saldo es de 100\"** y en caso contrario no puede validar el saldo."
   ]
  },
  {
   "cell_type": "markdown",
   "metadata": {},
   "source": [
    "## Funciones y condiciones\n",
    "\n",
    "Como vimos en el código anterior podemos verificar el valor asignado a una variable numérica,booleana o string,mediante un operador y una condición. Esto debido a que si una variable cumple cierta condición,se ejecuta un bloque de código,sino se ejecuta otro bloque de código.\n",
    "\n",
    "Aunque también podemos verificar si se cumple mas de una condición, como en la siguiente función inspector."
   ]
  },
  {
   "cell_type": "code",
   "execution_count": 73,
   "metadata": {},
   "outputs": [
    {
     "name": "stdout",
     "output_type": "stream",
     "text": [
      "0 Es cero\n",
      "-10 Es negativo\n"
     ]
    }
   ],
   "source": [
    "def inspector(x):\n",
    "    if x==0:\n",
    "        print(x,\"Es cero\")\n",
    "    elif x>0:\n",
    "        print(x,\"Es positivo\")\n",
    "    else: \n",
    "        print(x,\"Es negativo\")\n",
    "\n",
    "inspector(0)\n",
    "inspector(-10)\n",
    "\n",
    "\n"
   ]
  },
  {
   "cell_type": "markdown",
   "metadata": {},
   "source": [
    "En este caso la función una vez que se le entrega un valor numérico,es capaz de determinar *si es igual a 0*,*mayor a 0* o incluso *si es menor que 0*.\n",
    "\n",
    "Esto se realiza mediante la condición **if**,en donde esta condición if verifica que se cumpla la condición **x==0**,sino se cumple se utiliza la verificación de que sea mayor a 0 con **elif** y si no se cumple ninguna de las 2 anteriores se ejecuta el ultimo bloque de código correspondiente al **print(x,\"Es negativo\")**.\n",
    "\n",
    "Algunas últimas consideraciones para las variables booleanas.Podemos convertir casi cualquier tipo de dato a una variable booleana,de esta forma todo valor positivo o texto no vacío sera considerado en Python como un valor Verdadero y el valor 0 o texto vacío como Falso,como en el siguiente caso."
   ]
  },
  {
   "cell_type": "code",
   "execution_count": 74,
   "metadata": {},
   "outputs": [
    {
     "name": "stdout",
     "output_type": "stream",
     "text": [
      "True\n",
      "True\n",
      "False\n",
      "False\n"
     ]
    }
   ],
   "source": [
    "print(bool(12))\n",
    "print(bool(\"hola\"))\n",
    "print(bool(0))\n",
    "print(bool(\"\"))"
   ]
  },
  {
   "cell_type": "markdown",
   "metadata": {},
   "source": [
    "<a id='Listas'></a>\n",
    "### Listas 🏗\n",
    "\n",
    "[Inicio ▲](#Indice)\n",
    "\n",
    "Las listas en python son una estructura de datos similar a lo que hacemos con las variables que ya conocemos,pero nos permiten realizar operaciones mas complejas.\n",
    "\n",
    "De esta forma en una lista podemos almacenar una secuencia de valores, como las listas generadas para las variables **primos** y **días** a continuación."
   ]
  },
  {
   "cell_type": "code",
   "execution_count": 75,
   "metadata": {},
   "outputs": [],
   "source": [
    "primos=[2,3,5,7]\n",
    "\n",
    "dias=[\"Lunes\",\"Martes\",\"Miercoles\",\"Jueves\",\"Viernes\"]"
   ]
  },
  {
   "cell_type": "markdown",
   "metadata": {},
   "source": [
    "Como se puede ver ambas son listas, sin embargo en la primera almacenamos solo valores númericos y en la segunda se guardan string.\n",
    "\n",
    "Pero lo podemos llevar un poco más allá y crear una lista de listas 👀"
   ]
  },
  {
   "cell_type": "code",
   "execution_count": 76,
   "metadata": {},
   "outputs": [],
   "source": [
    "cartas=[[\"j\",\"q\",\"k\"],[2,3,5],[5,\"A\",\"K\"]]"
   ]
  },
  {
   "cell_type": "markdown",
   "metadata": {},
   "source": [
    "En este caso generamos una lista compuesta por **3 listas**,sin embargo cada una de estas listas es diferente.La primera solo contiene valores **string**,la segunda solo valores **numéricos** y la tercera contiene tanto valores numericos como string.\n",
    "\n",
    "Ya que tenemos una lista que tiene una estructura mas extensa,podríamos querer seleccionar alguno de sus valores y no siempre tratar con la lista **cartas** completa.Asi podriamos seleccionar "
   ]
  },
  {
   "cell_type": "code",
   "execution_count": 77,
   "metadata": {},
   "outputs": [
    {
     "name": "stdout",
     "output_type": "stream",
     "text": [
      "[2, 3, 5]\n",
      "[5, 'A', 'K']\n"
     ]
    }
   ],
   "source": [
    "print(cartas[1])\n",
    "\n",
    "print(cartas[2])"
   ]
  },
  {
   "cell_type": "markdown",
   "metadata": {},
   "source": [
    "Asi podemos seleccionar la segunda lista de cartas o incluso seleccionar la tercera lista de cartas.Pero incluso podríamos seleccionar uno de los elementos de estas listas como en el siguiente bloque."
   ]
  },
  {
   "cell_type": "code",
   "execution_count": 78,
   "metadata": {},
   "outputs": [
    {
     "name": "stdout",
     "output_type": "stream",
     "text": [
      "2\n",
      "K\n"
     ]
    }
   ],
   "source": [
    "print(cartas[1][0])\n",
    "\n",
    "print(cartas[2][2])"
   ]
  },
  {
   "cell_type": "markdown",
   "metadata": {},
   "source": [
    "Ahi se puede ver como podemos seleccionar el primer elemento de la segunda lista obteniendo el valor de **2** o seleccionar el tercer elemento de la tercera lista obteniendo el string **K**.\n",
    "\n",
    "Pero si una vez que definimos la lista carta,queremos agregar una nueva mano... perdón una nueva lista,podemos hacerlo con la siguiente asignación."
   ]
  },
  {
   "cell_type": "code",
   "execution_count": 79,
   "metadata": {},
   "outputs": [
    {
     "data": {
      "text/plain": [
       "[['A', 'J', 'Q'], [2, 3, 5], [5, 'A', 'K']]"
      ]
     },
     "execution_count": 79,
     "metadata": {},
     "output_type": "execute_result"
    }
   ],
   "source": [
    "cartas[0]=[\"A\",\"J\",\"Q\"]\n",
    "\n",
    "cartas"
   ]
  },
  {
   "cell_type": "markdown",
   "metadata": {},
   "source": [
    "Ahora como era de esperar,también podemos utilizar algunas funciones sobre estas listas.En este caso podríamos querer determinar la cantidad de días que tiene la variable días 😅... o incluso ordenar los días de forma alfabética ... o incluso operaciones matemáticas como la suma de los números primos o determinar el máximo de ellos."
   ]
  },
  {
   "cell_type": "code",
   "execution_count": 80,
   "metadata": {},
   "outputs": [
    {
     "name": "stdout",
     "output_type": "stream",
     "text": [
      "5\n",
      "['Jueves', 'Lunes', 'Martes', 'Miercoles', 'Viernes']\n",
      "17\n",
      "7\n"
     ]
    }
   ],
   "source": [
    "# Cuantos dias hay en una semana\n",
    "print(len(dias))\n",
    "\n",
    "# Ordenar los dias de forma alfabetica\n",
    "print(sorted(dias))\n",
    "\n",
    "# suma de los numeros primos\n",
    "print(sum(primos))\n",
    "\n",
    "# maximo de los numeros primos\n",
    "print(max(primos))"
   ]
  },
  {
   "cell_type": "markdown",
   "metadata": {},
   "source": [
    "#### Métodos\n",
    "\n",
    "A diferencia de las funciones que ya vienen creadas en python o las que podemos definir nosotros.También existen métodos que vienen ya creados en python **Built-in**,los que sin embargo dependen del tipo de variable con la que estemos trabajando\n",
    "\n",
    "Algunas de los métodos que desarrollados en Python para distintos tipos de variables:\n",
    "\n",
    "<table ><tr><th>Método<th><th>Descripción<tr><tr >\n",
    "<tr><td>capitalize()<td><td>Convierte en mayuscula la primera letra del string.<td><tr>\n",
    "<tr><td>index()<td><td>Busca la posición de un caracter y la devuelve.<td><tr>\n",
    "<tr><td>split()<td><td>Divide un string,según el separador que se indique y lo convierte en lista.<td><tr>\n",
    "<tr><td>upper()<td><td>Convierte todas las letras de un string en mayusculas.<td><tr>\n",
    "<tr><td>lower()<td><td>Convierte todas las letras de un string en minusculas.<td><tr><table>   \n",
    "    "
   ]
  },
  {
   "cell_type": "code",
   "execution_count": 81,
   "metadata": {},
   "outputs": [
    {
     "data": {
      "text/plain": [
       "'Este es un texto de prueba'"
      ]
     },
     "execution_count": 81,
     "metadata": {},
     "output_type": "execute_result"
    }
   ],
   "source": [
    "texto=\"este es un texto de prueba\"\n",
    "texto.capitalize()"
   ]
  },
  {
   "cell_type": "code",
   "execution_count": 82,
   "metadata": {},
   "outputs": [
    {
     "data": {
      "text/plain": [
       "11"
      ]
     },
     "execution_count": 82,
     "metadata": {},
     "output_type": "execute_result"
    }
   ],
   "source": [
    "texto.index(\"texto\")"
   ]
  },
  {
   "cell_type": "code",
   "execution_count": 83,
   "metadata": {},
   "outputs": [
    {
     "data": {
      "text/plain": [
       "['este', 'es', 'un', 'texto', 'de', 'prueba']"
      ]
     },
     "execution_count": 83,
     "metadata": {},
     "output_type": "execute_result"
    }
   ],
   "source": [
    "texto.split()"
   ]
  },
  {
   "cell_type": "code",
   "execution_count": 84,
   "metadata": {},
   "outputs": [
    {
     "data": {
      "text/plain": [
       "'ESTE ES UN TEXTO DE PRUEBA'"
      ]
     },
     "execution_count": 84,
     "metadata": {},
     "output_type": "execute_result"
    }
   ],
   "source": [
    "texto.upper()"
   ]
  },
  {
   "cell_type": "code",
   "execution_count": 85,
   "metadata": {},
   "outputs": [
    {
     "data": {
      "text/plain": [
       "'este es un texto de prueba'"
      ]
     },
     "execution_count": 85,
     "metadata": {},
     "output_type": "execute_result"
    }
   ],
   "source": [
    "texto.lower()"
   ]
  },
  {
   "cell_type": "markdown",
   "metadata": {},
   "source": [
    "Pero también podríamos utilizar métodos sobre variables numéricas,listas y otros.Sin embargo la diferencia principal entre un método y una función es que los métodos siempre seran parte de una clase,de otra forma son parte de las funcionalidades que le podemos dar a un objeto.\n",
    "\n",
    "Tal vez hasta el momento no hemos hablando de objetos,sin embargo los objetos son una de las características principales de Python,ya que este es un software que soporta la Programación Orientada a Objetos (POO),en un posterior curso."
   ]
  },
  {
   "cell_type": "markdown",
   "metadata": {},
   "source": [
    "#### Tuplas\n",
    "\n",
    "Las tuplas son similares a las listas,sin embargo tienen algunas diferencias con las listas.En un principio las podemos definir de forma similar la generada y guardada en la variable t"
   ]
  },
  {
   "cell_type": "code",
   "execution_count": 86,
   "metadata": {},
   "outputs": [
    {
     "data": {
      "text/plain": [
       "(1, 2, 3)"
      ]
     },
     "execution_count": 86,
     "metadata": {},
     "output_type": "execute_result"
    }
   ],
   "source": [
    "t=(1,2,3)\n",
    "t"
   ]
  },
  {
   "cell_type": "markdown",
   "metadata": {},
   "source": [
    "En este caso solo cambiamos el tipo de parentesis para crear la tupla t,sin embargo si quisieramos cambiar alguno de los valores de la tupla como en los casos anteriores no podemos,a continuación se muestra un error forzado... 👀"
   ]
  },
  {
   "cell_type": "code",
   "execution_count": 87,
   "metadata": {},
   "outputs": [
    {
     "ename": "TypeError",
     "evalue": "'tuple' object does not support item assignment",
     "output_type": "error",
     "traceback": [
      "\u001b[1;31m---------------------------------------------------------------------------\u001b[0m",
      "\u001b[1;31mTypeError\u001b[0m                                 Traceback (most recent call last)",
      "Cell \u001b[1;32mIn [87], line 1\u001b[0m\n\u001b[1;32m----> 1\u001b[0m \u001b[43mt\u001b[49m\u001b[43m[\u001b[49m\u001b[38;5;241;43m0\u001b[39;49m\u001b[43m]\u001b[49m\u001b[38;5;241m=\u001b[39m\u001b[38;5;241m1\u001b[39m\n",
      "\u001b[1;31mTypeError\u001b[0m: 'tuple' object does not support item assignment"
     ]
    }
   ],
   "source": [
    "t[0]=1"
   ]
  },
  {
   "cell_type": "markdown",
   "metadata": {},
   "source": [
    "Pero como ya vimos,también podemos utilizar métodos sobre tuplas.En este caso si tenemos una variable tipo float,podemos utilizar el método **as_integer_ratio()** para devolver una **tupla** compuesta por el **numerador y denominador** de la variable float."
   ]
  },
  {
   "cell_type": "code",
   "execution_count": null,
   "metadata": {},
   "outputs": [],
   "source": [
    "x=0.125\n",
    "numerador,denominador=x.as_integer_ratio()\n",
    "print(numerador/denominador)"
   ]
  },
  {
   "cell_type": "markdown",
   "metadata": {},
   "source": [
    "<a id='Ciclos'></a>\n",
    "### Ciclos 🎰\n",
    "\n",
    "[Inicio ▲](#Indice)\n",
    "\n",
    "Todo en la vida es un ciclo... bueno no precisamente como los que vamos a ver ahora,pero sin duda que mucho tienen en común con la repetición de rutinas.Como hemos visto podemos definir listas de *cadenas de texto*,en este caso podemos definir una lista con los días de la semana."
   ]
  },
  {
   "cell_type": "markdown",
   "metadata": {},
   "source": [
    "#### Ciclo for"
   ]
  },
  {
   "cell_type": "code",
   "execution_count": null,
   "metadata": {},
   "outputs": [],
   "source": [
    "dias=[\"Lunes\",\"Martes\",\"Miercoles\",\"Jueves\",\"Viernes\",\"Sabado\"]"
   ]
  },
  {
   "cell_type": "markdown",
   "metadata": {},
   "source": [
    "Y podríamos ir mostrando por pantalla cada uno de los días con un ciclo for"
   ]
  },
  {
   "cell_type": "code",
   "execution_count": null,
   "metadata": {},
   "outputs": [],
   "source": [
    "for i in dias:\n",
    "    print(i)"
   ]
  },
  {
   "cell_type": "markdown",
   "metadata": {},
   "source": [
    "Como se puede ver el ciclo **for** itera la variable **i** sobre la lista **días**,asi va tomando cada uno de los valores e imprime el día por pantalla.\n",
    "\n",
    "En cambio si tomaramos una lista numérica y la iteramos de igual forma,solo imprimiria los valores numéricos de esta lista."
   ]
  },
  {
   "cell_type": "code",
   "execution_count": null,
   "metadata": {},
   "outputs": [],
   "source": [
    "numeros=[1,2,3,4,5]\n",
    "\n",
    "for j in numeros:\n",
    "    print(j)    "
   ]
  },
  {
   "cell_type": "markdown",
   "metadata": {},
   "source": [
    "Así podemos ver que en este caso cambiamos la lista para luego iterar con una nueva variable,en este caso j.\n",
    "\n",
    "Además no solo podemos iterar los valores en una lista, también podriamos realizar alguna operación dentro del ciclo, en este caso definimos una nueva lista y luega la variable producto."
   ]
  },
  {
   "cell_type": "code",
   "execution_count": null,
   "metadata": {},
   "outputs": [],
   "source": [
    "multiplicativos=(2,2,2,3,3,5)\n",
    "producto=1\n",
    "\n",
    "for i in multiplicativos:\n",
    "    producto=producto*i\n",
    "\n",
    "producto"
   ]
  },
  {
   "cell_type": "markdown",
   "metadata": {},
   "source": [
    "En este caso el ciclo **for** itera los valores de lista **multiplicativos** y luego en cada iteración multiplica el valor de la variable *producto* por el valor de *multiplicativos* y lo almacena."
   ]
  },
  {
   "cell_type": "code",
   "execution_count": null,
   "metadata": {},
   "outputs": [],
   "source": [
    "for i in range(5):\n",
    "    print(\"Este i es el numero: \",i)"
   ]
  },
  {
   "cell_type": "markdown",
   "metadata": {},
   "source": [
    "Retomando el primer ciclo,también podriamos utilizar la función **range()**, para optimizar la iteración de la variable **i**.Así no es necesario definir la lista a iterar y solo asignamos el valor hasta el que deseamos iterar a la función **range()**."
   ]
  },
  {
   "cell_type": "markdown",
   "metadata": {},
   "source": [
    "#### Ciclo While\n",
    "\n",
    "Además del ciclo for que vimos en la sección anterior,también podemos querer iterar una lista o un proceso mientras se cumpla una cierta condición.Para esto utilizamos el ciclo **while**,que a diferencia del caso anterior en donde iteramos una variable,para el ciclo while esperamos que mientras se cumpla una condición se ejecutaran las intrucciones que estan dentro de el.\n",
    "\n",
    "Cabe destacar que para el ciclo **while** hay que tener una consideración especial,ya que si la condición que establecemos no se cumple nunca el ciclo while se ejecuta de forma infinita pudiendo ocasionar que el software o el pc consuma toda la memoria y teniendo que reinciar el proceso o incluso el pc.\n",
    "\n",
    "A continuación se define el valor de la variable **i=0**,entonces el ciclo comienza validando esta condición,como es verdadera luego imprime el valor de la variable y luego **i=i+1**.Finalmente esta operación se repite hasta que i toma el valor 9,ya que al tomar el valor 10,la condición **i<10** ya no es verdadera."
   ]
  },
  {
   "cell_type": "code",
   "execution_count": null,
   "metadata": {},
   "outputs": [],
   "source": [
    "i=0\n",
    "\n",
    "while i<10:\n",
    "    print(i,end=\" \")\n",
    "    i=i+1"
   ]
  },
  {
   "cell_type": "markdown",
   "metadata": {},
   "source": [
    "En cambio si ejecutamos el siguiente bloque el ciclo se ejecuta de forma infinita ya que la condición siempre sera cierta,provocando que el software colapse y se cierre... 🔥"
   ]
  },
  {
   "cell_type": "code",
   "execution_count": null,
   "metadata": {},
   "outputs": [],
   "source": [
    "i=True\n",
    "\n",
    "while i==True:\n",
    "    print(i)\n",
    "    "
   ]
  },
  {
   "cell_type": "markdown",
   "metadata": {},
   "source": [
    "Otro aspecto importante en Python,es que cuando definimos una lista es posible utilizar ciclos dentro de ellas.En algunos casos solo requerimos de algunos valores dentro de una lista,pero si buscamos crear una sucesión que tenga una mayor extensión,como tal vez una lista con los valores del 1 al 20 una forma sencilla de escribirla seria de la siguiente forma:"
   ]
  },
  {
   "cell_type": "code",
   "execution_count": null,
   "metadata": {},
   "outputs": [],
   "source": [
    "serie_1=[n for n in range(1,21)]\n",
    "serie_1"
   ]
  },
  {
   "cell_type": "markdown",
   "metadata": {},
   "source": [
    "Recordar que en Python el límite superior esta especificado por el valor siguiente,es por eso que dentro de la función range() utilizamos 21 y no 20."
   ]
  },
  {
   "cell_type": "markdown",
   "metadata": {},
   "source": [
    "Pero no siempre necesitaremos crear las mismas listas en algunos casos podriamos necesitar que la lista comience o termine en valores distintos.Paro lo cual podríamos hacer uso de las funciones... las cuales son nuestro mejor aliado cuando queremos encapsular un proceso que realizamos con mucha frecuencia 📲"
   ]
  },
  {
   "cell_type": "code",
   "execution_count": null,
   "metadata": {},
   "outputs": [],
   "source": [
    "def listas(inicio=1,termino=5):\n",
    "    return [n for n in range(inicio,termino)]\n",
    "\n",
    "l1=listas()\n",
    "l1"
   ]
  },
  {
   "cell_type": "code",
   "execution_count": null,
   "metadata": {},
   "outputs": [],
   "source": [
    "l2=listas(inicio=10,termino=21)\n",
    "l2"
   ]
  },
  {
   "cell_type": "markdown",
   "metadata": {},
   "source": [
    "Como se ve en el primer bloque,una vez que definimos la función **listas** y la llamamos para crear nuestra primera lista **l1**,se crea la lista con los valores por defecto.Sin embargo cuando la llamamos para crear la lista **l2** con diferentes límites,inmediatamente se crea la lista con los valores que comienzan en el 10 y terminan en el 20.📌"
   ]
  },
  {
   "cell_type": "markdown",
   "metadata": {},
   "source": [
    "<a id='Diccionarios'></a>\n",
    "### Diccionarios 📗\n",
    "\n",
    "[Inicio ▲](#Indice)\n",
    "\n",
    "Hasta este punto del curso,ya hemos visto la mayoría de los aspectos importantes para comenzar al menos a trabajar con Python,sin embargo uno de los puntos en donde Python es excelente es con la manipulación de strings o cadenas de texto.\n",
    "\n",
    "Si bien ya hemos definido y realizado algunas operaciones con strings,siempre es bueno repasar antes de pasar a lo mas interesante de esta sección...los diccionarios. 📚\n",
    "\n",
    "Habíamos visto que se podian definir algunas cadenas de texto y almacenarlas en variables como las que se muestran a continuación"
   ]
  },
  {
   "cell_type": "code",
   "execution_count": null,
   "metadata": {},
   "outputs": [],
   "source": [
    "x=\"lunes es un dia\"\n",
    "y=\"Lunes es un dia\""
   ]
  },
  {
   "cell_type": "markdown",
   "metadata": {},
   "source": [
    "Como podemos ver acá, en ambas variables aparantemente se guarda el mismo texto,pero la primera letra no se encuentra en mayúsculas en ambas variables,por lo tanto al momento de validar si son iguales se nos devolvera un False."
   ]
  },
  {
   "cell_type": "code",
   "execution_count": null,
   "metadata": {},
   "outputs": [],
   "source": [
    "x==y"
   ]
  },
  {
   "cell_type": "code",
   "execution_count": null,
   "metadata": {},
   "outputs": [],
   "source": [
    "En cambio si definimos las cadenas de texto exactamente de la misma forma."
   ]
  },
  {
   "cell_type": "code",
   "execution_count": null,
   "metadata": {},
   "outputs": [],
   "source": [
    "x=\"Lunes es un dia\"\n",
    "y=\"Lunes es un dia\"\n",
    "\n",
    "x==y"
   ]
  },
  {
   "cell_type": "markdown",
   "metadata": {},
   "source": [
    "Ahora si verificamos que ambas cadenas de texto son iguales."
   ]
  },
  {
   "cell_type": "markdown",
   "metadata": {},
   "source": [
    "En cambio tambien podríamos querer en algunos casos saltar una línea,como en lo siguiente."
   ]
  },
  {
   "cell_type": "code",
   "execution_count": null,
   "metadata": {},
   "outputs": [],
   "source": [
    "a=print(\"Lunes\\nes un dia\")\n",
    "a"
   ]
  },
  {
   "cell_type": "markdown",
   "metadata": {},
   "source": [
    "En este caso vemos que al agregar el **\"\\n\"**,inmediatamente todo lo que viene despues se escribe en la linea siguiente... y por supuesto podríamos volver a utilizarlo si quisieramos escribir cada palabra en una línea nueva"
   ]
  },
  {
   "cell_type": "code",
   "execution_count": null,
   "metadata": {},
   "outputs": [],
   "source": [
    "a=print(\"Lunes\\nes\\nun\\ndia\")\n",
    "a"
   ]
  },
  {
   "cell_type": "markdown",
   "metadata": {},
   "source": [
    "Como ya hemos trabajado con la función,sabemos que esta automáticamente agrega una nueva línea,a menos que especifiquemos un valor de término."
   ]
  },
  {
   "cell_type": "code",
   "execution_count": null,
   "metadata": {},
   "outputs": [],
   "source": [
    "print(\"Martes es otro dia de la semana\")\n",
    "print(\"Miercoles es otro dia de la semana\",end='')\n",
    "print(\"Jueves es otro dia de la semana\",end='')"
   ]
  },
  {
   "cell_type": "markdown",
   "metadata": {},
   "source": [
    "Como se puede ver en el caso anterior si utilizamos el print de toda la vida,el siguiente texto que se imprime se va a la siguiente línea.Sin embargo cuando hacemos la segunda impresión agregamos el argumento **end= ''**,el cual en este caso permite que una vez impreso el texto siga en la misma línea,a menos que usemos el valor **\\n** que viene por defecto."
   ]
  },
  {
   "cell_type": "code",
   "execution_count": null,
   "metadata": {},
   "outputs": [],
   "source": [
    "print(\"Viernes es otro dia de la semana\",end='\\n')\n",
    "print(\"El sabado no se trabaja\")"
   ]
  },
  {
   "cell_type": "markdown",
   "metadata": {},
   "source": [
    "Pero las cadenas de texto,no solo pueden ser un conjunto de palabras,sino que podemos separar estas en caracteres.\n",
    "\n",
    "Si consideramos la ultima cadena de texto:"
   ]
  },
  {
   "cell_type": "code",
   "execution_count": null,
   "metadata": {},
   "outputs": [],
   "source": [
    "sabado=\"El sabado no se trabaja\"\n",
    "sabado[3]"
   ]
  },
  {
   "cell_type": "markdown",
   "metadata": {},
   "source": [
    "Como podemos ver,es posible almacenar una cadena de texto en una variable para luego ir seleccionado cada uno de los caracteres en ella,e ir poco a poco concatenando los caracteres de toda la cadena de texto."
   ]
  },
  {
   "cell_type": "code",
   "execution_count": null,
   "metadata": {},
   "outputs": [],
   "source": [
    "sabado=\"El sabado no se trabaja\"\n",
    "sabado[0]+sabado[1]+sabado[2]+sabado[3:9]"
   ]
  },
  {
   "cell_type": "markdown",
   "metadata": {},
   "source": [
    "Incluso podríamos determinar la cantidad de letras que tiene la frase **\"El sábado no se trabaja\"**"
   ]
  },
  {
   "cell_type": "code",
   "execution_count": null,
   "metadata": {},
   "outputs": [],
   "source": [
    "len(sabado)"
   ]
  },
  {
   "cell_type": "markdown",
   "metadata": {},
   "source": [
    "## Diccionarios\n",
    "\n",
    "Hasta el momento hemos trabajado con characteres,cadenas de texto o strings y variables numéricas.Pero uno de los aspectos mas importantes en Python son los diccionarios,los cuales son estructuras de datos que permiten mapear claves a valores,esto implica que podemos indexar un conjunto de valores a otro conjunto de claves o llaves."
   ]
  },
  {
   "cell_type": "code",
   "execution_count": null,
   "metadata": {},
   "outputs": [],
   "source": [
    "numeros={\"uno\":1,\"dos\":2,\"tres\":3}\n",
    "numeros\n",
    "numeros[\"tres\"]"
   ]
  },
  {
   "cell_type": "markdown",
   "metadata": {},
   "source": [
    "En el caso del diccionario numeros,*\"uno\",\"dos\" y \"tres\"* son las llaves y los valores *1,2 y 3* son los valores.\n",
    "\n",
    "En este caso podemos acceder a cada uno de los valores mediante las llaves."
   ]
  },
  {
   "cell_type": "code",
   "execution_count": null,
   "metadata": {},
   "outputs": [],
   "source": [
    "numeros[\"uno\"]"
   ]
  },
  {
   "cell_type": "markdown",
   "metadata": {},
   "source": [
    "Asi podemos seleccionar el primer valor,pero también podríamos agregar otros valores mediante una nueva llave."
   ]
  },
  {
   "cell_type": "code",
   "execution_count": null,
   "metadata": {},
   "outputs": [],
   "source": [
    "numeros[\"cuatro\"]=4\n",
    "numeros"
   ]
  },
  {
   "cell_type": "markdown",
   "metadata": {},
   "source": [
    "O incluso cambiando solo alguno de aquellos valores ya asociados a una llave."
   ]
  },
  {
   "cell_type": "code",
   "execution_count": null,
   "metadata": {},
   "outputs": [],
   "source": [
    "numeros[\"uno\"]=\"Lunes\"\n",
    "numeros"
   ]
  },
  {
   "cell_type": "code",
   "execution_count": null,
   "metadata": {},
   "outputs": [],
   "source": [
    "Así finalmente podríamos incluso iterar un diccionario mediante un ciclo for."
   ]
  },
  {
   "cell_type": "code",
   "execution_count": null,
   "metadata": {},
   "outputs": [],
   "source": [
    "for i in numeros:\n",
    "    print(numeros[i])"
   ]
  },
  {
   "cell_type": "code",
   "execution_count": null,
   "metadata": {},
   "outputs": [],
   "source": [
    "O incluso validar si una llave se encuentra en el diccionario."
   ]
  },
  {
   "cell_type": "code",
   "execution_count": null,
   "metadata": {},
   "outputs": [],
   "source": [
    "\"uno\" in numeros"
   ]
  },
  {
   "cell_type": "code",
   "execution_count": null,
   "metadata": {},
   "outputs": [],
   "source": [
    "\"cinco\" in numeros"
   ]
  },
  {
   "cell_type": "code",
   "execution_count": null,
   "metadata": {},
   "outputs": [],
   "source": [
    "numeros"
   ]
  },
  {
   "cell_type": "markdown",
   "metadata": {},
   "source": [
    "Algunas otras operaciones que podemos hacer en Python,es renombrar los valores de un diccionario mediante una iteración de los valores de las llaves del mismo diccionario."
   ]
  },
  {
   "cell_type": "code",
   "execution_count": null,
   "metadata": {},
   "outputs": [],
   "source": [
    "dias=[\"lunes\",\"martes\",\"miercoles\",\"jueves\",\"viernes\"]\n",
    "\n",
    "dias_json={dia:dia[0] for dia in dias}\n",
    "dias_json\n"
   ]
  },
  {
   "cell_type": "markdown",
   "metadata": {},
   "source": [
    "En este caso, se creo un diccionario en donde sus llaves son los días de la semana y los valores corresponden a a cada uno de los primeros caracteres de las llaves.\n",
    "\n",
    "Pero incluso el valor podría ser una versión mas corta del nombre de la llave o una pequeña descripción si fuera el caso.En este caso al cambiar la cantidad de caracteres a seleccionar de **dia[0]** a **dia[0:3]**, se pasa de solo considerar la primera letra a las 3 primeras."
   ]
  },
  {
   "cell_type": "code",
   "execution_count": null,
   "metadata": {},
   "outputs": [],
   "source": [
    "dias=[\"lunes\",\"martes\",\"miercoles\",\"jueves\",\"viernes\"]\n",
    "\n",
    "dias_json={dia:dia[0:3] for dia in dias}\n",
    "dias_json\n"
   ]
  },
  {
   "cell_type": "markdown",
   "metadata": {},
   "source": [
    "Finalmente, si quisieramos podriamos utilizar métodos sobre los diccionarios que hemos creado para realizar algunas tareas sencillas."
   ]
  },
  {
   "cell_type": "code",
   "execution_count": null,
   "metadata": {},
   "outputs": [],
   "source": [
    "dias_json.values()"
   ]
  },
  {
   "cell_type": "markdown",
   "metadata": {},
   "source": [
    "En este caso se utilizó el método **.values()** para mostrar por pantalla todos los valores del diccionario."
   ]
  },
  {
   "cell_type": "markdown",
   "metadata": {},
   "source": [
    "<a id='Trabajando-con-librerias'></a>\n",
    "### Trabajando con librerías 🎮\n",
    "\n",
    "[Inicio ▲](#Indice)\n",
    "\n",
    "Y llegamos al último tópico de este curso introductorio 🎉\n",
    "\n",
    "Hay varios temas que hemos tocado en este curso desde la declaración de variables numéricas,string y booleanas e incluso algunas estructuras de datos.Pero aún queda ver como podemos trabajar con librerías dentro del entorno de Python las cuales son muy importantes si queremos extender las capacidades de Python,si bien no veremos todas las librerías que se pueden utilizar en Python ya que son muchas,las cuales van desde la definición de variables numéricas,desarrollo de gráficas,conexión a bases de datos,desarrollo de interfaces de usuario e incluso el uso de modelos de machine learning,lo cual es suficiente contenido y material para un curso mas avanzado.Sin embargo, veremos 3 librerías ampliamente usadas tanto en la industria como en la academia.\n",
    "\n",
    "La primera es **Numpy** la que es una librería especializada en cálculo numérico y el análisis de datos,uno de los aspectos mas importante es que se puede definir una estructura de dato llamada **arrays** los cuales se procesan mucho mas rápido que las listas que por defecto maneja Python 🙄.La segunda es **Matplotlib** que es una librería estándar para comenzar a desarrollar visualizaciones en Python y la tercera es **Plotly** otra librería de visualización,la que personalmente me gusta por su sintáxis, simplicidad y por que además tambien se encuentra implementada para el Software R."
   ]
  },
  {
   "cell_type": "markdown",
   "metadata": {},
   "source": [
    "<a id='Librería Numpy'></a>\n",
    "#### Librería Numpy\n",
    "\n",
    "[Inicio ▲](#Indice)\n",
    "\n",
    "Como ya habiamos dicho uno de los puntos fuertes de la librería **Numpy** son los objetos **array**,que se componen de elementos del mismo tipo y que pueden ser de 1,2 o n dimensiones.Así podriamos definir una *lista* o array de 1 dimensión,una *matriz* o array de 2 dimensiones o también un *cubo* que seria un array de 3 dimensiones.\n",
    "\n",
    "Sin embargo primero deberiamos cargar la librería numpy"
   ]
  },
  {
   "cell_type": "code",
   "execution_count": null,
   "metadata": {},
   "outputs": [],
   "source": [
    "import numpy"
   ]
  },
  {
   "cell_type": "markdown",
   "metadata": {},
   "source": [
    "Una vez cargada ya podremos utilizar todas las funciones que vienen dentro de esta libreria.Cabe destacar que podremos cargar la libreria con su nombre por defecto o con una forma abreviada,lo cual nos servira cada vez que llamemos a las funciones dentro de ella."
   ]
  },
  {
   "cell_type": "code",
   "execution_count": null,
   "metadata": {},
   "outputs": [],
   "source": [
    "import numpy as np"
   ]
  },
  {
   "cell_type": "markdown",
   "metadata": {},
   "source": [
    "A diferencia de las listas que podemos definir de forma regular en Python,para definir una lista o array de 1 dimension tenemos que"
   ]
  },
  {
   "cell_type": "code",
   "execution_count": null,
   "metadata": {},
   "outputs": [],
   "source": [
    "a1=np.array([10,20,30,40])\n",
    "print(a1)"
   ]
  },
  {
   "cell_type": "code",
   "execution_count": null,
   "metadata": {},
   "outputs": [],
   "source": [
    "De la misma forma,si quisieramos definir un array de 2 dimensiones"
   ]
  },
  {
   "cell_type": "code",
   "execution_count": null,
   "metadata": {},
   "outputs": [],
   "source": [
    "a2=np.array([[10,20,30,40],[50,60,70,80]])\n",
    "print(a2)"
   ]
  },
  {
   "cell_type": "markdown",
   "metadata": {},
   "source": [
    "Y siguiendo con la idea,entonces un array de 3 dimensiones lo podemos definir como sigue"
   ]
  },
  {
   "cell_type": "code",
   "execution_count": null,
   "metadata": {},
   "outputs": [],
   "source": [
    "a3=np.array([[[10,20,30],[40,50,60]],[[70,80,90],[110,120,130]]])\n",
    "print(a3)"
   ]
  },
  {
   "cell_type": "markdown",
   "metadata": {},
   "source": [
    "Por tanto si queremos acceder a los elementos de cualquier tipo de array,debemos usar los índices al igual que accedemos a los elementos de una lista,pero seleccionando los índices de cada dimensión."
   ]
  },
  {
   "cell_type": "code",
   "execution_count": null,
   "metadata": {},
   "outputs": [],
   "source": [
    "#Para acceder al elemento de la fila 0 columna 0 del array de 2 dimensiones\n",
    "print(a2[0,0])\n",
    "\n",
    "#Para acceder al elemento de la fila 1 columna 2 del array de 2 dimensiones\n",
    "print(a2[1,2])"
   ]
  },
  {
   "cell_type": "markdown",
   "metadata": {},
   "source": [
    "Pero también podríamos utilizar algunos métodos para obtener algunas caracteristicas importantes de un array,como las que se muestran en la siguiente tabla.\n",
    "<table ><tr><th >Atributo<th><th>Método<th><th>Detalle<tr><tr>\n",
    "<tr><td>N° de Dimensión<td><td>a.ndim()<td><td>Devuelve el número de dimensiones del array a.<td><tr>\n",
    "<tr><td>Dimensiones<td><td>a.shape()<td><td>Devuelve una tupla con las dimensiones del array a.<td><tr>\n",
    "<tr><td>Tamaño<td><td>a.size()<td><td>Devuelve el número de elementos del array a.<td><tr>\n",
    "<tr><td>Tipo de dato<td><td>a.dtype()<td><td>Devuelve el tipo de datos de los elementos del array a.<td><tr><table>\n",
    "    \n",
    "    \n"
   ]
  },
  {
   "cell_type": "code",
   "execution_count": null,
   "metadata": {},
   "outputs": [],
   "source": [
    "# Número de dimensiones para cada uno de los arrays\n",
    "print(np.ndim(a1))\n",
    "print(np.ndim(a2))\n",
    "print(np.ndim(a3))"
   ]
  },
  {
   "cell_type": "code",
   "execution_count": null,
   "metadata": {},
   "outputs": [],
   "source": [
    "# Dimensiones para cada uno de los arrays\n",
    "print(np.shape(a1))\n",
    "print(np.shape(a2))\n",
    "print(np.shape(a3))"
   ]
  },
  {
   "cell_type": "markdown",
   "metadata": {},
   "source": [
    "Como se puede ver en el primer caso con el método **a.ndim()**, solo se nos muestra la cantidad de dimensiones,pero con el método **a.shape()** se muestran las dimensiones explícitas.\n",
    "\n",
    "Pero incluso podemos realizar operaciones con arrays aunque estas tengan distintas dimensiones y valores en estas dimensiones,ya que operaran solo sobre aquellas dimensiones disponibles.\n"
   ]
  },
  {
   "cell_type": "code",
   "execution_count": null,
   "metadata": {},
   "outputs": [],
   "source": [
    "print(a1*2)"
   ]
  },
  {
   "cell_type": "code",
   "execution_count": null,
   "metadata": {},
   "outputs": [],
   "source": [
    "print(2*a2/a2)"
   ]
  },
  {
   "cell_type": "markdown",
   "metadata": {},
   "source": [
    "De igual forma podríamos realizar operaciones algebraicas con vectores y matrices"
   ]
  },
  {
   "cell_type": "code",
   "execution_count": null,
   "metadata": {},
   "outputs": [],
   "source": [
    "import numpy as np\n",
    "b1=np.array([1,2,3])\n",
    "b2=np.array([1,0,1])\n",
    "\n",
    "#b1.dot(b2) determina el producto escalar entre los vectores b1 y b2\n",
    "print(b1.dot(b2))"
   ]
  },
  {
   "cell_type": "markdown",
   "metadata": {},
   "source": [
    "Asi también podríamos transponer una matriz mediante **a.T**."
   ]
  },
  {
   "cell_type": "code",
   "execution_count": null,
   "metadata": {},
   "outputs": [],
   "source": [
    "import numpy as np\n",
    "a=np.array([[1,2,3],[4,5,6]])\n",
    "\n",
    "print(a)\n",
    "print(a.T)"
   ]
  },
  {
   "cell_type": "markdown",
   "metadata": {},
   "source": [
    "Incluso podemos resolver sistemas de ecuaciones lineales mediante **solve(a,b)**."
   ]
  },
  {
   "cell_type": "code",
   "execution_count": null,
   "metadata": {},
   "outputs": [],
   "source": [
    "import numpy as np\n",
    "\n",
    "# El siguiente es un sistema de 2 ecuaciones lineales con 2 variables\n",
    "#2x+3y=10\n",
    "#4x+5y=8\n",
    "\n",
    "a=np.array([[2,3],[4,5]])\n",
    "b=np.array([10,8])\n",
    "print(np.linalg.solve(a,b))"
   ]
  },
  {
   "cell_type": "markdown",
   "metadata": {},
   "source": [
    "Algunas otras funciones para trabajar con algebra lineal son las siguientes:\n",
    "    \n",
    "<table ><tr><th >Método<th><th>Operación <th><th>Descripción<tr><tr>\n",
    "<tr><td>dot(b)<td><td>Producto escalar<td><td>Determina el producto escalar entre los vectores a y b.<td><tr>\n",
    "<tr><td>norm(a)<td><td>Módulo de un vector<td><td>Determina el módulo del vector v.<td><tr>\n",
    "<tr><td>a.dot(b)<td><td>Producto de 2 matrices<td><td>Determina el producto matricial de las matrices a y b.<td><tr>\n",
    "<tr><td>a.T<td><td>Matriz traspuesta<td><td>Determina la matriz traspuesta de la matriz a.<td><tr>\n",
    "<tr><td>a.trace()<td><td>Traza de una matriz<td><td>Determina la suma diagonal principal de la matriz cuadrada a.<td><tr>\n",
    "<tr><td>det(a)<td><td>Determinante de una matriz<td><td>Entrega el determinante de la matriz a.<td><tr>\n",
    "<tr><td>inv(a)<td><td>Matriz Inversa<td><td>Determina la matriz inversa de la matriz cuadrada a.<td><tr>\n",
    "<tr><td>eigvals(a)<td><td>Autovalores de una matriz<td><td>Determina los autovalores de la matriz cuadrada a.<td><tr>\n",
    "<tr><td>eig(a)<td><td>Autovectores de una matriz<td><td>Determina los autovectores de la matriz cuadrada a.<td><tr>\n",
    "<tr><td>solve(a,b)<td><td>Solución de un sistema de ecuaciones<td><td>Determina la solución de un sistema de ecuaciones lineales.<td><tr><table>\n",
    "\n",
    "\n"
   ]
  },
  {
   "cell_type": "markdown",
   "metadata": {},
   "source": [
    "<a id='Librería Matplotlib'></a>\n",
    "#### Librería Matplotlib \n",
    "\n",
    "[Inicio ▲](#Indice)\n",
    "\n",
    "Ha llegado el momento...🥁  hasta ahora hemos visto la definición de variables de distinto tipo asi como estruturas de datos,entre otros aspectos reelevantes en Python,incluso ya cargamos **Numpy**... nuestra primera libreria.\n",
    "\n",
    "Pero ahora toca el turno de utilizar la librería Matplotlib,la cual esta desarrollada para la creación de gráficos.Cabe destacar que no es la unica librería para desarrollo de gráficos.\n",
    "\n",
    "Alguno de los gráficos que se pueden desarrollar con Matplotlib y que veremos son los siguientes:\n",
    "\n",
    "* Diagramas de dispersión\n",
    "* Diagramas de lineas\n",
    "* Diagramas de cajas\n",
    "* Diagramas de barras\n",
    "* Histograma\n",
    "\n",
    "Uno de los gráficos mas utilizados son los diagramas de dispersión,ya que rapidamente nos permite visualizar como se distribuyen los datos en el espacio.En algunos casos tendremos que utilizar otros gráficos para representar de mejor forma la información,pero es un buen punto de partida. 💡\n"
   ]
  },
  {
   "cell_type": "code",
   "execution_count": null,
   "metadata": {},
   "outputs": [],
   "source": [
    "#Traemos el módulo pyplot de forma abreviada como plt\n",
    "import matplotlib.pyplot as plt\n",
    "\n",
    "#Se crea la figura y los ejes\n",
    "fig,ax=plt.subplots()\n",
    "\n",
    "#Se definen los puntos tanto del eje x como del y donde diagrama\n",
    "ax.scatter(x=[1,1.5,2,2.5,3],y=[1,1.5,2,1.5,1])\n",
    "\n",
    "#Opcionalmente podemos definir el tamaño de la figura\n",
    "fig.set_size_inches(4,4)\n",
    "\n",
    "#Finalmente mostramos el grafico\n",
    "plt.show()\n"
   ]
  },
  {
   "cell_type": "markdown",
   "metadata": {},
   "source": [
    "Sin embargo para realizar algunos gráficos como los ya mencionados,podemos utilizar funciones desarrolladas específicamente para esa tarea,a continuación se muestran:"
   ]
  },
  {
   "cell_type": "markdown",
   "metadata": {},
   "source": [
    "#### Diagramas de dispersión\n",
    "\n",
    "Para desarrollar un diagrama de dispersión,que nos permita visualizar los puntos con coordenadas en los eje x e y,debemos utilizar la función **scatter(x,y)** como en el caso anterior que vimos,pero sin duda que podríamos representar un mayor conjunto de datos."
   ]
  },
  {
   "cell_type": "code",
   "execution_count": null,
   "metadata": {},
   "outputs": [],
   "source": [
    "import matplotlib.pyplot as plt\n",
    "\n",
    "fig,ax=plt.subplots()\n",
    "ax.scatter([1,3,0.5,5,0.4,1.9,2.6],[0.9,3,5,2.5,7.6,4.3,7])\n",
    "\n",
    "#Recordar que la definición del tamaño de la figura es opcional\n",
    "fig.set_size_inches(4,4)\n",
    "\n",
    "plt.show()"
   ]
  },
  {
   "cell_type": "markdown",
   "metadata": {},
   "source": [
    "#### Diagramas de líneas\n",
    "\n",
    "Con el diagrama de líneas buscamos representar nuevamente un conjunto de puntos que tengan coordenadas en x e y,sin embargo además se conectan las distancias entre cada par de puntos sucesivos con la función **plot(x,y)**"
   ]
  },
  {
   "cell_type": "code",
   "execution_count": null,
   "metadata": {},
   "outputs": [],
   "source": [
    "import matplotlib.pyplot as plt\n",
    "\n",
    "fig,ax=plt.subplots()\n",
    "ax.plot([1.5,2,3,4],[1,0.75,1.5,0.5])\n",
    "\n",
    "fig.set_size_inches(4,4)\n",
    "\n",
    "plt.show()"
   ]
  },
  {
   "cell_type": "markdown",
   "metadata": {},
   "source": [
    "#### Diagramas de cajas\n",
    "\n",
    "A diferencia de los gráficos anteriores,en este caso el diagrama de cajas permite visualizar algunos estadísticos relevantes de una muestra.En este caso debemos utilizar la funcion **boxplot(x)**"
   ]
  },
  {
   "cell_type": "code",
   "execution_count": null,
   "metadata": {},
   "outputs": [],
   "source": [
    "import matplotlib.pyplot as plt\n",
    "\n",
    "fig,ax=plt.subplots()\n",
    "ax.boxplot([2.3,4.5,1,8,10,4.5,5.6,7.6,3.4,2.4,20])\n",
    "\n",
    "fig.set_size_inches(4,4)\n",
    "\n",
    "plt.show()"
   ]
  },
  {
   "cell_type": "markdown",
   "metadata": {},
   "source": [
    "#### Diagramas de barras\n",
    "\n",
    "El gráfico de barras nos permite visualizar generalmente 2 ejes,en donde en el **eje y** posicionamos las categorías y en el **eje x** la magnitud contabilizada para cada categoría.\n",
    "\n",
    "Así para desarrollar un diagrama de barras en Python usamos la sintaxis **barh(x,y)**"
   ]
  },
  {
   "cell_type": "code",
   "execution_count": null,
   "metadata": {},
   "outputs": [],
   "source": [
    "import matplotlib.pyplot as plt\n",
    "\n",
    "fig,ax=plt.subplots()\n",
    "ax.barh([1,2,3],[3,2,1])\n",
    "\n",
    "fig.set_size_inches(4,4)\n",
    "\n",
    "plt.show()"
   ]
  },
  {
   "cell_type": "markdown",
   "metadata": {},
   "source": [
    "#### Histograma\n",
    "\n",
    "Finalmente uno de los gráficos mas utilizados en estadística descriptiva e inferencial junto al gráficos de cajas.El histograma nos permite visualizar la distribución de frecuencias una vez que agrupamos los datos en una muestra,cabe destacar que podemos definir la cantidad de columnas que queremos que tenga nuestro diagrama.\n",
    "\n",
    "En este caso utilizaremos ademas la librería **numpy** para utilizar la generación de 1000 números aleatorias mediante una distribución normal con $\\bar{X}=10$ y $\\sigma=0.8$."
   ]
  },
  {
   "cell_type": "code",
   "execution_count": null,
   "metadata": {},
   "outputs": [],
   "source": [
    "import numpy as np\n",
    "import matplotlib.pyplot as plt\n",
    "\n",
    "fig,ax=plt.subplots()\n",
    "x=np.random.normal(10,0.8,1000)\n",
    "ax.hist(x,10)\n",
    "\n",
    "fig.set_size_inches(4,4)\n",
    "\n",
    "plt.show()"
   ]
  },
  {
   "cell_type": "markdown",
   "metadata": {},
   "source": [
    "<a id='Librería Matplotlib'></a>\n",
    "### Librería Plotly \n",
    "\n",
    "[Inicio ▲](#Indice)\n",
    "\n",
    "Asi como vimos con la librería Matplotlib,con Plotly también es posible el desarrollo de gráficos,sin embargo es posible el desarrollo de una mayor cantidad de gráficos que con matplotlib,pudiendo desarrollar gráficos de carácter estadístico,financiero,geográfico,científico y en 3 dimensiones.Cabe destacar que a pesar de presentar una mayor cantidad de graficos solo veremos los principales,ya que gráficos mas avanzandos requieren una mayor sintáxis de código y el uso de otras librerías en algunos casos.\n",
    "\n",
    "Junto a lo anterior Plotly,permite el desarrollo de gráficos interactivos que pueden ser implementados en jupyter notebook como el presente,guardados en formato HTML o incluso en aplicaciones utilizando Dash,Shiny u otros frameworks"
   ]
  },
  {
   "cell_type": "markdown",
   "metadata": {},
   "source": [
    "Asi como con matplotlib comenzamos viendo los gráficos de dispersión,en este caso tambien podemos desarrollar un primer gráfico de este tipo,teniendo la consideración que debemos cargar la libreria **Plotly**"
   ]
  },
  {
   "cell_type": "code",
   "execution_count": null,
   "metadata": {},
   "outputs": [],
   "source": [
    "import plotly.express as px\n",
    "\n",
    "#Se importa el submodulo .offline para luego usar plotly en el documento HTML\n",
    "import plotly.offline as pyo\n",
    "pyo.init_notebook_mode()\n",
    "\n",
    "fig = px.scatter(x=[0, 1, 2, 3, 4], y=[0, 1, 4, 9, 16])\n",
    "fig.show()"
   ]
  },
  {
   "cell_type": "markdown",
   "metadata": {},
   "source": [
    "Si bien visualmente tienen algunas diferencias mínimas los gráficos de dispersión desarrollados con **Matplotlib** y **Plotly**,tal vez uno de sus aspectos mas importantes radica es que al tener una sintáxis muy parecida ademas se incluye la posibilidad de interactuar con el gráfico,mediante herramientas como zoom,recortes e incluso la descarga del gráfico.\n",
    "\n",
    "Algunos otros de los graficos que podemos desarrollar con la libreria Plotly son los siguientes:\n",
    "\n",
    "* Gráficos de líneas\n",
    "* Gráficos de barra\n",
    "* Gráficos de torta\n",
    "* Histogramas\n",
    "* Diagramas de cajas"
   ]
  },
  {
   "cell_type": "markdown",
   "metadata": {},
   "source": [
    "### Gráficos de líneas\n",
    "\n",
    "\n",
    "Asi como vimos con el gráfico de dispersión tambien podemos desarrollar gráficos de líneas en donde podemos visualizar 1 o mas series si fuera necesario,a continuación se muestra la sintáxis para este tipo de gráfico"
   ]
  },
  {
   "cell_type": "code",
   "execution_count": null,
   "metadata": {},
   "outputs": [],
   "source": [
    "import plotly.express as px\n",
    "import pandas as pd\n",
    "\n",
    "fig= px.line(\n",
    "    x = [1, 2, 3, 4],\n",
    "    y = [1, 2, 3, 4]\n",
    ")\n",
    "fig.show()"
   ]
  },
  {
   "cell_type": "markdown",
   "metadata": {},
   "source": [
    "### Gráficos de barra\n",
    "\n",
    "Cuando realizamos un gráfico de barra,en el eje X se ordenan las categorías que queremos visualizar y en el eje y los valores o cantidades para cada una de estas categorías.\n",
    "Para el desarrollo de gráfico consideremos la siguiente tabla:"
   ]
  },
  {
   "cell_type": "markdown",
   "metadata": {},
   "source": [
    "<table ><tr><th >País <th><th> Medallas <th><th> Cantidad<tr><tr>\n",
    "<tr><td> Corea del Sur <td><td> Oro <td><td> 25 <td><tr>\n",
    "<tr><td> China         <td><td> Oro <td><td> 10 <td><tr>\n",
    "<tr><td> Canada        <td><td> Oro <td><td> 9 <td><tr>\n",
    "<tr><td> Corea del Sur <td><td> Plata <td><td> 13 <td><tr>\n",
    "<tr><td> China         <td><td> Plata <td><td> 15 <td><tr>\n",
    "<tr><td> Canada        <td><td> Plata <td><td> 12 <td><tr>\n",
    "<tr><td> Corea del Sur <td><td> Bronce <td><td> 11 <td><tr>\n",
    "<tr><td> China         <td><td> Bronce <td><td> 8 <td><tr>\n",
    "<tr><td> Canada        <td><td> Bronce <td><td> 12 <td><tr><table>\n",
    "    \n"
   ]
  },
  {
   "cell_type": "code",
   "execution_count": null,
   "metadata": {},
   "outputs": [],
   "source": [
    "import plotly.express as px\n",
    "\n",
    "#Aca estamos llamando al set de datos de la tabla,que viene precargado en la librería\n",
    "long_df = px.data.medals_long()\n",
    "\n",
    "fig = px.bar(long_df, x=\"nation\", y=\"count\", color=\"medal\", title=\"Podio de medallas por país\")\n",
    "fig.show()"
   ]
  },
  {
   "cell_type": "markdown",
   "metadata": {},
   "source": [
    "### Gráficos de torta\n",
    "\n",
    "A diferencia de los gráficos anteriores en donde tenemos los ejes x e y como categorías y valores.En el gráfico de torta buscamos representar un set de categorías con sus valores.\n",
    "\n",
    "A continuación se puede ver la sintáxis para construir el gráfico"
   ]
  },
  {
   "cell_type": "code",
   "execution_count": null,
   "metadata": {},
   "outputs": [],
   "source": [
    "import plotly.graph_objects as go\n",
    "\n",
    "labels = ['Oxígeno','Hidrógeno','Dióxido de Carbono','Nitrógeno']\n",
    "values = [4450, 2340, 1124, 670]\n",
    "\n",
    "fig = go.Figure(data=[go.Pie(labels=labels, values=values)])\n",
    "fig.show()"
   ]
  },
  {
   "cell_type": "markdown",
   "metadata": {},
   "source": [
    "### Histogramas\n",
    "\n",
    "En comparación a los gráficos anteriores,el histograma es un diagrama que permite representar las frecuencias acumuladas en una determinada muestra al igual como lo vimos con la librería Matplotlib.\n",
    "\n",
    "En este caso además utilizaremos la librería numpy,para generar una muestra mediante una distribución normal con parámetros $N~(\\bar{X}=80,\\sigma=110)$"
   ]
  },
  {
   "cell_type": "code",
   "execution_count": null,
   "metadata": {},
   "outputs": [],
   "source": [
    "import plotly.express as px\n",
    "import numpy as np\n",
    "\n",
    "data = np.random.normal(100, 2, size=500) # replace with your own data source\n",
    "fig = px.histogram(data, range_x=[90, 110])\n",
    "fig.show()"
   ]
  },
  {
   "cell_type": "markdown",
   "metadata": {},
   "source": [
    "### Diagramas de Cajas\n",
    "\n",
    "El diagrama de caja si bien no es homólogo al histograma,ya que este último no muestra las frecuencias acumuladas.En cambio el diagrama de cajas muestra una visualización condensada de las observaciones,en donde se pueden ver directamente algunos estadísticos relevantes como el $Q_{1}$, $Q_{2}$ o $Mediana$, $Q_{3}$,$Máximo$ y $Mínimo$ además de los outliers.\n",
    "\n",
    "En este caso se muestra la sintáxis para representar una muestra generada con una distribución uniforme $U~(a=50,b=100)$ y además del gráfico de caja se habilita en la función el parametro **points=all** para además graficar todas las observaciones.\n"
   ]
  },
  {
   "cell_type": "code",
   "execution_count": null,
   "metadata": {},
   "outputs": [],
   "source": [
    "import plotly.express as px\n",
    "import pandas as pd\n",
    "\n",
    "data = np.random.uniform(50,100, size=500)\n",
    "fig = px.box(data,points=\"all\")\n",
    "\n",
    "fig.show()"
   ]
  },
  {
   "cell_type": "markdown",
   "metadata": {},
   "source": [
    "<a id='Scikit-Learn'></a>\n",
    "### Scikit-Learn 📀\n",
    "\n",
    "[Inicio ▲](#Indice)\n",
    "\n",
    "La libreria **Scikit-Learn** es un modulo desarrollado en python para el diseño e implementación de modelos de Machine Learning(ML),cabe destacar que hoy en dia el ML abarca desde los modelos inferenciales clasicos hasta los mas avanzados....sin embargo en este curso solo abordaremos algunos de los modelos de inferencia.\n",
    "\n",
    "A pesar de que existen diversas bibliotecas para la implementación de modelos de ML como: TensorFlow,Keras,Pytorch;Scikit-Learn es una de las librerias mas populares utilizadas para modelos de aprendizaje automatico,debido a la amplia variedad de algoritmos de regresión,clasificación,analisis entre grupos,entre otros.\n",
    "\n",
    "A pesar de los distintos modelos que ofrece la biblioteca,solo veremos de forma introductoria 2 de los algoritmos clasicos,correspondientes a:\n",
    "\n",
    "* Regresión Lineal\n",
    "* Regresión Logistica\n"
   ]
  },
  {
   "cell_type": "markdown",
   "metadata": {},
   "source": [
    "### Regresión Lineal\n",
    "\n",
    "Ahora a lo que vinimos... en estadistica inferencial uno de los modelos clasicos,es la regresión lineal,\n",
    "el cual es un modelo matematico que permite crear una relación aproximada entre distintas variables independientes \n",
    "$X_{i}$ y una variable dependiente $Y$,decimos que esta relación es aproximada por que ademas consideramos un termino de error $\\epsilon$ dentro del modelo matematico.De esta forma podemos expresar el modelo de regresión lineal de la siguiente forma:\n",
    "\n",
    "$Y=\\beta_{0}+\\sum_{i=1}^{n}\\beta_{i}X_{i}+\\epsilon=\\beta_{0}+\\beta_{1}X_{1}+...+\\beta_{m}X_{m}+\\epsilon$\n",
    "\n",
    "Cabe destacar que aqui estamos generalizando el modelo de regresion lineal para $n$ variables,por tanto solo cuando la cantidad de variables independientes es $X_{i} \\leq 2$\n",
    "es posible graficar la función lineal,en cambio cuando $2 \\leq X_{i}$ estamos hablando ya de un hiperplano,el cual no es posible graficar pero si podemos realizar cualquier tipo de operación y/o implementación del modelo lineal.\n",
    "\n",
    "\n",
    "\n"
   ]
  },
  {
   "cell_type": "code",
   "execution_count": 43,
   "metadata": {},
   "outputs": [
    {
     "name": "stdout",
     "output_type": "stream",
     "text": [
      "Coeficientes B0 y B1: \n",
      " [-7.10144337] [[1.85843298]]\n",
      "Error Cuadrado medio: 0.74\n",
      "Coeficiente de determinación: 0.76\n"
     ]
    }
   ],
   "source": [
    "import matplotlib.pyplot as plt\n",
    "import numpy as np\n",
    "import pandas as pd\n",
    "\n",
    "from sklearn import datasets, linear_model\n",
    "from sklearn.metrics import mean_squared_error, r2_score\n",
    "\n",
    "# Carga del set de datos iris\n",
    "iris = datasets.load_iris()\n",
    "iris_df=pd.DataFrame(iris.data)\n",
    "\n",
    "# Se asignan los nombres para cada columna del dataset\n",
    "iris_df.columns=['sepal_len', 'sepal_wid', 'petal_len', 'petal_wid']\n",
    "\n",
    "# Se selecciona la variable \"sepal_len\" como la variable independiente y \"petal_len\" como la variable dependiente\n",
    "datos_x = iris_df.iloc[:,[0]]\n",
    "datos_y = iris_df.iloc[:,[2]]\n",
    "\n",
    "# Se crea una instancia de un modelo de regresión lineal\n",
    "regr = linear_model.LinearRegression()\n",
    "\n",
    "\n",
    "# Se ajusta el modelo de regresion lineal con las variables x e y\n",
    "regr.fit(datos_x, datos_y)\n",
    "\n",
    "y_pred = regr.predict(datos_x)\n",
    "\n",
    "# Coefieciente del modelo: $B0 y B1$\n",
    "print(\"Coeficientes B0 y B1: \\n\", regr.intercept_,regr.coef_)\n",
    "# Error cuadrado medio\n",
    "print(\"Error Cuadrado medio: %.2f\" % mean_squared_error(datos_y, y_pred))\n",
    "# Coeficiente de determinación del modelo lineal: \n",
    "print(\"Coeficiente de determinación: %.2f\" % r2_score(datos_y, y_pred))\n",
    "\n"
   ]
  },
  {
   "cell_type": "code",
   "execution_count": 48,
   "metadata": {},
   "outputs": [
    {
     "data": {
      "image/png": "[encoded data removed]",
      "text/plain": [
       "<Figure size 640x480 with 1 Axes>"
      ]
     },
     "metadata": {},
     "output_type": "display_data"
    }
   ],
   "source": [
    "# Dispersion de datos y modelo lineal\n",
    "plt.scatter(datos_x, datos_y, color=\"blue\")\n",
    "plt.plot(datos_x, y_pred, color=\"red\", linewidth=3)\n",
    "\n",
    "plt.xticks(())\n",
    "plt.yticks(())\n",
    "\n",
    "plt.show()"
   ]
  },
  {
   "cell_type": "markdown",
   "metadata": {},
   "source": [
    "### Regresión Logistica\n",
    "\n",
    "A diferencia del modelo de regresion lineal,el modelo de regresion logistica es utilizado para predecir variables categoricas,en función de una o mas variables independientes.Si bien este modelo asi como el de regresión lineal,se enmarcan dentro de la categoria de Modelos Lineales Generalizados y de sus distintas configuraciones que podemos definir,solo nos centraremos en la implementación de un modelo del siguiente tipo: \n",
    "\n",
    "$Y=\\frac{1}{(1+e^-{\\beta_{0}+\\beta_{1} X_{1}+...+\\beta_{n} X_{n}})}$\n",
    "\n",
    "Al igual que para el modelo de regresion lineal,aqui estamos generalizando en modelo de clasificación con $X_{n}$ variables independientes.Sin embargo el modelo que implementaremos a continuación solo considera 4 variables independientes y 3 categorias en la variable dependiente $Y$.\n",
    "\n",
    "\n"
   ]
  },
  {
   "cell_type": "code",
   "execution_count": 66,
   "metadata": {},
   "outputs": [],
   "source": [
    "from sklearn.linear_model import LogisticRegression\n",
    "from sklearn.metrics import accuracy_score, classification_report, confusion_matrix\n",
    "\n",
    "import warnings\n",
    "\n",
    "# Se ignoran las advertencias\n",
    "warnings.filterwarnings(\"ignore\")\n",
    "\n",
    "# Se carga set de datos iris\n",
    "data = datasets.load_iris()\n",
    "x = data.data\n",
    "y = data.target\n",
    "\n",
    "# Se crea una instancia de un modelo de regresión logística\n",
    "modelo = LogisticRegression()\n",
    "\n",
    "# Se ajusta el modelo a los datos\n",
    "modelo.fit(x, y)\n",
    "\n",
    "# Se realizan las predicciones\n",
    "y_pred = modelo.predict(x)\n"
   ]
  },
  {
   "cell_type": "code",
   "execution_count": 68,
   "metadata": {},
   "outputs": [
    {
     "name": "stdout",
     "output_type": "stream",
     "text": [
      "Precisión del modelo: 0.9733333333333334\n",
      "Matriz de confusión:\n",
      "[[50  0  0]\n",
      " [ 0 47  3]\n",
      " [ 0  1 49]]\n",
      "Informe de clasificación:\n",
      "              precision    recall  f1-score   support\n",
      "\n",
      "           0       1.00      1.00      1.00        50\n",
      "           1       0.98      0.94      0.96        50\n",
      "           2       0.94      0.98      0.96        50\n",
      "\n",
      "    accuracy                           0.97       150\n",
      "   macro avg       0.97      0.97      0.97       150\n",
      "weighted avg       0.97      0.97      0.97       150\n",
      "\n"
     ]
    }
   ],
   "source": [
    "# Calcular la precisión del modelo\n",
    "accuracy = accuracy_score(y, y_pred)\n",
    "print(\"Precisión del modelo:\", accuracy)\n",
    "\n",
    "# Mostrar la matriz de confusión\n",
    "confusion = confusion_matrix(y, y_pred)\n",
    "print(\"Matriz de confusión:\")\n",
    "print(confusion)\n",
    "\n",
    "# Mostrar un informe de clasificación\n",
    "report = classification_report(y, y_pred)\n",
    "print(\"Informe de clasificación:\")\n",
    "print(report)\n"
   ]
  },
  {
   "cell_type": "markdown",
   "metadata": {},
   "source": [
    "Y llegamos al final de este curso introductorio con Python para Data Science.Este curso presenta una guía práctica de como empezar a trabajar con Python desde un punto de vista funcional,hay algunos conceptos que no se consideran en este curso pero que si se abordaran en cursos posteriores en donde se profundizara mucho más en temas como Programación Orientada a objetos,Algoritmos,Desarrollo de visualizaciones e incluso otros Modelos de Machine Learning. \n",
    "\n",
    "Ante cualquier duda o comentario me puedes escribir a jvenegasg@docente.uss.cl o j.venegasgutierrez@gmail.com\n",
    "\n",
    "Saludos 🧭"
   ]
  }
 ],
 "metadata": {
  "kernelspec": {
   "display_name": "Python 3 (ipykernel)",
   "language": "python",
   "name": "python3"
  },
  "language_info": {
   "codemirror_mode": {
    "name": "ipython",
    "version": 3
   },
   "file_extension": ".py",
   "mimetype": "text/x-python",
   "name": "python",
   "nbconvert_exporter": "python",
   "pygments_lexer": "ipython3",
   "version": "3.10.7"
  },
  "toc-autonumbering": true,
  "toc-showcode": false,
  "toc-showmarkdowntxt": false,
  "toc-showtags": false,
  "vscode": {
   "interpreter": {
    "hash": "26de051ba29f2982a8de78e945f0abaf191376122a1563185a90213a26c5da77"
   }
  }
 },
 "nbformat": 4,
 "nbformat_minor": 4
}
