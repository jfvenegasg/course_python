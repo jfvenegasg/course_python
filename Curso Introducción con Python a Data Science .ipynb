{
 "cells": [
  {
   "cell_type": "markdown",
   "metadata": {
    "slideshow": {
     "slide_type": "slide"
    },
    "tags": []
   },
   "source": [
    "# Bienvenido al curso Introducción con Python a Data Science"
   ]
  },
  {
   "cell_type": "markdown",
   "metadata": {},
   "source": [
    "<center>\n",
    "<img src=https://www.palermo.edu/Archivos_content/2021/negocios/julio/data/datascience-640.jpg>"
   ]
  },
  {
   "cell_type": "markdown",
   "metadata": {},
   "source": [
    "## Objetivos"
   ]
  },
  {
   "cell_type": "markdown",
   "metadata": {},
   "source": [
    "* Reconocer los usos del lenguaje python para sus usos en data science\n",
    "* Comprender los conceptos y funcionalidades básicas\n",
    "* Desarrollo de código para su posterior uso\n"
   ]
  },
  {
   "cell_type": "markdown",
   "metadata": {
    "tags": []
   },
   "source": [
    "<a id='Indice'></a>\n",
    "## Indice\n",
    "[Inicio ▲](#Indice)\n",
    "\n",
    "1. [Hola Python](#Hola-Python)\n",
    "1. [Funciones](#Funciones)\n",
    "1. [Booleanos y condicionales](#Booleanos-y-condicionales)\n",
    "1. [Listas](#Listas)\n",
    "1. [Ciclos](#Ciclos)\n",
    "1. [Diccionarios](#Diccionarios)\n",
    "1. [Trabajando con librerias](#Trabajando-con-librerias)\n"
   ]
  },
  {
   "cell_type": "markdown",
   "metadata": {},
   "source": [
    "<a id='Hola-Python'></a>\n",
    "### Hola Python 🚀\n",
    "\n",
    "[Inicio ▲](#Indice)\n",
    "\n",
    "Este curso introductorio cubre los aspectos básicos del lenguaje que necesitas para iniciar en el área de Data Science con Python.Este curso esta dedicado principalmente para aquellos que ya tienen alguna experiencia con código o incluso otro lenguaje como R,Julia,Matlab,entre otros.\n",
    "\n",
    "Primero comenzaremos con la sintáxis de Python,asi como la asignación de variables y operaciones aritméticas.\n",
    "\n",
    "Generalmente en un proyecto de data science,necesitamos exponer resultados de modelos,graficos y/o analisis.De esta forma un primer mensaje que podria desarrollar,seria que nuestro proyecto fue exitoso,para esto debemos definir la variable en donde guardaremos el mensaje \"El proyecto fue exitoso\"."
   ]
  },
  {
   "cell_type": "code",
   "execution_count": 1,
   "metadata": {},
   "outputs": [
    {
     "name": "stdout",
     "output_type": "stream",
     "text": [
      "El proyecto fue éxitoso\n"
     ]
    }
   ],
   "source": [
    "mensaje=\"El proyecto fue éxitoso\"\n",
    "print(mensaje)"
   ]
  },
  {
   "cell_type": "markdown",
   "metadata": {},
   "source": [
    "Como pueden ver exponer resultados en python,no es tan dificil como podriamos pensar.\n",
    "\n",
    "Asi como en bloque de codigo anterior,en Python se puede trabajar con distintos tipos de variables:Númericas,String,entre otros subtipos.Pero cabe destacar que cuando hablamos de variables numericas,con ellas podemos realizar todo tipo de operaciones aritmeticas y con las variables de tipo String podemos generar textos que muestren la salida de un proceso exitoso o incluso generar documentación.\n",
    "\n",
    "A continuación podemos ver un ejemplo de una variable numerica que almacena el valor 25 y un variable de tipo string que guarda el texto \"Esta es mi edad\""
   ]
  },
  {
   "cell_type": "code",
   "execution_count": 2,
   "metadata": {},
   "outputs": [],
   "source": [
    "numero=25\n",
    "frase=\"Esta es mi edad\""
   ]
  },
  {
   "cell_type": "markdown",
   "metadata": {},
   "source": [
    "Sin embargo podriamos trabajar con ambas variables en conjunto y mostrarlo como una salida,como se muestra continuación con la variable print()"
   ]
  },
  {
   "cell_type": "code",
   "execution_count": 3,
   "metadata": {},
   "outputs": [
    {
     "name": "stdout",
     "output_type": "stream",
     "text": [
      "Esta es mi edad 25\n"
     ]
    }
   ],
   "source": [
    "print(frase,numero)"
   ]
  },
  {
   "cell_type": "markdown",
   "metadata": {},
   "source": [
    "Ya hemos visto dos tipos de variables,sin embargo si tenemos dudas acerca de la definción podemos verificar esto."
   ]
  },
  {
   "cell_type": "code",
   "execution_count": 4,
   "metadata": {},
   "outputs": [
    {
     "data": {
      "text/plain": [
       "int"
      ]
     },
     "execution_count": 4,
     "metadata": {},
     "output_type": "execute_result"
    }
   ],
   "source": [
    "type(numero)"
   ]
  },
  {
   "cell_type": "code",
   "execution_count": 5,
   "metadata": {},
   "outputs": [
    {
     "data": {
      "text/plain": [
       "str"
      ]
     },
     "execution_count": 5,
     "metadata": {},
     "output_type": "execute_result"
    }
   ],
   "source": [
    "type(frase)"
   ]
  },
  {
   "cell_type": "markdown",
   "metadata": {},
   "source": [
    "Como podemos ver en la salida del bloque,la variable que almacena el valor numero es de tipo **\"int\"**,esto es una abreviación para **\"integer\"** o **\"entero\"**,en cambio para la variable frase el tipo es **\"str\"** haciendo referencia a **\"string\"** o cadena de texto. Sin embargo,tambien podriamos definir una variable que almacene un valor numerico como texto,en este caso no podriamos realizar operaciones aritmeticas con el"
   ]
  },
  {
   "cell_type": "code",
   "execution_count": 6,
   "metadata": {},
   "outputs": [
    {
     "name": "stdout",
     "output_type": "stream",
     "text": [
      "La variable otro_numero,almacena el valor 30.2\n"
     ]
    }
   ],
   "source": [
    "otro_numero=\"30.2\"\n",
    "type(otro_numero)\n",
    "\n",
    "print(\"La variable otro_numero,almacena el valor\",otro_numero)"
   ]
  },
  {
   "cell_type": "markdown",
   "metadata": {},
   "source": [
    "Sin embargo si quisieramos trabajar con variables numéricas con valores decimales como **\"30.2\"** **\"23.4\"** u otros podemos definir variable de tipo float. "
   ]
  },
  {
   "cell_type": "code",
   "execution_count": 7,
   "metadata": {},
   "outputs": [
    {
     "name": "stdout",
     "output_type": "stream",
     "text": [
      "La variable numero_decimal,tiene el valor  30.2 y es de tipo <class 'float'>\n"
     ]
    }
   ],
   "source": [
    "numero_decimal=30.2\n",
    "\n",
    "print(\"La variable numero_decimal,tiene el valor \",numero_decimal,\n",
    "      \"y es de tipo\",type(numero_decimal))"
   ]
  },
  {
   "cell_type": "markdown",
   "metadata": {},
   "source": [
    "De esta forma si quisieramos realizar operaciones matematicas con variables de tipo entero o float,se debe ocupar la siguiente sintaxis.\n",
    "\n",
    "| Sintaxis | Operación | Descripción |\n",
    "| -- | -- | -- |\n",
    "| x + y  | Adición     | La suma de x e y |\n",
    "| x - y  | Sustracción | La diferencia entre x e y |\n",
    "| x * y  | Multiplicación | El producto entre x e y |\n",
    "| x / y  | División       | El cuociente entre x e y. |\n",
    "| x %  y | Modulo  | El valor entero restante,luego de dividir x entre y. |\n",
    "| x ** y | Potenciación | El resultado de elevar x a y. |\n",
    "| -x     | Negación | El valor negativo de x. |"
   ]
  },
  {
   "cell_type": "markdown",
   "metadata": {},
   "source": [
    "De acuerdo a lo anterior,podriamos realizar algunas operaciones básicas como suma,resta,división y multiplicación...definiendo previamente las variables x e y."
   ]
  },
  {
   "cell_type": "code",
   "execution_count": 8,
   "metadata": {},
   "outputs": [],
   "source": [
    "x=10\n",
    "y=2"
   ]
  },
  {
   "cell_type": "code",
   "execution_count": 9,
   "metadata": {},
   "outputs": [
    {
     "name": "stdout",
     "output_type": "stream",
     "text": [
      "12\n"
     ]
    }
   ],
   "source": [
    "print(x+2)"
   ]
  },
  {
   "cell_type": "code",
   "execution_count": 10,
   "metadata": {},
   "outputs": [
    {
     "name": "stdout",
     "output_type": "stream",
     "text": [
      "8\n"
     ]
    }
   ],
   "source": [
    "print(x-2)"
   ]
  },
  {
   "cell_type": "code",
   "execution_count": 11,
   "metadata": {},
   "outputs": [
    {
     "name": "stdout",
     "output_type": "stream",
     "text": [
      "5.0\n"
     ]
    }
   ],
   "source": [
    "print(x/2)"
   ]
  },
  {
   "cell_type": "code",
   "execution_count": 12,
   "metadata": {},
   "outputs": [
    {
     "name": "stdout",
     "output_type": "stream",
     "text": [
      "20\n"
     ]
    }
   ],
   "source": [
    "print(x*y)"
   ]
  },
  {
   "cell_type": "markdown",
   "metadata": {},
   "source": [
    "Pero tambien podriamos realizar algunos cálculos un poco mas complejo,como determinar volumenes de cubo,conos,u otras figuras.\n"
   ]
  },
  {
   "cell_type": "code",
   "execution_count": 13,
   "metadata": {},
   "outputs": [
    {
     "name": "stdout",
     "output_type": "stream",
     "text": [
      "Un cubo tiene un volumen de: 125 cm^3\n"
     ]
    }
   ],
   "source": [
    "lado=5\n",
    "print(\"Un cubo tiene un volumen de:\",lado**3,\"cm^3\")"
   ]
  },
  {
   "cell_type": "code",
   "execution_count": 14,
   "metadata": {},
   "outputs": [
    {
     "name": "stdout",
     "output_type": "stream",
     "text": [
      "El volumen de un paralelelipide es de:  56 cm^3\n"
     ]
    }
   ],
   "source": [
    "alto=2\n",
    "ancho=4\n",
    "largo=7\n",
    "\n",
    "print(\"El volumen de un paralelelipide es de: \",alto*ancho*largo,\"cm^3\")"
   ]
  },
  {
   "cell_type": "markdown",
   "metadata": {},
   "source": [
    "<a id='Funciones'></a>\n",
    "### Funciones 🎸\n",
    "\n",
    "[Inicio ▲](#Indice)\n",
    "\n",
    "Asi como en la sección anterior vimos como definir,manipular algunos tipos de variables e incluso definir algunas formulas,en otros casos necesitaremos definir procedimientos más complejos y/o que requieren de varios pasos para su ejecución y para esto utilizaremos la definición de funciones,las cuales las podemos utilizar cada ves deseemos.\n",
    "\n",
    "Podriamos definir una función simple que imprima por pantalla algunos valores\n"
   ]
  },
  {
   "cell_type": "code",
   "execution_count": 15,
   "metadata": {},
   "outputs": [
    {
     "name": "stdout",
     "output_type": "stream",
     "text": [
      "Buen dia:  juan su saldo en cuenta es de: 100\n"
     ]
    }
   ],
   "source": [
    "def mi_funcion1(nombre):\n",
    "    \"Esta es la ayuda de la funcion\"\n",
    "    \n",
    "    saldo=100\n",
    "    return print(\"Buen dia: \",nombre,\"su saldo en cuenta es de:\",saldo)\n",
    "\n",
    "mi_funcion1(nombre=\"juan\")"
   ]
  },
  {
   "cell_type": "markdown",
   "metadata": {},
   "source": [
    "Toda funcion en Python,parte con la palabra reservada **def**,luego el nombre que en este caso es **mi_funcion1** y dentro de parentesis las variables que acepta la funcion.Una vez que la variable acepta la variable nombre,se genera un saldo de 100 y se guarda en la variable saldo,finalmente la funcion retorna un mensaje para el usuario.\n",
    "\n",
    "Sin embargo, si queremos saber un poco mas acerca de la función podemos llamar a la ayuda de esta con la funcion **help()**"
   ]
  },
  {
   "cell_type": "code",
   "execution_count": 16,
   "metadata": {},
   "outputs": [
    {
     "name": "stdout",
     "output_type": "stream",
     "text": [
      "Help on function mi_funcion1 in module __main__:\n",
      "\n",
      "mi_funcion1(nombre)\n",
      "    Esta es la ayuda de la funcion\n",
      "\n"
     ]
    }
   ],
   "source": [
    "help(mi_funcion1)"
   ]
  },
  {
   "cell_type": "markdown",
   "metadata": {},
   "source": [
    "En este caso no se entrega información,por que dentro de la función no existe.Sin embargo,podemos crear la descripción de la función utilizando dentro de ella la triple comillas **\"\"\"**"
   ]
  },
  {
   "cell_type": "code",
   "execution_count": 17,
   "metadata": {},
   "outputs": [
    {
     "name": "stdout",
     "output_type": "stream",
     "text": [
      "Help on function mi_funcion1 in module __main__:\n",
      "\n",
      "mi_funcion1(nombre)\n",
      "    Esta es la ayuda de la funcion.Esta función genera un \n",
      "    mensaje de salida con el nombre que se le entrega y el saldo que \n",
      "    por defecto se encuentra en 100\n",
      "\n"
     ]
    }
   ],
   "source": [
    "def mi_funcion1(nombre):\n",
    "    \"\"\"Esta es la ayuda de la funcion.Esta función genera un \n",
    "    mensaje de salida con el nombre que se le entrega y el saldo que \n",
    "    por defecto se encuentra en 100\"\"\"\n",
    "    \n",
    "    saldo=100\n",
    "    return print(\"Buen dia: \",nombre,\"su saldo en cuenta es de:\",saldo)\n",
    "\n",
    "help(mi_funcion1)"
   ]
  },
  {
   "cell_type": "markdown",
   "metadata": {},
   "source": [
    "A diferencia del códgio anterior, ahora si se muestra de forma explícita que es lo que hace la función, lo cual se agrego en la nueva definición de la función **\"mi_función1\"**.\n",
    "\n",
    "Pero tambien podemos definir funciones que realicen algunas operaciones mas extensas,asi como operaciones matematicas que tomen distintos valores segun las variables que se le definan a la función.\n",
    "\n",
    "En este caso la funcion **diferencia**,determina las diferencias absolutas que existen entre 3 variables **a**,**b** y **c**.Asi, las diferencias se determinan al interior de la función y luego se retornan junto al texto que muestra entre que pares de variables se determinan las diferencias,cabe destacar que para esta función tambien se escribio la ayuda."
   ]
  },
  {
   "cell_type": "code",
   "execution_count": 18,
   "metadata": {},
   "outputs": [
    {
     "name": "stdout",
     "output_type": "stream",
     "text": [
      "Help on function diferencia in module __main__:\n",
      "\n",
      "diferencia(a, b, c)\n",
      "    Esta funcion retorna la diferencia entre 3 valores que se le entregan\n",
      "\n",
      "La diferencia entre a y b es 10 La diferencia entre a y c es 20 y la diferencia entre b y c es 10\n"
     ]
    }
   ],
   "source": [
    "def diferencia(a,b,c):\n",
    "    \"\"\" Esta funcion retorna la diferencia entre 3 valores que se le entregan\"\"\"\n",
    "    dif1=abs(a-b)\n",
    "    dif2=abs(a-c)\n",
    "    dif3=abs(b-c)\n",
    "    return print(\"La diferencia entre a y b es\",dif1,\"La diferencia entre a y c es\",dif2,\"y la diferencia entre b y c es\",dif3)\n",
    "\n",
    "help(diferencia)\n",
    "\n",
    "diferencia(10,20,30)"
   ]
  },
  {
   "cell_type": "markdown",
   "metadata": {},
   "source": [
    "#### Funciones aplicadas a otras funciones\n",
    "\n",
    "Pero aún podemos complicar las funciones un poco mas...En muchos casos utilizaremos funciones para tareas especificas,pero en otros podriamos necesitar aplicar a una función otra función de forma inmediata,de esa forma a la salida de la primera se le aplicara una nueva función.Si creamos una primera función multi_1(x), la que multiplica por 2 el valor de entrada podriamos modificar la salida con una nueva función multi_2(fn)"
   ]
  },
  {
   "cell_type": "code",
   "execution_count": 19,
   "metadata": {},
   "outputs": [
    {
     "data": {
      "text/plain": [
       "60"
      ]
     },
     "execution_count": 19,
     "metadata": {},
     "output_type": "execute_result"
    }
   ],
   "source": [
    "def multi_1(x=2):\n",
    "    \"\"\"Esta primera función solo multiplica por 2 la variable de entrada,por defecto el valor de entrada esta fijado en 2\"\"\"\n",
    "    y=x*2\n",
    "    return y\n",
    "\n",
    "def multi_2(fn):\n",
    "    \"\"\" Esta funcion toma la salida de otra funcion y la multiplica por 2\"\"\"\n",
    "    z=fn*3\n",
    "    return z\n",
    "\n",
    "\n",
    "multi_2(multi_1(10))\n"
   ]
  },
  {
   "cell_type": "markdown",
   "metadata": {},
   "source": [
    "Asi podemos llamar a una función dentro de otra,en este caso al dar el valor de entrada como 10 a la función **multi_1()**,esta lo multiplica por 10 y devuelve un 20.Asi luego este valor 20 lo toma la función **multi_2()** y lo multiplica por **3**,obteniendo asi el valor **60** que se muestra por pantalla."
   ]
  },
  {
   "cell_type": "markdown",
   "metadata": {},
   "source": [
    "<a id='Booleanos-y-condicionales'></a>\n",
    "### Booleanos y condicionales 🕹\n",
    "\n",
    "[Inicio ▲](#Indice)\n",
    "\n",
    "Ya vimos que en python existen distintos tipos de variables como \"integer\" y \"string\",pero no siempre trabajaremos con números o texto.Podemos utilizar las variables **\"bool\"**,las cuales tienen 2 posibles valores **\"True\"** o **\"False\"**.\n",
    "\n",
    "Estas variables las podemos obtener como salida de otras funciones,pero tambien podemos definir y validar este tipo de variable cada vez que sea necesario."
   ]
  },
  {
   "cell_type": "code",
   "execution_count": 20,
   "metadata": {},
   "outputs": [
    {
     "name": "stdout",
     "output_type": "stream",
     "text": [
      "True\n",
      "<class 'bool'>\n"
     ]
    }
   ],
   "source": [
    "x=True\n",
    "print(x)\n",
    "print(type(x))\n"
   ]
  },
  {
   "cell_type": "markdown",
   "metadata": {},
   "source": [
    "En este caso podemos ver que el valor de x,es **\"Verdadero\"** y al validar el tipo de variables que es x,nos devuelve por pantalla que es **\"bool\"** o \"booleano\".\n",
    "\n",
    "Tambien podemos definir otras variables y verificar si sus valores son iguales o distintos."
   ]
  },
  {
   "cell_type": "code",
   "execution_count": 21,
   "metadata": {},
   "outputs": [
    {
     "data": {
      "text/plain": [
       "False"
      ]
     },
     "execution_count": 21,
     "metadata": {},
     "output_type": "execute_result"
    }
   ],
   "source": [
    "y=False\n",
    "\n",
    "x==y"
   ]
  },
  {
   "cell_type": "markdown",
   "metadata": {},
   "source": [
    "En este caso al definir una nueva variable *y* como **\"False\"**,podemos observar que al verificar con el signo **\"==\"** si son iguales,se nos devuelve el valor \"False\",debido a que x tiene asignado el valor **Verdadero** en cambio y tiene asignado el valor **Falso**.\n",
    "\n",
    "Sin embargo podemos utilizar varios operadores entre variables booleanas según corresponda.\n",
    "\n",
    "| Operación | Descripción |\n",
    "| -- | -- |\n",
    "|x == y|x es igual y||\n",
    "|x < y|x es menor y| |\n",
    "|x <= y|x es menor o igual que y||\n",
    "|x != y|x no es igual a y||\n",
    "|x > y|x es mayor que y||\n",
    "|x >= y|x es mayor o igual que y||\n",
    "\n",
    "Asi podemos integrar este tipo de variables y las operaciones ya definidas en alguna función que realice algun otro procedimiento mas extenso.\n"
   ]
  },
  {
   "cell_type": "code",
   "execution_count": 22,
   "metadata": {},
   "outputs": [
    {
     "name": "stdout",
     "output_type": "stream",
     "text": [
      "Su saldo es de 100\n"
     ]
    }
   ],
   "source": [
    "def cajero(tarjeta):\n",
    "    \"\"\" La función permite validar si el tarjeta tiene saldo o no \"\"\"\n",
    "    \n",
    "    saldo=100\n",
    "    if tarjeta==True:\n",
    "        return print(\"Su saldo es de\",saldo)\n",
    "    else: \n",
    "        return print(\"No se puede verificar su saldo en este momento\")\n",
    "              \n",
    "\n",
    "cajero(tarjeta=True)\n",
    "\n"
   ]
  },
  {
   "cell_type": "markdown",
   "metadata": {},
   "source": [
    "Asi se puede verificar que si la variable **tarjeta** tiene el valor **verdadero** en el cajero,la función cajero devuelve el mensaje **\"Su saldo es de 100\"** y en caso contrario no puede validar el saldo."
   ]
  },
  {
   "cell_type": "markdown",
   "metadata": {},
   "source": [
    "## Funciones y condiciones\n",
    "\n",
    "Como vimos en el código anterior podemos verificar el valor asignado a una variable numérica,booleana o string,mediante un operador y una condición. Esto debido a que si una variable cumple cierta condición,se ejecuta un bloque de código,sino se ejecuta otro bloque de código.\n",
    "\n",
    "Aunque también podemos verificar si se cumple mas de una condición, como en la siguiente función inspector."
   ]
  },
  {
   "cell_type": "code",
   "execution_count": 23,
   "metadata": {},
   "outputs": [
    {
     "name": "stdout",
     "output_type": "stream",
     "text": [
      "0 Es cero\n",
      "-10 Es negativo\n"
     ]
    }
   ],
   "source": [
    "def inspector(x):\n",
    "    if x==0:\n",
    "        print(x,\"Es cero\")\n",
    "    elif x>0:\n",
    "        print(x,\"Es positivo\")\n",
    "    else: \n",
    "        print(x,\"Es negativo\")\n",
    "\n",
    "inspector(0)\n",
    "inspector(-10)\n",
    "\n",
    "\n"
   ]
  },
  {
   "cell_type": "markdown",
   "metadata": {},
   "source": [
    "En este caso la función una vez que se le entrega un valor numérico,es capaz de determinar *si es igual a 0*,*mayor a 0* o incluso *si es menor que 0*.\n",
    "\n",
    "Esto se realiza mediante la condición **if**,en donde esta condición if verifica que se cumpla la condición **x==0**,sino se cumple se utiliza la verificación de que sea mayor a 0 con **elif** y si no se cumple ninguna de las 2 anteriores se ejecuta el ultimo bloque de código correspondiente al **print(x,\"Es negativo\")**.\n",
    "\n",
    "Algunas ultimas consideraciones para las variables booleanas.Podemos convertir casi cualquier tipo de dato a una variable booleana,de esta forma todo valor positivo o texto no vacio sera considerado en Python como un valor Verdadero y el valor 0 o texto vacío como Falso,como en el siguiente caso."
   ]
  },
  {
   "cell_type": "code",
   "execution_count": 24,
   "metadata": {},
   "outputs": [
    {
     "name": "stdout",
     "output_type": "stream",
     "text": [
      "True\n",
      "True\n",
      "False\n",
      "False\n"
     ]
    }
   ],
   "source": [
    "print(bool(12))\n",
    "print(bool(\"hola\"))\n",
    "print(bool(0))\n",
    "print(bool(\"\"))"
   ]
  },
  {
   "cell_type": "markdown",
   "metadata": {},
   "source": [
    "<a id='Listas'></a>\n",
    "### Listas 🏗\n",
    "\n",
    "[Inicio ▲](#Indice)\n",
    "\n",
    "Las listas en python son una estructura de datos similar a lo que hacemos con las variables que ya conocemos,pero nos permiten realizar operaciones mas complejas.\n",
    "\n",
    "De esta forma en una lista podemos almacenar una secuencia de valores, como las listas generadas para las variables **primos** y **días** a continuación."
   ]
  },
  {
   "cell_type": "code",
   "execution_count": 25,
   "metadata": {},
   "outputs": [],
   "source": [
    "primos=[2,3,5,7]\n",
    "\n",
    "dias=[\"Lunes\",\"Martes\",\"Miercoles\",\"Jueves\",\"Viernes\"]"
   ]
  },
  {
   "cell_type": "markdown",
   "metadata": {},
   "source": [
    "Como se puede ver ambas son listas, sin embargo en la primera almacenamos solo valores númericos y en la segunda se guardan string.\n",
    "\n",
    "Pero lo podemos llevar un poco más allá y crear una lista de listas 👀"
   ]
  },
  {
   "cell_type": "code",
   "execution_count": 26,
   "metadata": {},
   "outputs": [],
   "source": [
    "cartas=[[\"j\",\"q\",\"k\"],[2,3,5],[5,\"A\",\"K\"]]"
   ]
  },
  {
   "cell_type": "markdown",
   "metadata": {},
   "source": [
    "En este caso generamos una lista compuesta por **3 listas**,sin embargo cada una de estas listas es diferente.La primera solo contiene valores **string**,la segunda solo valores **numericos** y la tercera contiene tanto valores numericos como string.\n",
    "\n",
    "Ya que tenemos una lista que tiene una estructura mas extensa,podriamos querer seleccionar alguno de sus valores y no siempre tratar con la lista **cartas** completa.Asi podriamos seleccionar "
   ]
  },
  {
   "cell_type": "code",
   "execution_count": 27,
   "metadata": {},
   "outputs": [
    {
     "name": "stdout",
     "output_type": "stream",
     "text": [
      "[2, 3, 5]\n",
      "[5, 'A', 'K']\n"
     ]
    }
   ],
   "source": [
    "print(cartas[1])\n",
    "\n",
    "print(cartas[2])"
   ]
  },
  {
   "cell_type": "markdown",
   "metadata": {},
   "source": [
    "Asi podemos seleccionar la segunda lista de cartas o incluso seleccionar la tercera lista de cartas.Pero incluso podriamos seleccionar uno de los elementos de estas listas como en el siguiente bloque."
   ]
  },
  {
   "cell_type": "code",
   "execution_count": 28,
   "metadata": {},
   "outputs": [
    {
     "name": "stdout",
     "output_type": "stream",
     "text": [
      "2\n",
      "K\n"
     ]
    }
   ],
   "source": [
    "print(cartas[1][0])\n",
    "\n",
    "print(cartas[2][2])"
   ]
  },
  {
   "cell_type": "markdown",
   "metadata": {},
   "source": [
    "Ahi se puede ver como podemos seleccionar el primer elemento de la segunda lista obteniendo el valor de **2** o seleccionar el tercer elemento de la tercera lista obteniendo el string **K**.\n",
    "\n",
    "Pero si una vez que definimos la lista carta,queremos agregar una nueva mano...perdon una nueva lista,podemos hacerlo con la siguiente asignación."
   ]
  },
  {
   "cell_type": "code",
   "execution_count": 29,
   "metadata": {},
   "outputs": [
    {
     "data": {
      "text/plain": [
       "[['A', 'J', 'Q'], [2, 3, 5], [5, 'A', 'K']]"
      ]
     },
     "execution_count": 29,
     "metadata": {},
     "output_type": "execute_result"
    }
   ],
   "source": [
    "cartas[0]=[\"A\",\"J\",\"Q\"]\n",
    "\n",
    "cartas"
   ]
  },
  {
   "cell_type": "markdown",
   "metadata": {},
   "source": [
    "Ahora como era de esperar,también podemos utilizar algunas funciones sobre estas listas.En este caso podriamos querer determinar la cantidad de días que tiene la variable días 😅...o incluso ordenar los días de forma alfabetica ...o incluso operaciones matemáticas como la suma de los números primos o determinar el maximo de ellos."
   ]
  },
  {
   "cell_type": "code",
   "execution_count": 30,
   "metadata": {},
   "outputs": [
    {
     "name": "stdout",
     "output_type": "stream",
     "text": [
      "5\n",
      "['Jueves', 'Lunes', 'Martes', 'Miercoles', 'Viernes']\n",
      "17\n",
      "7\n"
     ]
    }
   ],
   "source": [
    "# Cuantos dias hay en una semana\n",
    "print(len(dias))\n",
    "\n",
    "# Ordenar los dias de forma alfabetica\n",
    "print(sorted(dias))\n",
    "\n",
    "# suma de los numeros primos\n",
    "print(sum(primos))\n",
    "\n",
    "# maximo de los numeros primos\n",
    "print(max(primos))"
   ]
  },
  {
   "cell_type": "markdown",
   "metadata": {},
   "source": [
    "#### Métodos\n",
    "\n",
    "A diferencia de las funciones que ya vienen creadas en python o las que podemos definir nosotros.También existen métodos que vienen ya creados en python **Built-in**,los que sin embargo dependen del tipo de variable con la que estemos trabajando\n",
    "\n",
    "Algunas de los métodos que ya vienven construidos en Python para distintos tipos de variables:\n",
    "|Método|Descripción|\n",
    "|--|--|\n",
    "|capitalize()|Convierte en mayuscula la primera letra del string.|\n",
    "|index()|Busca la posición de un caracter y la devuelve.|\n",
    "|split()|Divide un string,según el separador que se indique y lo convierte en lista.|\n",
    "|upper()|Convierte todas las letras de un string en mayusculas.|\n",
    "|lower()|Convierte todas las letras de un string en minusculas.|"
   ]
  },
  {
   "cell_type": "code",
   "execution_count": 31,
   "metadata": {},
   "outputs": [
    {
     "data": {
      "text/plain": [
       "'Este es un texto de prueba'"
      ]
     },
     "execution_count": 31,
     "metadata": {},
     "output_type": "execute_result"
    }
   ],
   "source": [
    "texto=\"este es un texto de prueba\"\n",
    "texto.capitalize()"
   ]
  },
  {
   "cell_type": "code",
   "execution_count": 32,
   "metadata": {},
   "outputs": [
    {
     "data": {
      "text/plain": [
       "11"
      ]
     },
     "execution_count": 32,
     "metadata": {},
     "output_type": "execute_result"
    }
   ],
   "source": [
    "texto.index(\"texto\")"
   ]
  },
  {
   "cell_type": "code",
   "execution_count": 33,
   "metadata": {},
   "outputs": [
    {
     "data": {
      "text/plain": [
       "['este', 'es', 'un', 'texto', 'de', 'prueba']"
      ]
     },
     "execution_count": 33,
     "metadata": {},
     "output_type": "execute_result"
    }
   ],
   "source": [
    "texto.split()"
   ]
  },
  {
   "cell_type": "code",
   "execution_count": 34,
   "metadata": {},
   "outputs": [
    {
     "data": {
      "text/plain": [
       "'ESTE ES UN TEXTO DE PRUEBA'"
      ]
     },
     "execution_count": 34,
     "metadata": {},
     "output_type": "execute_result"
    }
   ],
   "source": [
    "texto.upper()"
   ]
  },
  {
   "cell_type": "code",
   "execution_count": 35,
   "metadata": {},
   "outputs": [
    {
     "data": {
      "text/plain": [
       "'este es un texto de prueba'"
      ]
     },
     "execution_count": 35,
     "metadata": {},
     "output_type": "execute_result"
    }
   ],
   "source": [
    "texto.lower()"
   ]
  },
  {
   "cell_type": "markdown",
   "metadata": {},
   "source": [
    "Pero tambien podriamos utilizar métodos sobre variables numericas,listas y otros.Sin embargo la diferencia principal entre un método y una función es que los métodos siempre seran parte de una clase,de otra forma son parte de las funcionalidades que le podemos dar a un objeto.\n",
    "\n",
    "Tal vez hasta el momento no hemos hablando de objetos,sin embargo los objetos son una de las caracteristicas principales de Python,ya que este es un software que soporta la Programación Orientada a Objetos (POO),de los cuales hablaremos mas adelante."
   ]
  },
  {
   "cell_type": "markdown",
   "metadata": {},
   "source": [
    "#### Tuplas\n",
    "\n",
    "Las tuplas son similares a las listas,sin embargo tienen algunas diferencias con las listas.En un principio las podemos definir de forma similar la generada y guardada en la variable t"
   ]
  },
  {
   "cell_type": "code",
   "execution_count": 36,
   "metadata": {},
   "outputs": [
    {
     "data": {
      "text/plain": [
       "(1, 2, 3)"
      ]
     },
     "execution_count": 36,
     "metadata": {},
     "output_type": "execute_result"
    }
   ],
   "source": [
    "t=(1,2,3)\n",
    "t"
   ]
  },
  {
   "cell_type": "markdown",
   "metadata": {},
   "source": [
    "En este caso solo cambiamos el tipo de parentesis para crear la tupla t,sin embargo si quisieramos cambiar alguno de los valores de la tupla como en los casos anteriores no podemos,a continuación se muestra un error forzado...👀"
   ]
  },
  {
   "cell_type": "code",
   "execution_count": 37,
   "metadata": {},
   "outputs": [
    {
     "ename": "TypeError",
     "evalue": "'tuple' object does not support item assignment",
     "output_type": "error",
     "traceback": [
      "\u001b[1;31m---------------------------------------------------------------------------\u001b[0m",
      "\u001b[1;31mTypeError\u001b[0m                                 Traceback (most recent call last)",
      "Input \u001b[1;32mIn [37]\u001b[0m, in \u001b[0;36m<cell line: 1>\u001b[1;34m()\u001b[0m\n\u001b[1;32m----> 1\u001b[0m \u001b[43mt\u001b[49m\u001b[43m[\u001b[49m\u001b[38;5;241;43m0\u001b[39;49m\u001b[43m]\u001b[49m\u001b[38;5;241m=\u001b[39m\u001b[38;5;241m1\u001b[39m\n",
      "\u001b[1;31mTypeError\u001b[0m: 'tuple' object does not support item assignment"
     ]
    }
   ],
   "source": [
    "t[0]=1"
   ]
  },
  {
   "cell_type": "markdown",
   "metadata": {},
   "source": [
    "Pero como ya vimos,tambien podemos utilizar métodos sobre tuplas.En este caso si tenemos una variable tipo float,podemos utilizar el método **as_integer_ratio()** para devolver una **tupla** compuesta por el **numerador y denominador** de la variable float."
   ]
  },
  {
   "cell_type": "code",
   "execution_count": null,
   "metadata": {},
   "outputs": [],
   "source": [
    "x=0.125\n",
    "numerador,denominador=x.as_integer_ratio()\n",
    "print(numerador/denominador)"
   ]
  },
  {
   "cell_type": "markdown",
   "metadata": {},
   "source": [
    "<a id='Ciclos'></a>\n",
    "### Ciclos 🎰\n",
    "\n",
    "[Inicio ▲](#Indice)\n",
    "\n",
    "Todo en la vida es un ciclo...bueno no precisamente como los que vamos a ver ahora,pero sin duda que mucho tienen en común con la repitición de rutinas.Como hemos visto podemos definir listas de *cadenas de texto*,en este caso podemos definir una lista con los dias de la semana."
   ]
  },
  {
   "cell_type": "markdown",
   "metadata": {},
   "source": [
    "#### Ciclo for"
   ]
  },
  {
   "cell_type": "code",
   "execution_count": 1,
   "metadata": {},
   "outputs": [],
   "source": [
    "dias=[\"Lunes\",\"Martes\",\"Miercoles\",\"Jueves\",\"Viernes\",\"Sabado\"]"
   ]
  },
  {
   "cell_type": "markdown",
   "metadata": {},
   "source": [
    "Y podriamos ir mostrando por pantalla cada uno de los días con un ciclo for"
   ]
  },
  {
   "cell_type": "code",
   "execution_count": 4,
   "metadata": {},
   "outputs": [
    {
     "name": "stdout",
     "output_type": "stream",
     "text": [
      "Lunes\n",
      "Martes\n",
      "Miercoles\n",
      "Jueves\n",
      "Viernes\n"
     ]
    }
   ],
   "source": [
    "for i in dias:\n",
    "    print(i)"
   ]
  },
  {
   "cell_type": "markdown",
   "metadata": {},
   "source": [
    "Como se puede ver el ciclo **for** itera la variable **i** sobre la lista **dias**,asi va tomando cada uno de los valores e imprime el dia por pantalla.\n",
    "\n",
    "En cambio si tomaramos una lista numerica y la iteramos de igual forma,solo imprimiria los valores numericos de esta lista."
   ]
  },
  {
   "cell_type": "code",
   "execution_count": 6,
   "metadata": {},
   "outputs": [
    {
     "name": "stdout",
     "output_type": "stream",
     "text": [
      "1\n",
      "2\n",
      "3\n",
      "4\n",
      "5\n"
     ]
    }
   ],
   "source": [
    "numeros=[1,2,3,4,5]\n",
    "\n",
    "for j in numeros:\n",
    "    print(j)    "
   ]
  },
  {
   "cell_type": "markdown",
   "metadata": {},
   "source": [
    "Asi podemos ver que en este caso cambiamos la lista para luego iterar con una nueva variable,en este caso j.\n",
    "\n",
    "Ademas no solo podemos iterar los valores en una lista, tambien podriamos realizar alguna operación dentro del ciclomen este caso definimos una nueva lista y luega la variable producto."
   ]
  },
  {
   "cell_type": "code",
   "execution_count": 8,
   "metadata": {},
   "outputs": [
    {
     "data": {
      "text/plain": [
       "360"
      ]
     },
     "execution_count": 8,
     "metadata": {},
     "output_type": "execute_result"
    }
   ],
   "source": [
    "multiplicativos=(2,2,2,3,3,5)\n",
    "producto=1\n",
    "\n",
    "for i in multiplicativos:\n",
    "    producto=producto*i\n",
    "\n",
    "producto"
   ]
  },
  {
   "cell_type": "markdown",
   "metadata": {},
   "source": [
    "En este caso el ciclo **for** itera los valores de lista **multiplicativos** y luego en cada iteración multiplica el valor de la variable *producto* por el valor de *multiplicativos* y lo almacena."
   ]
  },
  {
   "cell_type": "code",
   "execution_count": 10,
   "metadata": {},
   "outputs": [
    {
     "name": "stdout",
     "output_type": "stream",
     "text": [
      "Este i es el numero:  0\n",
      "Este i es el numero:  1\n",
      "Este i es el numero:  2\n",
      "Este i es el numero:  3\n",
      "Este i es el numero:  4\n"
     ]
    }
   ],
   "source": [
    "for i in range(5):\n",
    "    print(\"Este i es el numero: \",i)"
   ]
  },
  {
   "cell_type": "markdown",
   "metadata": {},
   "source": [
    "Retomando el primer ciclo,tambien podriamos utilizar la función **range()**, para optimizar la iteración de la variable **i**.Asi no es necesario definir la lista a iterar y solo asignamos el valor hasta el que deseamos iterar a la funcion **range()**."
   ]
  },
  {
   "cell_type": "markdown",
   "metadata": {},
   "source": [
    "#### Ciclo While\n",
    "\n",
    "Además del ciclo for que vimos en la sección anterior,tambien podemos querer iterar una lista o un proceso mientras se cumpla una cierta condición.Para esto utilizamos el ciclo **while**,que a diferencia del caso anterior en donde iteramos una variable,para el ciclo while esperamos que mientras se cumpla una condición se ejecutaran las intrucciones que estan dentro de el.\n",
    "\n",
    "Cabe destacar que para el ciclo **while** hay que tener una consideración especial,ya que si la condición que establecemos no se cumple nunca el ciclo while se ejecuta de forma infinita pudiendo ocasionar que el software o el pc consuma toda la memoria y teniendo que reinciar el proceso o incluso el pc.\n",
    "\n",
    "A continuación se define el valor de la variable **i=0**,entonces el ciclo comienza validando esta condición,como es verdadera luego imprime el valor de la variable y luego **i=i+1**.Finalmente esta operación se repite hasta que i toma el valor 9,ya que al tomar el valor 10,la condición **i<10** ya no es verdadera."
   ]
  },
  {
   "cell_type": "code",
   "execution_count": 11,
   "metadata": {},
   "outputs": [
    {
     "name": "stdout",
     "output_type": "stream",
     "text": [
      "0 1 2 3 4 5 6 7 8 9 "
     ]
    }
   ],
   "source": [
    "i=0\n",
    "\n",
    "while i<10:\n",
    "    print(i,end=\" \")\n",
    "    i=i+1"
   ]
  },
  {
   "cell_type": "markdown",
   "metadata": {},
   "source": [
    "En cambio si ejecutamos el siguiente bloque el ciclo se ejecuta de forma infinita ya que la condición siempre sera cierta,provocando que el software colapse y se cierre... 🔥"
   ]
  },
  {
   "cell_type": "code",
   "execution_count": null,
   "metadata": {},
   "outputs": [],
   "source": [
    "i=True\n",
    "\n",
    "while i==True:\n",
    "    print(i)\n",
    "    "
   ]
  },
  {
   "cell_type": "markdown",
   "metadata": {},
   "source": [
    "Otro aspecto importante en Python,es que cuando definimos una lista es posible utilizar ciclos dentro de ellas.En algunos casos solo requerimos de algunos valores dentro de una lista,pero si buscamos crear una sucesión que tenga una mayor extensión,como tal vez una lista con los valores del 1 al 20 una forma sencilla de escribirla seria de la siguiente forma:"
   ]
  },
  {
   "cell_type": "code",
   "execution_count": 9,
   "metadata": {},
   "outputs": [
    {
     "data": {
      "text/plain": [
       "[1, 2, 3, 4, 5, 6, 7, 8, 9, 10, 11, 12, 13, 14, 15, 16, 17, 18, 19, 20]"
      ]
     },
     "execution_count": 9,
     "metadata": {},
     "output_type": "execute_result"
    }
   ],
   "source": [
    "serie_1=[n for n in range(1,21)]\n",
    "serie_1"
   ]
  },
  {
   "cell_type": "markdown",
   "metadata": {},
   "source": [
    "Recordar que en Python el limite superior esta especificado por el valor siguiente,es por eso que dentro de la función range() utilizamos 21 y no 20."
   ]
  },
  {
   "cell_type": "markdown",
   "metadata": {},
   "source": [
    "Pero no siempre necesitaremos crear las mismas listas en algunos casos podriamos necesitar que la lista comience o termine en valores distintos.Paro lo cual podriamos hacer uso de las funciones...las cuales son nuestro mejor aliado cuando queremos encapsular un proceso que realizamos con mucha frecuencia 📲"
   ]
  },
  {
   "cell_type": "code",
   "execution_count": 18,
   "metadata": {},
   "outputs": [
    {
     "data": {
      "text/plain": [
       "[1, 2, 3, 4]"
      ]
     },
     "execution_count": 18,
     "metadata": {},
     "output_type": "execute_result"
    }
   ],
   "source": [
    "def listas(inicio=1,termino=5):\n",
    "    return [n for n in range(inicio,termino)]\n",
    "\n",
    "l1=listas()\n",
    "l1"
   ]
  },
  {
   "cell_type": "code",
   "execution_count": 20,
   "metadata": {},
   "outputs": [
    {
     "data": {
      "text/plain": [
       "[10, 11, 12, 13, 14, 15, 16, 17, 18, 19, 20]"
      ]
     },
     "execution_count": 20,
     "metadata": {},
     "output_type": "execute_result"
    }
   ],
   "source": [
    "l2=listas(inicio=10,termino=21)\n",
    "l2"
   ]
  },
  {
   "cell_type": "markdown",
   "metadata": {},
   "source": [
    "Como se en el primer bloque,una vez que definimos la función **listas** y la llamamos para crear nuestra primera lista **l1**,se crea la lista con los valores por defecto.Sin embargo cuando la llamamos para crear la lista **l2** con diferentes limites,inmediatamente se crea la lista con los valores que comienzan en el 10 y terminan en el 20.📌"
   ]
  },
  {
   "cell_type": "markdown",
   "metadata": {},
   "source": [
    "<a id='Diccionarios'></a>\n",
    "### Diccionarios 📗\n",
    "\n",
    "[Inicio ▲](#Indice)\n",
    "\n",
    "Hasta este punto del curso,ya hemos visto la mayoria de los aspectos importantes para comenzar al menos a trabajar con Python,sin embargo uno de los puntos en donde Python es excelente es con la manipulación de strings o cadenas de texto.\n",
    "\n",
    "Si bien ya hemos definido y realizado algunas operaciones con strings,siempre es bueno repasar antes de pasar a lo mas interesante de esta sección...los diccionarios. 📚\n",
    "\n",
    "Habiamos visto que se podian definir algunas cadenas de texto y almacenarlas en variables como las que se muestran a continuación"
   ]
  },
  {
   "cell_type": "code",
   "execution_count": 4,
   "metadata": {},
   "outputs": [
    {
     "data": {
      "text/plain": [
       "False"
      ]
     },
     "execution_count": 4,
     "metadata": {},
     "output_type": "execute_result"
    }
   ],
   "source": [
    "x=\"lunes es un dia\"\n",
    "y=\"Lunes es un dia\""
   ]
  },
  {
   "cell_type": "markdown",
   "metadata": {},
   "source": [
    "Como podemos ver aca, en ambas variables se guardo exactamente la misma cadena texto.Por lo tanto si posteriormente qusieramos validar estos valores podriamos hacer lo siguiente"
   ]
  },
  {
   "cell_type": "code",
   "execution_count": null,
   "metadata": {},
   "outputs": [],
   "source": [
    "x==y"
   ]
  },
  {
   "cell_type": "markdown",
   "metadata": {},
   "source": [
    "Entonces como podemos ver,si validamos si lo que se encuentra en la variable x es igual a lo que esta en y nos devuelve un False,lo cual ocurre por que el texto es el mismo,pero la primera letra de lo guardado en X se encuentra en minuscula."
   ]
  },
  {
   "cell_type": "code",
   "execution_count": null,
   "metadata": {},
   "outputs": [],
   "source": [
    "En cambio si definimos las cadenas de texto exactamente de la misma forma."
   ]
  },
  {
   "cell_type": "code",
   "execution_count": 5,
   "metadata": {},
   "outputs": [
    {
     "data": {
      "text/plain": [
       "True"
      ]
     },
     "execution_count": 5,
     "metadata": {},
     "output_type": "execute_result"
    }
   ],
   "source": [
    "x=\"Lunes es un dia\"\n",
    "y=\"Lunes es un dia\"\n",
    "\n",
    "x==y"
   ]
  },
  {
   "cell_type": "markdown",
   "metadata": {},
   "source": [
    "Ahora si verificamos que ambas cadenas de texto son iguales."
   ]
  },
  {
   "cell_type": "markdown",
   "metadata": {},
   "source": [
    "En cambio tambien podriamos querer en algunos saltar una linea,como en lo siguiente."
   ]
  },
  {
   "cell_type": "code",
   "execution_count": 8,
   "metadata": {},
   "outputs": [
    {
     "name": "stdout",
     "output_type": "stream",
     "text": [
      "Lunes\n",
      "es un dia\n"
     ]
    }
   ],
   "source": [
    "a=print(\"Lunes\\nes un dia\")\n",
    "a"
   ]
  },
  {
   "cell_type": "markdown",
   "metadata": {},
   "source": [
    "En este caso vemos que al agregar el \"\\n\",inmediatamente todo lo que viene despues se escribe en la linea siguiente...Y por supuesto podriamos volver a utilizarlo si quisieramos escribir cada palabra en una linea nueva"
   ]
  },
  {
   "cell_type": "code",
   "execution_count": 9,
   "metadata": {},
   "outputs": [
    {
     "name": "stdout",
     "output_type": "stream",
     "text": [
      "Lunes\n",
      "es\n",
      "un\n",
      "dia\n"
     ]
    }
   ],
   "source": [
    "a=print(\"Lunes\\nes\\nun\\ndia\")\n",
    "a"
   ]
  },
  {
   "cell_type": "markdown",
   "metadata": {},
   "source": [
    "Como ya hemos trabajado con la funcion,sabemos que esta automaticamente agrega una nueva linea,a menos que especifiquemos un valor de termino."
   ]
  },
  {
   "cell_type": "code",
   "execution_count": 13,
   "metadata": {},
   "outputs": [
    {
     "name": "stdout",
     "output_type": "stream",
     "text": [
      "Martes es otro dia de la semana\n",
      "Miercoles es otro dia de la semanaJueves es otro dia de la semana"
     ]
    }
   ],
   "source": [
    "print(\"Martes es otro dia de la semana\")\n",
    "print(\"Miercoles es otro dia de la semana\",end='')\n",
    "print(\"Jueves es otro dia de la semana\",end='')"
   ]
  },
  {
   "cell_type": "markdown",
   "metadata": {},
   "source": [
    "Como se puede ver en el caso anterior si utilizamos el print de toda la vida,el siguiente texto que se imprime se va a la siguiente linea.Sin embargo cuando hacemos la segunda impresión agregamos el argumento **end= ''**,el cual en este caso permite que una vez impreso el texto se siga en la misma linea,a menos que usemos el valor **\\n** que viene por defecto."
   ]
  },
  {
   "cell_type": "code",
   "execution_count": 14,
   "metadata": {},
   "outputs": [
    {
     "name": "stdout",
     "output_type": "stream",
     "text": [
      "Viernes es otro dia de la semana\n",
      "El sabado no se trabaja\n"
     ]
    }
   ],
   "source": [
    "print(\"Viernes es otro dia de la semana\",end='\\n')\n",
    "print(\"El sabado no se trabaja\")"
   ]
  },
  {
   "cell_type": "markdown",
   "metadata": {},
   "source": [
    "Pero las cadenas de texto,no solo pueden ser un conjunto de palabras,sino que podemos separar estas en caracteres.\n",
    "\n",
    "Si consideramos la ultima cadena de texto:"
   ]
  },
  {
   "cell_type": "code",
   "execution_count": 8,
   "metadata": {},
   "outputs": [
    {
     "data": {
      "text/plain": [
       "'s'"
      ]
     },
     "execution_count": 8,
     "metadata": {},
     "output_type": "execute_result"
    }
   ],
   "source": [
    "sabado=\"El sabado no se trabaja\"\n",
    "sabado[3]"
   ]
  },
  {
   "cell_type": "markdown",
   "metadata": {},
   "source": [
    "Como podemos ver,es posible almacenar una cadena de texto en una variable para luego ir seleccionado cada uno de los caracteres en ella,e ir poco a poco concatenando los caracteres de toda la cadena de texto."
   ]
  },
  {
   "cell_type": "code",
   "execution_count": 12,
   "metadata": {},
   "outputs": [
    {
     "data": {
      "text/plain": [
       "'El sabado'"
      ]
     },
     "execution_count": 12,
     "metadata": {},
     "output_type": "execute_result"
    }
   ],
   "source": [
    "sabado=\"El sabado no se trabaja\"\n",
    "sabado[0]+sabado[1]+sabado[2]+sabado[3:9]"
   ]
  },
  {
   "cell_type": "markdown",
   "metadata": {},
   "source": [
    "E incluso podriamos determinar la cantidad de letras que tiene la frase **\"El sabado no se trabaja\"**"
   ]
  },
  {
   "cell_type": "code",
   "execution_count": 13,
   "metadata": {},
   "outputs": [
    {
     "data": {
      "text/plain": [
       "23"
      ]
     },
     "execution_count": 13,
     "metadata": {},
     "output_type": "execute_result"
    }
   ],
   "source": [
    "len(sabado)"
   ]
  },
  {
   "cell_type": "markdown",
   "metadata": {},
   "source": [
    "## Diccionarios\n",
    "\n",
    "Hasta el momento hemos trabajado con characteres,cadenas de texto o strings y variables numericas.Pero uno de los aspectos mas importantes en Python son los diccionarios,los cuales son estructuras de datos que permiten mapear claves a valores,esto implica que podemos indexar un conjunto de valores a otro conjunto de claves."
   ]
  },
  {
   "cell_type": "code",
   "execution_count": 2,
   "metadata": {},
   "outputs": [
    {
     "data": {
      "text/plain": [
       "3"
      ]
     },
     "execution_count": 2,
     "metadata": {},
     "output_type": "execute_result"
    }
   ],
   "source": [
    "numeros={\"uno\":1,\"dos\":2,\"tres\":3}\n",
    "numeros\n",
    "numeros[\"tres\"]"
   ]
  },
  {
   "cell_type": "markdown",
   "metadata": {},
   "source": [
    "En el caso del diccionario numeros,*\"uno\",\"dos\" y \"tres\"* son las llaves y los valores *1,2 y 3* son los valores.\n",
    "\n",
    "En este caso podemos acceder a cada uno de los valores mediante las llaves."
   ]
  },
  {
   "cell_type": "code",
   "execution_count": 18,
   "metadata": {},
   "outputs": [
    {
     "data": {
      "text/plain": [
       "1"
      ]
     },
     "execution_count": 18,
     "metadata": {},
     "output_type": "execute_result"
    }
   ],
   "source": [
    "numeros[\"uno\"]"
   ]
  },
  {
   "cell_type": "markdown",
   "metadata": {},
   "source": [
    "Asi podemos seleccionar el primer valor,pero tambien podriamos agregar otros valores mediante una nueva llave."
   ]
  },
  {
   "cell_type": "code",
   "execution_count": 19,
   "metadata": {},
   "outputs": [
    {
     "data": {
      "text/plain": [
       "{'uno': 1, 'dos': 2, 'tres': 3, 'cuatro': 4}"
      ]
     },
     "execution_count": 19,
     "metadata": {},
     "output_type": "execute_result"
    }
   ],
   "source": [
    "numeros[\"cuatro\"]=4\n",
    "numeros"
   ]
  },
  {
   "cell_type": "markdown",
   "metadata": {},
   "source": [
    "O incluso cambiando solo alguno de aquellos valores ya asociados a una llave."
   ]
  },
  {
   "cell_type": "code",
   "execution_count": 20,
   "metadata": {},
   "outputs": [
    {
     "data": {
      "text/plain": [
       "{'uno': 'Lunes', 'dos': 2, 'tres': 3, 'cuatro': 4}"
      ]
     },
     "execution_count": 20,
     "metadata": {},
     "output_type": "execute_result"
    }
   ],
   "source": [
    "numeros[\"uno\"]=\"Lunes\"\n",
    "numeros"
   ]
  },
  {
   "cell_type": "code",
   "execution_count": null,
   "metadata": {},
   "outputs": [],
   "source": [
    "Asi finalmente podriamos incluso iterar un diccionario mediante un ciclo for."
   ]
  },
  {
   "cell_type": "code",
   "execution_count": 24,
   "metadata": {},
   "outputs": [
    {
     "name": "stdout",
     "output_type": "stream",
     "text": [
      "Lunes\n",
      "2\n",
      "3\n",
      "4\n"
     ]
    }
   ],
   "source": [
    "for i in numeros:\n",
    "    print(numeros[i])"
   ]
  },
  {
   "cell_type": "code",
   "execution_count": null,
   "metadata": {},
   "outputs": [],
   "source": [
    "O incluso validar si una llave se encuentra en el diccionario."
   ]
  },
  {
   "cell_type": "code",
   "execution_count": 26,
   "metadata": {},
   "outputs": [
    {
     "data": {
      "text/plain": [
       "True"
      ]
     },
     "execution_count": 26,
     "metadata": {},
     "output_type": "execute_result"
    }
   ],
   "source": [
    "\"uno\" in numeros"
   ]
  },
  {
   "cell_type": "code",
   "execution_count": 27,
   "metadata": {},
   "outputs": [
    {
     "data": {
      "text/plain": [
       "False"
      ]
     },
     "execution_count": 27,
     "metadata": {},
     "output_type": "execute_result"
    }
   ],
   "source": [
    "\"cinco\" in numeros"
   ]
  },
  {
   "cell_type": "code",
   "execution_count": 3,
   "metadata": {},
   "outputs": [
    {
     "data": {
      "text/plain": [
       "{'uno': 1, 'dos': 2, 'tres': 3}"
      ]
     },
     "execution_count": 3,
     "metadata": {},
     "output_type": "execute_result"
    }
   ],
   "source": [
    "numeros"
   ]
  },
  {
   "cell_type": "markdown",
   "metadata": {},
   "source": [
    "Algunos otras operaciones que podemos hacer en Python,es renombrar los valores de un diccionario mediante una iteración de los valores de las llaves del mismo diccionario."
   ]
  },
  {
   "cell_type": "code",
   "execution_count": 4,
   "metadata": {},
   "outputs": [
    {
     "data": {
      "text/plain": [
       "{'lunes': 'l', 'martes': 'm', 'miercoles': 'm', 'jueves': 'j', 'viernes': 'v'}"
      ]
     },
     "execution_count": 4,
     "metadata": {},
     "output_type": "execute_result"
    }
   ],
   "source": [
    "dias=[\"lunes\",\"martes\",\"miercoles\",\"jueves\",\"viernes\"]\n",
    "\n",
    "dias_json={dia:dia[0] for dia in dias}\n",
    "dias_json\n"
   ]
  },
  {
   "cell_type": "markdown",
   "metadata": {},
   "source": [
    "En este caso, se creo un diccionario en donde sus llaves son los dias de la semana y los valores corresponden a a cada uno de los primeros caracteres de las llaves.\n",
    "\n",
    "Pero incluso el valor podria ser una versión mas corta del nombre de la llave o una pequeña descripción si fuera el caso.En este caso al cambiar la cantidad de caracteres a seleccionar de **dia[0]** a **dia[0:3]**, se pasa de solo considerar la primera letra a las 3 primeras."
   ]
  },
  {
   "cell_type": "code",
   "execution_count": 6,
   "metadata": {},
   "outputs": [
    {
     "data": {
      "text/plain": [
       "{'lunes': 'lun',\n",
       " 'martes': 'mar',\n",
       " 'miercoles': 'mie',\n",
       " 'jueves': 'jue',\n",
       " 'viernes': 'vie'}"
      ]
     },
     "execution_count": 6,
     "metadata": {},
     "output_type": "execute_result"
    }
   ],
   "source": [
    "dias=[\"lunes\",\"martes\",\"miercoles\",\"jueves\",\"viernes\"]\n",
    "\n",
    "dias_json={dia:dia[0:3] for dia in dias}\n",
    "dias_json\n"
   ]
  },
  {
   "cell_type": "markdown",
   "metadata": {},
   "source": [
    "Finalmente, si quisieramos podriamos utilizar métodos sobre los diccionarios que hemos creado para realizar algunas tareas sencillas."
   ]
  },
  {
   "cell_type": "code",
   "execution_count": 15,
   "metadata": {},
   "outputs": [
    {
     "data": {
      "text/plain": [
       "dict_values(['lun', 'mar', 'mie', 'jue', 'vie'])"
      ]
     },
     "execution_count": 15,
     "metadata": {},
     "output_type": "execute_result"
    }
   ],
   "source": [
    "dias_json.values()"
   ]
  },
  {
   "cell_type": "markdown",
   "metadata": {},
   "source": [
    "En este caso se utilizo el método **.values()** para mostrar por pantalla todos los valores del diccionario."
   ]
  },
  {
   "cell_type": "markdown",
   "metadata": {},
   "source": [
    "<a id='Trabajando-con-librerias'></a>\n",
    "### Trabajando con librerias 🎮\n",
    "\n",
    "[Inicio ▲](#Indice)\n",
    "\n",
    "Y llegamos al último tópico de este curso introductorio 🎉\n",
    "\n",
    "Hay varios temas que hemos tocado en este curso desde la declaración de variables numéricas,string y booleanas e incluso algunas estructuras de datos.Pero aún queda ver como podemos trabajar con librerías dentro del entorno de Python las cuales son muy importantes si queremos extender las capacidades de Python,si bien no veremos todas las librerías que se pueden utilizar en Python ya que son muchas,las cuales van desde la definición de variables numéricas,desarrollo de gráficas,conexión a bases de datos,desarrollo de interfaces de usuario e incluso el uso de modelos de machine learning y darian para material de un curso mas avanzado.Sin embargo, veremos 3 librerías ampliamente usadas tanto en la industria como en la academia.\n",
    "\n",
    "La primera es **Numpy** la que es una librería especializada en cálculo numérico y el análisis de datos,uno de los aspectos mas importante es que se puede definir una estructura de dato llamada **arrays** los cuales se procesan mucho mas rápido que las listas que por defecto maneja Python 🙄.La segunda es **Matplotlib** que es una librería estándar para comenzar a desarrollar visualizaciones en Python y la tercera es **Plotly** otra librería de visualización,la que personalmente me gusta por su sintáxis, simplicidad y por que además tambien se encuentra implementada para el Software R."
   ]
  },
  {
   "cell_type": "markdown",
   "metadata": {},
   "source": [
    "## Librería Numpy\n",
    "\n",
    "Como ya habiamos dicho uno de los puntos fuertes de la librería **Numpy** son los objetos **array**,que se componen de elementos del mismo tipo y que pueden ser de 1,2 o n dimensiones.Asi podriamos definir una *lista* o array de 1 dimensión,una *matriz* o array de 2 dimensiones o tambien un *cubo* que seria un array de 3 dimensiones.\n",
    "\n",
    "Sin embargo primero deberiamos cargar la libreria numpy"
   ]
  },
  {
   "cell_type": "code",
   "execution_count": 17,
   "metadata": {},
   "outputs": [],
   "source": [
    "import numpy"
   ]
  },
  {
   "cell_type": "markdown",
   "metadata": {},
   "source": [
    "Una vez cargada ya podremos utilizar todas las funciones que vienen dentro de esta libreria.Cabe destacar que podremos cargar la libreria con su nombre por defecto o con una forma abreviada,lo cual nos servira cada vez que llamemos a las funciones dentro de ella."
   ]
  },
  {
   "cell_type": "code",
   "execution_count": 18,
   "metadata": {},
   "outputs": [],
   "source": [
    "import numpy as np"
   ]
  },
  {
   "cell_type": "markdown",
   "metadata": {},
   "source": [
    "A diferencia de las listas que podemos definir de forma regular en Python,para definir una lista o array de 1 dimension tenemos que"
   ]
  },
  {
   "cell_type": "code",
   "execution_count": 20,
   "metadata": {},
   "outputs": [
    {
     "name": "stdout",
     "output_type": "stream",
     "text": [
      "[10 20 30 40]\n"
     ]
    }
   ],
   "source": [
    "a1=np.array([10,20,30,40])\n",
    "print(a1)"
   ]
  },
  {
   "cell_type": "code",
   "execution_count": null,
   "metadata": {},
   "outputs": [],
   "source": [
    "De la misma forma,si quisieramos definir un array de 2 dimensiones"
   ]
  },
  {
   "cell_type": "code",
   "execution_count": 22,
   "metadata": {},
   "outputs": [
    {
     "name": "stdout",
     "output_type": "stream",
     "text": [
      "[[10 20 30 40]\n",
      " [50 60 70 80]]\n"
     ]
    }
   ],
   "source": [
    "a2=np.array([[10,20,30,40],[50,60,70,80]])\n",
    "print(a2)"
   ]
  },
  {
   "cell_type": "markdown",
   "metadata": {},
   "source": [
    "Y siguiendo con la idea,entonces un array de 3 dimensiones lo podemos definir como sigue"
   ]
  },
  {
   "cell_type": "code",
   "execution_count": 27,
   "metadata": {},
   "outputs": [
    {
     "name": "stdout",
     "output_type": "stream",
     "text": [
      "[[[ 10  20  30]\n",
      "  [ 40  50  60]]\n",
      "\n",
      " [[ 70  80  90]\n",
      "  [110 120 130]]]\n"
     ]
    }
   ],
   "source": [
    "a3=np.array([[[10,20,30],[40,50,60]],[[70,80,90],[110,120,130]]])\n",
    "print(a3)"
   ]
  },
  {
   "cell_type": "markdown",
   "metadata": {},
   "source": [
    "Por tanto si quisieramos acceder a los elementos de cualquier tipo de array,debemos usar los índices al igual que accedemos a los elementos de una lista,pero seleccionando los índices de cada dimensión."
   ]
  },
  {
   "cell_type": "code",
   "execution_count": 29,
   "metadata": {},
   "outputs": [
    {
     "name": "stdout",
     "output_type": "stream",
     "text": [
      "10\n",
      "70\n"
     ]
    }
   ],
   "source": [
    "#Para acceder al elemento de la fila 0 columna 0 del array de 2 dimensiones\n",
    "print(a2[0,0])\n",
    "\n",
    "#Para acceder al elemento de la fila 1 columna 2 del array de 2 dimensiones\n",
    "print(a2[1,2])"
   ]
  },
  {
   "cell_type": "markdown",
   "metadata": {},
   "source": [
    "Pero tambien podriamos utilizar algunos métodos para obtener algunas caracteristicas importantes de un array,como las que se muestran en la siguiente tabla.\n",
    "|Atributo|Método|Detalle|\n",
    "|--|--|--|\n",
    "|N° de Dimensión|a.ndim()|Devuelve el número de dimensiones del array **a**.|\n",
    "|Dimensiones|a.shape()|Devuelve una tupla con las dimensiones del array **a**.|\n",
    "|Tamaño|a.size()|Devuelve el número de elementos del array **a**.|\n",
    "|Tipo de dato|a.dtype()|Devuelve el tipo de datos de los elementos del array **a**.|\n"
   ]
  },
  {
   "cell_type": "code",
   "execution_count": 35,
   "metadata": {},
   "outputs": [
    {
     "name": "stdout",
     "output_type": "stream",
     "text": [
      "1\n",
      "2\n",
      "3\n"
     ]
    }
   ],
   "source": [
    "# Número de dimensiones para cada uno de los arrays\n",
    "print(np.ndim(a1))\n",
    "print(np.ndim(a2))\n",
    "print(np.ndim(a3))"
   ]
  },
  {
   "cell_type": "code",
   "execution_count": 36,
   "metadata": {},
   "outputs": [
    {
     "name": "stdout",
     "output_type": "stream",
     "text": [
      "(4,)\n",
      "(2, 4)\n",
      "(2, 2, 3)\n"
     ]
    }
   ],
   "source": [
    "# Dimensiones para cada uno de los arrays\n",
    "print(np.shape(a1))\n",
    "print(np.shape(a2))\n",
    "print(np.shape(a3))"
   ]
  },
  {
   "cell_type": "markdown",
   "metadata": {},
   "source": [
    "Como se puede ver en el primer caso con el método **a.ndim()**, solo se nos muestra la cantidad de dimensiones,pero con el método **a.shape()** se muestran las dimensiones explicitas.\n",
    "\n",
    "Pero incluso podemos realizar operaciones con arrays,incluso si tienen distintas dimensiones y numero de dimensiones,ya que operaran solo sobre aquellas dimensiones disponibles.\n"
   ]
  },
  {
   "cell_type": "code",
   "execution_count": 39,
   "metadata": {},
   "outputs": [
    {
     "name": "stdout",
     "output_type": "stream",
     "text": [
      "[20 40 60 80]\n"
     ]
    }
   ],
   "source": [
    "print(a1*2)"
   ]
  },
  {
   "cell_type": "code",
   "execution_count": 46,
   "metadata": {},
   "outputs": [
    {
     "name": "stdout",
     "output_type": "stream",
     "text": [
      "[[2. 2. 2. 2.]\n",
      " [2. 2. 2. 2.]]\n"
     ]
    }
   ],
   "source": [
    "print(2*a2/a2)"
   ]
  },
  {
   "cell_type": "markdown",
   "metadata": {},
   "source": [
    "De igual forma podriamos realizar operaciones algebraicas con vectores y matrices"
   ]
  },
  {
   "cell_type": "code",
   "execution_count": 50,
   "metadata": {},
   "outputs": [
    {
     "name": "stdout",
     "output_type": "stream",
     "text": [
      "4\n"
     ]
    }
   ],
   "source": [
    "import numpy as np\n",
    "b1=np.array([1,2,3])\n",
    "b2=np.array([1,0,1])\n",
    "\n",
    "#b1.dot(b2) determina el producto escalar entre los vectores b1 y b2\n",
    "print(b1.dot(b2))"
   ]
  },
  {
   "cell_type": "markdown",
   "metadata": {},
   "source": [
    "Asi tambien podriamos transponer una matriz mediante **a.T**."
   ]
  },
  {
   "cell_type": "code",
   "execution_count": 55,
   "metadata": {},
   "outputs": [
    {
     "name": "stdout",
     "output_type": "stream",
     "text": [
      "[[1 2 3]\n",
      " [4 5 6]]\n",
      "[[1 4]\n",
      " [2 5]\n",
      " [3 6]]\n"
     ]
    }
   ],
   "source": [
    "import numpy as np\n",
    "a=np.array([[1,2,3],[4,5,6]])\n",
    "\n",
    "print(a)\n",
    "print(a.T)"
   ]
  },
  {
   "cell_type": "markdown",
   "metadata": {},
   "source": [
    "Incluso podemos resolver sistemas de ecuaciones lineales mediante **solve(a,b)**."
   ]
  },
  {
   "cell_type": "code",
   "execution_count": 57,
   "metadata": {},
   "outputs": [
    {
     "name": "stdout",
     "output_type": "stream",
     "text": [
      "[-13.  12.]\n"
     ]
    }
   ],
   "source": [
    "import numpy as np\n",
    "\n",
    "# El siguiente es un sistema de 2 ecuaciones lineales con 2 variables\n",
    "#2x+3y=10\n",
    "#4x+5y=8\n",
    "\n",
    "a=np.array([[2,3],[4,5]])\n",
    "b=np.array([10,8])\n",
    "print(np.linalg.solve(a,b))"
   ]
  },
  {
   "cell_type": "markdown",
   "metadata": {},
   "source": [
    "Algunas otras funciones para trabajar con algebra lineal son las siguientes:\n",
    "    \n",
    "|Método|Operación |Descripción|\n",
    "|--|--|--|\n",
    "**a.dot(b)**|Producto escalar|Determina el producto escalar entre los vectores a y b.|\n",
    "|**norm(a)**|Módulo de un vector|Determina el módulo del vector v.|\n",
    "|**a.dot(b)**|Producto de 2 matrices|Determina el producto matricial de las matrices a y b.|\n",
    "|**a.T**|Matriz traspuesta|Determina la matriz traspuesta de la matriz a.|\n",
    "|**a.trace()**|Traza de una matriz|Determina la suma diagonal principal de la matriz cuadrada a.|\n",
    "|**det(a)**|Determinante de una matriz|Entrega el determinante de la matriz a.|\n",
    "|**inv(a)**|Matriz Inversa|Determina la matriz inversa de la matriz cuadrada a.|\n",
    "|**eigvals(a)**|Autovalores de una matriz|Determina los autovalores de la matriz cuadrada a.|\n",
    "|**eig(a)**|Autovectores de una matriz|Determina los autovectores de la matriz cuadrada a.|\n",
    "|**solve(a,b)**|Solución de un sistema de ecuaciones|Determina la solución de un sistema de ecuaciones lineales.|\n"
   ]
  },
  {
   "cell_type": "markdown",
   "metadata": {},
   "source": [
    "## Librería Matplotlib\n",
    "\n",
    "Ha llegado el momento...🥁  hasta ahora hemos visto la definición de variables de distinto tipo asi como estruturas de datos,entre otros aspectos reelevantes en Python,incluso ya cargamos **Numpy**...nuestra primera libreria.\n",
    "\n",
    "Pero ahora toca el turno de utilizar la libreria Matplotlib,la cual es una libreria desarrollada para la creación de gráficos.Cabe destacar que no es la unica libreria para desarrollo de gráficos.\n",
    "\n",
    "Alguno de los gráficos que se pueden desarrollar con Matplotlib y que veremos son los siguientes:\n",
    "\n",
    "* Diagramas de dispersión\n",
    "* Diagramas de lineas\n",
    "* Diagramas de cajas\n",
    "* Diagramas de barras\n",
    "* Histograma\n",
    "\n",
    "Uno de los gráficos mas utilizados son los diagramas de dispersión,ya que rapidamente nos permite visualizar como se distribuyen los datos en el espacio.En algunos casos tendremos que utilizar otros gráficos para representar de mejor forma la información,pero es un buen punto de partida. 💡\n"
   ]
  },
  {
   "cell_type": "code",
   "execution_count": 11,
   "metadata": {},
   "outputs": [
    {
     "data": {
      "image/png": "[encoded data removed]",
      "text/plain": [
       "<Figure size 400x400 with 1 Axes>"
      ]
     },
     "metadata": {},
     "output_type": "display_data"
    }
   ],
   "source": [
    "#Traemos el módulo pyplot de forma abreviada como plt\n",
    "import matplotlib.pyplot as plt\n",
    "\n",
    "#Se crea la figura y los ejes\n",
    "fig,ax=plt.subplots()\n",
    "\n",
    "#Se definen los puntos tanto del eje x como del y donde diagrama\n",
    "ax.scatter(x=[1,1.5,2,2.5,3],y=[1,1.5,2,1.5,1])\n",
    "\n",
    "#Opcionalmente podemos definir el tamaño de la figura\n",
    "fig.set_size_inches(4,4)\n",
    "\n",
    "#Finalmente mostramos el grafico\n",
    "plt.show()\n"
   ]
  },
  {
   "cell_type": "markdown",
   "metadata": {},
   "source": [
    "Sin embargo para realizar algunos graficos como los ya mencionados,podemos utilizar funciones desarrolladas especificamente para esa tarea,a continuación se muestran:"
   ]
  },
  {
   "cell_type": "markdown",
   "metadata": {},
   "source": [
    "### Diagramas de dispersión"
   ]
  },
  {
   "cell_type": "markdown",
   "metadata": {},
   "source": [
    "### Diagramas de líneas"
   ]
  },
  {
   "cell_type": "markdown",
   "metadata": {},
   "source": [
    "### Diagramas de cajas"
   ]
  },
  {
   "cell_type": "markdown",
   "metadata": {},
   "source": [
    "### Diagramas de barras"
   ]
  },
  {
   "cell_type": "markdown",
   "metadata": {},
   "source": [
    "### Histograma"
   ]
  },
  {
   "cell_type": "markdown",
   "metadata": {},
   "source": [
    "## Librería Plotly"
   ]
  }
 ],
 "metadata": {
  "kernelspec": {
   "display_name": "Python 3 (ipykernel)",
   "language": "python",
   "name": "python3"
  },
  "language_info": {
   "codemirror_mode": {
    "name": "ipython",
    "version": 3
   },
   "file_extension": ".py",
   "mimetype": "text/x-python",
   "name": "python",
   "nbconvert_exporter": "python",
   "pygments_lexer": "ipython3",
   "version": "3.10.6"
  },
  "toc-autonumbering": true,
  "toc-showcode": false,
  "toc-showmarkdowntxt": false,
  "toc-showtags": false,
  "vscode": {
   "interpreter": {
    "hash": "26de051ba29f2982a8de78e945f0abaf191376122a1563185a90213a26c5da77"
   }
  }
 },
 "nbformat": 4,
 "nbformat_minor": 4
}
