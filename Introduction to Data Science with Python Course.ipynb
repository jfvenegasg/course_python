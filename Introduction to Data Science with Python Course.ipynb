{
 "cells": [
  {
   "cell_type": "markdown",
   "metadata": {
    "slideshow": {
     "slide_type": "slide"
    },
    "tags": []
   },
   "source": [
    "# Welcome to the course **Introduction to Data Science with Python**"
   ]
  },
  {
   "cell_type": "markdown",
   "metadata": {},
   "source": [
    "<center>\n",
    "<img src=https://media.geeksforgeeks.org/wp-content/uploads/20230222183754/Data-Science-Fir-beginner.png>"
   ]
  },
  {
   "cell_type": "markdown",
   "metadata": {},
   "source": [
    "## Goals"
   ]
  },
  {
   "cell_type": "markdown",
   "metadata": {},
   "source": [
    "* Recognize the uses of the Python language.\n",
    "* Understand the basic concepts and functionalities of Python.\n",
    "* Code development for the design of solutions."
   ]
  },
  {
   "cell_type": "markdown",
   "metadata": {
    "tags": []
   },
   "source": [
    "<a id='Index'></a>\n",
    "## Index\n",
    "[Index ▲](#Index)\n",
    "\n",
    "1. [Hello Python](#Hello-Python)\n",
    "2. [Functions](#Functions)\n",
    "3. [Booleans and conditionals](#Booleans-and-conditionals)\n",
    "4. [Lists](#Lists)\n",
    "5. [Cycles](#Cycles)\n",
    "6. [Dictionaries](#Dictionaries)\n",
    "7. [Working with libraries](#Working-with-libraries)\n",
    "    1. [Library Numpy](#Library-Numpy)\n",
    "    2. [Library Matplotlib](#Library-Matplotlib)\n",
    "    3. [Library Plotly](#Library-Plotly)\n",
    "    4. [Library Scikit-Learn](#Library-Scikit-Learn)\n"
   ]
  },
  {
   "cell_type": "markdown",
   "metadata": {},
   "source": [
    "<a id='Hello-Python'></a>\n",
    "### Hello Python 🚀\n",
    "\n",
    "[Index ▲](#Index)\n",
    "\n",
    "This introductory course covers the basic aspects of the Python language, which you will need to get started in the area of Data Science. This course is dedicated mainly for those who already have experience with code or even another language such as R, Julia, Matlab, among others.\n",
    "\n",
    "We will first start with Python syntax, as well as variable assignment and arithmetic operations.\n",
    "\n",
    "Generally in a data science project, we need to present results of models, graphs and/or analysis. In this way, a first message that we could develop would be that our project was successful, for this we must define the variable where we will save the message \"The project was successful.\""
   ]
  },
  {
   "cell_type": "code",
   "execution_count": 1,
   "metadata": {},
   "outputs": [
    {
     "name": "stdout",
     "output_type": "stream",
     "text": [
      "The project was successful.\n"
     ]
    }
   ],
   "source": [
    "message=\"The project was successful.\"\n",
    "print(message)"
   ]
  },
  {
   "cell_type": "markdown",
   "metadata": {},
   "source": [
    "As you can see, exposing results in Python is not as difficult as we might think.\n",
    "\n",
    "Just as in the previous code block, in Python you can work with different types of variables: Numeric, String, among other subtypes. But it should be noted that when we talk about numerical variables, with them we can perform all types of arithmetic operations and with the String type variables we can generate texts that show the output of a successful process or even generate documentation.\n",
    "\n",
    "Below we can see an example of a numeric variable that stores the value 33 and a string variable that stores the text \"This is my age\""
   ]
  },
  {
   "cell_type": "code",
   "execution_count": 1,
   "metadata": {},
   "outputs": [],
   "source": [
    "number=33\n",
    "phrase=\"This is my age\""
   ]
  },
  {
   "cell_type": "markdown",
   "metadata": {},
   "source": [
    "However, we could work with both variables together and display it as an output, as shown below with the variable **print()**"
   ]
  },
  {
   "cell_type": "code",
   "execution_count": 2,
   "metadata": {},
   "outputs": [
    {
     "name": "stdout",
     "output_type": "stream",
     "text": [
      "This is my age 33\n"
     ]
    }
   ],
   "source": [
    "print(phrase,number)"
   ]
  },
  {
   "cell_type": "markdown",
   "metadata": {},
   "source": [
    "Ya hemos visto dos tipos de variables,sin embargo si tenemos dudas acerca de la definción podemos verificar el tipo de variable con que estamos trabajando."
   ]
  },
  {
   "cell_type": "code",
   "execution_count": 3,
   "metadata": {},
   "outputs": [
    {
     "data": {
      "text/plain": [
       "int"
      ]
     },
     "execution_count": 3,
     "metadata": {},
     "output_type": "execute_result"
    }
   ],
   "source": [
    "type(number)"
   ]
  },
  {
   "cell_type": "code",
   "execution_count": 4,
   "metadata": {},
   "outputs": [
    {
     "data": {
      "text/plain": [
       "str"
      ]
     },
     "execution_count": 4,
     "metadata": {},
     "output_type": "execute_result"
    }
   ],
   "source": [
    "type(phrase)"
   ]
  },
  {
   "cell_type": "markdown",
   "metadata": {},
   "source": [
    "As we can see in the output of the block, the variable that stores the number value is of type **\"int\"**, this is an abbreviation for **\"integer\"**, instead for the phrase variable the type is **\"str\"** referring to **\"string\"** or text string. However, we could also define a variable that stores a numerical value as text, in this case we could not perform arithmetic operations with it."
   ]
  },
  {
   "cell_type": "code",
   "execution_count": 7,
   "metadata": {},
   "outputs": [
    {
     "name": "stdout",
     "output_type": "stream",
     "text": [
      "The 'other_number' variable,stores the value 28.2\n"
     ]
    }
   ],
   "source": [
    "other_number=\"28.2\"\n",
    "type(other_number)\n",
    "\n",
    "print(\"The 'other_number' variable,stores the value\",other_number)"
   ]
  },
  {
   "cell_type": "markdown",
   "metadata": {},
   "source": [
    "However, if we wanted to work with numerical variables with decimal values such as **\"30.2\"** **\"23.4\"** or others, we can define variable of type **float**."
   ]
  },
  {
   "cell_type": "code",
   "execution_count": 8,
   "metadata": {},
   "outputs": [
    {
     "name": "stdout",
     "output_type": "stream",
     "text": [
      "The number_float variable,have the value 30.2 and his type is <class 'float'>\n"
     ]
    }
   ],
   "source": [
    "number_float=30.2\n",
    "\n",
    "print(\"The number_float variable,have the value\",number_float,\"and his type is\",type(number_float))"
   ]
  },
  {
   "cell_type": "markdown",
   "metadata": {},
   "source": [
    "In this way, if we wanted to perform arithmetic operations with variables of type integer or float, we can perform the operations listed in the following table.\n",
    "\n",
    "<table ><tr><th> Syntax <th><th> Operation <th><th> Description <tr><tr>\n",
    "<tr><td> x + y  <td><td> Addition     <td><td> The sum of x and y <td><tr>\n",
    "<tr><td> x - y  <td><td> Subtraction <td><td> The difference between x and y y <td><tr>\n",
    "<tr><td> x * y  <td><td> Multiplication <td><td> The product between x and y <td><tr>\n",
    "<tr><td> x / y  <td><td> Division       <td><td> The quotient between x e y. <td><tr>\n",
    "<tr><td> x %  y <td><td> Module  <td><td> The remaining integer value, after dividing x and y. <td><tr>\n",
    "<tr><td> x ** y <td><td> Empowerment <td><td> The result of raising x to y. <td><tr>\n",
    "<tr><td> -x     <td><td> Denial <td><td> The negative value of x. <td><tr><table>"
   ]
  },
  {
   "cell_type": "markdown",
   "metadata": {},
   "source": [
    "According to the above,we can perform some basic operations such as addition,subtraction,division and multiplication...by previously defining the variables x and y."
   ]
  },
  {
   "cell_type": "code",
   "execution_count": 10,
   "metadata": {},
   "outputs": [],
   "source": [
    "x=10\n",
    "y=2"
   ]
  },
  {
   "cell_type": "code",
   "execution_count": 11,
   "metadata": {},
   "outputs": [
    {
     "name": "stdout",
     "output_type": "stream",
     "text": [
      "12\n"
     ]
    }
   ],
   "source": [
    "print(x+2)"
   ]
  },
  {
   "cell_type": "code",
   "execution_count": 12,
   "metadata": {},
   "outputs": [
    {
     "name": "stdout",
     "output_type": "stream",
     "text": [
      "8\n"
     ]
    }
   ],
   "source": [
    "print(x-2)"
   ]
  },
  {
   "cell_type": "code",
   "execution_count": 13,
   "metadata": {},
   "outputs": [
    {
     "name": "stdout",
     "output_type": "stream",
     "text": [
      "The division the between y is 5.0\n"
     ]
    }
   ],
   "source": [
    "print(\"The division the between y is\",x/y)"
   ]
  },
  {
   "cell_type": "code",
   "execution_count": 14,
   "metadata": {},
   "outputs": [
    {
     "name": "stdout",
     "output_type": "stream",
     "text": [
      "The multiplication between the variables x and y is 20\n"
     ]
    }
   ],
   "source": [
    "print(\"The multiplication between the variables x and y is\",x*y)"
   ]
  },
  {
   "cell_type": "markdown",
   "metadata": {},
   "source": [
    "But,also we can make some calculus a bit more complex,like determine volumes of cube,cones or others figures."
   ]
  },
  {
   "cell_type": "code",
   "execution_count": 15,
   "metadata": {},
   "outputs": [
    {
     "name": "stdout",
     "output_type": "stream",
     "text": [
      "A cube of face 5 have a volumne of: 125 cm^3\n"
     ]
    }
   ],
   "source": [
    "face=5\n",
    "print(\"A cube of face\",face,\"have a volumne of:\",face**3,\"cm^3\")"
   ]
  },
  {
   "cell_type": "code",
   "execution_count": 18,
   "metadata": {},
   "outputs": [
    {
     "name": "stdout",
     "output_type": "stream",
     "text": [
      "The volume of a parallelepiped,with height of 2 wide 4 and length 7 is of:  56 cm^3\n"
     ]
    }
   ],
   "source": [
    "height=2\n",
    "wide=4\n",
    "length=7\n",
    "\n",
    "print(\"The volume of a parallelepiped,with height of\",height,\"wide\",wide,\"and length\",length,\"is of: \",height*wide*length,\"cm^3\")"
   ]
  },
  {
   "cell_type": "markdown",
   "metadata": {},
   "source": [
    "<a id='Functions'></a>\n",
    "### Functions 🎸\n",
    "\n",
    "[Index ▲](#Index)\n",
    "\n",
    "Just as in the previous section we saw how to define, manipulate some types of variables and even define some formulas, in other cases we will need to define more complex procedures and/or that require several steps for their execution and for this we will use functions, which we can use whenever we want.\n",
    "\n",
    "As a first function we could define a simple function that prints some values on the screen\n"
   ]
  },
  {
   "cell_type": "code",
   "execution_count": 1,
   "metadata": {},
   "outputs": [
    {
     "name": "stdout",
     "output_type": "stream",
     "text": [
      "Good Morning:  juan the balance in your account is: 100\n"
     ]
    }
   ],
   "source": [
    "def function_balance(name):\n",
    "    \"This is the help of function\"\n",
    "    \n",
    "    balance=100\n",
    "    return print(\"Good Morning: \",name,\"the balance in your account is:\",balance)\n",
    "\n",
    "function_balance(name=\"juan\")"
   ]
  },
  {
   "cell_type": "markdown",
   "metadata": {},
   "source": [
    "Every function in Python starts with the reserved word **def**, then the name which in this case is **function_balance** and within parentheses the variables that the function accepts. Once the variable accepts the variable name, A balance of 100 is generated and saved in the balance variable. Finally, the function returns a message to the user.\n",
    "\n",
    "However, if we want to know a little more about the function we can call its help with the **help()** function"
   ]
  },
  {
   "cell_type": "code",
   "execution_count": 4,
   "metadata": {},
   "outputs": [
    {
     "name": "stdout",
     "output_type": "stream",
     "text": [
      "Help on function function_balance in module __main__:\n",
      "\n",
      "function_balance(name)\n",
      "    This is the help of function\n",
      "\n"
     ]
    }
   ],
   "source": [
    "help(function_balance)"
   ]
  },
  {
   "cell_type": "markdown",
   "metadata": {},
   "source": [
    "In this case, the help information of the function is provided. However, we can add more detailed information to the description of the function using the triple quotes **\"\"\"** within it."
   ]
  },
  {
   "cell_type": "code",
   "execution_count": 2,
   "metadata": {},
   "outputs": [
    {
     "name": "stdout",
     "output_type": "stream",
     "text": [
      "Help on function function_balance in module __main__:\n",
      "\n",
      "function_balance(name)\n",
      "    This is the help of the function_balance.This function\n",
      "    print of message with the input name and the default balance\n",
      "    is 100\n",
      "\n"
     ]
    }
   ],
   "source": [
    "def function_balance(name):\n",
    "    \"\"\"This is the help of the function_balance.This function\n",
    "    print of message with the input name and the default balance\n",
    "    is 100\n",
    "    \"\"\"\n",
    "    \n",
    "    balance=100\n",
    "    return print(\"Good morning: \",name,\"the balance in your account:\",balance)\n",
    "\n",
    "help(function_balance)"
   ]
  },
  {
   "cell_type": "markdown",
   "metadata": {},
   "source": [
    "In this case, the help information of the function is provided. However, we can add more detailed information to the description of the function using the triple quotes **\"\"\"** within it.Unlike the previous code, now it is explicitly shown what the function does, which was added in the new definition of the function **\"function_balance\"**.\n",
    "\n",
    "But we can also define functions that perform some more extensive operations, as well as mathematical operations that take different values depending on the variables defined for the function.\n",
    "\n",
    "In this case the **difference** function determines the absolute differences that exist between 3 variables **a**, **b** and **c**. Thus, the differences are determined inside the function and then they are returned along with the text that shows which pairs of variables the differences are determined. It should be noted that the help was also written for this function."
   ]
  },
  {
   "cell_type": "code",
   "execution_count": 3,
   "metadata": {},
   "outputs": [
    {
     "name": "stdout",
     "output_type": "stream",
     "text": [
      "Help on function difference in module __main__:\n",
      "\n",
      "difference(a, b, c)\n",
      "    This function return the difference between three values that are delivered\n",
      "\n",
      "The difference between a and b is 10 The difference between a and c is 20 and the difference between b and c is 10\n"
     ]
    }
   ],
   "source": [
    "def difference(a,b,c):\n",
    "    \"\"\" This function return the difference between three values that are delivered\"\"\"\n",
    "    \n",
    "    dif1=abs(a-b)\n",
    "    dif2=abs(a-c)\n",
    "    dif3=abs(b-c)\n",
    "    return print(\"The difference between a and b is\",dif1,\"The difference between a and c is\",dif2,\"and the difference between b and c is\",dif3)\n",
    "    \n",
    "\n",
    "help(difference)\n",
    "\n",
    "difference(10,20,30)"
   ]
  },
  {
   "cell_type": "markdown",
   "metadata": {},
   "source": [
    "But things can still be complicated a little more...👀 In many cases we will use functions for specific tasks, but in others we might need to apply another function to a function immediately, that way the output of the first one will be applied a new function. If we create a first function multi_1(x), which multiplies the input value by 2, we could modify the output with a new function multi_2(fn)"
   ]
  },
  {
   "cell_type": "code",
   "execution_count": 2,
   "metadata": {},
   "outputs": [
    {
     "data": {
      "text/plain": [
       "60"
      ]
     },
     "execution_count": 2,
     "metadata": {},
     "output_type": "execute_result"
    }
   ],
   "source": [
    "def multi_1(x=2):\n",
    "    \"\"\"This first function multiply for 2 the input variable,by default the input value is 2\"\"\"\n",
    "    \n",
    "    y=x*2\n",
    "    return y\n",
    "\n",
    "def multi_2(fn):\n",
    "    \"\"\" This function take the output of multi_1 and multiplies for 2 \"\"\"\n",
    "\n",
    "    z=fn*3\n",
    "    return z\n",
    "\n",
    "\n",
    "multi_2(multi_1(10))\n"
   ]
  },
  {
   "cell_type": "markdown",
   "metadata": {},
   "source": [
    "In this way we can call a function within another, when we give **multi_1()** the value of 10, it multiplies it by 2 and returns 20. So then this value 20 is taken by the function **multi_2 ()** and multiplies it by **3**, thus obtaining the value **60** that is shown on the screen."
   ]
  },
  {
   "cell_type": "markdown",
   "metadata": {},
   "source": [
    "<a id='Booleans-and-conditionals'></a>\n",
    "### Booleans and conditionals 🕹\n",
    "\n",
    "[Index ▲](#Index)\n",
    "\n",
    "We already saw that in Python there are different types of variables such as \"integer\" and \"string\", but we will not always work with numbers or text. We can use the variables **\"bool\"**, which have 2 possible values **\"True \"** or **\"False\"**.\n",
    "\n",
    "We can obtain these variables as the output of other functions, but we can also define and validate this type of variable whenever necessary."
   ]
  },
  {
   "cell_type": "code",
   "execution_count": 70,
   "metadata": {},
   "outputs": [
    {
     "name": "stdout",
     "output_type": "stream",
     "text": [
      "True\n",
      "<class 'bool'>\n"
     ]
    }
   ],
   "source": [
    "x=True\n",
    "print(x)\n",
    "print(type(x))\n"
   ]
  },
  {
   "cell_type": "markdown",
   "metadata": {},
   "source": [
    "In this case we can see that the value of x is **\"True\"** and when validating the type of variables which is x, it returns on the screen that it is **\"bool\"** or **\"boolean\"* *.\n",
    "\n",
    "We can also define other variables and check if their values are the same or different."
   ]
  },
  {
   "cell_type": "code",
   "execution_count": 71,
   "metadata": {},
   "outputs": [
    {
     "data": {
      "text/plain": [
       "False"
      ]
     },
     "execution_count": 71,
     "metadata": {},
     "output_type": "execute_result"
    }
   ],
   "source": [
    "y=False\n",
    "\n",
    "x==y"
   ]
  },
  {
   "cell_type": "markdown",
   "metadata": {},
   "source": [
    "In this case, when defining a new variable *y* as **\"False\"**, we can see that when checking with the **\"==\"** sign if they are equal, the value \"False\" is returned, due to to which x is assigned the value **True** instead and is assigned the value **False**.\n",
    "\n",
    "However, we can use various operators between Boolean variables as appropriate.\n",
    "\n",
    "<table ><tr><th> Operation <th><th> Description <tr><tr>\n",
    "<tr><td> x == y<td><td>x is equal to y<td><tr>\n",
    "<tr><td> x < y<td><td>x is minor than y<td><tr>\n",
    "<tr><td> x <= y<td><td>x is minor or equal than y<td><tr>\n",
    "<tr><td> x != y<td><td>x is not equal to y<td><tr>\n",
    "<tr><td> x > y<td><td>x is greater than y<td><tr>\n",
    "<tr><td> x >= y<td><td>x is greater or equal to y<td><tr><table>\n",
    "\n",
    "By this way,we can integrate this type of variables and the operations in some any functions."
   ]
  },
  {
   "cell_type": "code",
   "execution_count": 1,
   "metadata": {},
   "outputs": [
    {
     "name": "stdout",
     "output_type": "stream",
     "text": [
      "Your balance is 100\n"
     ]
    }
   ],
   "source": [
    "def cashier(card):\n",
    "    \"\"\" This function allows you validate,if the card have balance or not \"\"\"\n",
    "    \n",
    "    balance=100\n",
    "    if card==True:\n",
    "        return print(\"Your balance is\",balance)\n",
    "    else: \n",
    "        return print(\"Not possible validate your balance in this moment.\")\n",
    "              \n",
    "\n",
    "cashier(card=True)\n",
    "\n"
   ]
  },
  {
   "cell_type": "markdown",
   "metadata": {},
   "source": [
    "And this,allows you validate if the **card** variable have the **TRUE** value in the cashier.The cashier function return the message **Your balance is 100**,and in other case is not possible validate the balance."
   ]
  },
  {
   "cell_type": "markdown",
   "metadata": {},
   "source": [
    "## Functions and conditions\n",
    "\n",
    "As we saw in the previous code we can verify the value assigned to a numeric, boolean or string variable, using an operator and a condition. This is because if a variable meets a certain condition, a block of code is executed, otherwise another block of code is executed.\n",
    "\n",
    "Although we can also verify if more than one condition is met, as in the following inspector function."
   ]
  },
  {
   "cell_type": "code",
   "execution_count": 3,
   "metadata": {},
   "outputs": [
    {
     "name": "stdout",
     "output_type": "stream",
     "text": [
      "0 Is zero\n",
      "-10 Is negative\n"
     ]
    }
   ],
   "source": [
    "def checker(x):\n",
    "    if x==0:\n",
    "        print(x,\"Is zero\")\n",
    "    elif x>0:\n",
    "        print(x,\"Is positive\")\n",
    "    else: \n",
    "        print(x,\"Is negative\")\n",
    "\n",
    "checker(0)\n",
    "checker(-10)\n",
    "\n",
    "\n"
   ]
  },
  {
   "cell_type": "markdown",
   "metadata": {},
   "source": [
    "In this case, the function, once it is given a numerical value, is able to determine *if it is equal to 0*, *greater than 0* or even *if it is less than 0*.\n",
    "\n",
    "This is done through the **if** condition, where this if condition verifies that the condition **x==0** is met, if not met, the verification that it is greater than 0 is used with **elif* * and if none of the previous two are met, the last block of code corresponding to **print(x,\"It is negative\")** is executed.\n",
    "\n",
    "Some last considerations for Boolean variables. We can convert almost any type of data to a Boolean variable, in this way every positive value or non-empty text will be considered in Python as a True value and the value 0 or empty text as False, as in the next case."
   ]
  },
  {
   "cell_type": "code",
   "execution_count": 5,
   "metadata": {},
   "outputs": [
    {
     "name": "stdout",
     "output_type": "stream",
     "text": [
      "True\n",
      "True\n",
      "False\n",
      "False\n"
     ]
    }
   ],
   "source": [
    "print(bool(12))\n",
    "print(bool(\"Hi\"))\n",
    "print(bool(0))\n",
    "print(bool(\"\"))"
   ]
  },
  {
   "cell_type": "markdown",
   "metadata": {},
   "source": [
    "<a id='Lists'></a>\n",
    "### Lists 🏗\n",
    "\n",
    "[Index ▲](#Index)\n",
    "\n",
    "Lists in Python are a data structure similar to what we do with the variables we already know, but they allow us to perform more complex operations.\n",
    "\n",
    "This way in a list we can store a sequence of values, like the lists generated for the **primes** and **days** variables below."
   ]
  },
  {
   "cell_type": "code",
   "execution_count": 6,
   "metadata": {},
   "outputs": [],
   "source": [
    "primes=[2,3,5,7]\n",
    "\n",
    "days=[\"Monday\",\"Tuesday\",\"Wednesday\",\"Thursday\",\"Friday\"]"
   ]
  },
  {
   "cell_type": "markdown",
   "metadata": {},
   "source": [
    "As you can see, both are lists, however in the first we store only numerical values and in the second we store strings.\n",
    "\n",
    "But we can take it a little further and create a list of lists 👀"
   ]
  },
  {
   "cell_type": "code",
   "execution_count": 2,
   "metadata": {},
   "outputs": [],
   "source": [
    "cards=[[\"j\",\"q\",\"k\"],[2,3,5],[5,\"A\",\"K\"]]"
   ]
  },
  {
   "cell_type": "markdown",
   "metadata": {},
   "source": [
    "In this case we generate a list composed of **3 lists**, however each of these lists is different. The first only contains **string** values, the second only **numeric** values and the third contains both numeric values as string.\n",
    "\n",
    "Since we have a list that has a more extensive structure, we might want to select some of its values and not always deal with the entire **cards** list. So we could select"
   ]
  },
  {
   "cell_type": "code",
   "execution_count": 3,
   "metadata": {},
   "outputs": [
    {
     "name": "stdout",
     "output_type": "stream",
     "text": [
      "[2, 3, 5]\n",
      "[5, 'A', 'K']\n"
     ]
    }
   ],
   "source": [
    "print(cards[1])\n",
    "\n",
    "print(cards[2])"
   ]
  },
  {
   "cell_type": "markdown",
   "metadata": {},
   "source": [
    "So we can select the second list of cards or even select the third list of cards. But we could even select one of the elements of these lists as in the next block."
   ]
  },
  {
   "cell_type": "code",
   "execution_count": 4,
   "metadata": {},
   "outputs": [
    {
     "name": "stdout",
     "output_type": "stream",
     "text": [
      "2\n",
      "K\n"
     ]
    }
   ],
   "source": [
    "print(cards[1][0])\n",
    "\n",
    "print(cards[2][2])"
   ]
  },
  {
   "cell_type": "markdown",
   "metadata": {},
   "source": [
    "There you can see how we can select the first element of the second list obtaining the value of **2** or select the third element of the third list obtaining the string **K**.\n",
    "\n",
    "But if once we define the card list, we want to add a new hand... sorry a new list, we can do it with the following assignment."
   ]
  },
  {
   "cell_type": "code",
   "execution_count": 79,
   "metadata": {},
   "outputs": [
    {
     "data": {
      "text/plain": [
       "[['A', 'J', 'Q'], [2, 3, 5], [5, 'A', 'K']]"
      ]
     },
     "execution_count": 79,
     "metadata": {},
     "output_type": "execute_result"
    }
   ],
   "source": [
    "cards[0]=[\"A\",\"J\",\"Q\"]\n",
    "\n",
    "cards"
   ]
  },
  {
   "cell_type": "markdown",
   "metadata": {},
   "source": [
    "Now as expected, we can also use some functions on these lists. In this case we might want to determine the number of days that the days variable has 😅... or even sort the days alphabetically... or even mathematical operations like the sum of the prime numbers or determine the maximum of them."
   ]
  },
  {
   "cell_type": "code",
   "execution_count": 7,
   "metadata": {},
   "outputs": [
    {
     "name": "stdout",
     "output_type": "stream",
     "text": [
      "5\n",
      "['Friday', 'Monday', 'Thursday', 'Tuesday', 'Wednesday']\n",
      "17\n",
      "7\n"
     ]
    }
   ],
   "source": [
    "# How many days are there in a week\n",
    "print(len(days))\n",
    "\n",
    "# Sort the days alphabetically\n",
    "print(sorted(days))\n",
    "\n",
    "# sum of prime numbers\n",
    "print(sum(primes))\n",
    "\n",
    "#maximum  of prime numbers\n",
    "print(max(primes))"
   ]
  },
  {
   "cell_type": "markdown",
   "metadata": {},
   "source": [
    "#### Methods\n",
    "\n",
    "Unlike the functions that are already created in Python or those that we can define. There are also methods that are already created in Python **Built-in**, which however depend on the type of variable we are working with.\n",
    "\n",
    "Some of the methods developed in Python for different types of variables:\n",
    "\n",
    "<table ><tr><th>Method<th><th>Description<tr><tr >\n",
    "<tr><td>capitalize()<td><td>Convert in capitalize the first character in the string.<td><tr>\n",
    "<tr><td>index()<td><td>Search the position of a character and return.<td><tr>\n",
    "<tr><td>split()<td><td>Separate a string and convert in a list.<td><tr>\n",
    "<tr><td>upper()<td><td>Convert in capitalize all character of a string.<td><tr>\n",
    "<tr><td>lower()<td><td>Convert all character of a string in lower.<td><tr><table>   \n",
    "    "
   ]
  },
  {
   "cell_type": "code",
   "execution_count": 1,
   "metadata": {},
   "outputs": [
    {
     "data": {
      "text/plain": [
       "'This a test text'"
      ]
     },
     "execution_count": 1,
     "metadata": {},
     "output_type": "execute_result"
    }
   ],
   "source": [
    "text=\"This a test text\"\n",
    "text.capitalize()"
   ]
  },
  {
   "cell_type": "code",
   "execution_count": 2,
   "metadata": {},
   "outputs": [
    {
     "data": {
      "text/plain": [
       "12"
      ]
     },
     "execution_count": 2,
     "metadata": {},
     "output_type": "execute_result"
    }
   ],
   "source": [
    "text.index(\"text\")"
   ]
  },
  {
   "cell_type": "code",
   "execution_count": 83,
   "metadata": {},
   "outputs": [
    {
     "data": {
      "text/plain": [
       "['este', 'es', 'un', 'texto', 'de', 'prueba']"
      ]
     },
     "execution_count": 83,
     "metadata": {},
     "output_type": "execute_result"
    }
   ],
   "source": [
    "text.split()"
   ]
  },
  {
   "cell_type": "code",
   "execution_count": 3,
   "metadata": {},
   "outputs": [
    {
     "data": {
      "text/plain": [
       "'THIS A TEST TEXT'"
      ]
     },
     "execution_count": 3,
     "metadata": {},
     "output_type": "execute_result"
    }
   ],
   "source": [
    "text.upper()"
   ]
  },
  {
   "cell_type": "code",
   "execution_count": 4,
   "metadata": {},
   "outputs": [
    {
     "data": {
      "text/plain": [
       "'this a test text'"
      ]
     },
     "execution_count": 4,
     "metadata": {},
     "output_type": "execute_result"
    }
   ],
   "source": [
    "text.lower()"
   ]
  },
  {
   "cell_type": "markdown",
   "metadata": {},
   "source": [
    "But we could also use methods on numerical variables, lists and others. However, the main difference between a method and a function is that the methods will always be part of a class, otherwise they are part of the functionalities that we can give to an object .\n",
    "\n",
    "Perhaps so far we have not talked about objects, however objects are one of the main features of Python, since this is a software that supports Object Oriented Programming (OOP), in a later course."
   ]
  },
  {
   "cell_type": "markdown",
   "metadata": {},
   "source": [
    "#### Tuples\n",
    "\n",
    "Tuples are similar to lists, however they have some differences with lists. At first we can define them in a similar way to the one generated and saved in the variable t"
   ]
  },
  {
   "cell_type": "code",
   "execution_count": 86,
   "metadata": {},
   "outputs": [
    {
     "data": {
      "text/plain": [
       "(1, 2, 3)"
      ]
     },
     "execution_count": 86,
     "metadata": {},
     "output_type": "execute_result"
    }
   ],
   "source": [
    "t=(1,2,3)\n",
    "t"
   ]
  },
  {
   "cell_type": "markdown",
   "metadata": {},
   "source": [
    "In this case we only change the type of parentheses to create the tuple t, however if we wanted to change any of the values of the tuple as in the previous cases we cannot, below is a forced error... 👀"
   ]
  },
  {
   "cell_type": "code",
   "execution_count": 87,
   "metadata": {},
   "outputs": [
    {
     "ename": "TypeError",
     "evalue": "'tuple' object does not support item assignment",
     "output_type": "error",
     "traceback": [
      "\u001b[1;31m---------------------------------------------------------------------------\u001b[0m",
      "\u001b[1;31mTypeError\u001b[0m                                 Traceback (most recent call last)",
      "Cell \u001b[1;32mIn [87], line 1\u001b[0m\n\u001b[1;32m----> 1\u001b[0m \u001b[43mt\u001b[49m\u001b[43m[\u001b[49m\u001b[38;5;241;43m0\u001b[39;49m\u001b[43m]\u001b[49m\u001b[38;5;241m=\u001b[39m\u001b[38;5;241m1\u001b[39m\n",
      "\u001b[1;31mTypeError\u001b[0m: 'tuple' object does not support item assignment"
     ]
    }
   ],
   "source": [
    "t[0]=1"
   ]
  },
  {
   "cell_type": "markdown",
   "metadata": {},
   "source": [
    "But as we already saw, we can also use methods on tuples. In this case, if we have a float type variable, we can use the **as_integer_ratio()** method to return a **tuple** composed of the **numerator and denominator* * from the float variable."
   ]
  },
  {
   "cell_type": "code",
   "execution_count": 1,
   "metadata": {},
   "outputs": [
    {
     "name": "stdout",
     "output_type": "stream",
     "text": [
      "0.125\n"
     ]
    }
   ],
   "source": [
    "x=0.125\n",
    "\n",
    "numerator,denominator=x.as_integer_ratio()\n",
    "\n",
    "print(numerator/denominator)"
   ]
  },
  {
   "cell_type": "markdown",
   "metadata": {},
   "source": [
    "<a id='Cycles'></a>\n",
    "### Cycles 🎰\n",
    "\n",
    "[Index ▲](#Index)\n",
    "\n",
    "Life has many cycles... well not exactly like the ones we are going to see now, but they certainly have a lot in common with routines. As we have seen we can define lists of *text strings*, in this case we can define a list with the days of the week."
   ]
  },
  {
   "cell_type": "markdown",
   "metadata": {},
   "source": [
    "#### Loop for"
   ]
  },
  {
   "cell_type": "code",
   "execution_count": null,
   "metadata": {},
   "outputs": [],
   "source": [
    "days=[\"Monday\",\"Tuesday\",\"Wednesday\",\"Thursday\",\"Friday\",\"Saturday\"]"
   ]
  },
  {
   "cell_type": "markdown",
   "metadata": {},
   "source": [
    "And we could show each day on the screen with a for loop"
   ]
  },
  {
   "cell_type": "code",
   "execution_count": null,
   "metadata": {},
   "outputs": [],
   "source": [
    "for i in days:\n",
    "    print(i)"
   ]
  },
  {
   "cell_type": "markdown",
   "metadata": {},
   "source": [
    "As you can see, the **for** loop iterates the variable **i** over the list **days**, taking each of the values and printing the day on the screen.\n",
    "\n",
    "On the other hand, if we took a numerical list and iterated it in the same way, it would only print the numerical values of this list."
   ]
  },
  {
   "cell_type": "code",
   "execution_count": 1,
   "metadata": {},
   "outputs": [
    {
     "name": "stdout",
     "output_type": "stream",
     "text": [
      "1\n",
      "2\n",
      "3\n",
      "4\n",
      "5\n"
     ]
    }
   ],
   "source": [
    "numbers=[1,2,3,4,5]\n",
    "\n",
    "for j in numbers:\n",
    "    print(j)    "
   ]
  },
  {
   "cell_type": "markdown",
   "metadata": {},
   "source": [
    "So we can see that in this case we change the list and then iterate with a new variable, in this case j.\n",
    "\n",
    "Furthermore, we can not only iterate the values in a list, we could also perform some operation within the loop, in this case we define a new list and then the product variable."
   ]
  },
  {
   "cell_type": "code",
   "execution_count": 3,
   "metadata": {},
   "outputs": [
    {
     "data": {
      "text/plain": [
       "360"
      ]
     },
     "execution_count": 3,
     "metadata": {},
     "output_type": "execute_result"
    }
   ],
   "source": [
    "multiplicative=(2,2,2,3,3,5)\n",
    "product=1\n",
    "\n",
    "for i in multiplicative:\n",
    "     product=product*i\n",
    "\n",
    "product"
   ]
  },
  {
   "cell_type": "markdown",
   "metadata": {},
   "source": [
    "In this case the **for** loop iterates the **multiplicative** list values and then in each iteration it multiplies the value of the *product* variable by the value of *multiplicatives* and stores it."
   ]
  },
  {
   "cell_type": "code",
   "execution_count": 4,
   "metadata": {},
   "outputs": [
    {
     "name": "stdout",
     "output_type": "stream",
     "text": [
      "This i is the number:  0\n",
      "This i is the number:  1\n",
      "This i is the number:  2\n",
      "This i is the number:  3\n",
      "This i is the number:  4\n"
     ]
    }
   ],
   "source": [
    "for i in range(5):\n",
    "     print(\"This i is the number: \",i)"
   ]
  },
  {
   "cell_type": "markdown",
   "metadata": {},
   "source": [
    "Returning to the first cycle, we could also use the **range()** function, to optimize the iteration of the variable **i**. Thus it is not necessary to define the list to iterate and we only assign the value up to which we want to iterate to the **range()** function."
   ]
  },
  {
   "cell_type": "markdown",
   "metadata": {},
   "source": [
    "#### While Loop\n",
    "\n",
    "In addition to the for loop that we saw in the previous section, we may also want to iterate a list or a process while a certain condition is met. For this we use the **while** loop, which unlike the previous case where we iterate a variable, For the while loop we expect that as long as a condition is met, the instructions within it will be executed.\n",
    "\n",
    "It should be noted that for the **while** loop, special consideration must be taken, since if the condition we establish is never met, the while loop is executed infinitely, potentially causing the software or the PC to consume all the memory and having to restart the process or even the PC.\n",
    "\n",
    "Next, the value of the variable **i=0** is defined, then the loop begins by validating this condition, as it is true it then prints the value of the variable and then **i=i+1**. Finally this operation It is repeated until i takes the value 9, since when it takes the value 10, the condition **i<10** is no longer true."
   ]
  },
  {
   "cell_type": "code",
   "execution_count": 1,
   "metadata": {},
   "outputs": [
    {
     "name": "stdout",
     "output_type": "stream",
     "text": [
      "0 1 2 3 4 5 6 7 8 9 "
     ]
    }
   ],
   "source": [
    "i=0\n",
    "\n",
    "while i<10:\n",
    "    print(i,end=\" \")\n",
    "    i=i+1"
   ]
  },
  {
   "cell_type": "markdown",
   "metadata": {},
   "source": [
    "On the other hand, if we execute the next block, the cycle is executed infinitely since the condition will always be true, causing the software to collapse and close... 🔥"
   ]
  },
  {
   "cell_type": "code",
   "execution_count": null,
   "metadata": {},
   "outputs": [],
   "source": [
    "i=True\n",
    "\n",
    "while i==True:\n",
    "    print(i)\n",
    "    "
   ]
  },
  {
   "cell_type": "markdown",
   "metadata": {},
   "source": [
    "Another important aspect in Python is that when we define a list it is possible to use loops within them. In some cases we only require some values within a list, but if we seek to create a sequence that has a greater length, such as perhaps a list With the values from 1 to 20, a simple way to write it would be as follows:"
   ]
  },
  {
   "cell_type": "code",
   "execution_count": 2,
   "metadata": {},
   "outputs": [
    {
     "data": {
      "text/plain": [
       "[1, 2, 3, 4, 5, 6, 7, 8, 9, 10, 11, 12, 13, 14, 15, 16, 17, 18, 19, 20]"
      ]
     },
     "execution_count": 2,
     "metadata": {},
     "output_type": "execute_result"
    }
   ],
   "source": [
    "serie_1=[n for n in range(1,21)]\n",
    "serie_1"
   ]
  },
  {
   "cell_type": "markdown",
   "metadata": {},
   "source": [
    "Remember that in Python the upper limit is specified by the following value, that is why within the range() function we use 21 and not 20."
   ]
  },
  {
   "cell_type": "markdown",
   "metadata": {},
   "source": [
    "But we will not always need to create the same lists, in some cases we could need the list to start or end with different values. For this we could make use of the functions... which are our best ally when we want to encapsulate a process that we carry out with great care. frequency 📲"
   ]
  },
  {
   "cell_type": "code",
   "execution_count": 6,
   "metadata": {},
   "outputs": [
    {
     "data": {
      "text/plain": [
       "[1, 2, 3, 4]"
      ]
     },
     "execution_count": 6,
     "metadata": {},
     "output_type": "execute_result"
    }
   ],
   "source": [
    "def lists(start=1,end=5):\n",
    "    return [n for n in range(start,end)]\n",
    "\n",
    "l1=listas()\n",
    "l1"
   ]
  },
  {
   "cell_type": "code",
   "execution_count": 7,
   "metadata": {},
   "outputs": [
    {
     "data": {
      "text/plain": [
       "[10, 11, 12, 13, 14, 15, 16, 17, 18, 19, 20]"
      ]
     },
     "execution_count": 7,
     "metadata": {},
     "output_type": "execute_result"
    }
   ],
   "source": [
    "l2=lists(start=10,end=21)\n",
    "l2"
   ]
  },
  {
   "cell_type": "markdown",
   "metadata": {},
   "source": [
    "As seen in the first block, once we define the **lists** function and call it to create our first list **l1**, the list is created with the default values. However, when we call it to create the list **l2** with different limits, the list is immediately created with the values that start at 10 and end at 20.📌"
   ]
  },
  {
   "cell_type": "markdown",
   "metadata": {},
   "source": [
    "<a id='Dictionaries'></a>\n",
    "### Dictionaries 📗\n",
    "\n",
    "[Index ▲](#Index)\n",
    "\n",
    "Up to this point in the course, we have already seen most of the important aspects to at least start working with Python, however one of the points where Python is excellent is with the manipulation of strings or text strings.\n",
    "\n",
    "Although we have already defined and performed some operations with strings, it is always good to review before moving on to the most interesting part of this section...the dictionaries. 📚\n",
    "\n",
    "We had seen that some text strings could be defined and stored in variables like the ones shown below"
   ]
  },
  {
   "cell_type": "code",
   "execution_count": null,
   "metadata": {},
   "outputs": [],
   "source": [
    "x=\"monday is a day\"\n",
    "y=\"Monday is a day\""
   ]
  },
  {
   "cell_type": "markdown",
   "metadata": {},
   "source": [
    "As we can see here, in both variables the same text is apparently saved, but the first letter is not in capital letters in both variables, therefore when validating if they are equal a False will be returned."
   ]
  },
  {
   "cell_type": "code",
   "execution_count": null,
   "metadata": {},
   "outputs": [],
   "source": [
    "x==y"
   ]
  },
  {
   "cell_type": "code",
   "execution_count": null,
   "metadata": {},
   "outputs": [],
   "source": [
    "On the other hand, we define text strings in exactly the same way."
   ]
  },
  {
   "cell_type": "code",
   "execution_count": null,
   "metadata": {},
   "outputs": [],
   "source": [
    "x=\"Monday is a day\"\n",
    "y=\"Monday is a day\"\n",
    "\n",
    "x==y"
   ]
  },
  {
   "cell_type": "markdown",
   "metadata": {},
   "source": [
    "Now we can verify that both text strings are the same."
   ]
  },
  {
   "cell_type": "markdown",
   "metadata": {},
   "source": [
    "However, we might also want to skip a line in some cases, as in the following."
   ]
  },
  {
   "cell_type": "code",
   "execution_count": 2,
   "metadata": {},
   "outputs": [
    {
     "name": "stdout",
     "output_type": "stream",
     "text": [
      "Mond\n",
      "ay is a day\n"
     ]
    }
   ],
   "source": [
    "a=print(\"Mond\\nay is a day\")\n",
    "a"
   ]
  },
  {
   "cell_type": "markdown",
   "metadata": {},
   "source": [
    "In this case we see that by adding the **\"\\n\"**, immediately everything that comes after is written on the next line... and of course we could use it again if we wanted to write each word on a new line"
   ]
  },
  {
   "cell_type": "code",
   "execution_count": 7,
   "metadata": {},
   "outputs": [
    {
     "name": "stdout",
     "output_type": "stream",
     "text": [
      "Monday\n",
      "is\n",
      "a\n",
      "day\n"
     ]
    }
   ],
   "source": [
    "a=print(\"Monday\\nis\\na\\nday\")\n",
    "a"
   ]
  },
  {
   "cell_type": "markdown",
   "metadata": {},
   "source": [
    "Since we have already worked with the function, we know that it automatically adds a new line unless we specify a term value."
   ]
  },
  {
   "cell_type": "code",
   "execution_count": 8,
   "metadata": {},
   "outputs": [
    {
     "name": "stdout",
     "output_type": "stream",
     "text": [
      "Tuesday is another day of the week\n",
      "Wednesday is another day of the weekThursday is another day of the week"
     ]
    }
   ],
   "source": [
    "print(\"Tuesday is another day of the week\")\n",
    "print(\"Wednesday is another day of the week\",end='')\n",
    "print(\"Thursday is another day of the week\",end='')"
   ]
  },
  {
   "cell_type": "markdown",
   "metadata": {},
   "source": [
    "As you can see in the previous case, if we use the usual print, the next text that is printed goes to the next line. However, when we make the second print we add the argument **end= ''**, the which in this case allows the text to continue on the same line once printed, unless we use the **\\n** value that comes by default."
   ]
  },
  {
   "cell_type": "code",
   "execution_count": 9,
   "metadata": {},
   "outputs": [
    {
     "name": "stdout",
     "output_type": "stream",
     "text": [
      "Friday is another day of the week\n",
      "No work on Saturday\n"
     ]
    }
   ],
   "source": [
    "print(\"Friday is another day of the week\",end='\\n')\n",
    "print(\"No work on Saturday\")"
   ]
  },
  {
   "cell_type": "markdown",
   "metadata": {},
   "source": [
    "But text strings can not only be a set of words, but we can separate them into characters.\n",
    "\n",
    "If we consider the last text string:"
   ]
  },
  {
   "cell_type": "code",
   "execution_count": null,
   "metadata": {},
   "outputs": [],
   "source": [
    "Saturday=\"No work on Saturday\"\n",
    "saturday[3]"
   ]
  },
  {
   "cell_type": "markdown",
   "metadata": {},
   "source": [
    "As we can see, it is possible to store a text string in a variable and then select each of the characters in it, and little by little concatenate the characters of the entire text string."
   ]
  },
  {
   "cell_type": "code",
   "execution_count": 20,
   "metadata": {},
   "outputs": [
    {
     "data": {
      "text/plain": [
       "'No work on Saturday'"
      ]
     },
     "execution_count": 20,
     "metadata": {},
     "output_type": "execute_result"
    }
   ],
   "source": [
    "saturday=\"No work on Saturday\"\n",
    "saturday[0]+saturday[1]+saturday[2]+saturday[3:19]"
   ]
  },
  {
   "cell_type": "markdown",
   "metadata": {},
   "source": [
    "We could even determine the number of letters in the phrase **\"There is no work on Saturday\"**"
   ]
  },
  {
   "cell_type": "code",
   "execution_count": 23,
   "metadata": {},
   "outputs": [
    {
     "name": "stdout",
     "output_type": "stream",
     "text": [
      "The length of variable saturday is of 19 character\n"
     ]
    }
   ],
   "source": [
    "print('The length of variable saturday is of',len(saturday),'character')"
   ]
  },
  {
   "cell_type": "markdown",
   "metadata": {},
   "source": [
    "## Dictionaries\n",
    "\n",
    "So far we have worked with characters, text strings or strings and numerical variables. But one of the most important aspects in Python are dictionaries, which are data structures that allow mapping keys to values, this implies that we can index a set of values to another set of keys or braces."
   ]
  },
  {
   "cell_type": "code",
   "execution_count": 3,
   "metadata": {},
   "outputs": [
    {
     "data": {
      "text/plain": [
       "3"
      ]
     },
     "execution_count": 3,
     "metadata": {},
     "output_type": "execute_result"
    }
   ],
   "source": [
    "numbers={\"one\":1,\"two\":2,\"three\":3}\n",
    "numbers\n",
    "numbers[\"three\"]"
   ]
  },
  {
   "cell_type": "markdown",
   "metadata": {},
   "source": [
    "In the case of the number dictionary, *\"one\", \"two\" and \"three\"* are the keys and the values *1,2 and 3* are the values.\n",
    "\n",
    "In this case we can access each of the values using the keys."
   ]
  },
  {
   "cell_type": "code",
   "execution_count": 5,
   "metadata": {},
   "outputs": [
    {
     "data": {
      "text/plain": [
       "1"
      ]
     },
     "execution_count": 5,
     "metadata": {},
     "output_type": "execute_result"
    }
   ],
   "source": [
    "numbers[\"one\"]"
   ]
  },
  {
   "cell_type": "markdown",
   "metadata": {},
   "source": [
    "So we can select the first value, but we could also add other values using a new key."
   ]
  },
  {
   "cell_type": "code",
   "execution_count": 6,
   "metadata": {},
   "outputs": [
    {
     "data": {
      "text/plain": [
       "{'one': 1, 'two': 2, 'three': 3, 'four': 4}"
      ]
     },
     "execution_count": 6,
     "metadata": {},
     "output_type": "execute_result"
    }
   ],
   "source": [
    "numbers[\"four\"]=4\n",
    "numbers"
   ]
  },
  {
   "cell_type": "markdown",
   "metadata": {},
   "source": [
    "Or even changing just some of those values already associated with a key."
   ]
  },
  {
   "cell_type": "code",
   "execution_count": 7,
   "metadata": {},
   "outputs": [
    {
     "data": {
      "text/plain": [
       "{'one': 'Monday', 'two': 2, 'three': 3, 'four': 4}"
      ]
     },
     "execution_count": 7,
     "metadata": {},
     "output_type": "execute_result"
    }
   ],
   "source": [
    "numbers[\"one\"]=\"Monday\"\n",
    "numbers"
   ]
  },
  {
   "cell_type": "markdown",
   "metadata": {},
   "source": [
    "So finally we could even iterate a dictionary using a for loop."
   ]
  },
  {
   "cell_type": "code",
   "execution_count": 8,
   "metadata": {},
   "outputs": [
    {
     "name": "stdout",
     "output_type": "stream",
     "text": [
      "Monday\n",
      "2\n",
      "3\n",
      "4\n"
     ]
    }
   ],
   "source": [
    "for i in numbers:\n",
    "    print(numbers[i])"
   ]
  },
  {
   "cell_type": "markdown",
   "metadata": {},
   "source": [
    "Or even validate if a key is found in the dictionary."
   ]
  },
  {
   "cell_type": "code",
   "execution_count": 9,
   "metadata": {},
   "outputs": [
    {
     "data": {
      "text/plain": [
       "True"
      ]
     },
     "execution_count": 9,
     "metadata": {},
     "output_type": "execute_result"
    }
   ],
   "source": [
    "\"one\" in numbers"
   ]
  },
  {
   "cell_type": "code",
   "execution_count": 10,
   "metadata": {},
   "outputs": [
    {
     "data": {
      "text/plain": [
       "False"
      ]
     },
     "execution_count": 10,
     "metadata": {},
     "output_type": "execute_result"
    }
   ],
   "source": [
    "\"five\" in numbers"
   ]
  },
  {
   "cell_type": "code",
   "execution_count": 11,
   "metadata": {},
   "outputs": [
    {
     "data": {
      "text/plain": [
       "{'one': 'Monday', 'two': 2, 'three': 3, 'four': 4}"
      ]
     },
     "execution_count": 11,
     "metadata": {},
     "output_type": "execute_result"
    }
   ],
   "source": [
    "numbers"
   ]
  },
  {
   "cell_type": "markdown",
   "metadata": {},
   "source": [
    "Some other operations that we can do in Python is to rename the values of a dictionary by iterating the values of the keys of the same dictionary."
   ]
  },
  {
   "cell_type": "code",
   "execution_count": null,
   "metadata": {},
   "outputs": [],
   "source": [
    "days=[\"Monday\",\"Tuesday\",\"Wednesday\",\"Thursday\",\"Friday\"]\n",
    "\n",
    "days_json={day:day[0] for day in days}\n",
    "days_json"
   ]
  },
  {
   "cell_type": "markdown",
   "metadata": {},
   "source": [
    "In this case, a dictionary was created where its keys are the days of the week and the values correspond to each of the first characters of the keys.\n",
    "\n",
    "But even the value could be a shorter version of the key name or a short description if applicable. In this case, by changing the number of characters to select from **day[0]** to **day[0 :3]**, we go from only considering the first letter to the first 3."
   ]
  },
  {
   "cell_type": "code",
   "execution_count": 12,
   "metadata": {},
   "outputs": [
    {
     "data": {
      "text/plain": [
       "{'Monday': 'Mon',\n",
       " 'Tuesday': 'Tue',\n",
       " 'Wednesday': 'Wed',\n",
       " 'Thursday': 'Thu',\n",
       " 'Friday': 'Fri'}"
      ]
     },
     "execution_count": 12,
     "metadata": {},
     "output_type": "execute_result"
    }
   ],
   "source": [
    "days=[\"Monday\",\"Tuesday\",\"Wednesday\",\"Thursday\",\"Friday\"]\n",
    "\n",
    "days_json={day:day[0:3] for day in days}\n",
    "days_json"
   ]
  },
  {
   "cell_type": "markdown",
   "metadata": {},
   "source": [
    "Finalmente, si quisieramos podriamos utilizar métodos sobre los diccionarios que hemos creado para realizar algunas tareas sencillas."
   ]
  },
  {
   "cell_type": "code",
   "execution_count": 14,
   "metadata": {},
   "outputs": [
    {
     "data": {
      "text/plain": [
       "dict_values(['Mon', 'Tue', 'Wed', 'Thu', 'Fri'])"
      ]
     },
     "execution_count": 14,
     "metadata": {},
     "output_type": "execute_result"
    }
   ],
   "source": [
    "days_json.values()"
   ]
  },
  {
   "cell_type": "markdown",
   "metadata": {},
   "source": [
    "En este caso se utilIn this case, the **.values()** method was used to display all the values of the dictionary on the screen.izó el método **.values()** para mostrar por pantalla todos los valores del diccionario."
   ]
  },
  {
   "cell_type": "markdown",
   "metadata": {},
   "source": [
    "<a id='Working-with-libraries'></a>\n",
    "### Working with libraries 🎮\n",
    "\n",
    "[Index ▲](#Index)\n",
    "\n",
    "There are several topics that we have touched on in this course from the declaration of numerical, string and boolean variables and even some data structures. But we still have to see how we can work with libraries within the Python environment which are very important if we want to extend the capabilities of Python, although we will not see all the libraries that can be used in Python since there are many, which range from the definition of numerical variables, development of graphs, connection to databases, development of user interfaces and even the use of machine learning models, which is enough content and material for a more advanced course. However, we will see 3 libraries widely used in both industry and academia.\n",
    "\n",
    "The first is **Numpy** which is a library specialized in numerical calculation and data analysis, one of the most important aspects is that you can define a data structure called **arrays** which are processed much more faster than the lists that Python handles by default 🙄. The second is **Matplotlib** which is a standard library to start developing visualizations in Python, the third is **Plotly** another visualization library, which I personally like for its syntax, simplicity and because it is also implemented for Software R and finally we will see **Scikit-Learn**, which is one of the most important and used libraries for the implementation of machine learning models."
   ]
  },
  {
   "cell_type": "markdown",
   "metadata": {},
   "source": [
    "<a id='Library-Numpy'></a>\n",
    "#### Library Numpy\n",
    "\n",
    "[Index ▲](#Index)\n",
    "\n",
    "As we had already said, one of the strong points of the **Numpy** library are the **array** objects, which are made up of elements of the same type and which can be 1,2 or n dimensions. Thus we could define a * list* or 1-dimensional array, a *matrix* or 2-dimensional array or also a *cube* which would be a 3-dimensional array.\n",
    "\n",
    "However, first we should load the numpy library"
   ]
  },
  {
   "cell_type": "code",
   "execution_count": null,
   "metadata": {},
   "outputs": [],
   "source": [
    "import numpy"
   ]
  },
  {
   "cell_type": "markdown",
   "metadata": {},
   "source": [
    "Once loaded we can use all the functions that come within this library. It should be noted that we can load the library with its default name or with an abbreviated form, which will help us every time we call the functions within it."
   ]
  },
  {
   "cell_type": "code",
   "execution_count": 1,
   "metadata": {},
   "outputs": [],
   "source": [
    "import numpy as np"
   ]
  },
  {
   "cell_type": "markdown",
   "metadata": {},
   "source": [
    "Unlike the lists that we can define regularly in Python, to define a 1-dimensional list or array we have to"
   ]
  },
  {
   "cell_type": "code",
   "execution_count": 2,
   "metadata": {},
   "outputs": [
    {
     "name": "stdout",
     "output_type": "stream",
     "text": [
      "[10 20 30 40]\n"
     ]
    }
   ],
   "source": [
    "a1=np.array([10,20,30,40])\n",
    "print(a1)"
   ]
  },
  {
   "cell_type": "markdown",
   "metadata": {},
   "source": [
    "In the same way, if we wanted to define a 2-dimensional array"
   ]
  },
  {
   "cell_type": "code",
   "execution_count": 3,
   "metadata": {},
   "outputs": [
    {
     "name": "stdout",
     "output_type": "stream",
     "text": [
      "[[10 20 30 40]\n",
      " [50 60 70 80]]\n"
     ]
    }
   ],
   "source": [
    "a2=np.array([[10,20,30,40],[50,60,70,80]])\n",
    "print(a2)"
   ]
  },
  {
   "cell_type": "markdown",
   "metadata": {},
   "source": [
    "Y siguiendo con la idea,entonces un array de 3 dimensiones lo podemos definir como sigue"
   ]
  },
  {
   "cell_type": "code",
   "execution_count": 4,
   "metadata": {},
   "outputs": [
    {
     "name": "stdout",
     "output_type": "stream",
     "text": [
      "[[[ 10  20  30]\n",
      "  [ 40  50  60]]\n",
      "\n",
      " [[ 70  80  90]\n",
      "  [110 120 130]]]\n"
     ]
    }
   ],
   "source": [
    "a3=np.array([[[10,20,30],[40,50,60]],[[70,80,90],[110,120,130]]])\n",
    "print(a3)"
   ]
  },
  {
   "cell_type": "markdown",
   "metadata": {},
   "source": [
    "Therefore, if we want to access the elements of any type of array, we must use the indexes just as we access the elements of a list, but selecting the indexes of each dimension."
   ]
  },
  {
   "cell_type": "code",
   "execution_count": null,
   "metadata": {},
   "outputs": [],
   "source": [
    "#To access the element of row 0 column 0 of the 2-dimensional array\n",
    "print(a2[0,0])\n",
    "\n",
    "#To access the element of row 1 column 2 of the 2-dimensional array\n",
    "print(a2[1,2])"
   ]
  },
  {
   "cell_type": "markdown",
   "metadata": {},
   "source": [
    "But we could also use some methods to obtain some important characteristics of an array, such as those shown in the following table.\n",
    "<table ><tr><th >Atributo<th><th>Método<th><th>Detalle<tr><tr>\n",
    "<tr><td>N° de Dimensión<td><td>a.ndim()<td><td>Devuelve el número de dimensiones del array a.<td><tr>\n",
    "<tr><td>Dimensiones<td><td>a.shape()<td><td>Devuelve una tupla con las dimensiones del array a.<td><tr>\n",
    "<tr><td>Tamaño<td><td>a.size()<td><td>Devuelve el número de elementos del array a.<td><tr>\n",
    "<tr><td>Tipo de dato<td><td>a.dtype()<td><td>Devuelve el tipo de datos de los elementos del array a.<td><tr><table>\n",
    "    \n",
    "    \n"
   ]
  },
  {
   "cell_type": "code",
   "execution_count": null,
   "metadata": {},
   "outputs": [],
   "source": [
    "# Número de dimensiones para cada uno de los arrays\n",
    "print(np.ndim(a1))\n",
    "print(np.ndim(a2))\n",
    "print(np.ndim(a3))"
   ]
  },
  {
   "cell_type": "code",
   "execution_count": null,
   "metadata": {},
   "outputs": [],
   "source": [
    "# Dimensiones para cada uno de los arrays\n",
    "print(np.shape(a1))\n",
    "print(np.shape(a2))\n",
    "print(np.shape(a3))"
   ]
  },
  {
   "cell_type": "markdown",
   "metadata": {},
   "source": [
    "Como se puede ver en el primer caso con el método **a.ndim()**, solo se nos muestra la cantidad de dimensiones,pero con el método **a.shape()** se muestran las dimensiones explícitas.\n",
    "\n",
    "Pero incluso podemos realizar operaciones con arrays aunque estas tengan distintas dimensiones y valores en estas dimensiones,ya que operaran solo sobre aquellas dimensiones disponibles.\n"
   ]
  },
  {
   "cell_type": "code",
   "execution_count": null,
   "metadata": {},
   "outputs": [],
   "source": [
    "print(a1*2)"
   ]
  },
  {
   "cell_type": "code",
   "execution_count": null,
   "metadata": {},
   "outputs": [],
   "source": [
    "print(2*a2/a2)"
   ]
  },
  {
   "cell_type": "markdown",
   "metadata": {},
   "source": [
    "De igual forma podríamos realizar operaciones algebraicas con vectores y matrices"
   ]
  },
  {
   "cell_type": "code",
   "execution_count": null,
   "metadata": {},
   "outputs": [],
   "source": [
    "import numpy as np\n",
    "b1=np.array([1,2,3])\n",
    "b2=np.array([1,0,1])\n",
    "\n",
    "#b1.dot(b2) determina el producto escalar entre los vectores b1 y b2\n",
    "print(b1.dot(b2))"
   ]
  },
  {
   "cell_type": "markdown",
   "metadata": {},
   "source": [
    "Asi también podríamos transponer una matriz mediante **a.T**."
   ]
  },
  {
   "cell_type": "code",
   "execution_count": null,
   "metadata": {},
   "outputs": [],
   "source": [
    "import numpy as np\n",
    "a=np.array([[1,2,3],[4,5,6]])\n",
    "\n",
    "print(a)\n",
    "print(a.T)"
   ]
  },
  {
   "cell_type": "markdown",
   "metadata": {},
   "source": [
    "Incluso podemos resolver sistemas de ecuaciones lineales mediante **solve(a,b)**."
   ]
  },
  {
   "cell_type": "code",
   "execution_count": null,
   "metadata": {},
   "outputs": [],
   "source": [
    "import numpy as np\n",
    "\n",
    "# El siguiente es un sistema de 2 ecuaciones lineales con 2 variables\n",
    "#2x+3y=10\n",
    "#4x+5y=8\n",
    "\n",
    "a=np.array([[2,3],[4,5]])\n",
    "b=np.array([10,8])\n",
    "print(np.linalg.solve(a,b))"
   ]
  },
  {
   "cell_type": "markdown",
   "metadata": {},
   "source": [
    "Algunas otras funciones para trabajar con algebra lineal son las siguientes:\n",
    "    \n",
    "<table ><tr><th >Método<th><th>Operación <th><th>Descripción<tr><tr>\n",
    "<tr><td>dot(b)<td><td>Producto escalar<td><td>Determina el producto escalar entre los vectores a y b.<td><tr>\n",
    "<tr><td>norm(a)<td><td>Módulo de un vector<td><td>Determina el módulo del vector v.<td><tr>\n",
    "<tr><td>a.dot(b)<td><td>Producto de 2 matrices<td><td>Determina el producto matricial de las matrices a y b.<td><tr>\n",
    "<tr><td>a.T<td><td>Matriz traspuesta<td><td>Determina la matriz traspuesta de la matriz a.<td><tr>\n",
    "<tr><td>a.trace()<td><td>Traza de una matriz<td><td>Determina la suma diagonal principal de la matriz cuadrada a.<td><tr>\n",
    "<tr><td>det(a)<td><td>Determinante de una matriz<td><td>Entrega el determinante de la matriz a.<td><tr>\n",
    "<tr><td>inv(a)<td><td>Matriz Inversa<td><td>Determina la matriz inversa de la matriz cuadrada a.<td><tr>\n",
    "<tr><td>eigvals(a)<td><td>Autovalores de una matriz<td><td>Determina los autovalores de la matriz cuadrada a.<td><tr>\n",
    "<tr><td>eig(a)<td><td>Autovectores de una matriz<td><td>Determina los autovectores de la matriz cuadrada a.<td><tr>\n",
    "<tr><td>solve(a,b)<td><td>Solución de un sistema de ecuaciones<td><td>Determina la solución de un sistema de ecuaciones lineales.<td><tr><table>\n",
    "\n",
    "\n"
   ]
  },
  {
   "cell_type": "markdown",
   "metadata": {},
   "source": [
    "<a id='Library Matplotlib'></a>\n",
    "#### Library Matplotlib \n",
    "\n",
    "[Index ▲](#Index)\n",
    "\n",
    "Ha llegado el momento...🥁  hasta ahora hemos visto la definición de variables de distinto tipo asi como estruturas de datos,entre otros aspectos reelevantes en Python,incluso ya cargamos **Numpy**... nuestra primera libreria.\n",
    "\n",
    "Pero ahora toca el turno de utilizar la librería Matplotlib,la cual esta desarrollada para la creación de gráficos.Cabe destacar que no es la unica librería para desarrollo de gráficos.\n",
    "\n",
    "Alguno de los gráficos que se pueden desarrollar con Matplotlib y que veremos son los siguientes:\n",
    "\n",
    "* Diagramas de dispersión\n",
    "* Diagramas de lineas\n",
    "* Diagramas de cajas\n",
    "* Diagramas de barras\n",
    "* Histograma\n",
    "\n",
    "Uno de los gráficos mas utilizados son los diagramas de dispersión,ya que rapidamente nos permite visualizar como se distribuyen los datos en el espacio.En algunos casos tendremos que utilizar otros gráficos para representar de mejor forma la información,pero es un buen punto de partida. 💡\n"
   ]
  },
  {
   "cell_type": "code",
   "execution_count": null,
   "metadata": {},
   "outputs": [],
   "source": [
    "#Traemos el módulo pyplot de forma abreviada como plt\n",
    "import matplotlib.pyplot as plt\n",
    "\n",
    "#Se crea la figura y los ejes\n",
    "fig,ax=plt.subplots()\n",
    "\n",
    "#Se definen los puntos tanto del eje x como del y donde diagrama\n",
    "ax.scatter(x=[1,1.5,2,2.5,3],y=[1,1.5,2,1.5,1])\n",
    "\n",
    "#Opcionalmente podemos definir el tamaño de la figura\n",
    "fig.set_size_inches(4,4)\n",
    "\n",
    "#Finalmente mostramos el grafico\n",
    "plt.show()\n"
   ]
  },
  {
   "cell_type": "markdown",
   "metadata": {},
   "source": [
    "Sin embargo para realizar algunos gráficos como los ya mencionados,podemos utilizar funciones desarrolladas específicamente para esa tarea,a continuación se muestran:"
   ]
  },
  {
   "cell_type": "markdown",
   "metadata": {},
   "source": [
    "#### Diagramas de dispersión\n",
    "\n",
    "Para desarrollar un diagrama de dispersión,que nos permita visualizar los puntos con coordenadas en los eje x e y,debemos utilizar la función **scatter(x,y)** como en el caso anterior que vimos,pero sin duda que podríamos representar un mayor conjunto de datos."
   ]
  },
  {
   "cell_type": "code",
   "execution_count": 5,
   "metadata": {},
   "outputs": [
    {
     "data": {
      "image/png": "[encoded data removed]",
      "text/plain": [
       "<Figure size 400x400 with 1 Axes>"
      ]
     },
     "metadata": {},
     "output_type": "display_data"
    }
   ],
   "source": [
    "import matplotlib.pyplot as plt\n",
    "\n",
    "fig,ax=plt.subplots()\n",
    "ax.scatter([1,3,0.5,5,0.4,1.9,2.6],[0.9,3,5,2.5,7.6,4.3,7])\n",
    "\n",
    "#Recordar que la definición del tamaño de la figura es opcional\n",
    "fig.set_size_inches(4,4)\n",
    "\n",
    "plt.show()"
   ]
  },
  {
   "cell_type": "markdown",
   "metadata": {},
   "source": [
    "#### Diagramas de líneas\n",
    "\n",
    "Con el diagrama de líneas buscamos representar nuevamente un conjunto de puntos que tengan coordenadas en x e y,sin embargo además se conectan las distancias entre cada par de puntos sucesivos con la función **plot(x,y)**"
   ]
  },
  {
   "cell_type": "code",
   "execution_count": null,
   "metadata": {},
   "outputs": [],
   "source": [
    "import matplotlib.pyplot as plt\n",
    "\n",
    "fig,ax=plt.subplots()\n",
    "ax.plot([1.5,2,3,4],[1,0.75,1.5,0.5])\n",
    "\n",
    "fig.set_size_inches(4,4)\n",
    "\n",
    "plt.show()"
   ]
  },
  {
   "cell_type": "markdown",
   "metadata": {},
   "source": [
    "#### Diagramas de cajas\n",
    "\n",
    "A diferencia de los gráficos anteriores,en este caso el diagrama de cajas permite visualizar algunos estadísticos relevantes de una muestra.En este caso debemos utilizar la funcion **boxplot(x)**"
   ]
  },
  {
   "cell_type": "code",
   "execution_count": null,
   "metadata": {},
   "outputs": [],
   "source": [
    "import matplotlib.pyplot as plt\n",
    "\n",
    "fig,ax=plt.subplots()\n",
    "ax.boxplot([2.3,4.5,1,8,10,4.5,5.6,7.6,3.4,2.4,20])\n",
    "\n",
    "fig.set_size_inches(4,4)\n",
    "\n",
    "plt.show()"
   ]
  },
  {
   "cell_type": "markdown",
   "metadata": {},
   "source": [
    "#### Diagramas de barras\n",
    "\n",
    "El gráfico de barras nos permite visualizar generalmente 2 ejes,en donde en el **eje y** posicionamos las categorías y en el **eje x** la magnitud contabilizada para cada categoría.\n",
    "\n",
    "Así para desarrollar un diagrama de barras en Python usamos la sintaxis **barh(x,y)**"
   ]
  },
  {
   "cell_type": "code",
   "execution_count": null,
   "metadata": {},
   "outputs": [],
   "source": [
    "import matplotlib.pyplot as plt\n",
    "\n",
    "fig,ax=plt.subplots()\n",
    "ax.barh([1,2,3],[3,2,1])\n",
    "\n",
    "fig.set_size_inches(4,4)\n",
    "\n",
    "plt.show()"
   ]
  },
  {
   "cell_type": "markdown",
   "metadata": {},
   "source": [
    "#### Histograma\n",
    "\n",
    "Finalmente uno de los gráficos mas utilizados en estadística descriptiva e inferencial junto al gráficos de cajas.El histograma nos permite visualizar la distribución de frecuencias una vez que agrupamos los datos en una muestra,cabe destacar que podemos definir la cantidad de columnas que queremos que tenga nuestro diagrama.\n",
    "\n",
    "En este caso utilizaremos ademas la librería **numpy** para utilizar la generación de 1000 números aleatorias mediante una distribución normal con $\\bar{X}=10$ y $\\sigma=0.8$."
   ]
  },
  {
   "cell_type": "code",
   "execution_count": null,
   "metadata": {},
   "outputs": [],
   "source": [
    "import numpy as np\n",
    "import matplotlib.pyplot as plt\n",
    "\n",
    "fig,ax=plt.subplots()\n",
    "x=np.random.normal(10,0.8,1000)\n",
    "ax.hist(x,10)\n",
    "\n",
    "fig.set_size_inches(4,4)\n",
    "\n",
    "plt.show()"
   ]
  },
  {
   "cell_type": "markdown",
   "metadata": {},
   "source": [
    "<a id='Library-Matplotlib'></a>\n",
    "### Library Plotly \n",
    "\n",
    "[Index ▲](#Index)\n",
    "\n",
    "Asi como vimos con la librería Matplotlib,con Plotly también es posible el desarrollo de gráficos,sin embargo es posible el desarrollo de una mayor cantidad de gráficos que con matplotlib,pudiendo desarrollar gráficos de carácter estadístico,financiero,geográfico,científico y en 3 dimensiones.Cabe destacar que a pesar de presentar una mayor cantidad de graficos solo veremos los principales,ya que gráficos mas avanzandos requieren una mayor sintáxis de código y el uso de otras librerías en algunos casos.\n",
    "\n",
    "Junto a lo anterior Plotly,permite el desarrollo de gráficos interactivos que pueden ser implementados en jupyter notebook como el presente,guardados en formato HTML o incluso en aplicaciones utilizando Dash,Shiny u otros frameworks"
   ]
  },
  {
   "cell_type": "markdown",
   "metadata": {},
   "source": [
    "Asi como con matplotlib comenzamos viendo los gráficos de dispersión,en este caso tambien podemos desarrollar un primer gráfico de este tipo,teniendo la consideración que debemos cargar la libreria **Plotly**"
   ]
  },
  {
   "cell_type": "code",
   "execution_count": null,
   "metadata": {},
   "outputs": [],
   "source": [
    "import plotly.express as px\n",
    "\n",
    "#Se importa el submodulo .offline para luego usar plotly en el documento HTML\n",
    "import plotly.offline as pyo\n",
    "pyo.init_notebook_mode()\n",
    "\n",
    "fig = px.scatter(x=[0, 1, 2, 3, 4], y=[0, 1, 4, 9, 16])\n",
    "fig.show()"
   ]
  },
  {
   "cell_type": "markdown",
   "metadata": {},
   "source": [
    "Si bien visualmente tienen algunas diferencias mínimas los gráficos de dispersión desarrollados con **Matplotlib** y **Plotly**,tal vez uno de sus aspectos mas importantes radica es que al tener una sintáxis muy parecida ademas se incluye la posibilidad de interactuar con el gráfico,mediante herramientas como zoom,recortes e incluso la descarga del gráfico.\n",
    "\n",
    "Algunos otros de los graficos que podemos desarrollar con la libreria Plotly son los siguientes:\n",
    "\n",
    "* Gráficos de líneas\n",
    "* Gráficos de barra\n",
    "* Gráficos de torta\n",
    "* Histogramas\n",
    "* Diagramas de cajas"
   ]
  },
  {
   "cell_type": "markdown",
   "metadata": {},
   "source": [
    "### Gráficos de líneas\n",
    "\n",
    "\n",
    "Asi como vimos con el gráfico de dispersión tambien podemos desarrollar gráficos de líneas en donde podemos visualizar 1 o mas series si fuera necesario,a continuación se muestra la sintáxis para este tipo de gráfico"
   ]
  },
  {
   "cell_type": "code",
   "execution_count": null,
   "metadata": {},
   "outputs": [],
   "source": [
    "import plotly.express as px\n",
    "import pandas as pd\n",
    "\n",
    "fig= px.line(\n",
    "    x = [1, 2, 3, 4],\n",
    "    y = [1, 2, 3, 4]\n",
    ")\n",
    "fig.show()"
   ]
  },
  {
   "cell_type": "markdown",
   "metadata": {},
   "source": [
    "### Gráficos de barra\n",
    "\n",
    "Cuando realizamos un gráfico de barra,en el eje X se ordenan las categorías que queremos visualizar y en el eje y los valores o cantidades para cada una de estas categorías.\n",
    "Para el desarrollo de gráfico consideremos la siguiente tabla:"
   ]
  },
  {
   "cell_type": "markdown",
   "metadata": {},
   "source": [
    "<table ><tr><th >País <th><th> Medallas <th><th> Cantidad<tr><tr>\n",
    "<tr><td> Corea del Sur <td><td> Oro <td><td> 25 <td><tr>\n",
    "<tr><td> China         <td><td> Oro <td><td> 10 <td><tr>\n",
    "<tr><td> Canada        <td><td> Oro <td><td> 9 <td><tr>\n",
    "<tr><td> Corea del Sur <td><td> Plata <td><td> 13 <td><tr>\n",
    "<tr><td> China         <td><td> Plata <td><td> 15 <td><tr>\n",
    "<tr><td> Canada        <td><td> Plata <td><td> 12 <td><tr>\n",
    "<tr><td> Corea del Sur <td><td> Bronce <td><td> 11 <td><tr>\n",
    "<tr><td> China         <td><td> Bronce <td><td> 8 <td><tr>\n",
    "<tr><td> Canada        <td><td> Bronce <td><td> 12 <td><tr><table>\n",
    "    \n"
   ]
  },
  {
   "cell_type": "code",
   "execution_count": null,
   "metadata": {},
   "outputs": [],
   "source": [
    "import plotly.express as px\n",
    "\n",
    "#Aca estamos llamando al set de datos de la tabla,que viene precargado en la librería\n",
    "long_df = px.data.medals_long()\n",
    "\n",
    "fig = px.bar(long_df, x=\"nation\", y=\"count\", color=\"medal\", title=\"Podio de medallas por país\")\n",
    "fig.show()"
   ]
  },
  {
   "cell_type": "markdown",
   "metadata": {},
   "source": [
    "### Gráficos de torta\n",
    "\n",
    "A diferencia de los gráficos anteriores en donde tenemos los ejes x e y como categorías y valores.En el gráfico de torta buscamos representar un set de categorías con sus valores.\n",
    "\n",
    "A continuación se puede ver la sintáxis para construir el gráfico"
   ]
  },
  {
   "cell_type": "code",
   "execution_count": null,
   "metadata": {},
   "outputs": [],
   "source": [
    "import plotly.graph_objects as go\n",
    "\n",
    "labels = ['Oxígeno','Hidrógeno','Dióxido de Carbono','Nitrógeno']\n",
    "values = [4450, 2340, 1124, 670]\n",
    "\n",
    "fig = go.Figure(data=[go.Pie(labels=labels, values=values)])\n",
    "fig.show()"
   ]
  },
  {
   "cell_type": "markdown",
   "metadata": {},
   "source": [
    "### Histogramas\n",
    "\n",
    "En comparación a los gráficos anteriores,el histograma es un diagrama que permite representar las frecuencias acumuladas en una determinada muestra al igual como lo vimos con la librería Matplotlib.\n",
    "\n",
    "En este caso además utilizaremos la librería numpy,para generar una muestra mediante una distribución normal con parámetros $N~(\\bar{X}=80,\\sigma=110)$"
   ]
  },
  {
   "cell_type": "code",
   "execution_count": 2,
   "metadata": {},
   "outputs": [
    {
     "data": {
      "application/vnd.plotly.v1+json": {
       "config": {
        "plotlyServerURL": "https://plot.ly"
       },
       "data": [
        {
         "alignmentgroup": "True",
         "bingroup": "x",
         "hovertemplate": "variable=0<br>value=%{x}<br>count=%{y}<extra></extra>",
         "legendgroup": "0",
         "marker": {
          "color": "#636efa",
          "pattern": {
           "shape": ""
          }
         },
         "name": "0",
         "offsetgroup": "0",
         "orientation": "v",
         "showlegend": true,
         "type": "histogram",
         "x": [
          97.2776869232838,
          99.61264533880626,
          98.80246626514435,
          100.44346346951473,
          102.34044960617123,
          97.47050729780662,
          100.54979538925764,
          100.62754149384575,
          101.57260527534528,
          99.10509304788546,
          99.292206854752,
          95.14270505309958,
          100.21675766773471,
          103.9111752208224,
          98.41280294333728,
          99.54058642144172,
          99.2876782885659,
          97.83107492060452,
          99.31210476446019,
          98.26530177575432,
          99.6806056688063,
          103.22059314694464,
          101.18364930975062,
          100.12722574557615,
          97.8753338471319,
          103.1838218383805,
          102.06659156753307,
          100.52178526226989,
          102.64967724380062,
          99.59778248714116,
          102.25349815781543,
          104.9031750759441,
          99.08818802183659,
          98.57264378200283,
          100.15479759292413,
          98.59260831748131,
          98.76512163376464,
          100.2624037507363,
          98.23968965881443,
          100.20768379485239,
          97.30327374104252,
          101.03658094783741,
          95.96488425368146,
          98.43566147498083,
          97.23914049211618,
          101.39083313488105,
          99.54735610930835,
          99.18040412941461,
          101.68171132057272,
          98.83601032241266,
          102.7070971219214,
          98.1963515347393,
          102.27470984126754,
          99.22845374859756,
          99.0844674039912,
          99.93430202393495,
          100.85279268467796,
          101.60941511913877,
          102.08860492476936,
          102.35760863692865,
          99.99882412578442,
          97.42221200372258,
          99.7163545929269,
          102.47467224139663,
          103.72927885992351,
          100.43211273252088,
          102.09934668480379,
          100.09556739295017,
          98.66488452805555,
          100.062567530051,
          101.93567415434204,
          95.32742044710803,
          101.7762512325245,
          97.37040502898067,
          98.05621295960754,
          102.89722857953657,
          102.55412488035054,
          97.76269309590148,
          100.16184868248916,
          100.86223501118666,
          96.84193934091513,
          103.20489534510784,
          102.00623605530367,
          99.58398865863656,
          102.01168051133808,
          104.45292551197069,
          100.75379622124743,
          98.29627555418578,
          97.71921657073149,
          97.78679827347874,
          100.07026910750923,
          99.70795105177156,
          99.91118804825047,
          97.08355434082246,
          100.89670270896306,
          101.69589690622605,
          95.97334445473614,
          99.10096827207607,
          98.62899466668347,
          101.00854417901303,
          100.3819782424156,
          99.61290812038787,
          101.18360450829695,
          97.90400178952066,
          99.58815635739656,
          96.71284290294481,
          99.89834550457148,
          102.25617627316387,
          100.00374826270627,
          102.03909639162016,
          100.00483897022853,
          100.28772961971126,
          100.11106266288348,
          105.42717774693176,
          101.9236688699485,
          98.34360215805148,
          100.50345270245465,
          102.17906329966398,
          97.1705572043051,
          100.43938849128477,
          100.41437891797513,
          101.17963575124652,
          100.6730116513237,
          99.60771891242123,
          101.70542700060766,
          100.66396616736915,
          99.69547491714145,
          101.5649525170174,
          100.47805314105786,
          98.16441262883443,
          101.94256086337722,
          100.40321896832556,
          102.94625213189924,
          99.60221229841841,
          102.01492609835273,
          99.14811389415586,
          96.86603184380203,
          99.0963520201175,
          103.28531430333238,
          99.86058533894725,
          101.74550630415322,
          98.99914308794851,
          99.89033252901321,
          99.13478051003123,
          101.13368715418022,
          101.81118872282997,
          98.14759860172214,
          96.93970228253637,
          100.15976287342207,
          101.34193686326668,
          101.44704368217867,
          103.19428751799298,
          98.74831736119664,
          99.35231927722666,
          99.4191333732435,
          100.69303675640467,
          100.00109357889654,
          101.29322123914993,
          100.54682442478511,
          104.59466020951444,
          101.0248636735986,
          95.58962684642641,
          100.29793141632392,
          98.737879041413,
          99.81620807854678,
          99.19302988454695,
          99.29091404417274,
          102.35342976482586,
          99.52871295617321,
          98.17439174433706,
          99.06818372027624,
          99.30247433669498,
          100.50732339804787,
          97.52630703294783,
          99.54268289361747,
          99.2330478336868,
          99.93281104028446,
          99.316317046408,
          101.23592949648506,
          99.49469400139438,
          97.00449890923562,
          102.12698902853145,
          104.18917258948466,
          102.1873206732797,
          96.20322127602509,
          99.29892632706222,
          101.23848912625927,
          101.10470348663458,
          98.55445766226535,
          102.38843682743976,
          99.61894430974766,
          99.89776957329511,
          99.80943536144699,
          103.43181483869675,
          100.13900468588419,
          101.50536586142232,
          104.59495088358136,
          100.35174512255624,
          101.0585701014038,
          99.6883670952413,
          102.97774332474151,
          102.89627819865726,
          101.81074309068187,
          100.36862202862578,
          104.10107005638108,
          99.53845941396396,
          98.00843558900523,
          103.75748218883137,
          103.28918958594414,
          98.01539478870305,
          96.17271107523496,
          96.61794308469852,
          97.98867954558119,
          97.33660355758617,
          99.3718284473951,
          100.85980468521137,
          99.40366232597272,
          101.1103180173552,
          103.25234149384025,
          99.31323673548401,
          99.91898457520738,
          98.25435259094539,
          99.47171481767884,
          98.1090600988288,
          102.40750629691411,
          100.84022058194454,
          99.19888728201691,
          100.84352295103339,
          101.41347318846348,
          100.19925207632654,
          98.22248653408418,
          97.82912025039155,
          103.19211560912773,
          100.23061519697585,
          98.59836283374251,
          101.51660157502315,
          97.00942166792909,
          97.46645896992243,
          98.80558933026602,
          99.03825752854023,
          99.9301144356883,
          99.3121072097942,
          100.91384263203445,
          98.27504455345151,
          98.22209583941448,
          101.09266432428508,
          97.39192356527901,
          98.07746817812072,
          96.81748598946895,
          99.66690160213088,
          102.53056176874118,
          102.62826007692296,
          98.6480427529412,
          100.86523548096177,
          98.9810665694,
          100.77081090021879,
          100.38749140589977,
          104.23575910562579,
          102.48552105017504,
          100.12492014091269,
          101.25176614780655,
          97.56490302556773,
          100.73138912564382,
          100.3466714993564,
          101.39614029025975,
          95.57266908139756,
          97.01342014912788,
          102.7913993988512,
          96.69997242344306,
          100.7387902598029,
          98.24038475696094,
          101.3052419391836,
          100.00095003126968,
          102.83563962016738,
          101.27897865303008,
          101.72256391478054,
          96.86901269165993,
          102.86581075506665,
          101.58100536295251,
          98.46602831862279,
          100.86016035107635,
          101.92788253258539,
          100.24994550878759,
          98.09997968053324,
          100.82763124236824,
          102.07575005109167,
          98.54161417266323,
          98.18031342034018,
          95.20034089075195,
          98.992114079768,
          100.53297497397227,
          99.91817165427591,
          105.47430901033977,
          98.08584759399307,
          95.7785629062851,
          101.86673411399467,
          96.3144531442132,
          99.25408954478694,
          99.7926958075448,
          98.97780762383238,
          100.58907279025603,
          98.72700415773947,
          99.29905999821274,
          96.85790888728404,
          96.73327688225733,
          102.69317488914555,
          102.1630742709776,
          100.42511487808906,
          98.6803968940997,
          99.28685186124511,
          97.08351084474826,
          102.50720463529414,
          96.5853236187109,
          97.6716126552846,
          96.97066833312361,
          100.69383833161436,
          103.29596068888405,
          102.00099126374148,
          101.30863337209512,
          101.69527635358095,
          100.81423312296697,
          97.63523937898822,
          96.07685862943016,
          102.47297543796051,
          102.08035021403431,
          101.01081914536557,
          96.77544471556799,
          101.45087857689633,
          99.54615484695321,
          98.1875367412708,
          94.85057912531298,
          100.26308679418528,
          101.57942602859336,
          101.75511448321721,
          101.05116114388352,
          100.74258778571607,
          101.88394057412367,
          96.45709403460981,
          100.62085226843104,
          101.82295038411087,
          98.97474431434851,
          97.22903414284806,
          98.54960667184984,
          99.36547604571948,
          98.50075743516847,
          102.68611454184338,
          98.79584364856807,
          96.34530518590357,
          103.76487347138587,
          101.1608021953395,
          98.63967678814834,
          99.44750577558882,
          97.59952133245548,
          104.33303740275869,
          102.3935556857891,
          98.19967660575955,
          100.58592215198446,
          101.40895778293772,
          97.85647909555631,
          97.97969027532083,
          98.58040142295222,
          99.94327918724437,
          100.21897260109321,
          99.79179719550545,
          101.14145283921741,
          103.7782553470114,
          102.8876134686051,
          103.33810316807437,
          102.14322035689939,
          99.70002449572944,
          97.97568230410117,
          97.98978683657654,
          100.46897758481147,
          100.31651257383636,
          104.97641633478345,
          94.62777595217042,
          98.64768835033348,
          101.12143435167215,
          103.23771119357318,
          102.18743462811608,
          99.91176413379935,
          97.29859323279965,
          99.12513522632175,
          103.9427943993915,
          98.7987704964065,
          97.78094470065221,
          101.62853413963066,
          100.53665238588887,
          99.59358333135592,
          100.20726950989237,
          104.01160873051239,
          98.58194239109048,
          100.95423065505057,
          99.14649274741276,
          100.07974864322418,
          99.19426679152049,
          99.21495106681799,
          102.76347482399716,
          100.05011761092054,
          104.07016939732162,
          100.58985047482219,
          103.14483637224039,
          97.6359866384583,
          100.5900897586165,
          97.87222567324228,
          98.76085974012537,
          102.72250566678414,
          97.78348754030448,
          102.78390463908319,
          100.35039588525363,
          99.1977270003187,
          102.71618849865055,
          97.94522129416043,
          102.88192885452274,
          103.77220926214517,
          100.1687998924007,
          98.65936033118636,
          99.23328797894506,
          100.66230526953952,
          100.63032427490556,
          100.66048447917325,
          104.81304645469778,
          98.52020229063434,
          97.80045980836853,
          98.2733066099228,
          100.3797410722715,
          103.65766175305747,
          101.31144898383184,
          100.01060861197374,
          101.46756940597028,
          100.75216304150008,
          102.04614331434932,
          100.71429951629739,
          98.47121188553945,
          98.85156442690676,
          101.62903430753,
          100.35064402920506,
          97.85090722489126,
          101.08571556797487,
          100.05947790894187,
          98.04547504906823,
          104.00966481210762,
          97.65876689974111,
          100.51896345925304,
          101.11661636145256,
          97.2875643607546,
          99.14461739607485,
          96.2606509659321,
          97.41096850512993,
          99.04759979550424,
          97.20150338229925,
          100.7905360950718,
          101.9107454414056,
          97.59078756271514,
          101.60155964362792,
          98.75825070262887,
          97.49739311494814,
          96.68572639277481,
          101.41375660918065,
          97.63707018766573,
          100.28939540691603,
          99.3321726478552,
          101.32060045480797,
          97.42492994047615,
          100.00593126403652,
          102.49536315135659,
          99.89739018536108,
          99.34186536717422,
          97.60373536981696,
          100.04522914006068,
          99.97967283291567,
          104.39357804525397,
          101.19571565829305,
          97.18594188084879,
          99.02170088482137,
          102.04970026990854,
          99.6936868330165,
          105.12971600355006,
          100.3952262396524,
          99.50227832798706,
          99.10113039567563,
          101.7457387532851,
          98.29460051856898,
          96.84509898970056,
          98.37678005707984,
          94.61715612497393,
          99.65623995475612,
          100.67958257263338,
          98.6904557784563,
          96.94542255876107,
          100.35526081328464,
          101.75396127123584,
          98.09121428951326,
          100.69575771417229,
          100.87146198959846,
          106.34806896130269,
          100.4792461299586,
          94.47820556075303,
          99.52028665827984,
          98.35812010213128
         ],
         "xaxis": "x",
         "yaxis": "y"
        }
       ],
       "layout": {
        "autosize": true,
        "barmode": "relative",
        "legend": {
         "title": {
          "text": "variable"
         },
         "tracegroupgap": 0
        },
        "margin": {
         "t": 60
        },
        "template": {
         "data": {
          "bar": [
           {
            "error_x": {
             "color": "#2a3f5f"
            },
            "error_y": {
             "color": "#2a3f5f"
            },
            "marker": {
             "line": {
              "color": "#E5ECF6",
              "width": 0.5
             },
             "pattern": {
              "fillmode": "overlay",
              "size": 10,
              "solidity": 0.2
             }
            },
            "type": "bar"
           }
          ],
          "barpolar": [
           {
            "marker": {
             "line": {
              "color": "#E5ECF6",
              "width": 0.5
             },
             "pattern": {
              "fillmode": "overlay",
              "size": 10,
              "solidity": 0.2
             }
            },
            "type": "barpolar"
           }
          ],
          "carpet": [
           {
            "aaxis": {
             "endlinecolor": "#2a3f5f",
             "gridcolor": "white",
             "linecolor": "white",
             "minorgridcolor": "white",
             "startlinecolor": "#2a3f5f"
            },
            "baxis": {
             "endlinecolor": "#2a3f5f",
             "gridcolor": "white",
             "linecolor": "white",
             "minorgridcolor": "white",
             "startlinecolor": "#2a3f5f"
            },
            "type": "carpet"
           }
          ],
          "choropleth": [
           {
            "colorbar": {
             "outlinewidth": 0,
             "ticks": ""
            },
            "type": "choropleth"
           }
          ],
          "contour": [
           {
            "colorbar": {
             "outlinewidth": 0,
             "ticks": ""
            },
            "colorscale": [
             [
              0,
              "#0d0887"
             ],
             [
              0.1111111111111111,
              "#46039f"
             ],
             [
              0.2222222222222222,
              "#7201a8"
             ],
             [
              0.3333333333333333,
              "#9c179e"
             ],
             [
              0.4444444444444444,
              "#bd3786"
             ],
             [
              0.5555555555555556,
              "#d8576b"
             ],
             [
              0.6666666666666666,
              "#ed7953"
             ],
             [
              0.7777777777777778,
              "#fb9f3a"
             ],
             [
              0.8888888888888888,
              "#fdca26"
             ],
             [
              1,
              "#f0f921"
             ]
            ],
            "type": "contour"
           }
          ],
          "contourcarpet": [
           {
            "colorbar": {
             "outlinewidth": 0,
             "ticks": ""
            },
            "type": "contourcarpet"
           }
          ],
          "heatmap": [
           {
            "colorbar": {
             "outlinewidth": 0,
             "ticks": ""
            },
            "colorscale": [
             [
              0,
              "#0d0887"
             ],
             [
              0.1111111111111111,
              "#46039f"
             ],
             [
              0.2222222222222222,
              "#7201a8"
             ],
             [
              0.3333333333333333,
              "#9c179e"
             ],
             [
              0.4444444444444444,
              "#bd3786"
             ],
             [
              0.5555555555555556,
              "#d8576b"
             ],
             [
              0.6666666666666666,
              "#ed7953"
             ],
             [
              0.7777777777777778,
              "#fb9f3a"
             ],
             [
              0.8888888888888888,
              "#fdca26"
             ],
             [
              1,
              "#f0f921"
             ]
            ],
            "type": "heatmap"
           }
          ],
          "heatmapgl": [
           {
            "colorbar": {
             "outlinewidth": 0,
             "ticks": ""
            },
            "colorscale": [
             [
              0,
              "#0d0887"
             ],
             [
              0.1111111111111111,
              "#46039f"
             ],
             [
              0.2222222222222222,
              "#7201a8"
             ],
             [
              0.3333333333333333,
              "#9c179e"
             ],
             [
              0.4444444444444444,
              "#bd3786"
             ],
             [
              0.5555555555555556,
              "#d8576b"
             ],
             [
              0.6666666666666666,
              "#ed7953"
             ],
             [
              0.7777777777777778,
              "#fb9f3a"
             ],
             [
              0.8888888888888888,
              "#fdca26"
             ],
             [
              1,
              "#f0f921"
             ]
            ],
            "type": "heatmapgl"
           }
          ],
          "histogram": [
           {
            "marker": {
             "pattern": {
              "fillmode": "overlay",
              "size": 10,
              "solidity": 0.2
             }
            },
            "type": "histogram"
           }
          ],
          "histogram2d": [
           {
            "colorbar": {
             "outlinewidth": 0,
             "ticks": ""
            },
            "colorscale": [
             [
              0,
              "#0d0887"
             ],
             [
              0.1111111111111111,
              "#46039f"
             ],
             [
              0.2222222222222222,
              "#7201a8"
             ],
             [
              0.3333333333333333,
              "#9c179e"
             ],
             [
              0.4444444444444444,
              "#bd3786"
             ],
             [
              0.5555555555555556,
              "#d8576b"
             ],
             [
              0.6666666666666666,
              "#ed7953"
             ],
             [
              0.7777777777777778,
              "#fb9f3a"
             ],
             [
              0.8888888888888888,
              "#fdca26"
             ],
             [
              1,
              "#f0f921"
             ]
            ],
            "type": "histogram2d"
           }
          ],
          "histogram2dcontour": [
           {
            "colorbar": {
             "outlinewidth": 0,
             "ticks": ""
            },
            "colorscale": [
             [
              0,
              "#0d0887"
             ],
             [
              0.1111111111111111,
              "#46039f"
             ],
             [
              0.2222222222222222,
              "#7201a8"
             ],
             [
              0.3333333333333333,
              "#9c179e"
             ],
             [
              0.4444444444444444,
              "#bd3786"
             ],
             [
              0.5555555555555556,
              "#d8576b"
             ],
             [
              0.6666666666666666,
              "#ed7953"
             ],
             [
              0.7777777777777778,
              "#fb9f3a"
             ],
             [
              0.8888888888888888,
              "#fdca26"
             ],
             [
              1,
              "#f0f921"
             ]
            ],
            "type": "histogram2dcontour"
           }
          ],
          "mesh3d": [
           {
            "colorbar": {
             "outlinewidth": 0,
             "ticks": ""
            },
            "type": "mesh3d"
           }
          ],
          "parcoords": [
           {
            "line": {
             "colorbar": {
              "outlinewidth": 0,
              "ticks": ""
             }
            },
            "type": "parcoords"
           }
          ],
          "pie": [
           {
            "automargin": true,
            "type": "pie"
           }
          ],
          "scatter": [
           {
            "fillpattern": {
             "fillmode": "overlay",
             "size": 10,
             "solidity": 0.2
            },
            "type": "scatter"
           }
          ],
          "scatter3d": [
           {
            "line": {
             "colorbar": {
              "outlinewidth": 0,
              "ticks": ""
             }
            },
            "marker": {
             "colorbar": {
              "outlinewidth": 0,
              "ticks": ""
             }
            },
            "type": "scatter3d"
           }
          ],
          "scattercarpet": [
           {
            "marker": {
             "colorbar": {
              "outlinewidth": 0,
              "ticks": ""
             }
            },
            "type": "scattercarpet"
           }
          ],
          "scattergeo": [
           {
            "marker": {
             "colorbar": {
              "outlinewidth": 0,
              "ticks": ""
             }
            },
            "type": "scattergeo"
           }
          ],
          "scattergl": [
           {
            "marker": {
             "colorbar": {
              "outlinewidth": 0,
              "ticks": ""
             }
            },
            "type": "scattergl"
           }
          ],
          "scattermapbox": [
           {
            "marker": {
             "colorbar": {
              "outlinewidth": 0,
              "ticks": ""
             }
            },
            "type": "scattermapbox"
           }
          ],
          "scatterpolar": [
           {
            "marker": {
             "colorbar": {
              "outlinewidth": 0,
              "ticks": ""
             }
            },
            "type": "scatterpolar"
           }
          ],
          "scatterpolargl": [
           {
            "marker": {
             "colorbar": {
              "outlinewidth": 0,
              "ticks": ""
             }
            },
            "type": "scatterpolargl"
           }
          ],
          "scatterternary": [
           {
            "marker": {
             "colorbar": {
              "outlinewidth": 0,
              "ticks": ""
             }
            },
            "type": "scatterternary"
           }
          ],
          "surface": [
           {
            "colorbar": {
             "outlinewidth": 0,
             "ticks": ""
            },
            "colorscale": [
             [
              0,
              "#0d0887"
             ],
             [
              0.1111111111111111,
              "#46039f"
             ],
             [
              0.2222222222222222,
              "#7201a8"
             ],
             [
              0.3333333333333333,
              "#9c179e"
             ],
             [
              0.4444444444444444,
              "#bd3786"
             ],
             [
              0.5555555555555556,
              "#d8576b"
             ],
             [
              0.6666666666666666,
              "#ed7953"
             ],
             [
              0.7777777777777778,
              "#fb9f3a"
             ],
             [
              0.8888888888888888,
              "#fdca26"
             ],
             [
              1,
              "#f0f921"
             ]
            ],
            "type": "surface"
           }
          ],
          "table": [
           {
            "cells": {
             "fill": {
              "color": "#EBF0F8"
             },
             "line": {
              "color": "white"
             }
            },
            "header": {
             "fill": {
              "color": "#C8D4E3"
             },
             "line": {
              "color": "white"
             }
            },
            "type": "table"
           }
          ]
         },
         "layout": {
          "annotationdefaults": {
           "arrowcolor": "#2a3f5f",
           "arrowhead": 0,
           "arrowwidth": 1
          },
          "autotypenumbers": "strict",
          "coloraxis": {
           "colorbar": {
            "outlinewidth": 0,
            "ticks": ""
           }
          },
          "colorscale": {
           "diverging": [
            [
             0,
             "#8e0152"
            ],
            [
             0.1,
             "#c51b7d"
            ],
            [
             0.2,
             "#de77ae"
            ],
            [
             0.3,
             "#f1b6da"
            ],
            [
             0.4,
             "#fde0ef"
            ],
            [
             0.5,
             "#f7f7f7"
            ],
            [
             0.6,
             "#e6f5d0"
            ],
            [
             0.7,
             "#b8e186"
            ],
            [
             0.8,
             "#7fbc41"
            ],
            [
             0.9,
             "#4d9221"
            ],
            [
             1,
             "#276419"
            ]
           ],
           "sequential": [
            [
             0,
             "#0d0887"
            ],
            [
             0.1111111111111111,
             "#46039f"
            ],
            [
             0.2222222222222222,
             "#7201a8"
            ],
            [
             0.3333333333333333,
             "#9c179e"
            ],
            [
             0.4444444444444444,
             "#bd3786"
            ],
            [
             0.5555555555555556,
             "#d8576b"
            ],
            [
             0.6666666666666666,
             "#ed7953"
            ],
            [
             0.7777777777777778,
             "#fb9f3a"
            ],
            [
             0.8888888888888888,
             "#fdca26"
            ],
            [
             1,
             "#f0f921"
            ]
           ],
           "sequentialminus": [
            [
             0,
             "#0d0887"
            ],
            [
             0.1111111111111111,
             "#46039f"
            ],
            [
             0.2222222222222222,
             "#7201a8"
            ],
            [
             0.3333333333333333,
             "#9c179e"
            ],
            [
             0.4444444444444444,
             "#bd3786"
            ],
            [
             0.5555555555555556,
             "#d8576b"
            ],
            [
             0.6666666666666666,
             "#ed7953"
            ],
            [
             0.7777777777777778,
             "#fb9f3a"
            ],
            [
             0.8888888888888888,
             "#fdca26"
            ],
            [
             1,
             "#f0f921"
            ]
           ]
          },
          "colorway": [
           "#636efa",
           "#EF553B",
           "#00cc96",
           "#ab63fa",
           "#FFA15A",
           "#19d3f3",
           "#FF6692",
           "#B6E880",
           "#FF97FF",
           "#FECB52"
          ],
          "font": {
           "color": "#2a3f5f"
          },
          "geo": {
           "bgcolor": "white",
           "lakecolor": "white",
           "landcolor": "#E5ECF6",
           "showlakes": true,
           "showland": true,
           "subunitcolor": "white"
          },
          "hoverlabel": {
           "align": "left"
          },
          "hovermode": "closest",
          "mapbox": {
           "style": "light"
          },
          "paper_bgcolor": "white",
          "plot_bgcolor": "#E5ECF6",
          "polar": {
           "angularaxis": {
            "gridcolor": "white",
            "linecolor": "white",
            "ticks": ""
           },
           "bgcolor": "#E5ECF6",
           "radialaxis": {
            "gridcolor": "white",
            "linecolor": "white",
            "ticks": ""
           }
          },
          "scene": {
           "xaxis": {
            "backgroundcolor": "#E5ECF6",
            "gridcolor": "white",
            "gridwidth": 2,
            "linecolor": "white",
            "showbackground": true,
            "ticks": "",
            "zerolinecolor": "white"
           },
           "yaxis": {
            "backgroundcolor": "#E5ECF6",
            "gridcolor": "white",
            "gridwidth": 2,
            "linecolor": "white",
            "showbackground": true,
            "ticks": "",
            "zerolinecolor": "white"
           },
           "zaxis": {
            "backgroundcolor": "#E5ECF6",
            "gridcolor": "white",
            "gridwidth": 2,
            "linecolor": "white",
            "showbackground": true,
            "ticks": "",
            "zerolinecolor": "white"
           }
          },
          "shapedefaults": {
           "line": {
            "color": "#2a3f5f"
           }
          },
          "ternary": {
           "aaxis": {
            "gridcolor": "white",
            "linecolor": "white",
            "ticks": ""
           },
           "baxis": {
            "gridcolor": "white",
            "linecolor": "white",
            "ticks": ""
           },
           "bgcolor": "#E5ECF6",
           "caxis": {
            "gridcolor": "white",
            "linecolor": "white",
            "ticks": ""
           }
          },
          "title": {
           "x": 0.05
          },
          "xaxis": {
           "automargin": true,
           "gridcolor": "white",
           "linecolor": "white",
           "ticks": "",
           "title": {
            "standoff": 15
           },
           "zerolinecolor": "white",
           "zerolinewidth": 2
          },
          "yaxis": {
           "automargin": true,
           "gridcolor": "white",
           "linecolor": "white",
           "ticks": "",
           "title": {
            "standoff": 15
           },
           "zerolinecolor": "white",
           "zerolinewidth": 2
          }
         }
        },
        "xaxis": {
         "anchor": "y",
         "domain": [
          0,
          1
         ],
         "range": [
          90,
          110
         ],
         "title": {
          "text": "value"
         },
         "type": "linear"
        },
        "yaxis": {
         "anchor": "x",
         "autorange": true,
         "domain": [
          0,
          1
         ],
         "range": [
          0,
          55.78947368421053
         ],
         "title": {
          "text": "count"
         }
        }
       }
      },
      "image/png": "[encoded data removed]",
      "text/html": [
       "<div>                            <div id=\"0d890114-8f5a-44d8-b278-8962f576d8af\" class=\"plotly-graph-div\" style=\"height:525px; width:100%;\"></div>            <script type=\"text/javascript\">                require([\"plotly\"], function(Plotly) {                    window.PLOTLYENV=window.PLOTLYENV || {};                                    if (document.getElementById(\"0d890114-8f5a-44d8-b278-8962f576d8af\")) {                    Plotly.newPlot(                        \"0d890114-8f5a-44d8-b278-8962f576d8af\",                        [{\"alignmentgroup\":\"True\",\"bingroup\":\"x\",\"hovertemplate\":\"variable=0<br>value=%{x}<br>count=%{y}<extra></extra>\",\"legendgroup\":\"0\",\"marker\":{\"color\":\"#636efa\",\"pattern\":{\"shape\":\"\"}},\"name\":\"0\",\"offsetgroup\":\"0\",\"orientation\":\"v\",\"showlegend\":true,\"x\":[97.2776869232838,99.61264533880626,98.80246626514435,100.44346346951473,102.34044960617123,97.47050729780662,100.54979538925764,100.62754149384575,101.57260527534528,99.10509304788546,99.292206854752,95.14270505309958,100.21675766773471,103.9111752208224,98.41280294333728,99.54058642144172,99.2876782885659,97.83107492060452,99.31210476446019,98.26530177575432,99.6806056688063,103.22059314694464,101.18364930975062,100.12722574557615,97.8753338471319,103.1838218383805,102.06659156753307,100.52178526226989,102.64967724380062,99.59778248714116,102.25349815781543,104.9031750759441,99.08818802183659,98.57264378200283,100.15479759292413,98.59260831748131,98.76512163376464,100.2624037507363,98.23968965881443,100.20768379485239,97.30327374104252,101.03658094783741,95.96488425368146,98.43566147498083,97.23914049211618,101.39083313488105,99.54735610930835,99.18040412941461,101.68171132057272,98.83601032241266,102.7070971219214,98.1963515347393,102.27470984126754,99.22845374859756,99.0844674039912,99.93430202393495,100.85279268467796,101.60941511913877,102.08860492476936,102.35760863692865,99.99882412578442,97.42221200372258,99.7163545929269,102.47467224139663,103.72927885992351,100.43211273252088,102.09934668480379,100.09556739295017,98.66488452805555,100.062567530051,101.93567415434204,95.32742044710803,101.7762512325245,97.37040502898067,98.05621295960754,102.89722857953657,102.55412488035054,97.76269309590148,100.16184868248916,100.86223501118666,96.84193934091513,103.20489534510784,102.00623605530367,99.58398865863656,102.01168051133808,104.45292551197069,100.75379622124743,98.29627555418578,97.71921657073149,97.78679827347874,100.07026910750923,99.70795105177156,99.91118804825047,97.08355434082246,100.89670270896306,101.69589690622605,95.97334445473614,99.10096827207607,98.62899466668347,101.00854417901303,100.3819782424156,99.61290812038787,101.18360450829695,97.90400178952066,99.58815635739656,96.71284290294481,99.89834550457148,102.25617627316387,100.00374826270627,102.03909639162016,100.00483897022853,100.28772961971126,100.11106266288348,105.42717774693176,101.9236688699485,98.34360215805148,100.50345270245465,102.17906329966398,97.1705572043051,100.43938849128477,100.41437891797513,101.17963575124652,100.6730116513237,99.60771891242123,101.70542700060766,100.66396616736915,99.69547491714145,101.5649525170174,100.47805314105786,98.16441262883443,101.94256086337722,100.40321896832556,102.94625213189924,99.60221229841841,102.01492609835273,99.14811389415586,96.86603184380203,99.0963520201175,103.28531430333238,99.86058533894725,101.74550630415322,98.99914308794851,99.89033252901321,99.13478051003123,101.13368715418022,101.81118872282997,98.14759860172214,96.93970228253637,100.15976287342207,101.34193686326668,101.44704368217867,103.19428751799298,98.74831736119664,99.35231927722666,99.4191333732435,100.69303675640467,100.00109357889654,101.29322123914993,100.54682442478511,104.59466020951444,101.0248636735986,95.58962684642641,100.29793141632392,98.737879041413,99.81620807854678,99.19302988454695,99.29091404417274,102.35342976482586,99.52871295617321,98.17439174433706,99.06818372027624,99.30247433669498,100.50732339804787,97.52630703294783,99.54268289361747,99.2330478336868,99.93281104028446,99.316317046408,101.23592949648506,99.49469400139438,97.00449890923562,102.12698902853145,104.18917258948466,102.1873206732797,96.20322127602509,99.29892632706222,101.23848912625927,101.10470348663458,98.55445766226535,102.38843682743976,99.61894430974766,99.89776957329511,99.80943536144699,103.43181483869675,100.13900468588419,101.50536586142232,104.59495088358136,100.35174512255624,101.0585701014038,99.6883670952413,102.97774332474151,102.89627819865726,101.81074309068187,100.36862202862578,104.10107005638108,99.53845941396396,98.00843558900523,103.75748218883137,103.28918958594414,98.01539478870305,96.17271107523496,96.61794308469852,97.98867954558119,97.33660355758617,99.3718284473951,100.85980468521137,99.40366232597272,101.1103180173552,103.25234149384025,99.31323673548401,99.91898457520738,98.25435259094539,99.47171481767884,98.1090600988288,102.40750629691411,100.84022058194454,99.19888728201691,100.84352295103339,101.41347318846348,100.19925207632654,98.22248653408418,97.82912025039155,103.19211560912773,100.23061519697585,98.59836283374251,101.51660157502315,97.00942166792909,97.46645896992243,98.80558933026602,99.03825752854023,99.9301144356883,99.3121072097942,100.91384263203445,98.27504455345151,98.22209583941448,101.09266432428508,97.39192356527901,98.07746817812072,96.81748598946895,99.66690160213088,102.53056176874118,102.62826007692296,98.6480427529412,100.86523548096177,98.9810665694,100.77081090021879,100.38749140589977,104.23575910562579,102.48552105017504,100.12492014091269,101.25176614780655,97.56490302556773,100.73138912564382,100.3466714993564,101.39614029025975,95.57266908139756,97.01342014912788,102.7913993988512,96.69997242344306,100.7387902598029,98.24038475696094,101.3052419391836,100.00095003126968,102.83563962016738,101.27897865303008,101.72256391478054,96.86901269165993,102.86581075506665,101.58100536295251,98.46602831862279,100.86016035107635,101.92788253258539,100.24994550878759,98.09997968053324,100.82763124236824,102.07575005109167,98.54161417266323,98.18031342034018,95.20034089075195,98.992114079768,100.53297497397227,99.91817165427591,105.47430901033977,98.08584759399307,95.7785629062851,101.86673411399467,96.3144531442132,99.25408954478694,99.7926958075448,98.97780762383238,100.58907279025603,98.72700415773947,99.29905999821274,96.85790888728404,96.73327688225733,102.69317488914555,102.1630742709776,100.42511487808906,98.6803968940997,99.28685186124511,97.08351084474826,102.50720463529414,96.5853236187109,97.6716126552846,96.97066833312361,100.69383833161436,103.29596068888405,102.00099126374148,101.30863337209512,101.69527635358095,100.81423312296697,97.63523937898822,96.07685862943016,102.47297543796051,102.08035021403431,101.01081914536557,96.77544471556799,101.45087857689633,99.54615484695321,98.1875367412708,94.85057912531298,100.26308679418528,101.57942602859336,101.75511448321721,101.05116114388352,100.74258778571607,101.88394057412367,96.45709403460981,100.62085226843104,101.82295038411087,98.97474431434851,97.22903414284806,98.54960667184984,99.36547604571948,98.50075743516847,102.68611454184338,98.79584364856807,96.34530518590357,103.76487347138587,101.1608021953395,98.63967678814834,99.44750577558882,97.59952133245548,104.33303740275869,102.3935556857891,98.19967660575955,100.58592215198446,101.40895778293772,97.85647909555631,97.97969027532083,98.58040142295222,99.94327918724437,100.21897260109321,99.79179719550545,101.14145283921741,103.7782553470114,102.8876134686051,103.33810316807437,102.14322035689939,99.70002449572944,97.97568230410117,97.98978683657654,100.46897758481147,100.31651257383636,104.97641633478345,94.62777595217042,98.64768835033348,101.12143435167215,103.23771119357318,102.18743462811608,99.91176413379935,97.29859323279965,99.12513522632175,103.9427943993915,98.7987704964065,97.78094470065221,101.62853413963066,100.53665238588887,99.59358333135592,100.20726950989237,104.01160873051239,98.58194239109048,100.95423065505057,99.14649274741276,100.07974864322418,99.19426679152049,99.21495106681799,102.76347482399716,100.05011761092054,104.07016939732162,100.58985047482219,103.14483637224039,97.6359866384583,100.5900897586165,97.87222567324228,98.76085974012537,102.72250566678414,97.78348754030448,102.78390463908319,100.35039588525363,99.1977270003187,102.71618849865055,97.94522129416043,102.88192885452274,103.77220926214517,100.1687998924007,98.65936033118636,99.23328797894506,100.66230526953952,100.63032427490556,100.66048447917325,104.81304645469778,98.52020229063434,97.80045980836853,98.2733066099228,100.3797410722715,103.65766175305747,101.31144898383184,100.01060861197374,101.46756940597028,100.75216304150008,102.04614331434932,100.71429951629739,98.47121188553945,98.85156442690676,101.62903430753,100.35064402920506,97.85090722489126,101.08571556797487,100.05947790894187,98.04547504906823,104.00966481210762,97.65876689974111,100.51896345925304,101.11661636145256,97.2875643607546,99.14461739607485,96.2606509659321,97.41096850512993,99.04759979550424,97.20150338229925,100.7905360950718,101.9107454414056,97.59078756271514,101.60155964362792,98.75825070262887,97.49739311494814,96.68572639277481,101.41375660918065,97.63707018766573,100.28939540691603,99.3321726478552,101.32060045480797,97.42492994047615,100.00593126403652,102.49536315135659,99.89739018536108,99.34186536717422,97.60373536981696,100.04522914006068,99.97967283291567,104.39357804525397,101.19571565829305,97.18594188084879,99.02170088482137,102.04970026990854,99.6936868330165,105.12971600355006,100.3952262396524,99.50227832798706,99.10113039567563,101.7457387532851,98.29460051856898,96.84509898970056,98.37678005707984,94.61715612497393,99.65623995475612,100.67958257263338,98.6904557784563,96.94542255876107,100.35526081328464,101.75396127123584,98.09121428951326,100.69575771417229,100.87146198959846,106.34806896130269,100.4792461299586,94.47820556075303,99.52028665827984,98.35812010213128],\"xaxis\":\"x\",\"yaxis\":\"y\",\"type\":\"histogram\"}],                        {\"template\":{\"data\":{\"histogram2dcontour\":[{\"type\":\"histogram2dcontour\",\"colorbar\":{\"outlinewidth\":0,\"ticks\":\"\"},\"colorscale\":[[0.0,\"#0d0887\"],[0.1111111111111111,\"#46039f\"],[0.2222222222222222,\"#7201a8\"],[0.3333333333333333,\"#9c179e\"],[0.4444444444444444,\"#bd3786\"],[0.5555555555555556,\"#d8576b\"],[0.6666666666666666,\"#ed7953\"],[0.7777777777777778,\"#fb9f3a\"],[0.8888888888888888,\"#fdca26\"],[1.0,\"#f0f921\"]]}],\"choropleth\":[{\"type\":\"choropleth\",\"colorbar\":{\"outlinewidth\":0,\"ticks\":\"\"}}],\"histogram2d\":[{\"type\":\"histogram2d\",\"colorbar\":{\"outlinewidth\":0,\"ticks\":\"\"},\"colorscale\":[[0.0,\"#0d0887\"],[0.1111111111111111,\"#46039f\"],[0.2222222222222222,\"#7201a8\"],[0.3333333333333333,\"#9c179e\"],[0.4444444444444444,\"#bd3786\"],[0.5555555555555556,\"#d8576b\"],[0.6666666666666666,\"#ed7953\"],[0.7777777777777778,\"#fb9f3a\"],[0.8888888888888888,\"#fdca26\"],[1.0,\"#f0f921\"]]}],\"heatmap\":[{\"type\":\"heatmap\",\"colorbar\":{\"outlinewidth\":0,\"ticks\":\"\"},\"colorscale\":[[0.0,\"#0d0887\"],[0.1111111111111111,\"#46039f\"],[0.2222222222222222,\"#7201a8\"],[0.3333333333333333,\"#9c179e\"],[0.4444444444444444,\"#bd3786\"],[0.5555555555555556,\"#d8576b\"],[0.6666666666666666,\"#ed7953\"],[0.7777777777777778,\"#fb9f3a\"],[0.8888888888888888,\"#fdca26\"],[1.0,\"#f0f921\"]]}],\"heatmapgl\":[{\"type\":\"heatmapgl\",\"colorbar\":{\"outlinewidth\":0,\"ticks\":\"\"},\"colorscale\":[[0.0,\"#0d0887\"],[0.1111111111111111,\"#46039f\"],[0.2222222222222222,\"#7201a8\"],[0.3333333333333333,\"#9c179e\"],[0.4444444444444444,\"#bd3786\"],[0.5555555555555556,\"#d8576b\"],[0.6666666666666666,\"#ed7953\"],[0.7777777777777778,\"#fb9f3a\"],[0.8888888888888888,\"#fdca26\"],[1.0,\"#f0f921\"]]}],\"contourcarpet\":[{\"type\":\"contourcarpet\",\"colorbar\":{\"outlinewidth\":0,\"ticks\":\"\"}}],\"contour\":[{\"type\":\"contour\",\"colorbar\":{\"outlinewidth\":0,\"ticks\":\"\"},\"colorscale\":[[0.0,\"#0d0887\"],[0.1111111111111111,\"#46039f\"],[0.2222222222222222,\"#7201a8\"],[0.3333333333333333,\"#9c179e\"],[0.4444444444444444,\"#bd3786\"],[0.5555555555555556,\"#d8576b\"],[0.6666666666666666,\"#ed7953\"],[0.7777777777777778,\"#fb9f3a\"],[0.8888888888888888,\"#fdca26\"],[1.0,\"#f0f921\"]]}],\"surface\":[{\"type\":\"surface\",\"colorbar\":{\"outlinewidth\":0,\"ticks\":\"\"},\"colorscale\":[[0.0,\"#0d0887\"],[0.1111111111111111,\"#46039f\"],[0.2222222222222222,\"#7201a8\"],[0.3333333333333333,\"#9c179e\"],[0.4444444444444444,\"#bd3786\"],[0.5555555555555556,\"#d8576b\"],[0.6666666666666666,\"#ed7953\"],[0.7777777777777778,\"#fb9f3a\"],[0.8888888888888888,\"#fdca26\"],[1.0,\"#f0f921\"]]}],\"mesh3d\":[{\"type\":\"mesh3d\",\"colorbar\":{\"outlinewidth\":0,\"ticks\":\"\"}}],\"scatter\":[{\"fillpattern\":{\"fillmode\":\"overlay\",\"size\":10,\"solidity\":0.2},\"type\":\"scatter\"}],\"parcoords\":[{\"type\":\"parcoords\",\"line\":{\"colorbar\":{\"outlinewidth\":0,\"ticks\":\"\"}}}],\"scatterpolargl\":[{\"type\":\"scatterpolargl\",\"marker\":{\"colorbar\":{\"outlinewidth\":0,\"ticks\":\"\"}}}],\"bar\":[{\"error_x\":{\"color\":\"#2a3f5f\"},\"error_y\":{\"color\":\"#2a3f5f\"},\"marker\":{\"line\":{\"color\":\"#E5ECF6\",\"width\":0.5},\"pattern\":{\"fillmode\":\"overlay\",\"size\":10,\"solidity\":0.2}},\"type\":\"bar\"}],\"scattergeo\":[{\"type\":\"scattergeo\",\"marker\":{\"colorbar\":{\"outlinewidth\":0,\"ticks\":\"\"}}}],\"scatterpolar\":[{\"type\":\"scatterpolar\",\"marker\":{\"colorbar\":{\"outlinewidth\":0,\"ticks\":\"\"}}}],\"histogram\":[{\"marker\":{\"pattern\":{\"fillmode\":\"overlay\",\"size\":10,\"solidity\":0.2}},\"type\":\"histogram\"}],\"scattergl\":[{\"type\":\"scattergl\",\"marker\":{\"colorbar\":{\"outlinewidth\":0,\"ticks\":\"\"}}}],\"scatter3d\":[{\"type\":\"scatter3d\",\"line\":{\"colorbar\":{\"outlinewidth\":0,\"ticks\":\"\"}},\"marker\":{\"colorbar\":{\"outlinewidth\":0,\"ticks\":\"\"}}}],\"scattermapbox\":[{\"type\":\"scattermapbox\",\"marker\":{\"colorbar\":{\"outlinewidth\":0,\"ticks\":\"\"}}}],\"scatterternary\":[{\"type\":\"scatterternary\",\"marker\":{\"colorbar\":{\"outlinewidth\":0,\"ticks\":\"\"}}}],\"scattercarpet\":[{\"type\":\"scattercarpet\",\"marker\":{\"colorbar\":{\"outlinewidth\":0,\"ticks\":\"\"}}}],\"carpet\":[{\"aaxis\":{\"endlinecolor\":\"#2a3f5f\",\"gridcolor\":\"white\",\"linecolor\":\"white\",\"minorgridcolor\":\"white\",\"startlinecolor\":\"#2a3f5f\"},\"baxis\":{\"endlinecolor\":\"#2a3f5f\",\"gridcolor\":\"white\",\"linecolor\":\"white\",\"minorgridcolor\":\"white\",\"startlinecolor\":\"#2a3f5f\"},\"type\":\"carpet\"}],\"table\":[{\"cells\":{\"fill\":{\"color\":\"#EBF0F8\"},\"line\":{\"color\":\"white\"}},\"header\":{\"fill\":{\"color\":\"#C8D4E3\"},\"line\":{\"color\":\"white\"}},\"type\":\"table\"}],\"barpolar\":[{\"marker\":{\"line\":{\"color\":\"#E5ECF6\",\"width\":0.5},\"pattern\":{\"fillmode\":\"overlay\",\"size\":10,\"solidity\":0.2}},\"type\":\"barpolar\"}],\"pie\":[{\"automargin\":true,\"type\":\"pie\"}]},\"layout\":{\"autotypenumbers\":\"strict\",\"colorway\":[\"#636efa\",\"#EF553B\",\"#00cc96\",\"#ab63fa\",\"#FFA15A\",\"#19d3f3\",\"#FF6692\",\"#B6E880\",\"#FF97FF\",\"#FECB52\"],\"font\":{\"color\":\"#2a3f5f\"},\"hovermode\":\"closest\",\"hoverlabel\":{\"align\":\"left\"},\"paper_bgcolor\":\"white\",\"plot_bgcolor\":\"#E5ECF6\",\"polar\":{\"bgcolor\":\"#E5ECF6\",\"angularaxis\":{\"gridcolor\":\"white\",\"linecolor\":\"white\",\"ticks\":\"\"},\"radialaxis\":{\"gridcolor\":\"white\",\"linecolor\":\"white\",\"ticks\":\"\"}},\"ternary\":{\"bgcolor\":\"#E5ECF6\",\"aaxis\":{\"gridcolor\":\"white\",\"linecolor\":\"white\",\"ticks\":\"\"},\"baxis\":{\"gridcolor\":\"white\",\"linecolor\":\"white\",\"ticks\":\"\"},\"caxis\":{\"gridcolor\":\"white\",\"linecolor\":\"white\",\"ticks\":\"\"}},\"coloraxis\":{\"colorbar\":{\"outlinewidth\":0,\"ticks\":\"\"}},\"colorscale\":{\"sequential\":[[0.0,\"#0d0887\"],[0.1111111111111111,\"#46039f\"],[0.2222222222222222,\"#7201a8\"],[0.3333333333333333,\"#9c179e\"],[0.4444444444444444,\"#bd3786\"],[0.5555555555555556,\"#d8576b\"],[0.6666666666666666,\"#ed7953\"],[0.7777777777777778,\"#fb9f3a\"],[0.8888888888888888,\"#fdca26\"],[1.0,\"#f0f921\"]],\"sequentialminus\":[[0.0,\"#0d0887\"],[0.1111111111111111,\"#46039f\"],[0.2222222222222222,\"#7201a8\"],[0.3333333333333333,\"#9c179e\"],[0.4444444444444444,\"#bd3786\"],[0.5555555555555556,\"#d8576b\"],[0.6666666666666666,\"#ed7953\"],[0.7777777777777778,\"#fb9f3a\"],[0.8888888888888888,\"#fdca26\"],[1.0,\"#f0f921\"]],\"diverging\":[[0,\"#8e0152\"],[0.1,\"#c51b7d\"],[0.2,\"#de77ae\"],[0.3,\"#f1b6da\"],[0.4,\"#fde0ef\"],[0.5,\"#f7f7f7\"],[0.6,\"#e6f5d0\"],[0.7,\"#b8e186\"],[0.8,\"#7fbc41\"],[0.9,\"#4d9221\"],[1,\"#276419\"]]},\"xaxis\":{\"gridcolor\":\"white\",\"linecolor\":\"white\",\"ticks\":\"\",\"title\":{\"standoff\":15},\"zerolinecolor\":\"white\",\"automargin\":true,\"zerolinewidth\":2},\"yaxis\":{\"gridcolor\":\"white\",\"linecolor\":\"white\",\"ticks\":\"\",\"title\":{\"standoff\":15},\"zerolinecolor\":\"white\",\"automargin\":true,\"zerolinewidth\":2},\"scene\":{\"xaxis\":{\"backgroundcolor\":\"#E5ECF6\",\"gridcolor\":\"white\",\"linecolor\":\"white\",\"showbackground\":true,\"ticks\":\"\",\"zerolinecolor\":\"white\",\"gridwidth\":2},\"yaxis\":{\"backgroundcolor\":\"#E5ECF6\",\"gridcolor\":\"white\",\"linecolor\":\"white\",\"showbackground\":true,\"ticks\":\"\",\"zerolinecolor\":\"white\",\"gridwidth\":2},\"zaxis\":{\"backgroundcolor\":\"#E5ECF6\",\"gridcolor\":\"white\",\"linecolor\":\"white\",\"showbackground\":true,\"ticks\":\"\",\"zerolinecolor\":\"white\",\"gridwidth\":2}},\"shapedefaults\":{\"line\":{\"color\":\"#2a3f5f\"}},\"annotationdefaults\":{\"arrowcolor\":\"#2a3f5f\",\"arrowhead\":0,\"arrowwidth\":1},\"geo\":{\"bgcolor\":\"white\",\"landcolor\":\"#E5ECF6\",\"subunitcolor\":\"white\",\"showland\":true,\"showlakes\":true,\"lakecolor\":\"white\"},\"title\":{\"x\":0.05},\"mapbox\":{\"style\":\"light\"}}},\"xaxis\":{\"anchor\":\"y\",\"domain\":[0.0,1.0],\"title\":{\"text\":\"value\"},\"range\":[90,110]},\"yaxis\":{\"anchor\":\"x\",\"domain\":[0.0,1.0],\"title\":{\"text\":\"count\"}},\"legend\":{\"title\":{\"text\":\"variable\"},\"tracegroupgap\":0},\"margin\":{\"t\":60},\"barmode\":\"relative\"},                        {\"responsive\": true}                    ).then(function(){\n",
       "                            \n",
       "var gd = document.getElementById('0d890114-8f5a-44d8-b278-8962f576d8af');\n",
       "var x = new MutationObserver(function (mutations, observer) {{\n",
       "        var display = window.getComputedStyle(gd).display;\n",
       "        if (!display || display === 'none') {{\n",
       "            console.log([gd, 'removed!']);\n",
       "            Plotly.purge(gd);\n",
       "            observer.disconnect();\n",
       "        }}\n",
       "}});\n",
       "\n",
       "// Listen for the removal of the full notebook cells\n",
       "var notebookContainer = gd.closest('#notebook-container');\n",
       "if (notebookContainer) {{\n",
       "    x.observe(notebookContainer, {childList: true});\n",
       "}}\n",
       "\n",
       "// Listen for the clearing of the current output cell\n",
       "var outputEl = gd.closest('.output');\n",
       "if (outputEl) {{\n",
       "    x.observe(outputEl, {childList: true});\n",
       "}}\n",
       "\n",
       "                        })                };                });            </script>        </div>"
      ]
     },
     "metadata": {},
     "output_type": "display_data"
    }
   ],
   "source": [
    "import plotly.express as px\n",
    "import numpy as np\n",
    "\n",
    "data = np.random.normal(100, 2, size=500) # replace with your own data source\n",
    "fig = px.histogram(data, range_x=[90, 110])\n",
    "fig.show()"
   ]
  },
  {
   "cell_type": "markdown",
   "metadata": {},
   "source": [
    "### Diagramas de Cajas\n",
    "\n",
    "El diagrama de caja si bien no es homólogo al histograma,ya que este último no muestra las frecuencias acumuladas.En cambio el diagrama de cajas muestra una visualización condensada de las observaciones,en donde se pueden ver directamente algunos estadísticos relevantes como el $Q_{1}$, $Q_{2}$ o $Mediana$, $Q_{3}$,$Máximo$ y $Mínimo$ además de los outliers.\n",
    "\n",
    "En este caso se muestra la sintáxis para representar una muestra generada con una distribución uniforme $U~(a=50,b=100)$ y además del gráfico de caja se habilita en la función el parametro **points=all** para además graficar todas las observaciones.\n"
   ]
  },
  {
   "cell_type": "code",
   "execution_count": 3,
   "metadata": {},
   "outputs": [
    {
     "data": {
      "application/vnd.plotly.v1+json": {
       "config": {
        "plotlyServerURL": "https://plot.ly"
       },
       "data": [
        {
         "alignmentgroup": "True",
         "boxpoints": "all",
         "hovertemplate": "variable=%{x}<br>value=%{y}<extra></extra>",
         "legendgroup": "",
         "marker": {
          "color": "#636efa"
         },
         "name": "",
         "notched": false,
         "offsetgroup": "",
         "orientation": "v",
         "showlegend": false,
         "type": "box",
         "x": [
          "0",
          "0",
          "0",
          "0",
          "0",
          "0",
          "0",
          "0",
          "0",
          "0",
          "0",
          "0",
          "0",
          "0",
          "0",
          "0",
          "0",
          "0",
          "0",
          "0",
          "0",
          "0",
          "0",
          "0",
          "0",
          "0",
          "0",
          "0",
          "0",
          "0",
          "0",
          "0",
          "0",
          "0",
          "0",
          "0",
          "0",
          "0",
          "0",
          "0",
          "0",
          "0",
          "0",
          "0",
          "0",
          "0",
          "0",
          "0",
          "0",
          "0",
          "0",
          "0",
          "0",
          "0",
          "0",
          "0",
          "0",
          "0",
          "0",
          "0",
          "0",
          "0",
          "0",
          "0",
          "0",
          "0",
          "0",
          "0",
          "0",
          "0",
          "0",
          "0",
          "0",
          "0",
          "0",
          "0",
          "0",
          "0",
          "0",
          "0",
          "0",
          "0",
          "0",
          "0",
          "0",
          "0",
          "0",
          "0",
          "0",
          "0",
          "0",
          "0",
          "0",
          "0",
          "0",
          "0",
          "0",
          "0",
          "0",
          "0",
          "0",
          "0",
          "0",
          "0",
          "0",
          "0",
          "0",
          "0",
          "0",
          "0",
          "0",
          "0",
          "0",
          "0",
          "0",
          "0",
          "0",
          "0",
          "0",
          "0",
          "0",
          "0",
          "0",
          "0",
          "0",
          "0",
          "0",
          "0",
          "0",
          "0",
          "0",
          "0",
          "0",
          "0",
          "0",
          "0",
          "0",
          "0",
          "0",
          "0",
          "0",
          "0",
          "0",
          "0",
          "0",
          "0",
          "0",
          "0",
          "0",
          "0",
          "0",
          "0",
          "0",
          "0",
          "0",
          "0",
          "0",
          "0",
          "0",
          "0",
          "0",
          "0",
          "0",
          "0",
          "0",
          "0",
          "0",
          "0",
          "0",
          "0",
          "0",
          "0",
          "0",
          "0",
          "0",
          "0",
          "0",
          "0",
          "0",
          "0",
          "0",
          "0",
          "0",
          "0",
          "0",
          "0",
          "0",
          "0",
          "0",
          "0",
          "0",
          "0",
          "0",
          "0",
          "0",
          "0",
          "0",
          "0",
          "0",
          "0",
          "0",
          "0",
          "0",
          "0",
          "0",
          "0",
          "0",
          "0",
          "0",
          "0",
          "0",
          "0",
          "0",
          "0",
          "0",
          "0",
          "0",
          "0",
          "0",
          "0",
          "0",
          "0",
          "0",
          "0",
          "0",
          "0",
          "0",
          "0",
          "0",
          "0",
          "0",
          "0",
          "0",
          "0",
          "0",
          "0",
          "0",
          "0",
          "0",
          "0",
          "0",
          "0",
          "0",
          "0",
          "0",
          "0",
          "0",
          "0",
          "0",
          "0",
          "0",
          "0",
          "0",
          "0",
          "0",
          "0",
          "0",
          "0",
          "0",
          "0",
          "0",
          "0",
          "0",
          "0",
          "0",
          "0",
          "0",
          "0",
          "0",
          "0",
          "0",
          "0",
          "0",
          "0",
          "0",
          "0",
          "0",
          "0",
          "0",
          "0",
          "0",
          "0",
          "0",
          "0",
          "0",
          "0",
          "0",
          "0",
          "0",
          "0",
          "0",
          "0",
          "0",
          "0",
          "0",
          "0",
          "0",
          "0",
          "0",
          "0",
          "0",
          "0",
          "0",
          "0",
          "0",
          "0",
          "0",
          "0",
          "0",
          "0",
          "0",
          "0",
          "0",
          "0",
          "0",
          "0",
          "0",
          "0",
          "0",
          "0",
          "0",
          "0",
          "0",
          "0",
          "0",
          "0",
          "0",
          "0",
          "0",
          "0",
          "0",
          "0",
          "0",
          "0",
          "0",
          "0",
          "0",
          "0",
          "0",
          "0",
          "0",
          "0",
          "0",
          "0",
          "0",
          "0",
          "0",
          "0",
          "0",
          "0",
          "0",
          "0",
          "0",
          "0",
          "0",
          "0",
          "0",
          "0",
          "0",
          "0",
          "0",
          "0",
          "0",
          "0",
          "0",
          "0",
          "0",
          "0",
          "0",
          "0",
          "0",
          "0",
          "0",
          "0",
          "0",
          "0",
          "0",
          "0",
          "0",
          "0",
          "0",
          "0",
          "0",
          "0",
          "0",
          "0",
          "0",
          "0",
          "0",
          "0",
          "0",
          "0",
          "0",
          "0",
          "0",
          "0",
          "0",
          "0",
          "0",
          "0",
          "0",
          "0",
          "0",
          "0",
          "0",
          "0",
          "0",
          "0",
          "0",
          "0",
          "0",
          "0",
          "0",
          "0",
          "0",
          "0",
          "0",
          "0",
          "0",
          "0",
          "0",
          "0",
          "0",
          "0",
          "0",
          "0",
          "0",
          "0",
          "0",
          "0",
          "0",
          "0",
          "0",
          "0",
          "0",
          "0",
          "0",
          "0",
          "0",
          "0",
          "0",
          "0",
          "0",
          "0",
          "0",
          "0",
          "0",
          "0",
          "0",
          "0",
          "0",
          "0",
          "0",
          "0",
          "0",
          "0",
          "0",
          "0",
          "0",
          "0",
          "0",
          "0",
          "0",
          "0",
          "0",
          "0",
          "0",
          "0",
          "0",
          "0",
          "0",
          "0",
          "0",
          "0",
          "0",
          "0",
          "0",
          "0",
          "0",
          "0",
          "0",
          "0",
          "0",
          "0",
          "0",
          "0",
          "0",
          "0",
          "0",
          "0",
          "0",
          "0",
          "0",
          "0",
          "0",
          "0",
          "0",
          "0",
          "0",
          "0"
         ],
         "x0": " ",
         "xaxis": "x",
         "y": [
          57.32008610377526,
          86.54966583723214,
          92.47416090746518,
          53.93723192946827,
          78.55373372750331,
          92.17258871640826,
          86.64980769591664,
          56.20297198898496,
          75.24023627877831,
          83.397504383233,
          81.29374581505354,
          71.8891906716522,
          97.95818502798721,
          60.29798023301346,
          79.73047562500976,
          51.48935742023135,
          71.69046000043775,
          70.03887812999135,
          51.09233757324946,
          63.91674379561824,
          96.97334591181585,
          60.033636676857405,
          81.26735354860936,
          99.22553954025669,
          65.47110814343706,
          88.59745248536566,
          71.36911238776798,
          57.944127212946725,
          76.03772749550275,
          71.79987244974546,
          88.71043550029742,
          77.07849896593059,
          94.63686326388334,
          86.90913947393133,
          95.50486189729541,
          67.31472784912486,
          63.006744602520705,
          82.67432471790002,
          51.24508629296917,
          70.02318016641973,
          91.63079283495794,
          70.74941292243011,
          65.9610617129413,
          91.83225442039438,
          64.20709559492131,
          65.37644442339078,
          61.932580889801656,
          60.409139164585426,
          75.96102834967016,
          52.413715204300274,
          54.81733913962247,
          72.06069736505347,
          54.37937842421096,
          68.91200575018806,
          86.14350697029602,
          77.28961665586164,
          56.6561073108481,
          60.43071535348447,
          52.28630718273948,
          85.51725939143112,
          61.46001234258107,
          90.18176785975643,
          60.71373041690681,
          77.29367142820716,
          84.04730264962153,
          62.39150697634743,
          77.97911320786213,
          98.73750170897978,
          78.8117445754003,
          80.005208132727,
          75.63062140135959,
          90.20777915942477,
          58.83880136815337,
          60.24649839779653,
          63.01228080024255,
          56.26739259729022,
          85.81674597738862,
          73.74529090621945,
          73.31831857831054,
          89.46949664915931,
          89.54509460394141,
          71.7763369139092,
          58.685603924087296,
          68.3582154449664,
          78.79767165438696,
          72.70443237371026,
          62.18601595874333,
          74.69198914392162,
          70.34060302600723,
          96.88460316360138,
          92.12896954109709,
          76.91567023850892,
          71.36366584096317,
          87.96406393366951,
          73.64442539084338,
          68.57962402778382,
          80.86783831781811,
          76.60983925055066,
          65.36894811145851,
          62.55918165878113,
          70.95998721908038,
          63.16375196527696,
          88.09467739578247,
          70.88763266356911,
          54.09677975545197,
          55.73734992472691,
          63.30694175745025,
          96.98744785833689,
          88.94874877304557,
          73.74020044636566,
          89.23081870132532,
          74.21450362460848,
          78.47640093510485,
          58.42302110673309,
          92.0922210270218,
          69.35813277360927,
          70.0831553715561,
          82.5130114006923,
          64.95468078362542,
          50.65425275201153,
          90.48552549073219,
          99.44726445036665,
          86.8984979991532,
          54.78441289826719,
          84.83028681147522,
          86.6268206496786,
          64.62233547401766,
          60.09821961222431,
          64.61553655231043,
          51.518655491433464,
          77.05464749656878,
          77.67738428868914,
          62.61502168305696,
          76.80005719545213,
          87.32822564026344,
          93.65714919537123,
          54.403039876628156,
          58.62335586350171,
          61.03330225663565,
          58.128930586521435,
          59.118786454022406,
          82.87335853321679,
          80.05545888415739,
          63.3424150612845,
          93.55684145677833,
          50.83860108309164,
          79.37979510317625,
          75.99309557478787,
          58.2079846733922,
          76.63768844089758,
          73.56620641946004,
          54.959771760182676,
          72.98156373134016,
          64.34375908386995,
          94.77524472893325,
          97.73519774003995,
          51.124038544263875,
          53.18642903106618,
          55.283419422798886,
          70.32324577172388,
          67.03079431907938,
          82.3738678698517,
          86.26905741003672,
          67.3442613276267,
          72.86299360460828,
          69.80187070096544,
          63.9003406091481,
          96.94485343622424,
          84.76718266394028,
          67.0012254146342,
          95.97312659877531,
          73.22978259423262,
          97.55729897750484,
          73.62226845565388,
          79.65698850584558,
          59.91874344345998,
          98.24934561243123,
          65.62695425287654,
          81.13589451322574,
          60.61044097559659,
          64.69082204572176,
          67.5676198884454,
          85.28554687099773,
          52.70267818460854,
          72.02021863783187,
          53.470297747114174,
          93.67601994232056,
          82.89405181611923,
          92.5440818093374,
          63.50159663171479,
          86.79915615457693,
          83.00542531512,
          95.31559968917739,
          50.06525528624707,
          75.03452947281147,
          94.35823479336835,
          97.4380204856605,
          59.10733631419516,
          54.78431420628589,
          53.60827903325302,
          65.61869443261371,
          82.8725846850021,
          54.96421057973207,
          99.01868557433025,
          85.56793451424048,
          67.57805101014094,
          88.09698338995591,
          95.53271752113514,
          60.414703355894844,
          83.91618641827625,
          54.47443697635201,
          73.91528244836786,
          52.12016985374767,
          96.35811051776076,
          72.87044406694145,
          99.84246320111583,
          86.25575916324688,
          50.74240902637518,
          65.2397656191117,
          82.79775745462294,
          72.41190348148852,
          67.63591973934685,
          51.683050530722205,
          81.99248642380768,
          85.851657250036,
          79.07335473265982,
          63.31113957241783,
          80.07951733350956,
          74.31926067703797,
          96.84741518464381,
          76.78053201742692,
          69.58028103136829,
          91.89993504922367,
          72.1796543523985,
          99.82676762757652,
          56.4149748328303,
          57.45395219285183,
          96.94013167578544,
          57.143429369907714,
          69.97423375996516,
          55.20413464095416,
          99.73232184723804,
          91.01042038990371,
          90.67710747743261,
          50.4336644933985,
          77.13172597849561,
          98.07074230286315,
          55.48191653084722,
          54.75953698693931,
          93.2389109179056,
          70.7588497030518,
          69.15001026135899,
          76.24669185054114,
          56.19676615809755,
          93.05861761905967,
          53.35533695047627,
          90.2200290273983,
          61.4677421730076,
          82.2266612897984,
          85.93539730359751,
          89.8313469449337,
          95.27547204205092,
          65.36281396208264,
          61.65945509247256,
          56.365933270272315,
          51.8549427695174,
          51.59046883953175,
          73.0158696849096,
          66.39043870318113,
          64.31921215785117,
          97.57147337864748,
          83.75435042718988,
          51.33061107819342,
          68.25279648208534,
          83.5563100096521,
          76.1039768788213,
          86.00866398238156,
          69.5924681820314,
          87.6710396859919,
          73.07012124172297,
          98.30951021147453,
          60.641199871685345,
          58.32593645660648,
          85.52034855397739,
          63.11749993403945,
          79.88237675489184,
          78.38643695060979,
          60.587502748574465,
          99.20490181812417,
          62.46528336986351,
          50.08485618933178,
          75.95913187820669,
          70.30021126280593,
          94.6433582247156,
          92.59022955440793,
          88.34335195690267,
          58.685246436816826,
          64.5416154506508,
          63.0140252892422,
          83.59648888072641,
          56.54582971524069,
          87.42196133036086,
          95.4757131058077,
          62.31065602744271,
          64.84666213166753,
          87.94684863441447,
          90.74240079779398,
          58.2499234890535,
          88.97627682690964,
          85.15054648757298,
          66.20318890487471,
          64.02143124670599,
          98.03458448389362,
          68.1039728808904,
          98.27209049545107,
          65.17308203969594,
          98.35386312519523,
          53.426088053974254,
          96.44193301920532,
          58.920287766201426,
          87.44243289821662,
          67.20205580120584,
          52.14636162403043,
          85.80122708977883,
          87.95624122380023,
          57.91530409090395,
          91.79693039322676,
          83.25026559557531,
          79.88171051792295,
          93.87875578244069,
          58.90085859446737,
          82.18138896327156,
          66.36245934577875,
          55.82402208302139,
          55.430742045673334,
          64.73782464585422,
          54.01312121894523,
          65.96684663323114,
          70.06853218640894,
          89.39662024119923,
          78.95779340085409,
          96.13378634011065,
          74.23410687930638,
          66.90091358419612,
          80.2825843853841,
          72.34448997418983,
          96.48972148320985,
          68.95762991911397,
          76.35339245378529,
          81.21021815843955,
          84.4009310622786,
          85.83917608426246,
          75.55143693238982,
          85.77157234007268,
          56.32739834125131,
          87.42715224514126,
          51.74832871136832,
          73.94481807222812,
          55.32873152549571,
          71.93138281394636,
          73.73438117400612,
          72.50185635855144,
          70.84994338500194,
          76.42735894865474,
          66.65372088047826,
          56.750863384108705,
          90.80328226219774,
          88.44604051564369,
          97.52877496815773,
          66.55045839353312,
          57.10859663690378,
          71.46438603163992,
          54.9631547413279,
          52.17648211043468,
          55.36194691958083,
          81.46317090343777,
          96.71548329302686,
          94.10622781073826,
          85.22384594293324,
          76.49509199982305,
          97.29181407021854,
          56.98517809209655,
          87.77144694068399,
          50.74896259047455,
          61.310424695517426,
          66.2762368309443,
          92.01884804079164,
          57.730081796477265,
          75.72523459093594,
          94.80003028639607,
          57.0346953087822,
          89.80136526075763,
          91.94821999401235,
          65.42087005217327,
          59.72015145707631,
          79.31149604027844,
          97.93386237920868,
          68.65832979111137,
          50.48773736132291,
          69.19010534663633,
          78.69390391140381,
          88.23270332114774,
          93.13619519128329,
          90.61993734337467,
          90.6817556424356,
          88.9713269815297,
          82.44964306368632,
          78.1264717003653,
          74.05455680145405,
          82.80878131857324,
          83.24960013440051,
          89.94235112398778,
          78.05844773196394,
          89.98059775779437,
          77.89890111373839,
          53.64274867753224,
          77.29109765015134,
          67.40795733753467,
          51.198216920302556,
          77.45724484109678,
          96.30398094718824,
          54.024144153684425,
          92.51983519596358,
          91.04241967107365,
          90.06892541345314,
          85.79791537150305,
          90.67244376313992,
          53.70060081019042,
          92.8535091191212,
          60.94565384888361,
          80.8865791135961,
          52.49406745691911,
          78.95279708197093,
          78.89251897576472,
          92.9984988977397,
          96.12994708716155,
          97.18136925329878,
          79.80890142571567,
          62.855595800786276,
          59.9383481209121,
          72.9454403693984,
          71.88033691138793,
          87.13579073553595,
          56.41384552806193,
          50.98152555180855,
          83.04752272573678,
          58.880219198540814,
          83.3904933906598,
          84.53454434110085,
          68.41884214330055,
          76.01139911406256,
          60.97566835975691,
          74.40165578522605,
          77.01219769520279,
          61.94555776995509,
          87.73650335738137,
          66.58495606359425,
          83.35775188416724,
          57.39611579447081,
          96.74292507419821,
          69.20432816410136,
          76.52006107112182,
          56.46951395247105,
          89.78201016134443,
          58.94068157774271,
          60.08054515727347,
          62.784463762521085,
          63.27948519028535,
          67.7021296221888,
          57.871724651144156,
          66.45117373903733,
          87.3406213814536,
          64.34697714201262,
          73.58142394351962,
          56.01332489934564,
          55.477374631426194,
          80.6341063774695,
          84.29263090173595,
          51.43404254440214,
          98.10980530626573,
          90.73242100855822,
          95.829457161162,
          55.52025745962544,
          86.37320137510824,
          69.59034528339448,
          72.65953441453209,
          74.78994656304717,
          50.42389005058411,
          50.964965390087585,
          89.83187817113233,
          74.35999291564895,
          51.886520734039735,
          88.62845157872923,
          72.0207036520978,
          70.28962049171716,
          82.92832067629416,
          56.36161890677177,
          84.85346448450653,
          59.54315066748522,
          51.441739382436246
         ],
         "y0": " ",
         "yaxis": "y"
        }
       ],
       "layout": {
        "autosize": true,
        "boxmode": "group",
        "legend": {
         "tracegroupgap": 0
        },
        "margin": {
         "t": 60
        },
        "template": {
         "data": {
          "bar": [
           {
            "error_x": {
             "color": "#2a3f5f"
            },
            "error_y": {
             "color": "#2a3f5f"
            },
            "marker": {
             "line": {
              "color": "#E5ECF6",
              "width": 0.5
             },
             "pattern": {
              "fillmode": "overlay",
              "size": 10,
              "solidity": 0.2
             }
            },
            "type": "bar"
           }
          ],
          "barpolar": [
           {
            "marker": {
             "line": {
              "color": "#E5ECF6",
              "width": 0.5
             },
             "pattern": {
              "fillmode": "overlay",
              "size": 10,
              "solidity": 0.2
             }
            },
            "type": "barpolar"
           }
          ],
          "carpet": [
           {
            "aaxis": {
             "endlinecolor": "#2a3f5f",
             "gridcolor": "white",
             "linecolor": "white",
             "minorgridcolor": "white",
             "startlinecolor": "#2a3f5f"
            },
            "baxis": {
             "endlinecolor": "#2a3f5f",
             "gridcolor": "white",
             "linecolor": "white",
             "minorgridcolor": "white",
             "startlinecolor": "#2a3f5f"
            },
            "type": "carpet"
           }
          ],
          "choropleth": [
           {
            "colorbar": {
             "outlinewidth": 0,
             "ticks": ""
            },
            "type": "choropleth"
           }
          ],
          "contour": [
           {
            "colorbar": {
             "outlinewidth": 0,
             "ticks": ""
            },
            "colorscale": [
             [
              0,
              "#0d0887"
             ],
             [
              0.1111111111111111,
              "#46039f"
             ],
             [
              0.2222222222222222,
              "#7201a8"
             ],
             [
              0.3333333333333333,
              "#9c179e"
             ],
             [
              0.4444444444444444,
              "#bd3786"
             ],
             [
              0.5555555555555556,
              "#d8576b"
             ],
             [
              0.6666666666666666,
              "#ed7953"
             ],
             [
              0.7777777777777778,
              "#fb9f3a"
             ],
             [
              0.8888888888888888,
              "#fdca26"
             ],
             [
              1,
              "#f0f921"
             ]
            ],
            "type": "contour"
           }
          ],
          "contourcarpet": [
           {
            "colorbar": {
             "outlinewidth": 0,
             "ticks": ""
            },
            "type": "contourcarpet"
           }
          ],
          "heatmap": [
           {
            "colorbar": {
             "outlinewidth": 0,
             "ticks": ""
            },
            "colorscale": [
             [
              0,
              "#0d0887"
             ],
             [
              0.1111111111111111,
              "#46039f"
             ],
             [
              0.2222222222222222,
              "#7201a8"
             ],
             [
              0.3333333333333333,
              "#9c179e"
             ],
             [
              0.4444444444444444,
              "#bd3786"
             ],
             [
              0.5555555555555556,
              "#d8576b"
             ],
             [
              0.6666666666666666,
              "#ed7953"
             ],
             [
              0.7777777777777778,
              "#fb9f3a"
             ],
             [
              0.8888888888888888,
              "#fdca26"
             ],
             [
              1,
              "#f0f921"
             ]
            ],
            "type": "heatmap"
           }
          ],
          "heatmapgl": [
           {
            "colorbar": {
             "outlinewidth": 0,
             "ticks": ""
            },
            "colorscale": [
             [
              0,
              "#0d0887"
             ],
             [
              0.1111111111111111,
              "#46039f"
             ],
             [
              0.2222222222222222,
              "#7201a8"
             ],
             [
              0.3333333333333333,
              "#9c179e"
             ],
             [
              0.4444444444444444,
              "#bd3786"
             ],
             [
              0.5555555555555556,
              "#d8576b"
             ],
             [
              0.6666666666666666,
              "#ed7953"
             ],
             [
              0.7777777777777778,
              "#fb9f3a"
             ],
             [
              0.8888888888888888,
              "#fdca26"
             ],
             [
              1,
              "#f0f921"
             ]
            ],
            "type": "heatmapgl"
           }
          ],
          "histogram": [
           {
            "marker": {
             "pattern": {
              "fillmode": "overlay",
              "size": 10,
              "solidity": 0.2
             }
            },
            "type": "histogram"
           }
          ],
          "histogram2d": [
           {
            "colorbar": {
             "outlinewidth": 0,
             "ticks": ""
            },
            "colorscale": [
             [
              0,
              "#0d0887"
             ],
             [
              0.1111111111111111,
              "#46039f"
             ],
             [
              0.2222222222222222,
              "#7201a8"
             ],
             [
              0.3333333333333333,
              "#9c179e"
             ],
             [
              0.4444444444444444,
              "#bd3786"
             ],
             [
              0.5555555555555556,
              "#d8576b"
             ],
             [
              0.6666666666666666,
              "#ed7953"
             ],
             [
              0.7777777777777778,
              "#fb9f3a"
             ],
             [
              0.8888888888888888,
              "#fdca26"
             ],
             [
              1,
              "#f0f921"
             ]
            ],
            "type": "histogram2d"
           }
          ],
          "histogram2dcontour": [
           {
            "colorbar": {
             "outlinewidth": 0,
             "ticks": ""
            },
            "colorscale": [
             [
              0,
              "#0d0887"
             ],
             [
              0.1111111111111111,
              "#46039f"
             ],
             [
              0.2222222222222222,
              "#7201a8"
             ],
             [
              0.3333333333333333,
              "#9c179e"
             ],
             [
              0.4444444444444444,
              "#bd3786"
             ],
             [
              0.5555555555555556,
              "#d8576b"
             ],
             [
              0.6666666666666666,
              "#ed7953"
             ],
             [
              0.7777777777777778,
              "#fb9f3a"
             ],
             [
              0.8888888888888888,
              "#fdca26"
             ],
             [
              1,
              "#f0f921"
             ]
            ],
            "type": "histogram2dcontour"
           }
          ],
          "mesh3d": [
           {
            "colorbar": {
             "outlinewidth": 0,
             "ticks": ""
            },
            "type": "mesh3d"
           }
          ],
          "parcoords": [
           {
            "line": {
             "colorbar": {
              "outlinewidth": 0,
              "ticks": ""
             }
            },
            "type": "parcoords"
           }
          ],
          "pie": [
           {
            "automargin": true,
            "type": "pie"
           }
          ],
          "scatter": [
           {
            "fillpattern": {
             "fillmode": "overlay",
             "size": 10,
             "solidity": 0.2
            },
            "type": "scatter"
           }
          ],
          "scatter3d": [
           {
            "line": {
             "colorbar": {
              "outlinewidth": 0,
              "ticks": ""
             }
            },
            "marker": {
             "colorbar": {
              "outlinewidth": 0,
              "ticks": ""
             }
            },
            "type": "scatter3d"
           }
          ],
          "scattercarpet": [
           {
            "marker": {
             "colorbar": {
              "outlinewidth": 0,
              "ticks": ""
             }
            },
            "type": "scattercarpet"
           }
          ],
          "scattergeo": [
           {
            "marker": {
             "colorbar": {
              "outlinewidth": 0,
              "ticks": ""
             }
            },
            "type": "scattergeo"
           }
          ],
          "scattergl": [
           {
            "marker": {
             "colorbar": {
              "outlinewidth": 0,
              "ticks": ""
             }
            },
            "type": "scattergl"
           }
          ],
          "scattermapbox": [
           {
            "marker": {
             "colorbar": {
              "outlinewidth": 0,
              "ticks": ""
             }
            },
            "type": "scattermapbox"
           }
          ],
          "scatterpolar": [
           {
            "marker": {
             "colorbar": {
              "outlinewidth": 0,
              "ticks": ""
             }
            },
            "type": "scatterpolar"
           }
          ],
          "scatterpolargl": [
           {
            "marker": {
             "colorbar": {
              "outlinewidth": 0,
              "ticks": ""
             }
            },
            "type": "scatterpolargl"
           }
          ],
          "scatterternary": [
           {
            "marker": {
             "colorbar": {
              "outlinewidth": 0,
              "ticks": ""
             }
            },
            "type": "scatterternary"
           }
          ],
          "surface": [
           {
            "colorbar": {
             "outlinewidth": 0,
             "ticks": ""
            },
            "colorscale": [
             [
              0,
              "#0d0887"
             ],
             [
              0.1111111111111111,
              "#46039f"
             ],
             [
              0.2222222222222222,
              "#7201a8"
             ],
             [
              0.3333333333333333,
              "#9c179e"
             ],
             [
              0.4444444444444444,
              "#bd3786"
             ],
             [
              0.5555555555555556,
              "#d8576b"
             ],
             [
              0.6666666666666666,
              "#ed7953"
             ],
             [
              0.7777777777777778,
              "#fb9f3a"
             ],
             [
              0.8888888888888888,
              "#fdca26"
             ],
             [
              1,
              "#f0f921"
             ]
            ],
            "type": "surface"
           }
          ],
          "table": [
           {
            "cells": {
             "fill": {
              "color": "#EBF0F8"
             },
             "line": {
              "color": "white"
             }
            },
            "header": {
             "fill": {
              "color": "#C8D4E3"
             },
             "line": {
              "color": "white"
             }
            },
            "type": "table"
           }
          ]
         },
         "layout": {
          "annotationdefaults": {
           "arrowcolor": "#2a3f5f",
           "arrowhead": 0,
           "arrowwidth": 1
          },
          "autotypenumbers": "strict",
          "coloraxis": {
           "colorbar": {
            "outlinewidth": 0,
            "ticks": ""
           }
          },
          "colorscale": {
           "diverging": [
            [
             0,
             "#8e0152"
            ],
            [
             0.1,
             "#c51b7d"
            ],
            [
             0.2,
             "#de77ae"
            ],
            [
             0.3,
             "#f1b6da"
            ],
            [
             0.4,
             "#fde0ef"
            ],
            [
             0.5,
             "#f7f7f7"
            ],
            [
             0.6,
             "#e6f5d0"
            ],
            [
             0.7,
             "#b8e186"
            ],
            [
             0.8,
             "#7fbc41"
            ],
            [
             0.9,
             "#4d9221"
            ],
            [
             1,
             "#276419"
            ]
           ],
           "sequential": [
            [
             0,
             "#0d0887"
            ],
            [
             0.1111111111111111,
             "#46039f"
            ],
            [
             0.2222222222222222,
             "#7201a8"
            ],
            [
             0.3333333333333333,
             "#9c179e"
            ],
            [
             0.4444444444444444,
             "#bd3786"
            ],
            [
             0.5555555555555556,
             "#d8576b"
            ],
            [
             0.6666666666666666,
             "#ed7953"
            ],
            [
             0.7777777777777778,
             "#fb9f3a"
            ],
            [
             0.8888888888888888,
             "#fdca26"
            ],
            [
             1,
             "#f0f921"
            ]
           ],
           "sequentialminus": [
            [
             0,
             "#0d0887"
            ],
            [
             0.1111111111111111,
             "#46039f"
            ],
            [
             0.2222222222222222,
             "#7201a8"
            ],
            [
             0.3333333333333333,
             "#9c179e"
            ],
            [
             0.4444444444444444,
             "#bd3786"
            ],
            [
             0.5555555555555556,
             "#d8576b"
            ],
            [
             0.6666666666666666,
             "#ed7953"
            ],
            [
             0.7777777777777778,
             "#fb9f3a"
            ],
            [
             0.8888888888888888,
             "#fdca26"
            ],
            [
             1,
             "#f0f921"
            ]
           ]
          },
          "colorway": [
           "#636efa",
           "#EF553B",
           "#00cc96",
           "#ab63fa",
           "#FFA15A",
           "#19d3f3",
           "#FF6692",
           "#B6E880",
           "#FF97FF",
           "#FECB52"
          ],
          "font": {
           "color": "#2a3f5f"
          },
          "geo": {
           "bgcolor": "white",
           "lakecolor": "white",
           "landcolor": "#E5ECF6",
           "showlakes": true,
           "showland": true,
           "subunitcolor": "white"
          },
          "hoverlabel": {
           "align": "left"
          },
          "hovermode": "closest",
          "mapbox": {
           "style": "light"
          },
          "paper_bgcolor": "white",
          "plot_bgcolor": "#E5ECF6",
          "polar": {
           "angularaxis": {
            "gridcolor": "white",
            "linecolor": "white",
            "ticks": ""
           },
           "bgcolor": "#E5ECF6",
           "radialaxis": {
            "gridcolor": "white",
            "linecolor": "white",
            "ticks": ""
           }
          },
          "scene": {
           "xaxis": {
            "backgroundcolor": "#E5ECF6",
            "gridcolor": "white",
            "gridwidth": 2,
            "linecolor": "white",
            "showbackground": true,
            "ticks": "",
            "zerolinecolor": "white"
           },
           "yaxis": {
            "backgroundcolor": "#E5ECF6",
            "gridcolor": "white",
            "gridwidth": 2,
            "linecolor": "white",
            "showbackground": true,
            "ticks": "",
            "zerolinecolor": "white"
           },
           "zaxis": {
            "backgroundcolor": "#E5ECF6",
            "gridcolor": "white",
            "gridwidth": 2,
            "linecolor": "white",
            "showbackground": true,
            "ticks": "",
            "zerolinecolor": "white"
           }
          },
          "shapedefaults": {
           "line": {
            "color": "#2a3f5f"
           }
          },
          "ternary": {
           "aaxis": {
            "gridcolor": "white",
            "linecolor": "white",
            "ticks": ""
           },
           "baxis": {
            "gridcolor": "white",
            "linecolor": "white",
            "ticks": ""
           },
           "bgcolor": "#E5ECF6",
           "caxis": {
            "gridcolor": "white",
            "linecolor": "white",
            "ticks": ""
           }
          },
          "title": {
           "x": 0.05
          },
          "xaxis": {
           "automargin": true,
           "gridcolor": "white",
           "linecolor": "white",
           "ticks": "",
           "title": {
            "standoff": 15
           },
           "zerolinecolor": "white",
           "zerolinewidth": 2
          },
          "yaxis": {
           "automargin": true,
           "gridcolor": "white",
           "linecolor": "white",
           "ticks": "",
           "title": {
            "standoff": 15
           },
           "zerolinecolor": "white",
           "zerolinewidth": 2
          }
         }
        },
        "xaxis": {
         "anchor": "y",
         "autorange": true,
         "domain": [
          0,
          1
         ],
         "range": [
          -0.5031880977683315,
          0.5
         ],
         "title": {
          "text": "variable"
         },
         "type": "category"
        },
        "yaxis": {
         "anchor": "x",
         "autorange": true,
         "domain": [
          0,
          1
         ],
         "range": [
          47.29985484653214,
          102.60786364083077
         ],
         "title": {
          "text": "value"
         },
         "type": "linear"
        }
       }
      },
      "image/png": "[encoded data removed]",
      "text/html": [
       "<div>                            <div id=\"fee3725b-9548-4476-8f9e-f1070f0fb6a9\" class=\"plotly-graph-div\" style=\"height:525px; width:100%;\"></div>            <script type=\"text/javascript\">                require([\"plotly\"], function(Plotly) {                    window.PLOTLYENV=window.PLOTLYENV || {};                                    if (document.getElementById(\"fee3725b-9548-4476-8f9e-f1070f0fb6a9\")) {                    Plotly.newPlot(                        \"fee3725b-9548-4476-8f9e-f1070f0fb6a9\",                        [{\"alignmentgroup\":\"True\",\"boxpoints\":\"all\",\"hovertemplate\":\"variable=%{x}<br>value=%{y}<extra></extra>\",\"legendgroup\":\"\",\"marker\":{\"color\":\"#636efa\"},\"name\":\"\",\"notched\":false,\"offsetgroup\":\"\",\"orientation\":\"v\",\"showlegend\":false,\"x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x0\":\" \",\"xaxis\":\"x\",\"y\":[57.32008610377526,86.54966583723214,92.47416090746518,53.93723192946827,78.55373372750331,92.17258871640826,86.64980769591664,56.20297198898496,75.24023627877831,83.397504383233,81.29374581505354,71.8891906716522,97.95818502798721,60.29798023301346,79.73047562500976,51.48935742023135,71.69046000043775,70.03887812999135,51.09233757324946,63.91674379561824,96.97334591181585,60.033636676857405,81.26735354860936,99.22553954025669,65.47110814343706,88.59745248536566,71.36911238776798,57.944127212946725,76.03772749550275,71.79987244974546,88.71043550029742,77.07849896593059,94.63686326388334,86.90913947393133,95.50486189729541,67.31472784912486,63.006744602520705,82.67432471790002,51.24508629296917,70.02318016641973,91.63079283495794,70.74941292243011,65.9610617129413,91.83225442039438,64.20709559492131,65.37644442339078,61.932580889801656,60.409139164585426,75.96102834967016,52.413715204300274,54.81733913962247,72.06069736505347,54.37937842421096,68.91200575018806,86.14350697029602,77.28961665586164,56.6561073108481,60.43071535348447,52.28630718273948,85.51725939143112,61.46001234258107,90.18176785975643,60.71373041690681,77.29367142820716,84.04730264962153,62.39150697634743,77.97911320786213,98.73750170897978,78.8117445754003,80.005208132727,75.63062140135959,90.20777915942477,58.83880136815337,60.24649839779653,63.01228080024255,56.26739259729022,85.81674597738862,73.74529090621945,73.31831857831054,89.46949664915931,89.54509460394141,71.7763369139092,58.685603924087296,68.3582154449664,78.79767165438696,72.70443237371026,62.18601595874333,74.69198914392162,70.34060302600723,96.88460316360138,92.12896954109709,76.91567023850892,71.36366584096317,87.96406393366951,73.64442539084338,68.57962402778382,80.86783831781811,76.60983925055066,65.36894811145851,62.55918165878113,70.95998721908038,63.16375196527696,88.09467739578247,70.88763266356911,54.09677975545197,55.73734992472691,63.30694175745025,96.98744785833689,88.94874877304557,73.74020044636566,89.23081870132532,74.21450362460848,78.47640093510485,58.42302110673309,92.0922210270218,69.35813277360927,70.0831553715561,82.5130114006923,64.95468078362542,50.65425275201153,90.48552549073219,99.44726445036665,86.8984979991532,54.78441289826719,84.83028681147522,86.6268206496786,64.62233547401766,60.09821961222431,64.61553655231043,51.518655491433464,77.05464749656878,77.67738428868914,62.61502168305696,76.80005719545213,87.32822564026344,93.65714919537123,54.403039876628156,58.62335586350171,61.03330225663565,58.128930586521435,59.118786454022406,82.87335853321679,80.05545888415739,63.3424150612845,93.55684145677833,50.83860108309164,79.37979510317625,75.99309557478787,58.2079846733922,76.63768844089758,73.56620641946004,54.959771760182676,72.98156373134016,64.34375908386995,94.77524472893325,97.73519774003995,51.124038544263875,53.18642903106618,55.283419422798886,70.32324577172388,67.03079431907938,82.3738678698517,86.26905741003672,67.3442613276267,72.86299360460828,69.80187070096544,63.9003406091481,96.94485343622424,84.76718266394028,67.0012254146342,95.97312659877531,73.22978259423262,97.55729897750484,73.62226845565388,79.65698850584558,59.91874344345998,98.24934561243123,65.62695425287654,81.13589451322574,60.61044097559659,64.69082204572176,67.5676198884454,85.28554687099773,52.70267818460854,72.02021863783187,53.470297747114174,93.67601994232056,82.89405181611923,92.5440818093374,63.50159663171479,86.79915615457693,83.00542531512,95.31559968917739,50.06525528624707,75.03452947281147,94.35823479336835,97.4380204856605,59.10733631419516,54.78431420628589,53.60827903325302,65.61869443261371,82.8725846850021,54.96421057973207,99.01868557433025,85.56793451424048,67.57805101014094,88.09698338995591,95.53271752113514,60.414703355894844,83.91618641827625,54.47443697635201,73.91528244836786,52.12016985374767,96.35811051776076,72.87044406694145,99.84246320111583,86.25575916324688,50.74240902637518,65.2397656191117,82.79775745462294,72.41190348148852,67.63591973934685,51.683050530722205,81.99248642380768,85.851657250036,79.07335473265982,63.31113957241783,80.07951733350956,74.31926067703797,96.84741518464381,76.78053201742692,69.58028103136829,91.89993504922367,72.1796543523985,99.82676762757652,56.4149748328303,57.45395219285183,96.94013167578544,57.143429369907714,69.97423375996516,55.20413464095416,99.73232184723804,91.01042038990371,90.67710747743261,50.4336644933985,77.13172597849561,98.07074230286315,55.48191653084722,54.75953698693931,93.2389109179056,70.7588497030518,69.15001026135899,76.24669185054114,56.19676615809755,93.05861761905967,53.35533695047627,90.2200290273983,61.4677421730076,82.2266612897984,85.93539730359751,89.8313469449337,95.27547204205092,65.36281396208264,61.65945509247256,56.365933270272315,51.8549427695174,51.59046883953175,73.0158696849096,66.39043870318113,64.31921215785117,97.57147337864748,83.75435042718988,51.33061107819342,68.25279648208534,83.5563100096521,76.1039768788213,86.00866398238156,69.5924681820314,87.6710396859919,73.07012124172297,98.30951021147453,60.641199871685345,58.32593645660648,85.52034855397739,63.11749993403945,79.88237675489184,78.38643695060979,60.587502748574465,99.20490181812417,62.46528336986351,50.08485618933178,75.95913187820669,70.30021126280593,94.6433582247156,92.59022955440793,88.34335195690267,58.685246436816826,64.5416154506508,63.0140252892422,83.59648888072641,56.54582971524069,87.42196133036086,95.4757131058077,62.31065602744271,64.84666213166753,87.94684863441447,90.74240079779398,58.2499234890535,88.97627682690964,85.15054648757298,66.20318890487471,64.02143124670599,98.03458448389362,68.1039728808904,98.27209049545107,65.17308203969594,98.35386312519523,53.426088053974254,96.44193301920532,58.920287766201426,87.44243289821662,67.20205580120584,52.14636162403043,85.80122708977883,87.95624122380023,57.91530409090395,91.79693039322676,83.25026559557531,79.88171051792295,93.87875578244069,58.90085859446737,82.18138896327156,66.36245934577875,55.82402208302139,55.430742045673334,64.73782464585422,54.01312121894523,65.96684663323114,70.06853218640894,89.39662024119923,78.95779340085409,96.13378634011065,74.23410687930638,66.90091358419612,80.2825843853841,72.34448997418983,96.48972148320985,68.95762991911397,76.35339245378529,81.21021815843955,84.4009310622786,85.83917608426246,75.55143693238982,85.77157234007268,56.32739834125131,87.42715224514126,51.74832871136832,73.94481807222812,55.32873152549571,71.93138281394636,73.73438117400612,72.50185635855144,70.84994338500194,76.42735894865474,66.65372088047826,56.750863384108705,90.80328226219774,88.44604051564369,97.52877496815773,66.55045839353312,57.10859663690378,71.46438603163992,54.9631547413279,52.17648211043468,55.36194691958083,81.46317090343777,96.71548329302686,94.10622781073826,85.22384594293324,76.49509199982305,97.29181407021854,56.98517809209655,87.77144694068399,50.74896259047455,61.310424695517426,66.2762368309443,92.01884804079164,57.730081796477265,75.72523459093594,94.80003028639607,57.0346953087822,89.80136526075763,91.94821999401235,65.42087005217327,59.72015145707631,79.31149604027844,97.93386237920868,68.65832979111137,50.48773736132291,69.19010534663633,78.69390391140381,88.23270332114774,93.13619519128329,90.61993734337467,90.6817556424356,88.9713269815297,82.44964306368632,78.1264717003653,74.05455680145405,82.80878131857324,83.24960013440051,89.94235112398778,78.05844773196394,89.98059775779437,77.89890111373839,53.64274867753224,77.29109765015134,67.40795733753467,51.198216920302556,77.45724484109678,96.30398094718824,54.024144153684425,92.51983519596358,91.04241967107365,90.06892541345314,85.79791537150305,90.67244376313992,53.70060081019042,92.8535091191212,60.94565384888361,80.8865791135961,52.49406745691911,78.95279708197093,78.89251897576472,92.9984988977397,96.12994708716155,97.18136925329878,79.80890142571567,62.855595800786276,59.9383481209121,72.9454403693984,71.88033691138793,87.13579073553595,56.41384552806193,50.98152555180855,83.04752272573678,58.880219198540814,83.3904933906598,84.53454434110085,68.41884214330055,76.01139911406256,60.97566835975691,74.40165578522605,77.01219769520279,61.94555776995509,87.73650335738137,66.58495606359425,83.35775188416724,57.39611579447081,96.74292507419821,69.20432816410136,76.52006107112182,56.46951395247105,89.78201016134443,58.94068157774271,60.08054515727347,62.784463762521085,63.27948519028535,67.7021296221888,57.871724651144156,66.45117373903733,87.3406213814536,64.34697714201262,73.58142394351962,56.01332489934564,55.477374631426194,80.6341063774695,84.29263090173595,51.43404254440214,98.10980530626573,90.73242100855822,95.829457161162,55.52025745962544,86.37320137510824,69.59034528339448,72.65953441453209,74.78994656304717,50.42389005058411,50.964965390087585,89.83187817113233,74.35999291564895,51.886520734039735,88.62845157872923,72.0207036520978,70.28962049171716,82.92832067629416,56.36161890677177,84.85346448450653,59.54315066748522,51.441739382436246],\"y0\":\" \",\"yaxis\":\"y\",\"type\":\"box\"}],                        {\"template\":{\"data\":{\"histogram2dcontour\":[{\"type\":\"histogram2dcontour\",\"colorbar\":{\"outlinewidth\":0,\"ticks\":\"\"},\"colorscale\":[[0.0,\"#0d0887\"],[0.1111111111111111,\"#46039f\"],[0.2222222222222222,\"#7201a8\"],[0.3333333333333333,\"#9c179e\"],[0.4444444444444444,\"#bd3786\"],[0.5555555555555556,\"#d8576b\"],[0.6666666666666666,\"#ed7953\"],[0.7777777777777778,\"#fb9f3a\"],[0.8888888888888888,\"#fdca26\"],[1.0,\"#f0f921\"]]}],\"choropleth\":[{\"type\":\"choropleth\",\"colorbar\":{\"outlinewidth\":0,\"ticks\":\"\"}}],\"histogram2d\":[{\"type\":\"histogram2d\",\"colorbar\":{\"outlinewidth\":0,\"ticks\":\"\"},\"colorscale\":[[0.0,\"#0d0887\"],[0.1111111111111111,\"#46039f\"],[0.2222222222222222,\"#7201a8\"],[0.3333333333333333,\"#9c179e\"],[0.4444444444444444,\"#bd3786\"],[0.5555555555555556,\"#d8576b\"],[0.6666666666666666,\"#ed7953\"],[0.7777777777777778,\"#fb9f3a\"],[0.8888888888888888,\"#fdca26\"],[1.0,\"#f0f921\"]]}],\"heatmap\":[{\"type\":\"heatmap\",\"colorbar\":{\"outlinewidth\":0,\"ticks\":\"\"},\"colorscale\":[[0.0,\"#0d0887\"],[0.1111111111111111,\"#46039f\"],[0.2222222222222222,\"#7201a8\"],[0.3333333333333333,\"#9c179e\"],[0.4444444444444444,\"#bd3786\"],[0.5555555555555556,\"#d8576b\"],[0.6666666666666666,\"#ed7953\"],[0.7777777777777778,\"#fb9f3a\"],[0.8888888888888888,\"#fdca26\"],[1.0,\"#f0f921\"]]}],\"heatmapgl\":[{\"type\":\"heatmapgl\",\"colorbar\":{\"outlinewidth\":0,\"ticks\":\"\"},\"colorscale\":[[0.0,\"#0d0887\"],[0.1111111111111111,\"#46039f\"],[0.2222222222222222,\"#7201a8\"],[0.3333333333333333,\"#9c179e\"],[0.4444444444444444,\"#bd3786\"],[0.5555555555555556,\"#d8576b\"],[0.6666666666666666,\"#ed7953\"],[0.7777777777777778,\"#fb9f3a\"],[0.8888888888888888,\"#fdca26\"],[1.0,\"#f0f921\"]]}],\"contourcarpet\":[{\"type\":\"contourcarpet\",\"colorbar\":{\"outlinewidth\":0,\"ticks\":\"\"}}],\"contour\":[{\"type\":\"contour\",\"colorbar\":{\"outlinewidth\":0,\"ticks\":\"\"},\"colorscale\":[[0.0,\"#0d0887\"],[0.1111111111111111,\"#46039f\"],[0.2222222222222222,\"#7201a8\"],[0.3333333333333333,\"#9c179e\"],[0.4444444444444444,\"#bd3786\"],[0.5555555555555556,\"#d8576b\"],[0.6666666666666666,\"#ed7953\"],[0.7777777777777778,\"#fb9f3a\"],[0.8888888888888888,\"#fdca26\"],[1.0,\"#f0f921\"]]}],\"surface\":[{\"type\":\"surface\",\"colorbar\":{\"outlinewidth\":0,\"ticks\":\"\"},\"colorscale\":[[0.0,\"#0d0887\"],[0.1111111111111111,\"#46039f\"],[0.2222222222222222,\"#7201a8\"],[0.3333333333333333,\"#9c179e\"],[0.4444444444444444,\"#bd3786\"],[0.5555555555555556,\"#d8576b\"],[0.6666666666666666,\"#ed7953\"],[0.7777777777777778,\"#fb9f3a\"],[0.8888888888888888,\"#fdca26\"],[1.0,\"#f0f921\"]]}],\"mesh3d\":[{\"type\":\"mesh3d\",\"colorbar\":{\"outlinewidth\":0,\"ticks\":\"\"}}],\"scatter\":[{\"fillpattern\":{\"fillmode\":\"overlay\",\"size\":10,\"solidity\":0.2},\"type\":\"scatter\"}],\"parcoords\":[{\"type\":\"parcoords\",\"line\":{\"colorbar\":{\"outlinewidth\":0,\"ticks\":\"\"}}}],\"scatterpolargl\":[{\"type\":\"scatterpolargl\",\"marker\":{\"colorbar\":{\"outlinewidth\":0,\"ticks\":\"\"}}}],\"bar\":[{\"error_x\":{\"color\":\"#2a3f5f\"},\"error_y\":{\"color\":\"#2a3f5f\"},\"marker\":{\"line\":{\"color\":\"#E5ECF6\",\"width\":0.5},\"pattern\":{\"fillmode\":\"overlay\",\"size\":10,\"solidity\":0.2}},\"type\":\"bar\"}],\"scattergeo\":[{\"type\":\"scattergeo\",\"marker\":{\"colorbar\":{\"outlinewidth\":0,\"ticks\":\"\"}}}],\"scatterpolar\":[{\"type\":\"scatterpolar\",\"marker\":{\"colorbar\":{\"outlinewidth\":0,\"ticks\":\"\"}}}],\"histogram\":[{\"marker\":{\"pattern\":{\"fillmode\":\"overlay\",\"size\":10,\"solidity\":0.2}},\"type\":\"histogram\"}],\"scattergl\":[{\"type\":\"scattergl\",\"marker\":{\"colorbar\":{\"outlinewidth\":0,\"ticks\":\"\"}}}],\"scatter3d\":[{\"type\":\"scatter3d\",\"line\":{\"colorbar\":{\"outlinewidth\":0,\"ticks\":\"\"}},\"marker\":{\"colorbar\":{\"outlinewidth\":0,\"ticks\":\"\"}}}],\"scattermapbox\":[{\"type\":\"scattermapbox\",\"marker\":{\"colorbar\":{\"outlinewidth\":0,\"ticks\":\"\"}}}],\"scatterternary\":[{\"type\":\"scatterternary\",\"marker\":{\"colorbar\":{\"outlinewidth\":0,\"ticks\":\"\"}}}],\"scattercarpet\":[{\"type\":\"scattercarpet\",\"marker\":{\"colorbar\":{\"outlinewidth\":0,\"ticks\":\"\"}}}],\"carpet\":[{\"aaxis\":{\"endlinecolor\":\"#2a3f5f\",\"gridcolor\":\"white\",\"linecolor\":\"white\",\"minorgridcolor\":\"white\",\"startlinecolor\":\"#2a3f5f\"},\"baxis\":{\"endlinecolor\":\"#2a3f5f\",\"gridcolor\":\"white\",\"linecolor\":\"white\",\"minorgridcolor\":\"white\",\"startlinecolor\":\"#2a3f5f\"},\"type\":\"carpet\"}],\"table\":[{\"cells\":{\"fill\":{\"color\":\"#EBF0F8\"},\"line\":{\"color\":\"white\"}},\"header\":{\"fill\":{\"color\":\"#C8D4E3\"},\"line\":{\"color\":\"white\"}},\"type\":\"table\"}],\"barpolar\":[{\"marker\":{\"line\":{\"color\":\"#E5ECF6\",\"width\":0.5},\"pattern\":{\"fillmode\":\"overlay\",\"size\":10,\"solidity\":0.2}},\"type\":\"barpolar\"}],\"pie\":[{\"automargin\":true,\"type\":\"pie\"}]},\"layout\":{\"autotypenumbers\":\"strict\",\"colorway\":[\"#636efa\",\"#EF553B\",\"#00cc96\",\"#ab63fa\",\"#FFA15A\",\"#19d3f3\",\"#FF6692\",\"#B6E880\",\"#FF97FF\",\"#FECB52\"],\"font\":{\"color\":\"#2a3f5f\"},\"hovermode\":\"closest\",\"hoverlabel\":{\"align\":\"left\"},\"paper_bgcolor\":\"white\",\"plot_bgcolor\":\"#E5ECF6\",\"polar\":{\"bgcolor\":\"#E5ECF6\",\"angularaxis\":{\"gridcolor\":\"white\",\"linecolor\":\"white\",\"ticks\":\"\"},\"radialaxis\":{\"gridcolor\":\"white\",\"linecolor\":\"white\",\"ticks\":\"\"}},\"ternary\":{\"bgcolor\":\"#E5ECF6\",\"aaxis\":{\"gridcolor\":\"white\",\"linecolor\":\"white\",\"ticks\":\"\"},\"baxis\":{\"gridcolor\":\"white\",\"linecolor\":\"white\",\"ticks\":\"\"},\"caxis\":{\"gridcolor\":\"white\",\"linecolor\":\"white\",\"ticks\":\"\"}},\"coloraxis\":{\"colorbar\":{\"outlinewidth\":0,\"ticks\":\"\"}},\"colorscale\":{\"sequential\":[[0.0,\"#0d0887\"],[0.1111111111111111,\"#46039f\"],[0.2222222222222222,\"#7201a8\"],[0.3333333333333333,\"#9c179e\"],[0.4444444444444444,\"#bd3786\"],[0.5555555555555556,\"#d8576b\"],[0.6666666666666666,\"#ed7953\"],[0.7777777777777778,\"#fb9f3a\"],[0.8888888888888888,\"#fdca26\"],[1.0,\"#f0f921\"]],\"sequentialminus\":[[0.0,\"#0d0887\"],[0.1111111111111111,\"#46039f\"],[0.2222222222222222,\"#7201a8\"],[0.3333333333333333,\"#9c179e\"],[0.4444444444444444,\"#bd3786\"],[0.5555555555555556,\"#d8576b\"],[0.6666666666666666,\"#ed7953\"],[0.7777777777777778,\"#fb9f3a\"],[0.8888888888888888,\"#fdca26\"],[1.0,\"#f0f921\"]],\"diverging\":[[0,\"#8e0152\"],[0.1,\"#c51b7d\"],[0.2,\"#de77ae\"],[0.3,\"#f1b6da\"],[0.4,\"#fde0ef\"],[0.5,\"#f7f7f7\"],[0.6,\"#e6f5d0\"],[0.7,\"#b8e186\"],[0.8,\"#7fbc41\"],[0.9,\"#4d9221\"],[1,\"#276419\"]]},\"xaxis\":{\"gridcolor\":\"white\",\"linecolor\":\"white\",\"ticks\":\"\",\"title\":{\"standoff\":15},\"zerolinecolor\":\"white\",\"automargin\":true,\"zerolinewidth\":2},\"yaxis\":{\"gridcolor\":\"white\",\"linecolor\":\"white\",\"ticks\":\"\",\"title\":{\"standoff\":15},\"zerolinecolor\":\"white\",\"automargin\":true,\"zerolinewidth\":2},\"scene\":{\"xaxis\":{\"backgroundcolor\":\"#E5ECF6\",\"gridcolor\":\"white\",\"linecolor\":\"white\",\"showbackground\":true,\"ticks\":\"\",\"zerolinecolor\":\"white\",\"gridwidth\":2},\"yaxis\":{\"backgroundcolor\":\"#E5ECF6\",\"gridcolor\":\"white\",\"linecolor\":\"white\",\"showbackground\":true,\"ticks\":\"\",\"zerolinecolor\":\"white\",\"gridwidth\":2},\"zaxis\":{\"backgroundcolor\":\"#E5ECF6\",\"gridcolor\":\"white\",\"linecolor\":\"white\",\"showbackground\":true,\"ticks\":\"\",\"zerolinecolor\":\"white\",\"gridwidth\":2}},\"shapedefaults\":{\"line\":{\"color\":\"#2a3f5f\"}},\"annotationdefaults\":{\"arrowcolor\":\"#2a3f5f\",\"arrowhead\":0,\"arrowwidth\":1},\"geo\":{\"bgcolor\":\"white\",\"landcolor\":\"#E5ECF6\",\"subunitcolor\":\"white\",\"showland\":true,\"showlakes\":true,\"lakecolor\":\"white\"},\"title\":{\"x\":0.05},\"mapbox\":{\"style\":\"light\"}}},\"xaxis\":{\"anchor\":\"y\",\"domain\":[0.0,1.0],\"title\":{\"text\":\"variable\"}},\"yaxis\":{\"anchor\":\"x\",\"domain\":[0.0,1.0],\"title\":{\"text\":\"value\"}},\"legend\":{\"tracegroupgap\":0},\"margin\":{\"t\":60},\"boxmode\":\"group\"},                        {\"responsive\": true}                    ).then(function(){\n",
       "                            \n",
       "var gd = document.getElementById('fee3725b-9548-4476-8f9e-f1070f0fb6a9');\n",
       "var x = new MutationObserver(function (mutations, observer) {{\n",
       "        var display = window.getComputedStyle(gd).display;\n",
       "        if (!display || display === 'none') {{\n",
       "            console.log([gd, 'removed!']);\n",
       "            Plotly.purge(gd);\n",
       "            observer.disconnect();\n",
       "        }}\n",
       "}});\n",
       "\n",
       "// Listen for the removal of the full notebook cells\n",
       "var notebookContainer = gd.closest('#notebook-container');\n",
       "if (notebookContainer) {{\n",
       "    x.observe(notebookContainer, {childList: true});\n",
       "}}\n",
       "\n",
       "// Listen for the clearing of the current output cell\n",
       "var outputEl = gd.closest('.output');\n",
       "if (outputEl) {{\n",
       "    x.observe(outputEl, {childList: true});\n",
       "}}\n",
       "\n",
       "                        })                };                });            </script>        </div>"
      ]
     },
     "metadata": {},
     "output_type": "display_data"
    }
   ],
   "source": [
    "import plotly.express as px\n",
    "import pandas as pd\n",
    "\n",
    "data = np.random.uniform(50,100, size=500)\n",
    "fig = px.box(data,points=\"all\")\n",
    "\n",
    "fig.show()"
   ]
  },
  {
   "cell_type": "markdown",
   "metadata": {},
   "source": [
    "<a id='Library-Scikit-Learn'></a>\n",
    "### Library Scikit-Learn 📀\n",
    "\n",
    "[Index ▲](#Index)\n",
    "\n",
    "La libreria **Scikit-Learn** es un modulo desarrollado en python para el diseño e implementación de modelos de Machine Learning(ML),cabe destacar que hoy en dia el ML abarca desde los modelos inferenciales clasicos hasta los mas avanzados....sin embargo en este curso solo abordaremos algunos de los modelos de inferencia.\n",
    "\n",
    "A pesar de que existen diversas bibliotecas para la implementación de modelos de ML como: TensorFlow,Keras,Pytorch;Scikit-Learn es una de las librerias mas populares utilizadas para modelos de aprendizaje automatico,debido a la amplia variedad de algoritmos de regresión,clasificación,analisis entre grupos,entre otros.\n",
    "\n",
    "A pesar de los distintos modelos que ofrece la biblioteca,solo veremos de forma introductoria 2 de los algoritmos clasicos,correspondientes a:\n",
    "\n",
    "* Regresión Lineal\n",
    "* Regresión Logistica\n"
   ]
  },
  {
   "cell_type": "markdown",
   "metadata": {},
   "source": [
    "### Regresión Lineal\n",
    "\n",
    "Ahora a lo que vinimos... en estadistica inferencial uno de los modelos clasicos,es la regresión lineal,\n",
    "el cual es un modelo matematico que permite crear una relación aproximada entre distintas variables independientes \n",
    "$X_{i}$ y una variable dependiente $Y$,decimos que esta relación es aproximada por que ademas consideramos un termino de error $\\epsilon$ dentro del modelo matematico.De esta forma podemos expresar el modelo de regresión lineal de la siguiente forma:\n",
    "\n",
    "$Y=\\beta_{0}+\\sum_{i=1}^{n}\\beta_{i}X_{i}+\\epsilon=\\beta_{0}+\\beta_{1}X_{1}+...+\\beta_{m}X_{m}+\\epsilon$\n",
    "\n",
    "Cabe destacar que aqui estamos generalizando el modelo de regresion lineal para $n$ variables,por tanto solo cuando la cantidad de variables independientes es $X_{i} \\leq 2$\n",
    "es posible graficar la función lineal,en cambio cuando $2 \\leq X_{i}$ estamos hablando ya de un hiperplano,el cual no es posible graficar pero si podemos realizar cualquier tipo de operación y/o implementación del modelo lineal.\n",
    "\n",
    "\n",
    "\n"
   ]
  },
  {
   "cell_type": "code",
   "execution_count": 43,
   "metadata": {},
   "outputs": [
    {
     "name": "stdout",
     "output_type": "stream",
     "text": [
      "Coeficientes B0 y B1: \n",
      " [-7.10144337] [[1.85843298]]\n",
      "Error Cuadrado medio: 0.74\n",
      "Coeficiente de determinación: 0.76\n"
     ]
    }
   ],
   "source": [
    "import matplotlib.pyplot as plt\n",
    "import numpy as np\n",
    "import pandas as pd\n",
    "\n",
    "from sklearn import datasets, linear_model\n",
    "from sklearn.metrics import mean_squared_error, r2_score\n",
    "\n",
    "# Carga del set de datos iris\n",
    "iris = datasets.load_iris()\n",
    "iris_df=pd.DataFrame(iris.data)\n",
    "\n",
    "# Se asignan los nombres para cada columna del dataset\n",
    "iris_df.columns=['sepal_len', 'sepal_wid', 'petal_len', 'petal_wid']\n",
    "\n",
    "# Se selecciona la variable \"sepal_len\" como la variable independiente y \"petal_len\" como la variable dependiente\n",
    "datos_x = iris_df.iloc[:,[0]]\n",
    "datos_y = iris_df.iloc[:,[2]]\n",
    "\n",
    "# Se crea una instancia de un modelo de regresión lineal\n",
    "regr = linear_model.LinearRegression()\n",
    "\n",
    "\n",
    "# Se ajusta el modelo de regresion lineal con las variables x e y\n",
    "regr.fit(datos_x, datos_y)\n",
    "\n",
    "y_pred = regr.predict(datos_x)\n",
    "\n",
    "# Coefieciente del modelo: $B0 y B1$\n",
    "print(\"Coeficientes B0 y B1: \\n\", regr.intercept_,regr.coef_)\n",
    "# Error cuadrado medio\n",
    "print(\"Error Cuadrado medio: %.2f\" % mean_squared_error(datos_y, y_pred))\n",
    "# Coeficiente de determinación del modelo lineal: \n",
    "print(\"Coeficiente de determinación: %.2f\" % r2_score(datos_y, y_pred))\n",
    "\n"
   ]
  },
  {
   "cell_type": "code",
   "execution_count": 48,
   "metadata": {},
   "outputs": [
    {
     "data": {
      "image/png": "[encoded data removed]",
      "text/plain": [
       "<Figure size 640x480 with 1 Axes>"
      ]
     },
     "metadata": {},
     "output_type": "display_data"
    }
   ],
   "source": [
    "# Dispersion de datos y modelo lineal\n",
    "plt.scatter(datos_x, datos_y, color=\"blue\")\n",
    "plt.plot(datos_x, y_pred, color=\"red\", linewidth=3)\n",
    "\n",
    "plt.xticks(())\n",
    "plt.yticks(())\n",
    "\n",
    "plt.show()"
   ]
  },
  {
   "cell_type": "markdown",
   "metadata": {},
   "source": [
    "### Regresión Logistica\n",
    "\n",
    "A diferencia del modelo de regresion lineal,el modelo de regresion logistica es utilizado para predecir variables categoricas,en función de una o mas variables independientes.Si bien este modelo asi como el de regresión lineal,se enmarcan dentro de la categoria de Modelos Lineales Generalizados y de sus distintas configuraciones que podemos definir,solo nos centraremos en la implementación de un modelo del siguiente tipo: \n",
    "\n",
    "$Y=\\frac{1}{(1+e^-{\\beta_{0}+\\beta_{1} X_{1}+...+\\beta_{n} X_{n}})}$\n",
    "\n",
    "Al igual que para el modelo de regresion lineal,aqui estamos generalizando en modelo de clasificación con $X_{n}$ variables independientes.Sin embargo el modelo que implementaremos a continuación solo considera 4 variables independientes y 3 categorias en la variable dependiente $Y$.\n",
    "\n",
    "\n"
   ]
  },
  {
   "cell_type": "code",
   "execution_count": 66,
   "metadata": {},
   "outputs": [],
   "source": [
    "from sklearn.linear_model import LogisticRegression\n",
    "from sklearn.metrics import accuracy_score, classification_report, confusion_matrix\n",
    "\n",
    "import warnings\n",
    "\n",
    "# Se ignoran las advertencias\n",
    "warnings.filterwarnings(\"ignore\")\n",
    "\n",
    "# Se carga set de datos iris\n",
    "data = datasets.load_iris()\n",
    "x = data.data\n",
    "y = data.target\n",
    "\n",
    "# Se crea una instancia de un modelo de regresión logística\n",
    "modelo = LogisticRegression()\n",
    "\n",
    "# Se ajusta el modelo a los datos\n",
    "modelo.fit(x, y)\n",
    "\n",
    "# Se realizan las predicciones\n",
    "y_pred = modelo.predict(x)\n"
   ]
  },
  {
   "cell_type": "code",
   "execution_count": 68,
   "metadata": {},
   "outputs": [
    {
     "name": "stdout",
     "output_type": "stream",
     "text": [
      "Precisión del modelo: 0.9733333333333334\n",
      "Matriz de confusión:\n",
      "[[50  0  0]\n",
      " [ 0 47  3]\n",
      " [ 0  1 49]]\n",
      "Informe de clasificación:\n",
      "              precision    recall  f1-score   support\n",
      "\n",
      "           0       1.00      1.00      1.00        50\n",
      "           1       0.98      0.94      0.96        50\n",
      "           2       0.94      0.98      0.96        50\n",
      "\n",
      "    accuracy                           0.97       150\n",
      "   macro avg       0.97      0.97      0.97       150\n",
      "weighted avg       0.97      0.97      0.97       150\n",
      "\n"
     ]
    }
   ],
   "source": [
    "# Calcular la precisión del modelo\n",
    "accuracy = accuracy_score(y, y_pred)\n",
    "print(\"Precisión del modelo:\", accuracy)\n",
    "\n",
    "# Mostrar la matriz de confusión\n",
    "confusion = confusion_matrix(y, y_pred)\n",
    "print(\"Matriz de confusión:\")\n",
    "print(confusion)\n",
    "\n",
    "# Mostrar un informe de clasificación\n",
    "report = classification_report(y, y_pred)\n",
    "print(\"Informe de clasificación:\")\n",
    "print(report)\n"
   ]
  },
  {
   "cell_type": "markdown",
   "metadata": {},
   "source": [
    "Y llegamos al final de este curso introductorio con Python para Data Science.Este curso presenta una guía práctica de como empezar a trabajar con Python desde un punto de vista funcional,hay algunos conceptos que no se consideran en este curso pero que si se abordaran en cursos posteriores en donde se profundizara mucho más en temas como Programación Orientada a objetos,Algoritmos,Desarrollo de visualizaciones e incluso otros Modelos de Machine Learning. \n",
    "\n",
    "Ante cualquier duda o comentario me puedes escribir a jvenegasg@docente.uss.cl o j.venegasgutierrez@gmail.com\n",
    "\n",
    "Saludos 🧭"
   ]
  }
 ],
 "metadata": {
  "kernelspec": {
   "display_name": "Python 3 (ipykernel)",
   "language": "python",
   "name": "python3"
  },
  "language_info": {
   "codemirror_mode": {
    "name": "ipython",
    "version": 3
   },
   "file_extension": ".py",
   "mimetype": "text/x-python",
   "name": "python",
   "nbconvert_exporter": "python",
   "pygments_lexer": "ipython3",
   "version": "3.10.7"
  },
  "toc-autonumbering": true,
  "toc-showcode": false,
  "toc-showmarkdowntxt": false,
  "toc-showtags": false,
  "vscode": {
   "interpreter": {
    "hash": "26de051ba29f2982a8de78e945f0abaf191376122a1563185a90213a26c5da77"
   }
  }
 },
 "nbformat": 4,
 "nbformat_minor": 4
}
