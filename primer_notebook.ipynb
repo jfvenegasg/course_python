{
 "cells": [
  {
   "cell_type": "markdown",
   "metadata": {},
   "source": [
    "# Bienvenido al curso introductorio de Python para Data Science"
   ]
  },
  {
   "cell_type": "markdown",
   "metadata": {},
   "source": [
    "<center>\n",
    "<img src=https://www.palermo.edu/Archivos_content/2021/negocios/julio/data/datascience-640.jpg>"
   ]
  },
  {
   "cell_type": "markdown",
   "metadata": {},
   "source": [
    "## Objetivos"
   ]
  },
  {
   "cell_type": "markdown",
   "metadata": {},
   "source": [
    "* Reconocer los usos del lenguaje python para sus usos en data science\n",
    "* Comprender los conceptos y funcionalidades básicas\n",
    "* Desarrollo de código para su posterior uso.\n"
   ]
  },
  {
   "cell_type": "markdown",
   "metadata": {
    "tags": []
   },
   "source": [
    "<a id='Indice'></a>\n",
    "## Indice\n",
    "[Inicio ▲](#Indice)\n",
    "\n",
    "1. [Hola Python](#Hola-Python)\n",
    "1. [Funciones](#Funciones)\n",
    "1. [Booleanos y condicionales](#Booleanos-y-condicionales)\n",
    "1. [Listas](#Listas)\n",
    "1. [Ciclos](#Ciclos)\n",
    "1. [Diccionarios](#Diccionarios)\n",
    "1. [Trabajando con librerias](#Trabajando-con-librerias)\n"
   ]
  },
  {
   "cell_type": "markdown",
   "metadata": {},
   "source": [
    "<a id='Hola-Python'></a>\n",
    "### Hola Python 🚀\n",
    "\n",
    "[Inicio ▲](#Indice)\n",
    "\n",
    "Este curso introductorio cubre los aspectos básicos del lenguaje que necesitas para iniciar en el área de Data Science con Python.Este curso esta dedicado principalmente para aquellos que ya tienen alguna experiencia con código o incluso otro lenguaje como R,Julia,Matlab,entre otros.\n",
    "\n",
    "Primero comenzaremos con la sintáxis de Python,asi como la asignación de variables y operaciones aritméticas.\n",
    "\n",
    "Generalmente en un proyecto de data science,necesitamos exponer resultados de modelos,graficos y/o analisis.De esta forma un primer mensaje que podria desarrollar,seria que nuestro proyecto fue exitoso,para esto debemos definir la variable en donde guardaremos el mensaje \"El proyecto fue exitoso\"."
   ]
  },
  {
   "cell_type": "code",
   "execution_count": 1,
   "metadata": {},
   "outputs": [
    {
     "name": "stdout",
     "output_type": "stream",
     "text": [
      "El proyecto fue éxitoso\n"
     ]
    }
   ],
   "source": [
    "mensaje=\"El proyecto fue éxitoso\"\n",
    "print(mensaje)"
   ]
  },
  {
   "cell_type": "markdown",
   "metadata": {},
   "source": [
    "Como pueden ver exponer resultados en python,no es tan dificil como podriamos pensar.\n",
    "\n",
    "Asi como en bloque de codigo anterior,en Python se puede trabajar con distintos tipos de variables:Númericas,String,entre otros subtipos.Pero cabe destacar que cuando hablamos de variables numericas,con ellas podemos realizar todo tipo de operaciones aritmeticas y con las variables de tipo String podemos generar textos que muestren la salida de un proceso exitoso o incluso generar documentación.\n",
    "\n",
    "A continuación podemos ver un ejemplo de una variable numerica que almacena el valor 25 y un variable de tipo string que guarda el texto \"Esta es mi edad\""
   ]
  },
  {
   "cell_type": "code",
   "execution_count": 2,
   "metadata": {},
   "outputs": [],
   "source": [
    "numero=25\n",
    "frase=\"Esta es mi edad\""
   ]
  },
  {
   "cell_type": "markdown",
   "metadata": {},
   "source": [
    "Sin embargo podriamos trabajar con ambas variables en conjunto y mostrarlo como una salida,como se muestra continuación con la variable print()"
   ]
  },
  {
   "cell_type": "code",
   "execution_count": 3,
   "metadata": {},
   "outputs": [
    {
     "name": "stdout",
     "output_type": "stream",
     "text": [
      "Esta es mi edad 25\n"
     ]
    }
   ],
   "source": [
    "print(frase,numero)"
   ]
  },
  {
   "cell_type": "markdown",
   "metadata": {},
   "source": [
    "Ya hemos visto dos tipos de variables,sin embargo si tenemos dudas acerca de la definción podemos verificar esto."
   ]
  },
  {
   "cell_type": "code",
   "execution_count": 4,
   "metadata": {},
   "outputs": [
    {
     "data": {
      "text/plain": [
       "int"
      ]
     },
     "execution_count": 4,
     "metadata": {},
     "output_type": "execute_result"
    }
   ],
   "source": [
    "type(numero)"
   ]
  },
  {
   "cell_type": "code",
   "execution_count": 5,
   "metadata": {},
   "outputs": [
    {
     "data": {
      "text/plain": [
       "str"
      ]
     },
     "execution_count": 5,
     "metadata": {},
     "output_type": "execute_result"
    }
   ],
   "source": [
    "type(frase)"
   ]
  },
  {
   "cell_type": "markdown",
   "metadata": {},
   "source": [
    "Como podemos ver en la salida del bloque,la variable que almacena el valor numero es de tipo **\"int\"**,esto es una abreviación para **\"integer\"** o **\"entero\"**,en cambio para la variable frase el tipo es **\"str\"** haciendo referencia a **\"string\"** o cadena de texto. Sin embargo,tambien podriamos definir una variable que almacene un valor numerico como texto,en este caso no podriamos realizar operaciones aritmeticas con el"
   ]
  },
  {
   "cell_type": "code",
   "execution_count": 6,
   "metadata": {},
   "outputs": [
    {
     "name": "stdout",
     "output_type": "stream",
     "text": [
      "La variable otro_numero,almacena el valor 30.2\n"
     ]
    }
   ],
   "source": [
    "otro_numero=\"30.2\"\n",
    "type(otro_numero)\n",
    "\n",
    "print(\"La variable otro_numero,almacena el valor\",otro_numero)"
   ]
  },
  {
   "cell_type": "markdown",
   "metadata": {},
   "source": [
    "Sin embargo si quisieramos trabajar con variables numéricas con valores decimales como **\"30.2\"** **\"23.4\"** u otros podemos definir variable de tipo float. "
   ]
  },
  {
   "cell_type": "code",
   "execution_count": 7,
   "metadata": {},
   "outputs": [
    {
     "name": "stdout",
     "output_type": "stream",
     "text": [
      "La variable numero_decimal,tiene el valor  30.2 y es de tipo <class 'float'>\n"
     ]
    }
   ],
   "source": [
    "numero_decimal=30.2\n",
    "\n",
    "print(\"La variable numero_decimal,tiene el valor \",numero_decimal,\n",
    "      \"y es de tipo\",type(numero_decimal))"
   ]
  },
  {
   "cell_type": "markdown",
   "metadata": {},
   "source": [
    "De esta forma si quisieramos realizar operaciones matematicas con variables de tipo entero o float,se debe ocupar la siguiente sintaxis.\n",
    "\n",
    "| Sintaxis | Operación | Descripción |\n",
    "| -- | -- | -- |\n",
    "| x + y  | Adición     | La suma de x e y |\n",
    "| x - y  | Sustracción | La diferencia entre x e y |\n",
    "| x * y  | Multiplicación | El producto entre x e y |\n",
    "| x / y  | División       | El cuociente entre x e y. |\n",
    "| x %  y | Modulo  | El valor entero restante,luego de dividir x entre y. |\n",
    "| x ** y | Potenciación | El resultado de elevar x a y. |\n",
    "| -x     | Negación | El valor negativo de x. |"
   ]
  },
  {
   "cell_type": "markdown",
   "metadata": {},
   "source": [
    "De acuerdo a lo anterior,podriamos realizar algunas operaciones básicas como suma,resta,división y multiplicación...definiendo previamente las variables x e y."
   ]
  },
  {
   "cell_type": "code",
   "execution_count": 8,
   "metadata": {},
   "outputs": [],
   "source": [
    "x=10\n",
    "y=2"
   ]
  },
  {
   "cell_type": "code",
   "execution_count": 9,
   "metadata": {},
   "outputs": [
    {
     "name": "stdout",
     "output_type": "stream",
     "text": [
      "12\n"
     ]
    }
   ],
   "source": [
    "print(x+2)"
   ]
  },
  {
   "cell_type": "code",
   "execution_count": 10,
   "metadata": {},
   "outputs": [
    {
     "name": "stdout",
     "output_type": "stream",
     "text": [
      "8\n"
     ]
    }
   ],
   "source": [
    "print(x-2)"
   ]
  },
  {
   "cell_type": "code",
   "execution_count": 11,
   "metadata": {},
   "outputs": [
    {
     "name": "stdout",
     "output_type": "stream",
     "text": [
      "5.0\n"
     ]
    }
   ],
   "source": [
    "print(x/2)"
   ]
  },
  {
   "cell_type": "code",
   "execution_count": 12,
   "metadata": {},
   "outputs": [
    {
     "name": "stdout",
     "output_type": "stream",
     "text": [
      "20\n"
     ]
    }
   ],
   "source": [
    "print(x*y)"
   ]
  },
  {
   "cell_type": "markdown",
   "metadata": {},
   "source": [
    "Pero tambien podriamos realizar algunos cálculos un poco mas complejo,como determinar volumenes de cubo,conos,u otras figuras.\n"
   ]
  },
  {
   "cell_type": "code",
   "execution_count": 13,
   "metadata": {},
   "outputs": [
    {
     "name": "stdout",
     "output_type": "stream",
     "text": [
      "Un cubo tiene un volumen de: 125 cm^3\n"
     ]
    }
   ],
   "source": [
    "lado=5\n",
    "print(\"Un cubo tiene un volumen de:\",lado**3,\"cm^3\")"
   ]
  },
  {
   "cell_type": "code",
   "execution_count": 14,
   "metadata": {},
   "outputs": [
    {
     "name": "stdout",
     "output_type": "stream",
     "text": [
      "El volumen de un paralelelipide es de:  56 cm^3\n"
     ]
    }
   ],
   "source": [
    "alto=2\n",
    "ancho=4\n",
    "largo=7\n",
    "\n",
    "print(\"El volumen de un paralelelipide es de: \",alto*ancho*largo,\"cm^3\")"
   ]
  },
  {
   "cell_type": "markdown",
   "metadata": {},
   "source": [
    "<a id='Funciones'></a>\n",
    "### Funciones 🎸\n",
    "\n",
    "[Inicio ▲](#Indice)\n",
    "\n",
    "Asi como en la sección anterior vimos como definir,manipular algunos tipos de variables e incluso definir algunas formulas,en otros casos necesitaremos definir procedimientos más complejos y/o que requieren de varios pasos para su ejecución y para esto utilizaremos la definición de funciones,las cuales las podemos utilizar cada ves deseemos.\n",
    "\n",
    "Podriamos definir una función simple que imprima por pantalla algunos valores\n"
   ]
  },
  {
   "cell_type": "code",
   "execution_count": 15,
   "metadata": {},
   "outputs": [
    {
     "name": "stdout",
     "output_type": "stream",
     "text": [
      "Buen dia:  juan su saldo en cuenta es de: 100\n"
     ]
    }
   ],
   "source": [
    "def mi_funcion1(nombre):\n",
    "    \"Esta es la ayuda de la funcion\"\n",
    "    \n",
    "    saldo=100\n",
    "    return print(\"Buen dia: \",nombre,\"su saldo en cuenta es de:\",saldo)\n",
    "\n",
    "mi_funcion1(nombre=\"juan\")"
   ]
  },
  {
   "cell_type": "markdown",
   "metadata": {},
   "source": [
    "Toda funcion en Python,parte con la palabra reservada **def**,luego el nombre que en este caso es **mi_funcion1** y dentro de parentesis las variables que acepta la funcion.Una vez que la variable acepta la variable nombre,se genera un saldo de 100 y se guarda en la variable saldo,finalmente la funcion retorna un mensaje para el usuario.\n",
    "\n",
    "Sin embargo, si queremos saber un poco mas acerca de la función podemos llamar a la ayuda de esta con la funcion **help()**"
   ]
  },
  {
   "cell_type": "code",
   "execution_count": 16,
   "metadata": {},
   "outputs": [
    {
     "name": "stdout",
     "output_type": "stream",
     "text": [
      "Help on function mi_funcion1 in module __main__:\n",
      "\n",
      "mi_funcion1(nombre)\n",
      "    Esta es la ayuda de la funcion\n",
      "\n"
     ]
    }
   ],
   "source": [
    "help(mi_funcion1)"
   ]
  },
  {
   "cell_type": "markdown",
   "metadata": {},
   "source": [
    "En este caso no se entrega información,por que dentro de la función no existe.Sin embargo,podemos crear la descripción de la función utilizando dentro de ella la triple comillas **\"\"\"**"
   ]
  },
  {
   "cell_type": "code",
   "execution_count": 49,
   "metadata": {},
   "outputs": [
    {
     "name": "stdout",
     "output_type": "stream",
     "text": [
      "Help on function mi_funcion1 in module __main__:\n",
      "\n",
      "mi_funcion1(nombre)\n",
      "    Esta es la ayuda de la funcion.Esta función genera un \n",
      "    mensaje de salida con el nombre que se le entrega y el saldo que \n",
      "    por defecto se encuentra en 100\n",
      "\n"
     ]
    }
   ],
   "source": [
    "def mi_funcion1(nombre):\n",
    "    \"\"\"Esta es la ayuda de la funcion.Esta función genera un \n",
    "    mensaje de salida con el nombre que se le entrega y el saldo que \n",
    "    por defecto se encuentra en 100\"\"\"\n",
    "    \n",
    "    saldo=100\n",
    "    return print(\"Buen dia: \",nombre,\"su saldo en cuenta es de:\",saldo)\n",
    "\n",
    "help(mi_funcion1)"
   ]
  },
  {
   "cell_type": "markdown",
   "metadata": {},
   "source": [
    "A diferencia del códgio anterior, ahora si se muestra de forma explícita que es lo que hace la función, lo cual se agrego en la nueva definición de la función **\"mi_función1\"**.\n",
    "\n",
    "Pero tambien podemos definir funciones que realicen algunas operaciones mas extensas,asi como operaciones matematicas que tomen distintos valores segun las variables que se le definan a la función.\n",
    "\n",
    "En este caso la funcion **diferencia**,determina las diferencias absolutas que existen entre 3 variables **a**,**b** y **c**.Asi, las diferencias se determinan al interior de la función y luego se retornan junto al texto que muestra entre que pares de variables se determinan las diferencias,cabe destacar que para esta función tambien se escribio la ayuda."
   ]
  },
  {
   "cell_type": "code",
   "execution_count": 51,
   "metadata": {},
   "outputs": [
    {
     "name": "stdout",
     "output_type": "stream",
     "text": [
      "Help on function diferencias in module __main__:\n",
      "\n",
      "diferencias(a, b, c)\n",
      "    Esta funcion retorna la diferencia entre 3 valores que se le entregan\n",
      "\n",
      "La diferencia entre a y b es 10 La diferencia entre a y c es 20 y la diferencia entre b y c es 10\n"
     ]
    }
   ],
   "source": [
    "def diferencia(a,b,c):\n",
    "    \"\"\" Esta funcion retorna la diferencia entre 3 valores que se le entregan\"\"\"\n",
    "    dif1=abs(a-b)\n",
    "    dif2=abs(a-c)\n",
    "    dif3=abs(b-c)\n",
    "    return print(\"La diferencia entre a y b es\",dif1,\"La diferencia entre a y c es\",dif2,\"y la diferencia entre b y c es\",dif3)\n",
    "\n",
    "help(diferencia)\n",
    "\n",
    "diferencia(10,20,30)"
   ]
  },
  {
   "cell_type": "markdown",
   "metadata": {},
   "source": [
    "#### Funciones aplicadas a otras funciones"
   ]
  },
  {
   "cell_type": "code",
   "execution_count": 20,
   "metadata": {},
   "outputs": [
    {
     "data": {
      "text/plain": [
       "40"
      ]
     },
     "execution_count": 20,
     "metadata": {},
     "output_type": "execute_result"
    }
   ],
   "source": [
    "def multi1(x=2):\n",
    "    y=x*2\n",
    "    return y\n",
    "\n",
    "def multi2(fn):\n",
    "    \"\"\" Esta funcion toma la salida de otra funcion y la multiplica por 2\"\"\"\n",
    "    z=fn*2\n",
    "    return z\n",
    "\n",
    "\n",
    "multi2(multi1(10))\n"
   ]
  },
  {
   "cell_type": "markdown",
   "metadata": {},
   "source": [
    "<a id='Booleanos-y-condicionales'></a>\n",
    "### Booleanos y condicionales 🕹\n",
    "\n",
    "[Inicio ▲](#Indice)"
   ]
  },
  {
   "cell_type": "code",
   "execution_count": 21,
   "metadata": {},
   "outputs": [
    {
     "name": "stdout",
     "output_type": "stream",
     "text": [
      "True\n",
      "<class 'bool'>\n"
     ]
    },
    {
     "data": {
      "text/plain": [
       "True"
      ]
     },
     "execution_count": 21,
     "metadata": {},
     "output_type": "execute_result"
    }
   ],
   "source": [
    "x=True\n",
    "print(x)\n",
    "print(type(x))\n",
    "\n",
    "y=False\n",
    "\n",
    "x!=y\n"
   ]
  },
  {
   "cell_type": "code",
   "execution_count": 22,
   "metadata": {},
   "outputs": [
    {
     "name": "stdout",
     "output_type": "stream",
     "text": [
      "El presidente es merluzo\n"
     ]
    }
   ],
   "source": [
    "def presidente(edad):\n",
    "    \"\"\" define si el presidente es merluzo \"\"\"\n",
    "    if edad>35:\n",
    "        print(\"El presidente no es merluzo\")\n",
    "    else: \n",
    "        print(\"El presidente es merluzo\")\n",
    "\n",
    "presidente(30)\n",
    "\n"
   ]
  },
  {
   "cell_type": "markdown",
   "metadata": {},
   "source": [
    "## Funciones y condiciones"
   ]
  },
  {
   "cell_type": "code",
   "execution_count": 23,
   "metadata": {},
   "outputs": [
    {
     "name": "stdout",
     "output_type": "stream",
     "text": [
      "0 Es cero\n",
      "-10 Es negativo\n"
     ]
    }
   ],
   "source": [
    "def inspector(x):\n",
    "    if x==0:\n",
    "        print(x,\"Es cero\")\n",
    "    elif x>0:\n",
    "        print(x,\"Es positivo\")\n",
    "    elif x<0:\n",
    "        print(x,\"Es negativo\")\n",
    "    else:\n",
    "        print(\"es algo que no puedo entender\")\n",
    "\n",
    "inspector(0)\n",
    "inspector(-10)\n",
    "\n",
    "\n"
   ]
  },
  {
   "cell_type": "code",
   "execution_count": 24,
   "metadata": {},
   "outputs": [
    {
     "name": "stdout",
     "output_type": "stream",
     "text": [
      "True\n",
      "False\n",
      "True\n",
      "False\n"
     ]
    }
   ],
   "source": [
    "print(bool(12))\n",
    "print(bool(0))\n",
    "print(bool(\"hola\"))\n",
    "print(bool(\"\"))\n",
    "\n",
    "\n"
   ]
  },
  {
   "cell_type": "markdown",
   "metadata": {},
   "source": [
    "<a id='Listas'></a>\n",
    "### Listas 🏗\n",
    "\n",
    "[Inicio ▲](#Indice)"
   ]
  },
  {
   "cell_type": "code",
   "execution_count": 25,
   "metadata": {},
   "outputs": [
    {
     "data": {
      "text/plain": [
       "['Lu', 'Ma', 'Mi', 'Jue', 'Vie']"
      ]
     },
     "execution_count": 25,
     "metadata": {},
     "output_type": "execute_result"
    }
   ],
   "source": [
    "primos=[2,3,5,7]\n",
    "\n",
    "dias=[\"Lunes\",\"Martes\",\"Miercoles\",\"Jueves\",\"Viernes\"]\n",
    "\n",
    "cartas=[[\"j\",\"q\",\"k\"],[2,3,5],[5,\"A\",\"K\"]]\n",
    "\n",
    "cartas[-2]\n",
    "\n",
    "dias[0:5]\n",
    "\n",
    "cartas[0]=[\"A\",\"J\",\"Q\"]\n",
    "\n",
    "cartas\n",
    "\n",
    "dias[0:5]=[\"Lu\",\"Ma\",\"Mi\",\"Jue\",\"Vie\"]\n",
    "dias"
   ]
  },
  {
   "cell_type": "code",
   "execution_count": 26,
   "metadata": {},
   "outputs": [
    {
     "data": {
      "text/plain": [
       "7"
      ]
     },
     "execution_count": 26,
     "metadata": {},
     "output_type": "execute_result"
    }
   ],
   "source": [
    "# Cuantos dias hay en una semana\n",
    "len(dias)\n",
    "\n",
    "# Ordenar los dias de forma alfabetica\n",
    "\n",
    "sorted(dias)\n",
    "\n",
    "# suma de los numeros primos\n",
    "\n",
    "sum(primos)\n",
    "\n",
    "# maximo de los numeros primos\n",
    "\n",
    "max(primos)"
   ]
  },
  {
   "cell_type": "markdown",
   "metadata": {},
   "source": [
    "#### Metodos"
   ]
  },
  {
   "cell_type": "code",
   "execution_count": 27,
   "metadata": {},
   "outputs": [
    {
     "name": "stdout",
     "output_type": "stream",
     "text": [
      "Help on built-in function bit_length:\n",
      "\n",
      "bit_length() method of builtins.int instance\n",
      "    Number of bits necessary to represent self in binary.\n",
      "    \n",
      "    >>> bin(37)\n",
      "    '0b100101'\n",
      "    >>> (37).bit_length()\n",
      "    6\n",
      "\n"
     ]
    }
   ],
   "source": [
    "x=12\n",
    "x.bit_length()\n",
    "\n",
    "help(x.bit_length)"
   ]
  },
  {
   "cell_type": "code",
   "execution_count": 28,
   "metadata": {},
   "outputs": [
    {
     "data": {
      "text/plain": [
       "True"
      ]
     },
     "execution_count": 28,
     "metadata": {},
     "output_type": "execute_result"
    }
   ],
   "source": [
    "dias=[\"lunes\",\"martes\",\"miercoles\",\"jueves\",\"viernes\"]\n",
    "dias.append(\"Sabado\")\n",
    "dias.append(\"Domingo\")\n",
    "\n",
    "dias\n",
    "\n",
    "dias.pop()\n",
    "\n",
    "dias.index(\"Sabado\")\n",
    "\n",
    "\"lunes\" in dias\n",
    "\n"
   ]
  },
  {
   "cell_type": "markdown",
   "metadata": {},
   "source": [
    "#### Tuplas"
   ]
  },
  {
   "cell_type": "code",
   "execution_count": 29,
   "metadata": {},
   "outputs": [
    {
     "data": {
      "text/plain": [
       "(1, 8)"
      ]
     },
     "execution_count": 29,
     "metadata": {},
     "output_type": "execute_result"
    }
   ],
   "source": [
    "t=(1,2,3)\n",
    "t\n",
    "x=0.125\n",
    "x.as_integer_ratio()"
   ]
  },
  {
   "cell_type": "markdown",
   "metadata": {},
   "source": [
    "<a id='Ciclos'></a>\n",
    "### Ciclos 🎰\n",
    "\n",
    "[Inicio ▲](#Indice)"
   ]
  },
  {
   "cell_type": "markdown",
   "metadata": {},
   "source": [
    "#### Ciclo for"
   ]
  },
  {
   "cell_type": "code",
   "execution_count": 30,
   "metadata": {},
   "outputs": [
    {
     "name": "stdout",
     "output_type": "stream",
     "text": [
      "Lunes\n",
      "Martes\n",
      "Miercoles\n",
      "Jueves\n",
      "Viernes\n"
     ]
    }
   ],
   "source": [
    "dias=[\"Lunes\",\"Martes\",\"Miercoles\",\"Jueves\",\"Viernes\"]\n",
    "\n",
    "for i in dias:\n",
    "    print(i)\n"
   ]
  },
  {
   "cell_type": "code",
   "execution_count": 31,
   "metadata": {},
   "outputs": [
    {
     "data": {
      "text/plain": [
       "360"
      ]
     },
     "execution_count": 31,
     "metadata": {},
     "output_type": "execute_result"
    }
   ],
   "source": [
    "multiplicativos=(2,2,2,3,3,5)\n",
    "producto=1\n",
    "\n",
    "for i in multiplicativos:\n",
    "    producto=producto*i\n",
    "\n",
    "producto"
   ]
  },
  {
   "cell_type": "code",
   "execution_count": 32,
   "metadata": {},
   "outputs": [
    {
     "name": "stdout",
     "output_type": "stream",
     "text": [
      "Este i es el numero:  0\n",
      "Este i es el numero:  1\n",
      "Este i es el numero:  2\n",
      "Este i es el numero:  3\n",
      "Este i es el numero:  4\n"
     ]
    }
   ],
   "source": [
    "for i in range(5):\n",
    "    print(\"Este i es el numero: \",i)"
   ]
  },
  {
   "cell_type": "markdown",
   "metadata": {},
   "source": [
    "#### Ciclo While"
   ]
  },
  {
   "cell_type": "code",
   "execution_count": 33,
   "metadata": {},
   "outputs": [
    {
     "name": "stdout",
     "output_type": "stream",
     "text": [
      "0 1 2 3 4 5 6 7 8 9 "
     ]
    }
   ],
   "source": [
    "i=0\n",
    "\n",
    "while i<10:\n",
    "    print(i,end=\" \")\n",
    "    i=i+1"
   ]
  },
  {
   "cell_type": "code",
   "execution_count": 34,
   "metadata": {},
   "outputs": [
    {
     "data": {
      "text/plain": [
       "[[0, 1, 4], [0, 1, 4]]"
      ]
     },
     "execution_count": 34,
     "metadata": {},
     "output_type": "execute_result"
    }
   ],
   "source": [
    "cuadrado=[n**2 for n in range(10)]\n",
    "cuadrado\n",
    "\n",
    "cuadrado=[[n**2 for n in range(3)], [i**2 for i in range(3)]]\n",
    "cuadrado\n"
   ]
  },
  {
   "cell_type": "code",
   "execution_count": 35,
   "metadata": {},
   "outputs": [
    {
     "data": {
      "text/plain": [
       "['LUNES!', 'MARTES!', 'MIERCOLES!', 'JUEVES!', 'VIERNES!']"
      ]
     },
     "execution_count": 35,
     "metadata": {},
     "output_type": "execute_result"
    }
   ],
   "source": [
    "dias=['Lunes','Martes','Miercoles','Jueves','Viernes']\n",
    "\n",
    "nuevo=[dia.upper()+\"!\" for dia in dias]\n",
    "nuevo"
   ]
  },
  {
   "cell_type": "code",
   "execution_count": 36,
   "metadata": {},
   "outputs": [],
   "source": [
    "def contar_negativo(numero):\n",
    "    return len([num for num in numero if num < 0])\n",
    "\n"
   ]
  },
  {
   "cell_type": "markdown",
   "metadata": {},
   "source": [
    "<a id='Diccionarios'></a>\n",
    "### Diccionarios 📗\n",
    "\n",
    "[Inicio ▲](#Indice)"
   ]
  },
  {
   "cell_type": "code",
   "execution_count": 37,
   "metadata": {},
   "outputs": [
    {
     "name": "stdout",
     "output_type": "stream",
     "text": [
      "hola\n",
      "hola"
     ]
    },
    {
     "data": {
      "text/plain": [
       "['L! ', 'u! ', 'n! ', 'e! ', 's! ']"
      ]
     },
     "execution_count": 37,
     "metadata": {},
     "output_type": "execute_result"
    }
   ],
   "source": [
    "x='Lunes es un dia'\n",
    "y=\"Lunes es un dia\"\n",
    "\n",
    "x==y\n",
    "\n",
    "'Lunes' \n",
    "\n",
    "print(\"hola\")\n",
    "\n",
    "print(\"hola\",end='')\n",
    "\n",
    "dia=\"Lunes\"\n",
    "dia[1]\n",
    "len(dia[0])\n",
    "\n",
    "[char+'! ' for char in dia]"
   ]
  },
  {
   "cell_type": "markdown",
   "metadata": {},
   "source": [
    "#### Metodos para strings"
   ]
  },
  {
   "cell_type": "code",
   "execution_count": 38,
   "metadata": {},
   "outputs": [
    {
     "data": {
      "text/plain": [
       "'pluton es un planeta!'"
      ]
     },
     "execution_count": 38,
     "metadata": {},
     "output_type": "execute_result"
    }
   ],
   "source": [
    "frase=\"Pluton es un planeta!\"\n",
    "frase.upper()\n",
    "frase.lower()"
   ]
  },
  {
   "cell_type": "markdown",
   "metadata": {},
   "source": [
    "#### Otros metodos para strings"
   ]
  },
  {
   "cell_type": "code",
   "execution_count": 39,
   "metadata": {},
   "outputs": [
    {
     "data": {
      "text/plain": [
       "['Pluton', 'es', 'un', 'planeta!']"
      ]
     },
     "execution_count": 39,
     "metadata": {},
     "output_type": "execute_result"
    }
   ],
   "source": [
    "palabra=frase.split()\n",
    "palabra\n"
   ]
  },
  {
   "cell_type": "code",
   "execution_count": 40,
   "metadata": {},
   "outputs": [
    {
     "data": {
      "text/plain": [
       "'P 👏 L 👏 U 👏 T 👏 O 👏 N 👏   👏 E 👏 S 👏   👏 U 👏 N 👏   👏 P 👏 L 👏 A 👏 N 👏 E 👏 T 👏 A 👏 !'"
      ]
     },
     "execution_count": 40,
     "metadata": {},
     "output_type": "execute_result"
    }
   ],
   "source": [
    "' 👏 '.join([palabra.upper() for palabra in frase])"
   ]
  },
  {
   "cell_type": "code",
   "execution_count": 41,
   "metadata": {},
   "outputs": [
    {
     "data": {
      "text/plain": [
       "'Este es un mensaje de prueba para la 2 app🔥'"
      ]
     },
     "execution_count": 41,
     "metadata": {},
     "output_type": "execute_result"
    }
   ],
   "source": [
    "\"Hola mundo \"+ '😀'\n",
    "\"Este es un mensaje de prueba para la \"+str(2)+ \" app\"+ \"🔥\""
   ]
  },
  {
   "cell_type": "markdown",
   "metadata": {},
   "source": [
    "## Diccionarios"
   ]
  },
  {
   "cell_type": "code",
   "execution_count": 42,
   "metadata": {},
   "outputs": [
    {
     "data": {
      "text/plain": [
       "3"
      ]
     },
     "execution_count": 42,
     "metadata": {},
     "output_type": "execute_result"
    }
   ],
   "source": [
    "numeros={\"uno\":1,\"dos\":2,\"tres\":3}\n",
    "numeros\n",
    "numeros[\"tres\"]"
   ]
  },
  {
   "cell_type": "code",
   "execution_count": 43,
   "metadata": {},
   "outputs": [
    {
     "data": {
      "text/plain": [
       "dict_items([('uno', 1), ('dos', 2), ('tres', 3)])"
      ]
     },
     "execution_count": 43,
     "metadata": {},
     "output_type": "execute_result"
    }
   ],
   "source": [
    "dias=[\"lunes\",\"martes\",\"miercoles\",\"jueves\",\"viernes\"]\n",
    "\n",
    "dias_json={dia:dia[0] for dia in dias}\n",
    "dias_json\n",
    "\n",
    "numeros.values()\n",
    "numeros.items()"
   ]
  },
  {
   "cell_type": "markdown",
   "metadata": {},
   "source": [
    "<a id='Trabajando-con-librerias'></a>\n",
    "### Trabajando con librerias 🎮\n",
    "\n",
    "[Inicio ▲](#Indice)"
   ]
  },
  {
   "cell_type": "code",
   "execution_count": 44,
   "metadata": {},
   "outputs": [
    {
     "data": {
      "text/plain": [
       "0.8414709848078965"
      ]
     },
     "execution_count": 44,
     "metadata": {},
     "output_type": "execute_result"
    }
   ],
   "source": [
    "import math\n",
    "math.sin(1)"
   ]
  },
  {
   "cell_type": "code",
   "execution_count": 45,
   "metadata": {},
   "outputs": [
    {
     "name": "stdout",
     "output_type": "stream",
     "text": [
      "Help on built-in function log in module math:\n",
      "\n",
      "log(...)\n",
      "    log(x, [base=math.e])\n",
      "    Return the logarithm of x to the given base.\n",
      "    \n",
      "    If the base not specified, returns the natural logarithm (base e) of x.\n",
      "\n",
      "Help on built-in module math:\n",
      "\n",
      "NAME\n",
      "    math\n",
      "\n",
      "DESCRIPTION\n",
      "    This module provides access to the mathematical functions\n",
      "    defined by the C standard.\n",
      "\n",
      "FUNCTIONS\n",
      "    acos(x, /)\n",
      "        Return the arc cosine (measured in radians) of x.\n",
      "        \n",
      "        The result is between 0 and pi.\n",
      "    \n",
      "    acosh(x, /)\n",
      "        Return the inverse hyperbolic cosine of x.\n",
      "    \n",
      "    asin(x, /)\n",
      "        Return the arc sine (measured in radians) of x.\n",
      "        \n",
      "        The result is between -pi/2 and pi/2.\n",
      "    \n",
      "    asinh(x, /)\n",
      "        Return the inverse hyperbolic sine of x.\n",
      "    \n",
      "    atan(x, /)\n",
      "        Return the arc tangent (measured in radians) of x.\n",
      "        \n",
      "        The result is between -pi/2 and pi/2.\n",
      "    \n",
      "    atan2(y, x, /)\n",
      "        Return the arc tangent (measured in radians) of y/x.\n",
      "        \n",
      "        Unlike atan(y/x), the signs of both x and y are considered.\n",
      "    \n",
      "    atanh(x, /)\n",
      "        Return the inverse hyperbolic tangent of x.\n",
      "    \n",
      "    ceil(x, /)\n",
      "        Return the ceiling of x as an Integral.\n",
      "        \n",
      "        This is the smallest integer >= x.\n",
      "    \n",
      "    comb(n, k, /)\n",
      "        Number of ways to choose k items from n items without repetition and without order.\n",
      "        \n",
      "        Evaluates to n! / (k! * (n - k)!) when k <= n and evaluates\n",
      "        to zero when k > n.\n",
      "        \n",
      "        Also called the binomial coefficient because it is equivalent\n",
      "        to the coefficient of k-th term in polynomial expansion of the\n",
      "        expression (1 + x)**n.\n",
      "        \n",
      "        Raises TypeError if either of the arguments are not integers.\n",
      "        Raises ValueError if either of the arguments are negative.\n",
      "    \n",
      "    copysign(x, y, /)\n",
      "        Return a float with the magnitude (absolute value) of x but the sign of y.\n",
      "        \n",
      "        On platforms that support signed zeros, copysign(1.0, -0.0)\n",
      "        returns -1.0.\n",
      "    \n",
      "    cos(x, /)\n",
      "        Return the cosine of x (measured in radians).\n",
      "    \n",
      "    cosh(x, /)\n",
      "        Return the hyperbolic cosine of x.\n",
      "    \n",
      "    degrees(x, /)\n",
      "        Convert angle x from radians to degrees.\n",
      "    \n",
      "    dist(p, q, /)\n",
      "        Return the Euclidean distance between two points p and q.\n",
      "        \n",
      "        The points should be specified as sequences (or iterables) of\n",
      "        coordinates.  Both inputs must have the same dimension.\n",
      "        \n",
      "        Roughly equivalent to:\n",
      "            sqrt(sum((px - qx) ** 2.0 for px, qx in zip(p, q)))\n",
      "    \n",
      "    erf(x, /)\n",
      "        Error function at x.\n",
      "    \n",
      "    erfc(x, /)\n",
      "        Complementary error function at x.\n",
      "    \n",
      "    exp(x, /)\n",
      "        Return e raised to the power of x.\n",
      "    \n",
      "    expm1(x, /)\n",
      "        Return exp(x)-1.\n",
      "        \n",
      "        This function avoids the loss of precision involved in the direct evaluation of exp(x)-1 for small x.\n",
      "    \n",
      "    fabs(x, /)\n",
      "        Return the absolute value of the float x.\n",
      "    \n",
      "    factorial(x, /)\n",
      "        Find x!.\n",
      "        \n",
      "        Raise a ValueError if x is negative or non-integral.\n",
      "    \n",
      "    floor(x, /)\n",
      "        Return the floor of x as an Integral.\n",
      "        \n",
      "        This is the largest integer <= x.\n",
      "    \n",
      "    fmod(x, y, /)\n",
      "        Return fmod(x, y), according to platform C.\n",
      "        \n",
      "        x % y may differ.\n",
      "    \n",
      "    frexp(x, /)\n",
      "        Return the mantissa and exponent of x, as pair (m, e).\n",
      "        \n",
      "        m is a float and e is an int, such that x = m * 2.**e.\n",
      "        If x is 0, m and e are both 0.  Else 0.5 <= abs(m) < 1.0.\n",
      "    \n",
      "    fsum(seq, /)\n",
      "        Return an accurate floating point sum of values in the iterable seq.\n",
      "        \n",
      "        Assumes IEEE-754 floating point arithmetic.\n",
      "    \n",
      "    gamma(x, /)\n",
      "        Gamma function at x.\n",
      "    \n",
      "    gcd(*integers)\n",
      "        Greatest Common Divisor.\n",
      "    \n",
      "    hypot(...)\n",
      "        hypot(*coordinates) -> value\n",
      "        \n",
      "        Multidimensional Euclidean distance from the origin to a point.\n",
      "        \n",
      "        Roughly equivalent to:\n",
      "            sqrt(sum(x**2 for x in coordinates))\n",
      "        \n",
      "        For a two dimensional point (x, y), gives the hypotenuse\n",
      "        using the Pythagorean theorem:  sqrt(x*x + y*y).\n",
      "        \n",
      "        For example, the hypotenuse of a 3/4/5 right triangle is:\n",
      "        \n",
      "            >>> hypot(3.0, 4.0)\n",
      "            5.0\n",
      "    \n",
      "    isclose(a, b, *, rel_tol=1e-09, abs_tol=0.0)\n",
      "        Determine whether two floating point numbers are close in value.\n",
      "        \n",
      "          rel_tol\n",
      "            maximum difference for being considered \"close\", relative to the\n",
      "            magnitude of the input values\n",
      "          abs_tol\n",
      "            maximum difference for being considered \"close\", regardless of the\n",
      "            magnitude of the input values\n",
      "        \n",
      "        Return True if a is close in value to b, and False otherwise.\n",
      "        \n",
      "        For the values to be considered close, the difference between them\n",
      "        must be smaller than at least one of the tolerances.\n",
      "        \n",
      "        -inf, inf and NaN behave similarly to the IEEE 754 Standard.  That\n",
      "        is, NaN is not close to anything, even itself.  inf and -inf are\n",
      "        only close to themselves.\n",
      "    \n",
      "    isfinite(x, /)\n",
      "        Return True if x is neither an infinity nor a NaN, and False otherwise.\n",
      "    \n",
      "    isinf(x, /)\n",
      "        Return True if x is a positive or negative infinity, and False otherwise.\n",
      "    \n",
      "    isnan(x, /)\n",
      "        Return True if x is a NaN (not a number), and False otherwise.\n",
      "    \n",
      "    isqrt(n, /)\n",
      "        Return the integer part of the square root of the input.\n",
      "    \n",
      "    lcm(*integers)\n",
      "        Least Common Multiple.\n",
      "    \n",
      "    ldexp(x, i, /)\n",
      "        Return x * (2**i).\n",
      "        \n",
      "        This is essentially the inverse of frexp().\n",
      "    \n",
      "    lgamma(x, /)\n",
      "        Natural logarithm of absolute value of Gamma function at x.\n",
      "    \n",
      "    log(...)\n",
      "        log(x, [base=math.e])\n",
      "        Return the logarithm of x to the given base.\n",
      "        \n",
      "        If the base not specified, returns the natural logarithm (base e) of x.\n",
      "    \n",
      "    log10(x, /)\n",
      "        Return the base 10 logarithm of x.\n",
      "    \n",
      "    log1p(x, /)\n",
      "        Return the natural logarithm of 1+x (base e).\n",
      "        \n",
      "        The result is computed in a way which is accurate for x near zero.\n",
      "    \n",
      "    log2(x, /)\n",
      "        Return the base 2 logarithm of x.\n",
      "    \n",
      "    modf(x, /)\n",
      "        Return the fractional and integer parts of x.\n",
      "        \n",
      "        Both results carry the sign of x and are floats.\n",
      "    \n",
      "    nextafter(x, y, /)\n",
      "        Return the next floating-point value after x towards y.\n",
      "    \n",
      "    perm(n, k=None, /)\n",
      "        Number of ways to choose k items from n items without repetition and with order.\n",
      "        \n",
      "        Evaluates to n! / (n - k)! when k <= n and evaluates\n",
      "        to zero when k > n.\n",
      "        \n",
      "        If k is not specified or is None, then k defaults to n\n",
      "        and the function returns n!.\n",
      "        \n",
      "        Raises TypeError if either of the arguments are not integers.\n",
      "        Raises ValueError if either of the arguments are negative.\n",
      "    \n",
      "    pow(x, y, /)\n",
      "        Return x**y (x to the power of y).\n",
      "    \n",
      "    prod(iterable, /, *, start=1)\n",
      "        Calculate the product of all the elements in the input iterable.\n",
      "        \n",
      "        The default start value for the product is 1.\n",
      "        \n",
      "        When the iterable is empty, return the start value.  This function is\n",
      "        intended specifically for use with numeric values and may reject\n",
      "        non-numeric types.\n",
      "    \n",
      "    radians(x, /)\n",
      "        Convert angle x from degrees to radians.\n",
      "    \n",
      "    remainder(x, y, /)\n",
      "        Difference between x and the closest integer multiple of y.\n",
      "        \n",
      "        Return x - n*y where n*y is the closest integer multiple of y.\n",
      "        In the case where x is exactly halfway between two multiples of\n",
      "        y, the nearest even value of n is used. The result is always exact.\n",
      "    \n",
      "    sin(x, /)\n",
      "        Return the sine of x (measured in radians).\n",
      "    \n",
      "    sinh(x, /)\n",
      "        Return the hyperbolic sine of x.\n",
      "    \n",
      "    sqrt(x, /)\n",
      "        Return the square root of x.\n",
      "    \n",
      "    tan(x, /)\n",
      "        Return the tangent of x (measured in radians).\n",
      "    \n",
      "    tanh(x, /)\n",
      "        Return the hyperbolic tangent of x.\n",
      "    \n",
      "    trunc(x, /)\n",
      "        Truncates the Real x to the nearest Integral toward 0.\n",
      "        \n",
      "        Uses the __trunc__ magic method.\n",
      "    \n",
      "    ulp(x, /)\n",
      "        Return the value of the least significant bit of the float x.\n",
      "\n",
      "DATA\n",
      "    e = 2.718281828459045\n",
      "    inf = inf\n",
      "    nan = nan\n",
      "    pi = 3.141592653589793\n",
      "    tau = 6.283185307179586\n",
      "\n",
      "FILE\n",
      "    (built-in)\n",
      "\n",
      "\n"
     ]
    }
   ],
   "source": [
    "help(math.log)\n",
    "math.log(1)\n",
    "\n",
    "help(math)"
   ]
  },
  {
   "cell_type": "code",
   "execution_count": 46,
   "metadata": {},
   "outputs": [
    {
     "data": {
      "text/plain": [
       "3.141592653589793"
      ]
     },
     "execution_count": 46,
     "metadata": {},
     "output_type": "execute_result"
    }
   ],
   "source": [
    "import math as mt\n",
    "\n",
    "mt.pi"
   ]
  },
  {
   "cell_type": "markdown",
   "metadata": {},
   "source": [
    "## Submodulos en python"
   ]
  },
  {
   "cell_type": "code",
   "execution_count": 47,
   "metadata": {},
   "outputs": [
    {
     "data": {
      "text/plain": [
       "array([ True, False,  True, False, False,  True,  True,  True, False,\n",
       "       False])"
      ]
     },
     "execution_count": 47,
     "metadata": {},
     "output_type": "execute_result"
    }
   ],
   "source": [
    "import numpy\n",
    "\n",
    "roll=numpy.random.randint(low=1,high=10,size=10)\n",
    "roll=roll+10\n",
    "roll<15"
   ]
  },
  {
   "cell_type": "markdown",
   "metadata": {},
   "source": []
  },
  {
   "cell_type": "markdown",
   "metadata": {},
   "source": [
    "## Trabajando con tensorflow"
   ]
  },
  {
   "cell_type": "code",
   "execution_count": 48,
   "metadata": {},
   "outputs": [
    {
     "data": {
      "text/plain": [
       "<tf.Tensor: shape=(), dtype=int32, numpy=3>"
      ]
     },
     "execution_count": 48,
     "metadata": {},
     "output_type": "execute_result"
    }
   ],
   "source": [
    "import tensorflow as tf\n",
    "\n",
    "a=tf.constant(2)\n",
    "b=tf.constant(1)\n",
    "\n",
    "c=a+b\n",
    "c\n"
   ]
  }
 ],
 "metadata": {
  "kernelspec": {
   "display_name": "Python 3 (ipykernel)",
   "language": "python",
   "name": "python3"
  },
  "language_info": {
   "codemirror_mode": {
    "name": "ipython",
    "version": 3
   },
   "file_extension": ".py",
   "mimetype": "text/x-python",
   "name": "python",
   "nbconvert_exporter": "python",
   "pygments_lexer": "ipython3",
   "version": "3.10.6"
  },
  "toc-autonumbering": true,
  "toc-showcode": false,
  "toc-showmarkdowntxt": true,
  "toc-showtags": false,
  "vscode": {
   "interpreter": {
    "hash": "26de051ba29f2982a8de78e945f0abaf191376122a1563185a90213a26c5da77"
   }
  }
 },
 "nbformat": 4,
 "nbformat_minor": 4
}
